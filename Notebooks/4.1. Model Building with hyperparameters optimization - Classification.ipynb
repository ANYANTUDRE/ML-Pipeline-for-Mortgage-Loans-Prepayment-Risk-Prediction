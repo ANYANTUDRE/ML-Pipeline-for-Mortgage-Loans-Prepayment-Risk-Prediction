{
 "cells": [
  {
   "cell_type": "markdown",
   "id": "8761b773",
   "metadata": {},
   "source": [
    "# III. Fourth Task  👨‍💻: Models Building\n",
    "\n",
    "**1. Decision Trees   \n",
    "2. XGBoost Classifier**"
   ]
  },
  {
   "cell_type": "code",
   "execution_count": 167,
   "id": "70efddca",
   "metadata": {},
   "outputs": [],
   "source": [
    "#!pip install optuna"
   ]
  },
  {
   "cell_type": "code",
   "execution_count": 168,
   "id": "72913375",
   "metadata": {},
   "outputs": [],
   "source": [
    "# data manipulation\n",
    "import pandas as pd\n",
    "import numpy as np\n",
    "import matplotlib.pyplot as plt\n",
    "import seaborn as sns\n",
    "\n",
    "# sklearn\n",
    "from sklearn.model_selection import train_test_split\n",
    "from sklearn.preprocessing import StandardScaler\n",
    "from sklearn.tree import DecisionTreeClassifier\n",
    "from sklearn.model_selection import train_test_split, StratifiedKFold\n",
    "from sklearn.metrics import accuracy_score, confusion_matrix, classification_report\n",
    "from sklearn import tree\n",
    "\n",
    "import xgboost as xgb\n",
    "from xgboost import XGBClassifier\n",
    "\n",
    "# import packages for hyperparameters tuning\n",
    "import optuna\n",
    "from optuna import create_study\n",
    "from hyperopt import STATUS_OK, Trials, fmin, hp, tpe\n",
    "\n",
    "\n",
    "# settings & warning handling\n",
    "import warnings\n",
    "pd.options.display.max_columns\n",
    "warnings.filterwarnings(\"always\")\n",
    "warnings.filterwarnings(\"ignore\")"
   ]
  },
  {
   "cell_type": "code",
   "execution_count": 169,
   "id": "6627c790",
   "metadata": {},
   "outputs": [],
   "source": [
    "# read in csv file as a DataFrame\n",
    "\n",
    "data             = pd.read_csv(\"Prepared_Dataset.csv\", index_col=0)\n",
    "X_full           = pd.read_csv(\"X_full.csv\", index_col=0)\n",
    "X_chi2_best      = pd.read_csv(\"X_chi2_best.csv\", index_col=0)\n",
    "X_best_mi_scores = pd.read_csv(\"X_best_mi_scores.csv\", index_col=0)\n",
    "X_pca_final      = pd.read_csv(\"X_pca_final.csv\", index_col=0)\n",
    "X_best_features  = pd.read_csv(\"X_best_features.csv\", index_col=0)"
   ]
  },
  {
   "cell_type": "code",
   "execution_count": 170,
   "id": "75b6dc7d",
   "metadata": {},
   "outputs": [
    {
     "data": {
      "text/plain": [
       "Index(['CreditScore', 'FirstTimeHomebuyer', 'MSA', 'MIP', 'Units', 'Occupancy',\n",
       "       'OCLTV', 'DTI', 'OrigUPB', 'LTV', 'OrigInterestRate', 'Channel', 'PPM',\n",
       "       'PropertyState', 'PropertyType', 'LoanPurpose', 'OrigLoanTerm',\n",
       "       'NumBorrowers', 'SellerName', 'ServicerName', 'MonthsInRepayment',\n",
       "       'FirstPayment_Year', 'FirstPayment_Month', 'Maturity_Year',\n",
       "       'Maturity_Month', 'LTV_range', 'Credit_range', 'YearsInRepayment',\n",
       "       'Repay_range', 'IsFirstTimeHomebuyer', 'Duration'],\n",
       "      dtype='object')"
      ]
     },
     "execution_count": 170,
     "metadata": {},
     "output_type": "execute_result"
    }
   ],
   "source": [
    "X_full.drop('MonthsDelinquent', axis=1, inplace=True)\n",
    "X_full.columns"
   ]
  },
  {
   "cell_type": "code",
   "execution_count": 171,
   "id": "f47dc042",
   "metadata": {},
   "outputs": [
    {
     "data": {
      "text/plain": [
       "((291449, 31), (291449, 12), (291449, 15), (291449, 15), (291449, 14))"
      ]
     },
     "execution_count": 171,
     "metadata": {},
     "output_type": "execute_result"
    }
   ],
   "source": [
    "X_full.shape, X_pca_final.shape, X_chi2_best.shape, X_best_mi_scores.shape, X_best_features.shape"
   ]
  },
  {
   "cell_type": "code",
   "execution_count": 172,
   "id": "d28a3137",
   "metadata": {},
   "outputs": [],
   "source": [
    "y = data['EverDelinquent']"
   ]
  },
  {
   "cell_type": "code",
   "execution_count": 173,
   "id": "438bb06c",
   "metadata": {},
   "outputs": [
    {
     "data": {
      "text/plain": [
       "0    233787\n",
       "1     57662\n",
       "Name: EverDelinquent, dtype: int64"
      ]
     },
     "execution_count": 173,
     "metadata": {},
     "output_type": "execute_result"
    }
   ],
   "source": [
    "y.value_counts()"
   ]
  },
  {
   "cell_type": "code",
   "execution_count": 174,
   "id": "4e4907da",
   "metadata": {},
   "outputs": [
    {
     "data": {
      "text/html": [
       "<div>\n",
       "<style scoped>\n",
       "    .dataframe tbody tr th:only-of-type {\n",
       "        vertical-align: middle;\n",
       "    }\n",
       "\n",
       "    .dataframe tbody tr th {\n",
       "        vertical-align: top;\n",
       "    }\n",
       "\n",
       "    .dataframe thead th {\n",
       "        text-align: right;\n",
       "    }\n",
       "</style>\n",
       "<table border=\"1\" class=\"dataframe\">\n",
       "  <thead>\n",
       "    <tr style=\"text-align: right;\">\n",
       "      <th></th>\n",
       "      <th>CreditScore</th>\n",
       "      <th>FirstTimeHomebuyer</th>\n",
       "      <th>MSA</th>\n",
       "      <th>MIP</th>\n",
       "      <th>Units</th>\n",
       "      <th>Occupancy</th>\n",
       "      <th>OCLTV</th>\n",
       "      <th>DTI</th>\n",
       "      <th>OrigUPB</th>\n",
       "      <th>LTV</th>\n",
       "      <th>...</th>\n",
       "      <th>FirstPayment_Year</th>\n",
       "      <th>FirstPayment_Month</th>\n",
       "      <th>Maturity_Year</th>\n",
       "      <th>Maturity_Month</th>\n",
       "      <th>LTV_range</th>\n",
       "      <th>Credit_range</th>\n",
       "      <th>YearsInRepayment</th>\n",
       "      <th>Repay_range</th>\n",
       "      <th>IsFirstTimeHomebuyer</th>\n",
       "      <th>Duration</th>\n",
       "    </tr>\n",
       "  </thead>\n",
       "  <tbody>\n",
       "    <tr>\n",
       "      <th>0</th>\n",
       "      <td>711.841009</td>\n",
       "      <td>0</td>\n",
       "      <td>16974</td>\n",
       "      <td>25</td>\n",
       "      <td>1</td>\n",
       "      <td>0</td>\n",
       "      <td>89</td>\n",
       "      <td>27.0</td>\n",
       "      <td>117000</td>\n",
       "      <td>89.0</td>\n",
       "      <td>...</td>\n",
       "      <td>1999</td>\n",
       "      <td>2</td>\n",
       "      <td>2029</td>\n",
       "      <td>1</td>\n",
       "      <td>0</td>\n",
       "      <td>0</td>\n",
       "      <td>4.333333</td>\n",
       "      <td>2</td>\n",
       "      <td>0</td>\n",
       "      <td>30</td>\n",
       "    </tr>\n",
       "    <tr>\n",
       "      <th>1</th>\n",
       "      <td>711.841009</td>\n",
       "      <td>0</td>\n",
       "      <td>19740</td>\n",
       "      <td>0</td>\n",
       "      <td>1</td>\n",
       "      <td>0</td>\n",
       "      <td>73</td>\n",
       "      <td>17.0</td>\n",
       "      <td>109000</td>\n",
       "      <td>73.0</td>\n",
       "      <td>...</td>\n",
       "      <td>1999</td>\n",
       "      <td>2</td>\n",
       "      <td>2029</td>\n",
       "      <td>1</td>\n",
       "      <td>0</td>\n",
       "      <td>0</td>\n",
       "      <td>12.000000</td>\n",
       "      <td>4</td>\n",
       "      <td>0</td>\n",
       "      <td>30</td>\n",
       "    </tr>\n",
       "    <tr>\n",
       "      <th>2</th>\n",
       "      <td>711.841009</td>\n",
       "      <td>0</td>\n",
       "      <td>29940</td>\n",
       "      <td>0</td>\n",
       "      <td>1</td>\n",
       "      <td>0</td>\n",
       "      <td>75</td>\n",
       "      <td>16.0</td>\n",
       "      <td>88000</td>\n",
       "      <td>75.0</td>\n",
       "      <td>...</td>\n",
       "      <td>1999</td>\n",
       "      <td>2</td>\n",
       "      <td>2029</td>\n",
       "      <td>1</td>\n",
       "      <td>0</td>\n",
       "      <td>0</td>\n",
       "      <td>5.583333</td>\n",
       "      <td>2</td>\n",
       "      <td>0</td>\n",
       "      <td>30</td>\n",
       "    </tr>\n",
       "    <tr>\n",
       "      <th>3</th>\n",
       "      <td>711.841009</td>\n",
       "      <td>0</td>\n",
       "      <td>31084</td>\n",
       "      <td>0</td>\n",
       "      <td>1</td>\n",
       "      <td>0</td>\n",
       "      <td>76</td>\n",
       "      <td>14.0</td>\n",
       "      <td>160000</td>\n",
       "      <td>76.0</td>\n",
       "      <td>...</td>\n",
       "      <td>1999</td>\n",
       "      <td>2</td>\n",
       "      <td>2029</td>\n",
       "      <td>1</td>\n",
       "      <td>0</td>\n",
       "      <td>0</td>\n",
       "      <td>2.916667</td>\n",
       "      <td>1</td>\n",
       "      <td>0</td>\n",
       "      <td>30</td>\n",
       "    </tr>\n",
       "    <tr>\n",
       "      <th>4</th>\n",
       "      <td>711.841009</td>\n",
       "      <td>0</td>\n",
       "      <td>35644</td>\n",
       "      <td>0</td>\n",
       "      <td>1</td>\n",
       "      <td>0</td>\n",
       "      <td>78</td>\n",
       "      <td>18.0</td>\n",
       "      <td>109000</td>\n",
       "      <td>78.0</td>\n",
       "      <td>...</td>\n",
       "      <td>1999</td>\n",
       "      <td>2</td>\n",
       "      <td>2029</td>\n",
       "      <td>1</td>\n",
       "      <td>0</td>\n",
       "      <td>0</td>\n",
       "      <td>4.500000</td>\n",
       "      <td>2</td>\n",
       "      <td>0</td>\n",
       "      <td>30</td>\n",
       "    </tr>\n",
       "  </tbody>\n",
       "</table>\n",
       "<p>5 rows × 31 columns</p>\n",
       "</div>"
      ],
      "text/plain": [
       "   CreditScore  FirstTimeHomebuyer    MSA  MIP  Units  Occupancy  OCLTV   DTI  \\\n",
       "0   711.841009                   0  16974   25      1          0     89  27.0   \n",
       "1   711.841009                   0  19740    0      1          0     73  17.0   \n",
       "2   711.841009                   0  29940    0      1          0     75  16.0   \n",
       "3   711.841009                   0  31084    0      1          0     76  14.0   \n",
       "4   711.841009                   0  35644    0      1          0     78  18.0   \n",
       "\n",
       "   OrigUPB   LTV  ...  FirstPayment_Year  FirstPayment_Month  Maturity_Year  \\\n",
       "0   117000  89.0  ...               1999                   2           2029   \n",
       "1   109000  73.0  ...               1999                   2           2029   \n",
       "2    88000  75.0  ...               1999                   2           2029   \n",
       "3   160000  76.0  ...               1999                   2           2029   \n",
       "4   109000  78.0  ...               1999                   2           2029   \n",
       "\n",
       "   Maturity_Month  LTV_range  Credit_range  YearsInRepayment  Repay_range  \\\n",
       "0               1          0             0          4.333333            2   \n",
       "1               1          0             0         12.000000            4   \n",
       "2               1          0             0          5.583333            2   \n",
       "3               1          0             0          2.916667            1   \n",
       "4               1          0             0          4.500000            2   \n",
       "\n",
       "   IsFirstTimeHomebuyer  Duration  \n",
       "0                     0        30  \n",
       "1                     0        30  \n",
       "2                     0        30  \n",
       "3                     0        30  \n",
       "4                     0        30  \n",
       "\n",
       "[5 rows x 31 columns]"
      ]
     },
     "execution_count": 174,
     "metadata": {},
     "output_type": "execute_result"
    }
   ],
   "source": [
    "X_full.head()"
   ]
  },
  {
   "cell_type": "markdown",
   "id": "b6bbfedc",
   "metadata": {},
   "source": [
    "# Splitting Data\n",
    "To understand model performance, dividing the dataset into a training set and a test set is a good strategy.\n",
    "\n",
    "Let's split the dataset by using the function train_test_split()."
   ]
  },
  {
   "cell_type": "code",
   "execution_count": 175,
   "id": "31158738",
   "metadata": {},
   "outputs": [],
   "source": [
    "# Split dataset into training set and test set\n",
    "X_train, X_test, y_train, y_test = train_test_split(X_best_features, y, test_size=0.2, random_state=42) # 70% training and 30% test"
   ]
  },
  {
   "cell_type": "code",
   "execution_count": 176,
   "id": "9fc2e854",
   "metadata": {},
   "outputs": [
    {
     "data": {
      "text/plain": [
       "((233159, 14), (58290, 14))"
      ]
     },
     "execution_count": 176,
     "metadata": {},
     "output_type": "execute_result"
    }
   ],
   "source": [
    "# check the shape of X_train and X_test\n",
    "X_train.shape, X_test.shape"
   ]
  },
  {
   "cell_type": "markdown",
   "id": "9a98e162",
   "metadata": {},
   "source": [
    "# 1. Decision Tree Algorithm\n",
    "\n",
    "Let's create a decision tree model using Scikit-learn"
   ]
  },
  {
   "cell_type": "markdown",
   "id": "2cb09748",
   "metadata": {},
   "source": [
    "## Define the DT model"
   ]
  },
  {
   "cell_type": "code",
   "execution_count": 146,
   "id": "1089b709",
   "metadata": {},
   "outputs": [
    {
     "data": {
      "text/plain": [
       "DecisionTreeClassifier(criterion='entropy', max_depth=5, random_state=42)"
      ]
     },
     "execution_count": 146,
     "metadata": {},
     "output_type": "execute_result"
    }
   ],
   "source": [
    "# Create Decision Tree classifer object\n",
    "d_tree_model = DecisionTreeClassifier(criterion=\"entropy\", max_depth=5, random_state=42)\n",
    "\n",
    "# Train Decision Tree Classifer\n",
    "d_tree_model.fit(X_train, y_train)"
   ]
  },
  {
   "cell_type": "markdown",
   "id": "83b64d0f",
   "metadata": {},
   "source": [
    "## Predictions on test set"
   ]
  },
  {
   "cell_type": "code",
   "execution_count": 147,
   "id": "8672b59b",
   "metadata": {},
   "outputs": [],
   "source": [
    "# Predict test set results\n",
    "y_pred_tree = d_tree_model.predict(X_test)"
   ]
  },
  {
   "cell_type": "code",
   "execution_count": 148,
   "id": "8768d047",
   "metadata": {},
   "outputs": [
    {
     "name": "stdout",
     "output_type": "stream",
     "text": [
      "Model accuracy score with criterion entropy: 0.8123\n"
     ]
    }
   ],
   "source": [
    "# Check accuracy score \n",
    "print('Model accuracy score with criterion entropy: {0:0.4f}'.format(accuracy_score(y_test, y_pred_tree)))"
   ]
  },
  {
   "cell_type": "markdown",
   "id": "b1b9a839",
   "metadata": {},
   "source": [
    "We got a classification rate of 81.13%, which is considered as good accuracy. We can improve this accuracy by tuning the parameters in the decision tree algorithm."
   ]
  },
  {
   "cell_type": "markdown",
   "id": "29ba05c4",
   "metadata": {},
   "source": [
    "## Check for overfitting and underfitting"
   ]
  },
  {
   "cell_type": "code",
   "execution_count": 149,
   "id": "4e240b19",
   "metadata": {},
   "outputs": [
    {
     "name": "stdout",
     "output_type": "stream",
     "text": [
      "Accuracy on train: 0.8129216543217289\n",
      "Accuracy on test: 0.8123348773374507\n"
     ]
    }
   ],
   "source": [
    "# Model Accuracy, how often is the classifier correct?\n",
    "print(\"Accuracy on train:\", accuracy_score(d_tree_model.predict(X_train), y_train))\n",
    "print(\"Accuracy on test:\",  accuracy_score(y_test, y_pred_tree))"
   ]
  },
  {
   "cell_type": "markdown",
   "id": "e0a02b0b",
   "metadata": {},
   "source": [
    "Here, the training-set accuracy score is 81.24 while the test-set accuracy to be 81.13. These two values are quite comparable. So, there is no sign of overfitting."
   ]
  },
  {
   "cell_type": "markdown",
   "id": "4928357a",
   "metadata": {},
   "source": [
    "## Classification Report\n",
    "\n",
    "Classification report evaluate the classification model performance. It displays the precision, recall, f1 and support scores for the model."
   ]
  },
  {
   "cell_type": "code",
   "execution_count": 150,
   "id": "545a101c",
   "metadata": {},
   "outputs": [
    {
     "name": "stdout",
     "output_type": "stream",
     "text": [
      "              precision    recall  f1-score   support\n",
      "\n",
      "           0       0.82      0.98      0.89     46694\n",
      "           1       0.63      0.14      0.23     11596\n",
      "\n",
      "    accuracy                           0.81     58290\n",
      "   macro avg       0.72      0.56      0.56     58290\n",
      "weighted avg       0.78      0.81      0.76     58290\n",
      "\n"
     ]
    }
   ],
   "source": [
    "print(classification_report(y_test, y_pred_tree))"
   ]
  },
  {
   "cell_type": "markdown",
   "id": "8e235d68",
   "metadata": {},
   "source": [
    "## Confusion matrix\n",
    "A confusion matrix is a tool for summarizing the performance of a classification algorithm. A confusion matrix will give us a clear picture of classification model performance and the types of errors produced by the model.  "
   ]
  },
  {
   "cell_type": "code",
   "execution_count": 151,
   "id": "c710ba1c",
   "metadata": {},
   "outputs": [
    {
     "name": "stdout",
     "output_type": "stream",
     "text": [
      "Confusion matrix\n",
      "\n",
      " [[45747   947]\n",
      " [ 9992  1604]]\n"
     ]
    }
   ],
   "source": [
    "cm = confusion_matrix(y_test, y_pred_tree)\n",
    "print('Confusion matrix\\n\\n', cm)"
   ]
  },
  {
   "cell_type": "markdown",
   "id": "c38ffd6e",
   "metadata": {},
   "source": [
    "# XGBoost Classifier"
   ]
  },
  {
   "cell_type": "code",
   "execution_count": 152,
   "id": "d32a5f5c",
   "metadata": {},
   "outputs": [
    {
     "data": {
      "text/plain": [
       "4.061411887292146"
      ]
     },
     "execution_count": 152,
     "metadata": {},
     "output_type": "execute_result"
    }
   ],
   "source": [
    "# define data_dmatrix\n",
    "data_dmatrix = xgb.DMatrix(data=X_best_features, label=y)\n",
    "cls_weight = (y_train.shape[0] - np.sum(y_train)) / np.sum(y_train)\n",
    "cls_weight"
   ]
  },
  {
   "cell_type": "code",
   "execution_count": 153,
   "id": "6e69bf15",
   "metadata": {},
   "outputs": [
    {
     "data": {
      "text/plain": [
       "XGBClassifier(alpha=10, base_score=0.5, booster='gbtree', callbacks=None,\n",
       "              colsample_bylevel=1, colsample_bynode=1, colsample_bytree=1,\n",
       "              early_stopping_rounds=None, enable_categorical=False,\n",
       "              eval_metric=None, gamma=0, gpu_id=-1, grow_policy='depthwise',\n",
       "              importance_type=None, interaction_constraints='',\n",
       "              learning_rate=0.01, max_bin=256, max_cat_to_onehot=4,\n",
       "              max_delta_step=0, max_depth=4, max_leaves=0, min_child_weight=1,\n",
       "              missing=nan, monotone_constraints='()', n_estimators=100,\n",
       "              n_jobs=0, num_parallel_tree=1, predictor='auto', random_state=0,\n",
       "              reg_alpha=10, ...)"
      ]
     },
     "execution_count": 153,
     "metadata": {},
     "output_type": "execute_result"
    }
   ],
   "source": [
    "# parameters\n",
    "params = {\n",
    "            'objective':'binary:logistic',\n",
    "            'max_depth': 4,\n",
    "            'alpha': 10,\n",
    "            'learning_rate': 0.01,\n",
    "            'n_estimators':100,\n",
    "            #'scale_pos_weight': cls_weight\n",
    "        }         \n",
    "           \n",
    "          \n",
    "# instantiate the classifier \n",
    "xgb_clf = XGBClassifier(**params)\n",
    "\n",
    "\n",
    "# fit the classifier to the training data\n",
    "xgb_clf.fit(X_train, y_train)"
   ]
  },
  {
   "cell_type": "code",
   "execution_count": 154,
   "id": "ed994fda",
   "metadata": {},
   "outputs": [
    {
     "name": "stdout",
     "output_type": "stream",
     "text": [
      "XGBClassifier(alpha=10, base_score=0.5, booster='gbtree', callbacks=None,\n",
      "              colsample_bylevel=1, colsample_bynode=1, colsample_bytree=1,\n",
      "              early_stopping_rounds=None, enable_categorical=False,\n",
      "              eval_metric=None, gamma=0, gpu_id=-1, grow_policy='depthwise',\n",
      "              importance_type=None, interaction_constraints='',\n",
      "              learning_rate=0.01, max_bin=256, max_cat_to_onehot=4,\n",
      "              max_delta_step=0, max_depth=4, max_leaves=0, min_child_weight=1,\n",
      "              missing=nan, monotone_constraints='()', n_estimators=100,\n",
      "              n_jobs=0, num_parallel_tree=1, predictor='auto', random_state=0,\n",
      "              reg_alpha=10, ...)\n"
     ]
    }
   ],
   "source": [
    "# parameters of the xgb trained model as follows -\n",
    "print(xgb_clf)"
   ]
  },
  {
   "cell_type": "code",
   "execution_count": 155,
   "id": "1bd7acb2",
   "metadata": {},
   "outputs": [],
   "source": [
    "# make predictions on test data\n",
    "y_pred_xgb = xgb_clf.predict(X_test)"
   ]
  },
  {
   "cell_type": "code",
   "execution_count": 156,
   "id": "842a783e",
   "metadata": {},
   "outputs": [
    {
     "name": "stdout",
     "output_type": "stream",
     "text": [
      "XGBoost model accuracy score: 0.8115\n"
     ]
    }
   ],
   "source": [
    "print('XGBoost model accuracy score: {0:0.4f}'. format(accuracy_score(y_test, y_pred_xgb)))"
   ]
  },
  {
   "cell_type": "markdown",
   "id": "7ba8eecf",
   "metadata": {},
   "source": [
    "## Classification Report"
   ]
  },
  {
   "cell_type": "code",
   "execution_count": 157,
   "id": "5ea50f7d",
   "metadata": {},
   "outputs": [
    {
     "name": "stdout",
     "output_type": "stream",
     "text": [
      "              precision    recall  f1-score   support\n",
      "\n",
      "           0       0.82      0.98      0.89     46694\n",
      "           1       0.63      0.13      0.21     11596\n",
      "\n",
      "    accuracy                           0.81     58290\n",
      "   macro avg       0.72      0.56      0.55     58290\n",
      "weighted avg       0.78      0.81      0.76     58290\n",
      "\n"
     ]
    }
   ],
   "source": [
    "print(classification_report(y_test, y_pred_xgb))"
   ]
  },
  {
   "cell_type": "markdown",
   "id": "c621c5d8",
   "metadata": {},
   "source": [
    "## k-fold Cross Validation"
   ]
  },
  {
   "cell_type": "code",
   "execution_count": 158,
   "id": "5f9ba56c",
   "metadata": {},
   "outputs": [],
   "source": [
    "from xgboost import cv\n",
    "\n",
    "\n",
    "\n",
    "params = {\"objective\":\"binary:logistic\",'colsample_bytree': 0.3,'learning_rate': 0.01,\n",
    "                'max_depth': 8, 'alpha': 10, 'scale_pos_weight':cls_weight}\n",
    "\n",
    "xgb_cv = cv(dtrain=data_dmatrix, params=params, nfold=5,\n",
    "                    num_boost_round=50, early_stopping_rounds=10, metrics=\"auc\", as_pandas=True, seed=123)"
   ]
  },
  {
   "cell_type": "code",
   "execution_count": 159,
   "id": "50256e67",
   "metadata": {},
   "outputs": [
    {
     "data": {
      "text/html": [
       "<div>\n",
       "<style scoped>\n",
       "    .dataframe tbody tr th:only-of-type {\n",
       "        vertical-align: middle;\n",
       "    }\n",
       "\n",
       "    .dataframe tbody tr th {\n",
       "        vertical-align: top;\n",
       "    }\n",
       "\n",
       "    .dataframe thead th {\n",
       "        text-align: right;\n",
       "    }\n",
       "</style>\n",
       "<table border=\"1\" class=\"dataframe\">\n",
       "  <thead>\n",
       "    <tr style=\"text-align: right;\">\n",
       "      <th></th>\n",
       "      <th>train-auc-mean</th>\n",
       "      <th>train-auc-std</th>\n",
       "      <th>test-auc-mean</th>\n",
       "      <th>test-auc-std</th>\n",
       "    </tr>\n",
       "  </thead>\n",
       "  <tbody>\n",
       "    <tr>\n",
       "      <th>0</th>\n",
       "      <td>0.588107</td>\n",
       "      <td>0.000572</td>\n",
       "      <td>0.572322</td>\n",
       "      <td>0.000917</td>\n",
       "    </tr>\n",
       "    <tr>\n",
       "      <th>1</th>\n",
       "      <td>0.656778</td>\n",
       "      <td>0.054034</td>\n",
       "      <td>0.647801</td>\n",
       "      <td>0.057970</td>\n",
       "    </tr>\n",
       "    <tr>\n",
       "      <th>2</th>\n",
       "      <td>0.676503</td>\n",
       "      <td>0.043823</td>\n",
       "      <td>0.670375</td>\n",
       "      <td>0.046345</td>\n",
       "    </tr>\n",
       "    <tr>\n",
       "      <th>3</th>\n",
       "      <td>0.707955</td>\n",
       "      <td>0.023619</td>\n",
       "      <td>0.702076</td>\n",
       "      <td>0.025648</td>\n",
       "    </tr>\n",
       "    <tr>\n",
       "      <th>4</th>\n",
       "      <td>0.719955</td>\n",
       "      <td>0.016226</td>\n",
       "      <td>0.714162</td>\n",
       "      <td>0.017303</td>\n",
       "    </tr>\n",
       "  </tbody>\n",
       "</table>\n",
       "</div>"
      ],
      "text/plain": [
       "   train-auc-mean  train-auc-std  test-auc-mean  test-auc-std\n",
       "0        0.588107       0.000572       0.572322      0.000917\n",
       "1        0.656778       0.054034       0.647801      0.057970\n",
       "2        0.676503       0.043823       0.670375      0.046345\n",
       "3        0.707955       0.023619       0.702076      0.025648\n",
       "4        0.719955       0.016226       0.714162      0.017303"
      ]
     },
     "execution_count": 159,
     "metadata": {},
     "output_type": "execute_result"
    }
   ],
   "source": [
    "xgb_cv.head()"
   ]
  },
  {
   "cell_type": "markdown",
   "id": "d42e5778",
   "metadata": {},
   "source": [
    "## Feature importance"
   ]
  },
  {
   "cell_type": "code",
   "execution_count": null,
   "id": "5e9006a4",
   "metadata": {},
   "outputs": [],
   "source": []
  },
  {
   "cell_type": "code",
   "execution_count": 160,
   "id": "a86c659d",
   "metadata": {},
   "outputs": [
    {
     "data": {
      "image/png": "[encoded data removed]",
      "text/plain": [
       "<Figure size 432x288 with 1 Axes>"
      ]
     },
     "metadata": {
      "needs_background": "light"
     },
     "output_type": "display_data"
    },
    {
     "data": {
      "text/plain": [
       "<Figure size 1152x864 with 0 Axes>"
      ]
     },
     "metadata": {},
     "output_type": "display_data"
    }
   ],
   "source": [
    "xgb.plot_importance(xgb_clf)\n",
    "plt.figure(figsize = (16, 12))\n",
    "plt.show()"
   ]
  },
  {
   "cell_type": "markdown",
   "id": "cda4b977",
   "metadata": {},
   "source": [
    "# Hyperparameters optimization for XGBoost"
   ]
  },
  {
   "cell_type": "code",
   "execution_count": 161,
   "id": "9849a509",
   "metadata": {},
   "outputs": [],
   "source": [
    "# Define the objective function for optimization\n",
    "def objective(trial):\n",
    "    params = {\n",
    "        'objective': 'binary:logistic',\n",
    "        'eval_metric': 'logloss',  # Logarithmic loss for binary classification\n",
    "        'verbosity': 0,\n",
    "        'n_jobs': -1,  # Use all available CPU cores\n",
    "        'seed': 42,\n",
    "        'tree_method': 'hist',  # You can try different tree methods\n",
    "        'learning_rate': trial.suggest_loguniform('learning_rate', 1e-3, 1e-1),\n",
    "        'max_depth': trial.suggest_int('max_depth', 3, 15),\n",
    "        'min_child_weight': trial.suggest_loguniform('min_child_weight', 1e-5, 1e2),\n",
    "        'subsample': trial.suggest_uniform('subsample', 0.5, 1.0),\n",
    "        'colsample_bytree': trial.suggest_uniform('colsample_bytree', 0.5, 1.0),\n",
    "        'gamma': trial.suggest_loguniform('gamma', 1e-6, 1.0),\n",
    "        'reg_alpha': trial.suggest_loguniform('reg_alpha', 1e-6, 1.0),\n",
    "        'reg_lambda': trial.suggest_loguniform('reg_lambda', 1e-6, 1.0),\n",
    "        'scale_pos_weight': trial.suggest_float('scale_pos_weight', 1.0, 10.0),  # Adjust this parameter for class imbalance\n",
    "   \n",
    "        #'n_estimators': 180,\n",
    "    }\n",
    "\n",
    "    # Create the XGBoost model\n",
    "    model = XGBClassifier(**params)\n",
    "\n",
    "    # Train the model on the training data\n",
    "    model.fit(X_train, y_train)\n",
    "\n",
    "    # Make predictions on the test data\n",
    "    y_pred = model.predict(X_test)\n",
    "\n",
    "    # Calculate accuracy as the metric to optimize\n",
    "    accuracy = accuracy_score(y_test, y_pred)\n",
    "    return accuracy"
   ]
  },
  {
   "cell_type": "code",
   "execution_count": 162,
   "id": "7e38c0cc",
   "metadata": {},
   "outputs": [
    {
     "name": "stderr",
     "output_type": "stream",
     "text": [
      "[I 2023-09-12 02:16:24,648] A new study created in memory with name: no-name-c4ef2424-b762-4ffc-81a2-e08222ec4766\n",
      "[I 2023-09-12 02:16:26,587] Trial 0 finished with value: 0.5218905472636816 and parameters: {'learning_rate': 0.0017424530540386684, 'max_depth': 4, 'min_child_weight': 8.206577700280047, 'subsample': 0.832276395302567, 'colsample_bytree': 0.6743220891279966, 'gamma': 0.14691029147742105, 'reg_alpha': 0.0013916857757647835, 'reg_lambda': 0.03449757511653558, 'scale_pos_weight': 6.077968186222995}. Best is trial 0 with value: 0.5218905472636816.\n",
      "[I 2023-09-12 02:16:31,637] Trial 1 finished with value: 0.8005661348430263 and parameters: {'learning_rate': 0.06989996158843763, 'max_depth': 12, 'min_child_weight': 0.00051247276667691, 'subsample': 0.9307363365323239, 'colsample_bytree': 0.6172456277223206, 'gamma': 0.011512965108556728, 'reg_alpha': 0.08083998937341189, 'reg_lambda': 0.000510820019365767, 'scale_pos_weight': 1.8383969015512733}. Best is trial 1 with value: 0.8005661348430263.\n",
      "[I 2023-09-12 02:16:39,773] Trial 2 finished with value: 0.7039972551037914 and parameters: {'learning_rate': 0.0020092089699662806, 'max_depth': 13, 'min_child_weight': 2.6605023214427742e-05, 'subsample': 0.7248156953650592, 'colsample_bytree': 0.9083714434529403, 'gamma': 0.002224249285049508, 'reg_alpha': 0.5518382828274843, 'reg_lambda': 0.008645623791452227, 'scale_pos_weight': 4.5658147056801806}. Best is trial 1 with value: 0.8005661348430263.\n",
      "[I 2023-09-12 02:16:46,030] Trial 3 finished with value: 0.7303825699090754 and parameters: {'learning_rate': 0.0042916165459097695, 'max_depth': 12, 'min_child_weight': 0.27120013864184794, 'subsample': 0.6040894517527979, 'colsample_bytree': 0.930548249015235, 'gamma': 0.00035000732042159697, 'reg_alpha': 1.5443834766820311e-06, 'reg_lambda': 0.005558451064226363, 'scale_pos_weight': 3.8165984310265566}. Best is trial 1 with value: 0.8005661348430263.\n",
      "[I 2023-09-12 02:16:55,586] Trial 4 finished with value: 0.6446045633899469 and parameters: {'learning_rate': 0.05374302634571343, 'max_depth': 15, 'min_child_weight': 0.0004422234869923953, 'subsample': 0.9932337628349668, 'colsample_bytree': 0.8256001997607949, 'gamma': 0.1604750931901068, 'reg_alpha': 0.02584261785450716, 'reg_lambda': 0.009235987404326062, 'scale_pos_weight': 7.196907411992081}. Best is trial 1 with value: 0.8005661348430263.\n",
      "[I 2023-09-12 02:16:57,884] Trial 5 finished with value: 0.3843712472122148 and parameters: {'learning_rate': 0.0057108541608921, 'max_depth': 5, 'min_child_weight': 2.9475934987610956e-05, 'subsample': 0.6419180390023843, 'colsample_bytree': 0.76298369538284, 'gamma': 0.0005289549379374736, 'reg_alpha': 0.00010326631970843412, 'reg_lambda': 1.2282693086571074e-06, 'scale_pos_weight': 8.530654609861548}. Best is trial 1 with value: 0.8005661348430263.\n",
      "[I 2023-09-12 02:17:01,366] Trial 6 finished with value: 0.7964831017327157 and parameters: {'learning_rate': 0.00920074162920024, 'max_depth': 9, 'min_child_weight': 3.747991636079338, 'subsample': 0.7603090270528874, 'colsample_bytree': 0.7015540206468043, 'gamma': 0.053698563457796875, 'reg_alpha': 0.00010492129274680565, 'reg_lambda': 0.062140033543916645, 'scale_pos_weight': 2.260854109221131}. Best is trial 1 with value: 0.8005661348430263.\n",
      "[I 2023-09-12 02:17:09,002] Trial 7 finished with value: 0.5115457196774746 and parameters: {'learning_rate': 0.039903098349470055, 'max_depth': 14, 'min_child_weight': 0.00018813576200260823, 'subsample': 0.5387525260862763, 'colsample_bytree': 0.7184184990418764, 'gamma': 6.923442526794663e-06, 'reg_alpha': 1.268872892979871e-06, 'reg_lambda': 0.23858680749745942, 'scale_pos_weight': 9.8390654042085}. Best is trial 1 with value: 0.8005661348430263.\n",
      "[I 2023-09-12 02:17:13,452] Trial 8 finished with value: 0.4713673014239149 and parameters: {'learning_rate': 0.04738561188747863, 'max_depth': 11, 'min_child_weight': 0.00048099586273384705, 'subsample': 0.5370731092637391, 'colsample_bytree': 0.8115260035509191, 'gamma': 0.00010399846119676311, 'reg_alpha': 5.688276774462885e-05, 'reg_lambda': 0.031090962209397423, 'scale_pos_weight': 9.301843468130256}. Best is trial 1 with value: 0.8005661348430263.\n",
      "[I 2023-09-12 02:17:16,142] Trial 9 finished with value: 0.8117687424944244 and parameters: {'learning_rate': 0.03180088950295557, 'max_depth': 6, 'min_child_weight': 6.584179379794327e-05, 'subsample': 0.5501003552389032, 'colsample_bytree': 0.8862348575718015, 'gamma': 0.0002349335697356843, 'reg_alpha': 0.0007090174298202187, 'reg_lambda': 6.021311042827929e-06, 'scale_pos_weight': 1.3170438341624853}. Best is trial 9 with value: 0.8117687424944244.\n",
      "[I 2023-09-12 02:17:19,795] Trial 10 finished with value: 0.813690169840453 and parameters: {'learning_rate': 0.015234601257170318, 'max_depth': 8, 'min_child_weight': 0.011588995445696188, 'subsample': 0.5135653930363555, 'colsample_bytree': 0.982591889731335, 'gamma': 2.114760210397455e-06, 'reg_alpha': 0.005117027391357161, 'reg_lambda': 1.5707554851468554e-06, 'scale_pos_weight': 1.0397578916642933}. Best is trial 10 with value: 0.813690169840453.\n",
      "[I 2023-09-12 02:17:22,718] Trial 11 finished with value: 0.813089723794819 and parameters: {'learning_rate': 0.019031562190378406, 'max_depth': 7, 'min_child_weight': 0.02678677866021375, 'subsample': 0.5018173619089534, 'colsample_bytree': 0.9794537890156144, 'gamma': 1.0456719758589629e-06, 'reg_alpha': 0.0041700922692768806, 'reg_lambda': 1.5420522418334098e-06, 'scale_pos_weight': 1.1131380352560645}. Best is trial 10 with value: 0.813690169840453.\n",
      "[I 2023-09-12 02:17:25,985] Trial 12 finished with value: 0.740658775090067 and parameters: {'learning_rate': 0.018896589711004483, 'max_depth': 8, 'min_child_weight': 0.013534211855252937, 'subsample': 0.5029377165485107, 'colsample_bytree': 0.9809410094948366, 'gamma': 1.7456061321258247e-06, 'reg_alpha': 0.010605125740135692, 'reg_lambda': 1.267751977867819e-05, 'scale_pos_weight': 3.1688689004038535}. Best is trial 10 with value: 0.813690169840453.\n",
      "[I 2023-09-12 02:17:28,768] Trial 13 finished with value: 0.8069308629267455 and parameters: {'learning_rate': 0.01489810173035415, 'max_depth': 7, 'min_child_weight': 0.016229682076425413, 'subsample': 0.6367801012301, 'colsample_bytree': 0.9795953889556585, 'gamma': 1.3662272342797683e-06, 'reg_alpha': 0.004950816574036817, 'reg_lambda': 3.8241129957098544e-05, 'scale_pos_weight': 1.6294206678668934}. Best is trial 10 with value: 0.813690169840453.\n",
      "[I 2023-09-12 02:17:30,612] Trial 14 finished with value: 0.7323726196603191 and parameters: {'learning_rate': 0.01806657091345266, 'max_depth': 3, 'min_child_weight': 0.09590047300942979, 'subsample': 0.5053092878400677, 'colsample_bytree': 0.9986717066549209, 'gamma': 1.007898356858261e-05, 'reg_alpha': 0.08792230321789993, 'reg_lambda': 0.00011194998744237328, 'scale_pos_weight': 3.0003358745395587}. Best is trial 10 with value: 0.813690169840453.\n",
      "[I 2023-09-12 02:17:34,587] Trial 15 finished with value: 0.8117515868931207 and parameters: {'learning_rate': 0.09578408200852405, 'max_depth': 10, 'min_child_weight': 0.004126169912008439, 'subsample': 0.5978693334920759, 'colsample_bytree': 0.8647245371389181, 'gamma': 3.5195467009302436e-05, 'reg_alpha': 0.0014094771680046075, 'reg_lambda': 1.5372601942341291e-06, 'scale_pos_weight': 1.0181280679190348}. Best is trial 10 with value: 0.813690169840453.\n",
      "[I 2023-09-12 02:17:37,935] Trial 16 finished with value: 0.7711099674043576 and parameters: {'learning_rate': 0.02854858378480279, 'max_depth': 8, 'min_child_weight': 0.5073669940944056, 'subsample': 0.6871106400289505, 'colsample_bytree': 0.5123586416750845, 'gamma': 1.2462359462336765e-06, 'reg_alpha': 0.9806399151840646, 'reg_lambda': 6.9762900367473705e-06, 'scale_pos_weight': 2.7219770666468417}. Best is trial 10 with value: 0.813690169840453.\n",
      "[I 2023-09-12 02:17:40,631] Trial 17 finished with value: 0.8132784354091611 and parameters: {'learning_rate': 0.01034931423932531, 'max_depth': 6, 'min_child_weight': 0.0033889331694373854, 'subsample': 0.5723205252626513, 'colsample_bytree': 0.9322387527602836, 'gamma': 1.8368108748699828e-05, 'reg_alpha': 0.006735761508124125, 'reg_lambda': 1.0748440188349567e-06, 'scale_pos_weight': 1.0407320359074217}. Best is trial 10 with value: 0.813690169840453.\n"
     ]
    },
    {
     "name": "stderr",
     "output_type": "stream",
     "text": [
      "[I 2023-09-12 02:17:42,838] Trial 18 finished with value: 0.7094012695144964 and parameters: {'learning_rate': 0.00915139660958681, 'max_depth': 5, 'min_child_weight': 0.002137611588361973, 'subsample': 0.5914678179641739, 'colsample_bytree': 0.9282963591586176, 'gamma': 3.362234832629675e-05, 'reg_alpha': 0.041005852124783776, 'reg_lambda': 0.000153412164342959, 'scale_pos_weight': 4.038588581137055}. Best is trial 10 with value: 0.813690169840453.\n",
      "[I 2023-09-12 02:17:46,354] Trial 19 finished with value: 0.7795505232458397 and parameters: {'learning_rate': 0.0053842287958284435, 'max_depth': 9, 'min_child_weight': 0.003581042568840109, 'subsample': 0.5710918884187477, 'colsample_bytree': 0.856485525697207, 'gamma': 6.217416753913989e-06, 'reg_alpha': 0.17998574887986768, 'reg_lambda': 1.7950085451793332e-05, 'scale_pos_weight': 2.5401301166169237}. Best is trial 10 with value: 0.813690169840453.\n",
      "[I 2023-09-12 02:17:48,791] Trial 20 finished with value: 0.7907702864985418 and parameters: {'learning_rate': 0.012811141858578914, 'max_depth': 6, 'min_child_weight': 26.419829503865824, 'subsample': 0.66404752949851, 'colsample_bytree': 0.9342162514394986, 'gamma': 4.582377117163593e-05, 'reg_alpha': 0.013801038435180877, 'reg_lambda': 4.659335552640932e-06, 'scale_pos_weight': 2.1257921079641537}. Best is trial 10 with value: 0.813690169840453.\n",
      "[I 2023-09-12 02:17:51,602] Trial 21 finished with value: 0.8134328358208955 and parameters: {'learning_rate': 0.01913010092759593, 'max_depth': 7, 'min_child_weight': 0.01695767906866115, 'subsample': 0.5012051684615684, 'colsample_bytree': 0.9508072530445786, 'gamma': 5.147594714658428e-06, 'reg_alpha': 0.003285092115380782, 'reg_lambda': 1.337456760726379e-06, 'scale_pos_weight': 1.008893568706861}. Best is trial 10 with value: 0.813690169840453.\n",
      "[I 2023-09-12 02:17:54,317] Trial 22 finished with value: 0.8140504374678332 and parameters: {'learning_rate': 0.02432330794447345, 'max_depth': 7, 'min_child_weight': 0.09994810267849817, 'subsample': 0.5643962555499982, 'colsample_bytree': 0.9464939710006102, 'gamma': 9.983360340728841e-06, 'reg_alpha': 0.005185542100136196, 'reg_lambda': 1.0938505685534863e-06, 'scale_pos_weight': 1.0145165775916094}. Best is trial 22 with value: 0.8140504374678332.\n",
      "[I 2023-09-12 02:17:57,369] Trial 23 finished with value: 0.795676788471436 and parameters: {'learning_rate': 0.028167335866784767, 'max_depth': 8, 'min_child_weight': 0.09574002035106748, 'subsample': 0.5449416101300772, 'colsample_bytree': 0.8879765021886231, 'gamma': 5.911725457099243e-06, 'reg_alpha': 0.023737747188103793, 'reg_lambda': 3.0395230791475945e-06, 'scale_pos_weight': 2.0349242461818156}. Best is trial 22 with value: 0.8140504374678332.\n",
      "[I 2023-09-12 02:18:01,474] Trial 24 finished with value: 0.805421170012009 and parameters: {'learning_rate': 0.023173863373940156, 'max_depth': 10, 'min_child_weight': 0.06257198120331336, 'subsample': 0.6136891133685276, 'colsample_bytree': 0.9566097650315202, 'gamma': 3.892824870181124e-06, 'reg_alpha': 0.003033348243990495, 'reg_lambda': 2.6367143901342374e-05, 'scale_pos_weight': 1.6908137408552166}. Best is trial 22 with value: 0.8140504374678332.\n",
      "[I 2023-09-12 02:18:04,143] Trial 25 finished with value: 0.7379138788814548 and parameters: {'learning_rate': 0.03526997735577857, 'max_depth': 7, 'min_child_weight': 0.7393021690052518, 'subsample': 0.5529313802566325, 'colsample_bytree': 0.9596596946448506, 'gamma': 9.034975396123471e-05, 'reg_alpha': 0.0006169269434568004, 'reg_lambda': 3.1244820272169845e-06, 'scale_pos_weight': 3.2664550674421697}. Best is trial 22 with value: 0.8140504374678332.\n",
      "[I 2023-09-12 02:18:08,247] Trial 26 finished with value: 0.7732887287699434 and parameters: {'learning_rate': 0.023258354233473687, 'max_depth': 10, 'min_child_weight': 0.018854405981844805, 'subsample': 0.5159565059238875, 'colsample_bytree': 0.9989944928679404, 'gamma': 1.2202764981561475e-05, 'reg_alpha': 0.01435733626953101, 'reg_lambda': 1.33450324517974e-05, 'scale_pos_weight': 2.5059511506116303}. Best is trial 22 with value: 0.8140504374678332.\n",
      "[I 2023-09-12 02:18:10,441] Trial 27 finished with value: 0.807479842168468 and parameters: {'learning_rate': 0.01333819568523988, 'max_depth': 5, 'min_child_weight': 0.165356109057105, 'subsample': 0.5765274908812902, 'colsample_bytree': 0.9088722291427636, 'gamma': 3.5906090338300326e-06, 'reg_alpha': 0.0025809544505329494, 'reg_lambda': 3.481617011431816e-06, 'scale_pos_weight': 1.768616752005081}. Best is trial 22 with value: 0.8140504374678332.\n",
      "[I 2023-09-12 02:18:12,260] Trial 28 finished with value: 0.8133985246182879 and parameters: {'learning_rate': 0.040670477961667825, 'max_depth': 3, 'min_child_weight': 1.3644182660307713, 'subsample': 0.6169200754885641, 'colsample_bytree': 0.9521918391698413, 'gamma': 3.1616317859864964e-06, 'reg_alpha': 0.007978776146321233, 'reg_lambda': 7.353769131658144e-05, 'scale_pos_weight': 1.0433615353775016}. Best is trial 22 with value: 0.8140504374678332.\n",
      "[I 2023-09-12 02:18:15,320] Trial 29 finished with value: 0.5776119402985075 and parameters: {'learning_rate': 0.025120001702921228, 'max_depth': 8, 'min_child_weight': 0.040714321491455145, 'subsample': 0.5418018769921646, 'colsample_bytree': 0.8367381986100634, 'gamma': 1.5174539499060237e-05, 'reg_alpha': 0.0012091809282701706, 'reg_lambda': 3.883719728729773e-05, 'scale_pos_weight': 6.256079241264317}. Best is trial 22 with value: 0.8140504374678332.\n",
      "[I 2023-09-12 02:18:17,484] Trial 30 finished with value: 0.6445016297821239 and parameters: {'learning_rate': 0.05429679580198329, 'max_depth': 4, 'min_child_weight': 0.28985718082094836, 'subsample': 0.5779071285607884, 'colsample_bytree': 0.890380081392458, 'gamma': 2.9478029495201316e-06, 'reg_alpha': 0.00035235202724274967, 'reg_lambda': 1.0918774029496635e-06, 'scale_pos_weight': 5.059782174256295}. Best is trial 22 with value: 0.8140504374678332.\n",
      "[I 2023-09-12 02:18:19,276] Trial 31 finished with value: 0.81161434208269 and parameters: {'learning_rate': 0.041436285283525075, 'max_depth': 3, 'min_child_weight': 1.9089401388110627, 'subsample': 0.6092431515741846, 'colsample_bytree': 0.9534197791910171, 'gamma': 2.652619375550712e-06, 'reg_alpha': 0.0076777974388637935, 'reg_lambda': 8.795200174079674e-06, 'scale_pos_weight': 1.4594401702089044}. Best is trial 22 with value: 0.8140504374678332.\n",
      "[I 2023-09-12 02:18:21,283] Trial 32 finished with value: 0.797632527020072 and parameters: {'learning_rate': 0.03226143452146305, 'max_depth': 4, 'min_child_weight': 0.7493918649250095, 'subsample': 0.5235581440301307, 'colsample_bytree': 0.956282596411268, 'gamma': 1.5901340909420067e-05, 'reg_alpha': 0.0023440177125978387, 'reg_lambda': 3.0036696551356026e-06, 'scale_pos_weight': 2.028654357320739}. Best is trial 22 with value: 0.8140504374678332.\n",
      "[I 2023-09-12 02:18:23,843] Trial 33 finished with value: 0.813690169840453 and parameters: {'learning_rate': 0.06744881670351209, 'max_depth': 7, 'min_child_weight': 25.74382546856339, 'subsample': 0.6252954365188054, 'colsample_bytree': 0.9081283567538271, 'gamma': 2.7779775235833815e-06, 'reg_alpha': 0.04414037852050301, 'reg_lambda': 0.000614581126435198, 'scale_pos_weight': 1.004920838920746}. Best is trial 22 with value: 0.8140504374678332.\n",
      "[I 2023-09-12 02:18:26,379] Trial 34 finished with value: 0.8018528049408131 and parameters: {'learning_rate': 0.0673413543391785, 'max_depth': 7, 'min_child_weight': 5.464865197096749, 'subsample': 0.5023889103176651, 'colsample_bytree': 0.8957228521375464, 'gamma': 0.0024246942042003153, 'reg_alpha': 0.05639208710814639, 'reg_lambda': 0.00026739895904892964, 'scale_pos_weight': 1.8025641066830995}. Best is trial 22 with value: 0.8140504374678332.\n",
      "[I 2023-09-12 02:18:28,734] Trial 35 finished with value: 0.7302624806999485 and parameters: {'learning_rate': 0.08253148461348678, 'max_depth': 6, 'min_child_weight': 38.172374654720734, 'subsample': 0.5659951498238242, 'colsample_bytree': 0.9078399583380817, 'gamma': 6.199205968391295e-06, 'reg_alpha': 0.12494905774156172, 'reg_lambda': 0.0013495589187979026, 'scale_pos_weight': 3.4559246982224967}. Best is trial 22 with value: 0.8140504374678332.\n"
     ]
    },
    {
     "name": "stderr",
     "output_type": "stream",
     "text": [
      "[I 2023-09-12 02:18:31,742] Trial 36 finished with value: 0.7700977869274318 and parameters: {'learning_rate': 0.06048739517095716, 'max_depth': 9, 'min_child_weight': 90.9751497600175, 'subsample': 0.5317314460127415, 'colsample_bytree': 0.9218946704862775, 'gamma': 1.52950436580713e-06, 'reg_alpha': 0.22636988797983978, 'reg_lambda': 0.0008934041024726652, 'scale_pos_weight': 2.5386358134913425}. Best is trial 22 with value: 0.8140504374678332.\n",
      "[I 2023-09-12 02:18:34,960] Trial 37 finished with value: 0.8096242923314462 and parameters: {'learning_rate': 0.07269255676587186, 'max_depth': 9, 'min_child_weight': 0.007740759241185022, 'subsample': 0.634751328152926, 'colsample_bytree': 0.8047887460773102, 'gamma': 1.0792643883027721e-06, 'reg_alpha': 0.044252082920065654, 'reg_lambda': 5.2464136204651295e-05, 'scale_pos_weight': 1.4274705403975054}. Best is trial 22 with value: 0.8140504374678332.\n",
      "[I 2023-09-12 02:18:39,496] Trial 38 finished with value: 0.785331960885229 and parameters: {'learning_rate': 0.048435660118602904, 'max_depth': 11, 'min_child_weight': 0.04360813446768004, 'subsample': 0.6889639976158005, 'colsample_bytree': 0.8707499802636501, 'gamma': 2.3750453203634978e-05, 'reg_alpha': 0.022563934611353087, 'reg_lambda': 2.2664843967486438e-05, 'scale_pos_weight': 2.282701742615507}. Best is trial 22 with value: 0.8140504374678332.\n",
      "[I 2023-09-12 02:18:42,187] Trial 39 finished with value: 0.7210327671984903 and parameters: {'learning_rate': 0.0010022156541592893, 'max_depth': 7, 'min_child_weight': 12.693700186003317, 'subsample': 0.7671265718547695, 'colsample_bytree': 0.7849523167941945, 'gamma': 8.293288228340533e-06, 'reg_alpha': 0.3324504533547977, 'reg_lambda': 7.930278327981522e-06, 'scale_pos_weight': 3.6919884057508634}. Best is trial 22 with value: 0.8140504374678332.\n",
      "[I 2023-09-12 02:18:45,046] Trial 40 finished with value: 0.7548121461657231 and parameters: {'learning_rate': 0.09870438923675351, 'max_depth': 8, 'min_child_weight': 0.1656765201399316, 'subsample': 0.5938456188335856, 'colsample_bytree': 0.8426961125509377, 'gamma': 7.265218381764662e-05, 'reg_alpha': 0.09623434443034515, 'reg_lambda': 2.3128009811972886e-06, 'scale_pos_weight': 2.9335854709923406}. Best is trial 22 with value: 0.8140504374678332.\n",
      "[I 2023-09-12 02:18:47,298] Trial 41 finished with value: 0.81417052667696 and parameters: {'learning_rate': 0.03967678127832989, 'max_depth': 5, 'min_child_weight': 2.3943784084633166, 'subsample': 0.6135916825264203, 'colsample_bytree': 0.9515193185531244, 'gamma': 2.7103195955996677e-06, 'reg_alpha': 0.010882942239348598, 'reg_lambda': 1.981672325987931e-06, 'scale_pos_weight': 1.0231853204513568}. Best is trial 41 with value: 0.81417052667696.\n",
      "[I 2023-09-12 02:18:49,498] Trial 42 finished with value: 0.8118716761022474 and parameters: {'learning_rate': 0.03610673296062806, 'max_depth': 5, 'min_child_weight': 9.047536897956633, 'subsample': 0.5244793350836344, 'colsample_bytree': 0.9200512470502618, 'gamma': 2.3112794388282326e-06, 'reg_alpha': 0.01823575393168634, 'reg_lambda': 1.045670160437135e-06, 'scale_pos_weight': 1.3370773687585362}. Best is trial 41 with value: 0.81417052667696.\n",
      "[I 2023-09-12 02:18:51,878] Trial 43 finished with value: 0.8061931720706811 and parameters: {'learning_rate': 0.05626530065276331, 'max_depth': 6, 'min_child_weight': 3.708684769326292, 'subsample': 0.5550942481971843, 'colsample_bytree': 0.9769271519604108, 'gamma': 4.279002801191387e-06, 'reg_alpha': 0.004603708236016499, 'reg_lambda': 5.340208741422407e-06, 'scale_pos_weight': 1.6233623542551987}. Best is trial 41 with value: 0.81417052667696.\n",
      "[I 2023-09-12 02:18:54,092] Trial 44 finished with value: 0.7908732201063647 and parameters: {'learning_rate': 0.02101183525172853, 'max_depth': 5, 'min_child_weight': 0.0014952326368518575, 'subsample': 0.5301646446482112, 'colsample_bytree': 0.9997344737858747, 'gamma': 1.1019201022833232e-05, 'reg_alpha': 0.036435319130508265, 'reg_lambda': 2.058123864713069e-06, 'scale_pos_weight': 2.1176230559367473}. Best is trial 41 with value: 0.81417052667696.\n",
      "[I 2023-09-12 02:18:56,815] Trial 45 finished with value: 0.8102762051809916 and parameters: {'learning_rate': 0.030935268379102893, 'max_depth': 7, 'min_child_weight': 0.009463317636665731, 'subsample': 0.6262104980350145, 'colsample_bytree': 0.9429956652909199, 'gamma': 2.1657994127677478e-06, 'reg_alpha': 0.010087075277273653, 'reg_lambda': 1.9687279170426395e-06, 'scale_pos_weight': 1.4439789908406804}. Best is trial 41 with value: 0.81417052667696.\n",
      "[I 2023-09-12 02:18:59,195] Trial 46 finished with value: 0.8133985246182879 and parameters: {'learning_rate': 0.04646784368754684, 'max_depth': 6, 'min_child_weight': 0.028987040144298707, 'subsample': 0.5912817590073725, 'colsample_bytree': 0.9143114097037349, 'gamma': 5.6522539817137395e-06, 'reg_alpha': 0.001812466965762612, 'reg_lambda': 1.1886518240370359e-05, 'scale_pos_weight': 1.1357848767936929}. Best is trial 41 with value: 0.81417052667696.\n",
      "[I 2023-09-12 02:19:02,278] Trial 47 finished with value: 0.8001029336078229 and parameters: {'learning_rate': 0.017222508162135063, 'max_depth': 8, 'min_child_weight': 2.181682310662793, 'subsample': 0.6528516751349024, 'colsample_bytree': 0.8741371997377037, 'gamma': 2.020530579215954e-06, 'reg_alpha': 0.003544522101452074, 'reg_lambda': 4.348908335556024e-06, 'scale_pos_weight': 1.9572254376305749}. Best is trial 41 with value: 0.81417052667696.\n",
      "[I 2023-09-12 02:19:12,872] Trial 48 finished with value: 0.7770286498541774 and parameters: {'learning_rate': 0.02535702067205938, 'max_depth': 15, 'min_child_weight': 0.007812318033832626, 'subsample': 0.500570799895318, 'colsample_bytree': 0.9615395842645514, 'gamma': 2.17764528112957e-05, 'reg_alpha': 0.005083247576002128, 'reg_lambda': 8.956733218519286e-06, 'scale_pos_weight': 2.8932739081319863}. Best is trial 41 with value: 0.81417052667696.\n",
      "[I 2023-09-12 02:19:16,504] Trial 49 finished with value: 0.8119231429061589 and parameters: {'learning_rate': 0.016119238356081204, 'max_depth': 9, 'min_child_weight': 0.4229298156192846, 'subsample': 0.5540033204814564, 'colsample_bytree': 0.9773139557892723, 'gamma': 1.013470107091106e-06, 'reg_alpha': 0.018064291537321427, 'reg_lambda': 1.803650863784235e-06, 'scale_pos_weight': 1.2951570559417622}. Best is trial 41 with value: 0.81417052667696.\n",
      "[I 2023-09-12 02:19:18,793] Trial 50 finished with value: 0.8127809229713502 and parameters: {'learning_rate': 0.02146197894848165, 'max_depth': 4, 'min_child_weight': 0.07406458631934862, 'subsample': 0.5270727589158765, 'colsample_bytree': 0.9369190869062451, 'gamma': 0.000179413188515908, 'reg_alpha': 0.06471493092572246, 'reg_lambda': 5.041441278046362e-06, 'scale_pos_weight': 1.0212635791554252}. Best is trial 41 with value: 0.81417052667696.\n",
      "[I 2023-09-12 02:19:20,677] Trial 51 finished with value: 0.8131240349974267 and parameters: {'learning_rate': 0.03949830659135245, 'max_depth': 3, 'min_child_weight': 0.8075266177138007, 'subsample': 0.6143716705526701, 'colsample_bytree': 0.9401267809986845, 'gamma': 4.395682626902414e-06, 'reg_alpha': 0.007347950245220105, 'reg_lambda': 1.1714223281715604e-06, 'scale_pos_weight': 1.006031145916869}. Best is trial 41 with value: 0.81417052667696.\n",
      "[I 2023-09-12 02:19:22,474] Trial 52 finished with value: 0.808268999828444 and parameters: {'learning_rate': 0.043750203849267595, 'max_depth': 3, 'min_child_weight': 1.3865448618853076, 'subsample': 0.6174294444410109, 'colsample_bytree': 0.9770755819473892, 'gamma': 9.322848174179147e-06, 'reg_alpha': 0.010426541830864595, 'reg_lambda': 6.803342614212642e-05, 'scale_pos_weight': 1.7154575069487268}. Best is trial 41 with value: 0.81417052667696.\n",
      "[I 2023-09-12 02:19:25,200] Trial 53 finished with value: 0.7813518613827415 and parameters: {'learning_rate': 0.02805997483843394, 'max_depth': 7, 'min_child_weight': 3.5129096898758765, 'subsample': 0.5890684958799803, 'colsample_bytree': 0.9065782930303344, 'gamma': 2.1392562065618735e-06, 'reg_alpha': 0.03266988849184044, 'reg_lambda': 1.7136274327078746e-05, 'scale_pos_weight': 2.337133073642423}. Best is trial 41 with value: 0.81417052667696.\n",
      "[I 2023-09-12 02:19:27,194] Trial 54 finished with value: 0.8112026076513982 and parameters: {'learning_rate': 0.036277781424921135, 'max_depth': 4, 'min_child_weight': 0.18677678211049434, 'subsample': 0.654199687815087, 'colsample_bytree': 0.9659839792760767, 'gamma': 2.928872099534186e-06, 'reg_alpha': 0.006659633551577961, 'reg_lambda': 2.4681518215329984e-06, 'scale_pos_weight': 1.454435848541412}. Best is trial 41 with value: 0.81417052667696.\n"
     ]
    },
    {
     "name": "stderr",
     "output_type": "stream",
     "text": [
      "[I 2023-09-12 02:19:29,390] Trial 55 finished with value: 0.8141190598730486 and parameters: {'learning_rate': 0.050943831508208734, 'max_depth': 5, 'min_child_weight': 0.022808615996357025, 'subsample': 0.5624045651732952, 'colsample_bytree': 0.9398370763995869, 'gamma': 7.629596680072441e-06, 'reg_alpha': 0.0023408684648108555, 'reg_lambda': 1.7221148500368797e-06, 'scale_pos_weight': 1.009989774251616}. Best is trial 41 with value: 0.81417052667696.\n",
      "[I 2023-09-12 02:19:31,557] Trial 56 finished with value: 0.8043746783324756 and parameters: {'learning_rate': 0.061847086136312436, 'max_depth': 5, 'min_child_weight': 0.020831518336970528, 'subsample': 0.56419370252185, 'colsample_bytree': 0.9292511710806478, 'gamma': 9.035648477399822e-06, 'reg_alpha': 0.001738540206885892, 'reg_lambda': 1.614314560316141e-06, 'scale_pos_weight': 1.7475819590469979}. Best is trial 41 with value: 0.81417052667696.\n",
      "[I 2023-09-12 02:19:33,954] Trial 57 finished with value: 0.8104820723966375 and parameters: {'learning_rate': 0.07320932267370775, 'max_depth': 6, 'min_child_weight': 0.03706450912489156, 'subsample': 0.5423400087937197, 'colsample_bytree': 0.8940906445168675, 'gamma': 3.162844942253553e-05, 'reg_alpha': 0.002808746611250179, 'reg_lambda': 5.678162793696354e-06, 'scale_pos_weight': 1.362411995253816}. Best is trial 41 with value: 0.81417052667696.\n",
      "[I 2023-09-12 02:19:36,690] Trial 58 finished with value: 0.7834276891405044 and parameters: {'learning_rate': 0.02080037816304934, 'max_depth': 7, 'min_child_weight': 0.018498982309420833, 'subsample': 0.5128350761656675, 'colsample_bytree': 0.9858775043492188, 'gamma': 5.376253347019573e-06, 'reg_alpha': 0.0008908305672611355, 'reg_lambda': 1.048700644631021e-06, 'scale_pos_weight': 2.2958212766491446}. Best is trial 41 with value: 0.81417052667696.\n",
      "[I 2023-09-12 02:19:43,367] Trial 59 finished with value: 0.7738548636129696 and parameters: {'learning_rate': 0.048582896307234044, 'max_depth': 13, 'min_child_weight': 0.08682439220436591, 'subsample': 0.5647668905584088, 'colsample_bytree': 0.9452525475145881, 'gamma': 1.4676384100232965e-06, 'reg_alpha': 0.013366336424372358, 'reg_lambda': 2.4988609895026312e-06, 'scale_pos_weight': 2.745504151658385}. Best is trial 41 with value: 0.81417052667696.\n",
      "[I 2023-09-12 02:19:46,496] Trial 60 finished with value: 0.7974095042031223 and parameters: {'learning_rate': 0.026611861756602455, 'max_depth': 8, 'min_child_weight': 0.010881911121845132, 'subsample': 0.5775474841830038, 'colsample_bytree': 0.9646872625940748, 'gamma': 4.643926150942696e-05, 'reg_alpha': 0.02637488526607656, 'reg_lambda': 4.5874966637537915e-06, 'scale_pos_weight': 1.979296973547453}. Best is trial 41 with value: 0.81417052667696.\n",
      "[I 2023-09-12 02:19:48,716] Trial 61 finished with value: 0.8141190598730486 and parameters: {'learning_rate': 0.032255147242106555, 'max_depth': 5, 'min_child_weight': 13.007837563839797, 'subsample': 0.5416778514581848, 'colsample_bytree': 0.947138469968889, 'gamma': 3.323465717279388e-06, 'reg_alpha': 0.0043819265867777474, 'reg_lambda': 1.573085676280912e-06, 'scale_pos_weight': 1.0054424519541738}. Best is trial 41 with value: 0.81417052667696.\n",
      "[I 2023-09-12 02:19:50,941] Trial 62 finished with value: 0.8124549665465775 and parameters: {'learning_rate': 0.03207339214503733, 'max_depth': 5, 'min_child_weight': 15.278195898941778, 'subsample': 0.5358953966954617, 'colsample_bytree': 0.9223590683790883, 'gamma': 1.4528587963028004e-05, 'reg_alpha': 0.004241230104557494, 'reg_lambda': 1.8266412755741466e-06, 'scale_pos_weight': 1.2680474188838704}. Best is trial 41 with value: 0.81417052667696.\n",
      "[I 2023-09-12 02:19:53,436] Trial 63 finished with value: 0.810241893978384 and parameters: {'learning_rate': 0.018458079643870622, 'max_depth': 6, 'min_child_weight': 5.833327520538245, 'subsample': 0.5202780433671212, 'colsample_bytree': 0.994470940303048, 'gamma': 4.038511206237891e-06, 'reg_alpha': 0.0014887534975843919, 'reg_lambda': 3.2436033028087094e-06, 'scale_pos_weight': 1.5123431022861475}. Best is trial 41 with value: 0.81417052667696.\n",
      "[I 2023-09-12 02:19:56,016] Trial 64 finished with value: 0.8027277406073083 and parameters: {'learning_rate': 0.05239801204669463, 'max_depth': 7, 'min_child_weight': 26.75827401959201, 'subsample': 0.5495390041104565, 'colsample_bytree': 0.9464350914467604, 'gamma': 6.793208675586111e-06, 'reg_alpha': 0.0032308451192299505, 'reg_lambda': 1.5906104955488237e-06, 'scale_pos_weight': 1.7918541810467756}. Best is trial 41 with value: 0.81417052667696.\n",
      "[I 2023-09-12 02:19:58,516] Trial 65 finished with value: 0.8127294561674386 and parameters: {'learning_rate': 0.014461490258567179, 'max_depth': 6, 'min_child_weight': 0.05022200918513399, 'subsample': 0.5957970213386327, 'colsample_bytree': 0.98140422471025, 'gamma': 1.7698411663137582e-06, 'reg_alpha': 0.005228239827983427, 'reg_lambda': 7.3478619354518185e-06, 'scale_pos_weight': 1.1195205187848187}. Best is trial 41 with value: 0.81417052667696.\n",
      "[I 2023-09-12 02:20:00,562] Trial 66 finished with value: 0.8129181677817807 and parameters: {'learning_rate': 0.023648668800624884, 'max_depth': 4, 'min_child_weight': 0.02606011490216939, 'subsample': 0.5156016469184965, 'colsample_bytree': 0.8809123506323974, 'gamma': 3.668790899374585e-06, 'reg_alpha': 0.011382320637781832, 'reg_lambda': 3.5606829088846343e-06, 'scale_pos_weight': 1.009161515641668}. Best is trial 41 with value: 0.81417052667696.\n",
      "[I 2023-09-12 02:20:02,982] Trial 67 finished with value: 0.808852290272774 and parameters: {'learning_rate': 0.029963879479043772, 'max_depth': 5, 'min_child_weight': 0.005273919196725086, 'subsample': 0.5797884643783111, 'colsample_bytree': 0.901620212271373, 'gamma': 1.0959886602546294e-05, 'reg_alpha': 0.002431873877145618, 'reg_lambda': 1.0290953564242082e-05, 'scale_pos_weight': 1.5933876989918008}. Best is trial 41 with value: 0.81417052667696.\n",
      "[I 2023-09-12 02:20:06,176] Trial 68 finished with value: 0.7973237261966032 and parameters: {'learning_rate': 0.03626507114142242, 'max_depth': 8, 'min_child_weight': 73.24467775937468, 'subsample': 0.5581959972319678, 'colsample_bytree': 0.9680346124743482, 'gamma': 1.502086295135036e-06, 'reg_alpha': 0.0010035061693972665, 'reg_lambda': 1.007135663940427e-06, 'scale_pos_weight': 1.9632033537069935}. Best is trial 41 with value: 0.81417052667696.\n",
      "[I 2023-09-12 02:20:10,320] Trial 69 finished with value: 0.7774403842854692 and parameters: {'learning_rate': 0.010747776638140893, 'max_depth': 10, 'min_child_weight': 0.0025408978160248743, 'subsample': 0.5357127355069048, 'colsample_bytree': 0.9308455130082314, 'gamma': 1.0280716914602365e-06, 'reg_alpha': 0.023318906159975086, 'reg_lambda': 2.7769032476145913e-05, 'scale_pos_weight': 2.452751143492435}. Best is trial 41 with value: 0.81417052667696.\n",
      "[I 2023-09-12 02:20:12,789] Trial 70 finished with value: 0.8119402985074626 and parameters: {'learning_rate': 0.04424449222971907, 'max_depth': 6, 'min_child_weight': 0.011706452676885217, 'subsample': 0.6077606407202134, 'colsample_bytree': 0.8579068311568679, 'gamma': 1.53640043098612e-05, 'reg_alpha': 0.006119073905360538, 'reg_lambda': 1.6189706797896784e-05, 'scale_pos_weight': 1.2454833741906044}. Best is trial 41 with value: 0.81417052667696.\n",
      "[I 2023-09-12 02:20:14,795] Trial 71 finished with value: 0.8129696345856923 and parameters: {'learning_rate': 0.03885717765810234, 'max_depth': 4, 'min_child_weight': 15.928721029630923, 'subsample': 0.6351327637052072, 'colsample_bytree': 0.9501099172915936, 'gamma': 2.930536052908896e-06, 'reg_alpha': 0.008959261385276484, 'reg_lambda': 1.4915026898523093e-06, 'scale_pos_weight': 1.2389647686849123}. Best is trial 41 with value: 0.81417052667696.\n",
      "[I 2023-09-12 02:20:16,793] Trial 72 finished with value: 0.8138617258534911 and parameters: {'learning_rate': 0.052279708782604156, 'max_depth': 4, 'min_child_weight': 8.409159060869193, 'subsample': 0.6018819993932238, 'colsample_bytree': 0.9530860235547767, 'gamma': 5.467846121551732e-06, 'reg_alpha': 0.0021299590463530796, 'reg_lambda': 3.0629520355126497e-06, 'scale_pos_weight': 1.016120063816621}. Best is trial 41 with value: 0.81417052667696.\n",
      "[I 2023-09-12 02:20:18,935] Trial 73 finished with value: 0.8086464230571282 and parameters: {'learning_rate': 0.05427762199109234, 'max_depth': 4, 'min_child_weight': 9.332249078634447, 'subsample': 0.570906099075839, 'colsample_bytree': 0.9151784706677615, 'gamma': 6.627610859174047e-06, 'reg_alpha': 0.0018431507175962903, 'reg_lambda': 3.0607539181103014e-06, 'scale_pos_weight': 1.5991340490431443}. Best is trial 41 with value: 0.81417052667696.\n"
     ]
    },
    {
     "name": "stderr",
     "output_type": "stream",
     "text": [
      "[I 2023-09-12 02:20:21,145] Trial 74 finished with value: 0.8010121804769257 and parameters: {'learning_rate': 0.06383109307389159, 'max_depth': 5, 'min_child_weight': 6.179908456234618, 'subsample': 0.5115566985359632, 'colsample_bytree': 0.9655324282608037, 'gamma': 4.359341203116227e-06, 'reg_alpha': 0.00048041032002384305, 'reg_lambda': 6.261272177561763e-06, 'scale_pos_weight': 1.8445319416618045}. Best is trial 41 with value: 0.81417052667696.\n",
      "[I 2023-09-12 02:20:23,265] Trial 75 finished with value: 0.7885915251329559 and parameters: {'learning_rate': 0.08277522394240544, 'max_depth': 5, 'min_child_weight': 42.71375183346991, 'subsample': 0.5485024471092627, 'colsample_bytree': 0.9891216994132234, 'gamma': 7.865064042387875e-06, 'reg_alpha': 0.003498081384736373, 'reg_lambda': 2.2282363155405576e-06, 'scale_pos_weight': 2.153554815019479}. Best is trial 41 with value: 0.81417052667696.\n",
      "[I 2023-09-12 02:20:25,685] Trial 76 finished with value: 0.8115457196774747 and parameters: {'learning_rate': 0.031989712047778354, 'max_depth': 6, 'min_child_weight': 23.696905288916458, 'subsample': 0.6019316507436095, 'colsample_bytree': 0.9339181832397725, 'gamma': 2.2136716758494757e-06, 'reg_alpha': 0.014370098347230072, 'reg_lambda': 4.047760323783428e-06, 'scale_pos_weight': 1.3278014735216803}. Best is trial 41 with value: 0.81417052667696.\n",
      "[I 2023-09-12 02:20:28,306] Trial 77 finished with value: 0.8069651741293532 and parameters: {'learning_rate': 0.04886111112098825, 'max_depth': 7, 'min_child_weight': 11.264290824530411, 'subsample': 0.5816665699005782, 'colsample_bytree': 0.9029443307554862, 'gamma': 1.87992994395981e-05, 'reg_alpha': 0.0010479325105970433, 'reg_lambda': 1.4163319471740977e-06, 'scale_pos_weight': 1.5926479906089235}. Best is trial 41 with value: 0.81417052667696.\n",
      "[I 2023-09-12 02:20:31,421] Trial 78 finished with value: 0.81358723623263 and parameters: {'learning_rate': 0.02703265404781326, 'max_depth': 8, 'min_child_weight': 0.01666238360588258, 'subsample': 0.5413124857918843, 'colsample_bytree': 0.9535129996673094, 'gamma': 2.930576753057276e-06, 'reg_alpha': 0.002317079342847464, 'reg_lambda': 2.6377299778545397e-06, 'scale_pos_weight': 1.0263320455718443}. Best is trial 41 with value: 0.81417052667696.\n",
      "[I 2023-09-12 02:20:34,941] Trial 79 finished with value: 0.8114770972722594 and parameters: {'learning_rate': 0.043135200034232324, 'max_depth': 9, 'min_child_weight': 0.05407948800316611, 'subsample': 0.5631082791858256, 'colsample_bytree': 0.9998359899097035, 'gamma': 1.7070136190613695e-06, 'reg_alpha': 0.0019329770463384585, 'reg_lambda': 2.6367650533070868e-06, 'scale_pos_weight': 1.2394642514947836}. Best is trial 41 with value: 0.81417052667696.\n",
      "[I 2023-09-12 02:20:38,027] Trial 80 finished with value: 0.8087150454623434 and parameters: {'learning_rate': 0.05725771047255805, 'max_depth': 8, 'min_child_weight': 0.005500210030313232, 'subsample': 0.5859572762175905, 'colsample_bytree': 0.8848289856748188, 'gamma': 3.43588434879701e-06, 'reg_alpha': 0.005326486861610144, 'reg_lambda': 1.069921154691968e-05, 'scale_pos_weight': 1.5105785207053757}. Best is trial 41 with value: 0.81417052667696.\n",
      "[I 2023-09-12 02:20:41,588] Trial 81 finished with value: 0.81358723623263 and parameters: {'learning_rate': 0.027470754184073, 'max_depth': 9, 'min_child_weight': 0.013157037312162053, 'subsample': 0.5355904211579658, 'colsample_bytree': 0.9509083320430749, 'gamma': 5.281318289673978e-06, 'reg_alpha': 0.002826995865695191, 'reg_lambda': 1.4248861706026077e-06, 'scale_pos_weight': 1.0124852177764003}. Best is trial 41 with value: 0.81417052667696.\n",
      "[I 2023-09-12 02:20:45,684] Trial 82 finished with value: 0.8133299022130726 and parameters: {'learning_rate': 0.0279557574296544, 'max_depth': 9, 'min_child_weight': 0.017605303565391462, 'subsample': 0.5336746568727213, 'colsample_bytree': 0.9562192539791556, 'gamma': 5.448178795530942e-06, 'reg_alpha': 0.0013499651258645265, 'reg_lambda': 3.864874398952107e-06, 'scale_pos_weight': 1.0066781891867298}. Best is trial 41 with value: 0.81417052667696.\n",
      "[I 2023-09-12 02:20:49,277] Trial 83 finished with value: 0.8124206553439698 and parameters: {'learning_rate': 0.024687098320401203, 'max_depth': 9, 'min_child_weight': 0.09976182942146652, 'subsample': 0.5395007621016437, 'colsample_bytree': 0.9235964756076384, 'gamma': 1.1856304972664797e-05, 'reg_alpha': 0.0027804896658503667, 'reg_lambda': 1.9422254624224327e-06, 'scale_pos_weight': 1.2223475496512524}. Best is trial 41 with value: 0.81417052667696.\n",
      "[I 2023-09-12 02:20:52,327] Trial 84 finished with value: 0.8007376908560645 and parameters: {'learning_rate': 0.033859135964343666, 'max_depth': 8, 'min_child_weight': 0.029271116157440016, 'subsample': 0.6000052842561574, 'colsample_bytree': 0.9407175274650019, 'gamma': 2.7785187958470997e-06, 'reg_alpha': 0.004406937447637442, 'reg_lambda': 6.6917939886241835e-06, 'scale_pos_weight': 1.889536251802395}. Best is trial 41 with value: 0.81417052667696.\n",
      "[I 2023-09-12 02:20:56,077] Trial 85 finished with value: 0.8106707840109796 and parameters: {'learning_rate': 0.02731632521035145, 'max_depth': 10, 'min_child_weight': 7.808177186837958, 'subsample': 0.5475232830134154, 'colsample_bytree': 0.9766438944018452, 'gamma': 7.776308632614555e-06, 'reg_alpha': 0.007723521154489921, 'reg_lambda': 1.3793057265029388e-06, 'scale_pos_weight': 1.3878326835226868}. Best is trial 41 with value: 0.81417052667696.\n",
      "[I 2023-09-12 02:21:00,123] Trial 86 finished with value: 0.8130725681935151 and parameters: {'learning_rate': 0.039683893430755665, 'max_depth': 10, 'min_child_weight': 0.014397511147651655, 'subsample': 0.5692074833960513, 'colsample_bytree': 0.9695456657247157, 'gamma': 1.4801137625935706e-06, 'reg_alpha': 0.0021405808833582737, 'reg_lambda': 1.0223398173793116e-06, 'scale_pos_weight': 1.0013484807678295}. Best is trial 41 with value: 0.81417052667696.\n",
      "[I 2023-09-12 02:21:02,287] Trial 87 finished with value: 0.8084920226453938 and parameters: {'learning_rate': 0.02204277226723574, 'max_depth': 4, 'min_child_weight': 3.2630978804005455, 'subsample': 0.5240044483963935, 'colsample_bytree': 0.9565038809307439, 'gamma': 2.446606237749275e-06, 'reg_alpha': 0.0007991352732407305, 'reg_lambda': 2.5078602593169476e-06, 'scale_pos_weight': 1.6992188167060964}. Best is trial 41 with value: 0.81417052667696.\n",
      "[I 2023-09-12 02:21:05,353] Trial 88 finished with value: 0.7895007720020587 and parameters: {'learning_rate': 0.034210527483826955, 'max_depth': 8, 'min_child_weight': 0.006979851081312297, 'subsample': 0.6276056137066057, 'colsample_bytree': 0.9134144748609684, 'gamma': 3.982204710037605e-06, 'reg_alpha': 0.004201293613217506, 'reg_lambda': 4.5612554865732875e-06, 'scale_pos_weight': 2.191922095810958}. Best is trial 41 with value: 0.81417052667696.\n",
      "[I 2023-09-12 02:21:10,380] Trial 89 finished with value: 0.8088008234688626 and parameters: {'learning_rate': 0.020056480965610114, 'max_depth': 11, 'min_child_weight': 0.03742371378173135, 'subsample': 0.5546924495535808, 'colsample_bytree': 0.9457801106700202, 'gamma': 5.274496269853061e-06, 'reg_alpha': 0.0012677101866403666, 'reg_lambda': 1.5093886911098967e-06, 'scale_pos_weight': 1.5122422450018806}. Best is trial 41 with value: 0.81417052667696.\n",
      "[I 2023-09-12 02:21:13,153] Trial 90 finished with value: 0.8118888317035512 and parameters: {'learning_rate': 0.03031477739034232, 'max_depth': 7, 'min_child_weight': 0.003496029414560666, 'subsample': 0.5111145544313234, 'colsample_bytree': 0.9346252949159489, 'gamma': 1.2360040370675708e-06, 'reg_alpha': 0.009926930178541496, 'reg_lambda': 2.1380419081191145e-06, 'scale_pos_weight': 1.2417532990502858}. Best is trial 41 with value: 0.81417052667696.\n",
      "[I 2023-09-12 02:21:15,910] Trial 91 finished with value: 0.8125235889517928 and parameters: {'learning_rate': 0.018441786504785566, 'max_depth': 7, 'min_child_weight': 0.013282800270641338, 'subsample': 0.5001296975568226, 'colsample_bytree': 0.9872770228867912, 'gamma': 9.505724272617908e-06, 'reg_alpha': 0.0032906912042751798, 'reg_lambda': 3.203146814595943e-06, 'scale_pos_weight': 1.1839209575438074}. Best is trial 41 with value: 0.81417052667696.\n"
     ]
    },
    {
     "name": "stderr",
     "output_type": "stream",
     "text": [
      "[I 2023-09-12 02:21:19,006] Trial 92 finished with value: 0.8134499914221993 and parameters: {'learning_rate': 0.02226718683312691, 'max_depth': 8, 'min_child_weight': 0.02549216843514992, 'subsample': 0.5227854355832883, 'colsample_bytree': 0.9548795358204011, 'gamma': 2.8148287590777127e-06, 'reg_alpha': 0.0023922349457749428, 'reg_lambda': 1.3258178629249518e-06, 'scale_pos_weight': 1.0123365583184674}. Best is trial 41 with value: 0.81417052667696.\n",
      "[I 2023-09-12 02:21:22,259] Trial 93 finished with value: 0.8101732715731687 and parameters: {'learning_rate': 0.02459932781385354, 'max_depth': 8, 'min_child_weight': 0.025888499398323064, 'subsample': 0.5260524244907147, 'colsample_bytree': 0.9715749022102572, 'gamma': 1.970848333299828e-06, 'reg_alpha': 0.002336798085587671, 'reg_lambda': 1.3774613060886483e-06, 'scale_pos_weight': 1.4107685982873661}. Best is trial 41 with value: 0.81417052667696.\n",
      "[I 2023-09-12 02:21:25,830] Trial 94 finished with value: 0.8020415165551552 and parameters: {'learning_rate': 0.02387628824461024, 'max_depth': 9, 'min_child_weight': 0.010242080595253479, 'subsample': 0.5434900610933315, 'colsample_bytree': 0.9573866651405727, 'gamma': 3.0443480784407785e-06, 'reg_alpha': 0.001521688182409867, 'reg_lambda': 5.787414489611713e-06, 'scale_pos_weight': 1.8345089661039662}. Best is trial 41 with value: 0.81417052667696.\n",
      "[I 2023-09-12 02:21:28,906] Trial 95 finished with value: 0.8072568193515183 and parameters: {'learning_rate': 0.016172445688135195, 'max_depth': 8, 'min_child_weight': 0.13024286670351543, 'subsample': 0.5740392163139412, 'colsample_bytree': 0.9183559446368396, 'gamma': 4.916456414104722e-06, 'reg_alpha': 0.006775798621021488, 'reg_lambda': 2.638958896174878e-06, 'scale_pos_weight': 1.6903997003833884}. Best is trial 41 with value: 0.81417052667696.\n",
      "[I 2023-09-12 02:21:32,359] Trial 96 finished with value: 0.81161434208269 and parameters: {'learning_rate': 0.037654893153826634, 'max_depth': 9, 'min_child_weight': 0.05912322705927938, 'subsample': 0.5568144602052835, 'colsample_bytree': 0.9871198841359278, 'gamma': 6.968905127883417e-06, 'reg_alpha': 0.0006601346472736929, 'reg_lambda': 1.7929588150027486e-06, 'scale_pos_weight': 1.1827821469094042}. Best is trial 41 with value: 0.81417052667696.\n",
      "[I 2023-09-12 02:21:34,589] Trial 97 finished with value: 0.8108080288214102 and parameters: {'learning_rate': 0.02923469000959341, 'max_depth': 5, 'min_child_weight': 0.05905977840981008, 'subsample': 0.5891863854304711, 'colsample_bytree': 0.9310070425805047, 'gamma': 2.682949414572465e-06, 'reg_alpha': 0.005237978837433342, 'reg_lambda': 3.717502869856561e-06, 'scale_pos_weight': 1.4698388082237126}. Best is trial 41 with value: 0.81417052667696.\n",
      "[I 2023-09-12 02:21:36,432] Trial 98 finished with value: 0.8136387030365414 and parameters: {'learning_rate': 0.051067493675965005, 'max_depth': 3, 'min_child_weight': 0.2795187493984612, 'subsample': 0.5171210387436213, 'colsample_bytree': 0.953452427095683, 'gamma': 1.5204388816820438e-06, 'reg_alpha': 0.0027816456357724994, 'reg_lambda': 8.622606832946958e-06, 'scale_pos_weight': 1.0056167325131105}. Best is trial 41 with value: 0.81417052667696.\n",
      "[I 2023-09-12 02:21:38,412] Trial 99 finished with value: 0.7952307428375365 and parameters: {'learning_rate': 0.04974359672336244, 'max_depth': 4, 'min_child_weight': 0.22934457150000398, 'subsample': 0.5105422574728098, 'colsample_bytree': 0.9725055428908121, 'gamma': 1.3794566372353725e-06, 'reg_alpha': 0.017216130160630266, 'reg_lambda': 7.717139545573651e-06, 'scale_pos_weight': 2.048878197098641}. Best is trial 41 with value: 0.81417052667696.\n"
     ]
    }
   ],
   "source": [
    "# Create an Optuna study\n",
    "study = optuna.create_study(direction='maximize')\n",
    "\n",
    "# Perform hyperparameter optimization\n",
    "n_trials = 100  # You can adjust the number of trials\n",
    "study.optimize(objective, n_trials=n_trials)"
   ]
  },
  {
   "cell_type": "code",
   "execution_count": 163,
   "id": "389b9c2f",
   "metadata": {},
   "outputs": [
    {
     "name": "stdout",
     "output_type": "stream",
     "text": [
      "Best trial - Accuracy: 0.8142\n",
      "Best trial - Params: \n",
      "    learning_rate: 0.03967678127832989\n",
      "    max_depth: 5\n",
      "    min_child_weight: 2.3943784084633166\n",
      "    subsample: 0.6135916825264203\n",
      "    colsample_bytree: 0.9515193185531244\n",
      "    gamma: 2.7103195955996677e-06\n",
      "    reg_alpha: 0.010882942239348598\n",
      "    reg_lambda: 1.981672325987931e-06\n",
      "    scale_pos_weight: 1.0231853204513568\n"
     ]
    }
   ],
   "source": [
    "# Print the best hyperparameters and result\n",
    "best_trial = study.best_trial\n",
    "print(f\"Best trial - Accuracy: {best_trial.value:.4f}\")\n",
    "print(\"Best trial - Params: \")\n",
    "for key, value in best_trial.params.items():\n",
    "    print(f\"    {key}: {value}\")"
   ]
  },
  {
   "cell_type": "code",
   "execution_count": 164,
   "id": "e8c3d6c8",
   "metadata": {},
   "outputs": [],
   "source": [
    "# You can access the best model with the best hyperparameters using study.best_params\n",
    "best_params = best_trial.params\n",
    "best_model = xgb.XGBClassifier(**best_params)"
   ]
  },
  {
   "cell_type": "code",
   "execution_count": 179,
   "id": "e485bde2",
   "metadata": {},
   "outputs": [
    {
     "name": "stdout",
     "output_type": "stream",
     "text": [
      "Accuracy 0.8142906158860868\n",
      "Accuracy 0.8138274146508835\n",
      "Accuracy 0.8155772859838737\n",
      "Accuracy 0.8144450162978213\n",
      "Accuracy 0.8143217416665237\n",
      "Mean Accuracy (StratifiedKFold): 0.8145\n"
     ]
    }
   ],
   "source": [
    "# Define the number of folds for StratifiedKFold cross-validation\n",
    "n_splits = 5  # Adjust as needed\n",
    "\n",
    "# Initialize StratifiedKFold\n",
    "kf = StratifiedKFold(n_splits=n_splits, shuffle=True, random_state=42)\n",
    "\n",
    "# Initialize lists to store cross-validation scores\n",
    "accuracy_scores = []\n",
    "\n",
    "# Perform cross-validation\n",
    "for train_idx, val_idx in kf.split(X_best_features, y):\n",
    "    X_train, X_val = X_best_features.iloc[train_idx], X_best_features.iloc[val_idx]\n",
    "    y_train, y_val = y.iloc[train_idx], y.iloc[val_idx]\n",
    "\n",
    "    # Create and train the XGBoost model with the best hyperparameters\n",
    "    model = xgb.XGBClassifier(**best_params)\n",
    "    model.fit(X_train, y_train)\n",
    "\n",
    "    # Make predictions on the validation set\n",
    "    y_pred = model.predict(X_val)\n",
    "\n",
    "    # Calculate accuracy for this fold\n",
    "    accuracy = accuracy_score(y_val, y_pred)\n",
    "    accuracy_scores.append(accuracy)\n",
    "    print(\"Accuracy\", accuracy)\n",
    "\n",
    "# Calculate the mean accuracy across all folds\n",
    "mean_accuracy = np.mean(accuracy_scores)\n",
    "print(f\"Mean Accuracy (StratifiedKFold): {mean_accuracy:.4f}\")\n"
   ]
  },
  {
   "cell_type": "markdown",
   "id": "88b13776",
   "metadata": {},
   "source": [
    "# Making a pipeline with XGBoost model"
   ]
  },
  {
   "cell_type": "code",
   "execution_count": null,
   "id": "ca0aecd1",
   "metadata": {},
   "outputs": [],
   "source": []
  },
  {
   "cell_type": "code",
   "execution_count": null,
   "id": "227e1a08",
   "metadata": {},
   "outputs": [],
   "source": []
  },
  {
   "cell_type": "code",
   "execution_count": null,
   "id": "4c7df867",
   "metadata": {},
   "outputs": [],
   "source": []
  },
  {
   "cell_type": "code",
   "execution_count": null,
   "id": "b2ace2dd",
   "metadata": {},
   "outputs": [],
   "source": []
  },
  {
   "cell_type": "code",
   "execution_count": null,
   "id": "e54ce23f",
   "metadata": {},
   "outputs": [],
   "source": []
  }
 ],
 "metadata": {
  "kernelspec": {
   "display_name": "Python 3 (ipykernel)",
   "language": "python",
   "name": "python3"
  },
  "language_info": {
   "codemirror_mode": {
    "name": "ipython",
    "version": 3
   },
   "file_extension": ".py",
   "mimetype": "text/x-python",
   "name": "python",
   "nbconvert_exporter": "python",
   "pygments_lexer": "ipython3",
   "version": "3.7.1"
  }
 },
 "nbformat": 4,
 "nbformat_minor": 5
}
