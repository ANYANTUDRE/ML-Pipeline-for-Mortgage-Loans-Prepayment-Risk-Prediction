{
 "cells": [
  {
   "cell_type": "markdown",
   "metadata": {},
   "source": [
    "# Target variable creation && Regression modelling"
   ]
  },
  {
   "cell_type": "markdown",
   "metadata": {},
   "source": [
    "## Libraries"
   ]
  },
  {
   "cell_type": "code",
   "execution_count": 1,
   "metadata": {},
   "outputs": [],
   "source": [
    "#!pip show scikit-learn\n",
    "#!pip uninstall scikit-learn==1.0.2"
   ]
  },
  {
   "cell_type": "code",
   "execution_count": 2,
   "metadata": {},
   "outputs": [],
   "source": [
    "#!pip install scikit-learn==1.3.1\n",
    "#!pip show scikit-learn"
   ]
  },
  {
   "cell_type": "code",
   "execution_count": 3,
   "metadata": {},
   "outputs": [
    {
     "name": "stdout",
     "output_type": "stream",
     "text": [
      "Requirement already satisfied: scikit-learn in c:\\users\\hp\\anaconda3\\lib\\site-packages (1.0.2)\n",
      "Requirement already satisfied: joblib>=0.11 in c:\\users\\hp\\anaconda3\\lib\\site-packages (from scikit-learn) (1.1.0)\n",
      "Requirement already satisfied: threadpoolctl>=2.0.0 in c:\\users\\hp\\anaconda3\\lib\\site-packages (from scikit-learn) (2.2.0)\n",
      "Requirement already satisfied: numpy>=1.14.6 in c:\\users\\hp\\anaconda3\\lib\\site-packages (from scikit-learn) (1.21.5)\n",
      "Requirement already satisfied: scipy>=1.1.0 in c:\\users\\hp\\anaconda3\\lib\\site-packages (from scikit-learn) (1.7.3)\n",
      "Note: you may need to restart the kernel to use updated packages.\n"
     ]
    }
   ],
   "source": [
    "#pip install scikit-learn"
   ]
  },
  {
   "cell_type": "code",
   "execution_count": 4,
   "metadata": {},
   "outputs": [
    {
     "name": "stdout",
     "output_type": "stream",
     "text": [
      "Collecting xgboost\n",
      "  Using cached xgboost-2.0.0-py3-none-win_amd64.whl (99.7 MB)\n",
      "Requirement already satisfied: numpy in c:\\users\\hp\\anaconda3\\lib\\site-packages (from xgboost) (1.21.5)\n",
      "Requirement already satisfied: scipy in c:\\users\\hp\\anaconda3\\lib\\site-packages (from xgboost) (1.7.3)\n",
      "Installing collected packages: xgboost\n",
      "Successfully installed xgboost-2.0.0\n"
     ]
    }
   ],
   "source": [
    "#!pip install xgboost"
   ]
  },
  {
   "cell_type": "code",
   "execution_count": 5,
   "metadata": {},
   "outputs": [],
   "source": [
    "#%pip install xgboost"
   ]
  },
  {
   "cell_type": "code",
   "execution_count": 33,
   "metadata": {},
   "outputs": [
    {
     "name": "stdout",
     "output_type": "stream",
     "text": [
      "1.0.2\n"
     ]
    }
   ],
   "source": [
    "import sklearn\n",
    "print(sklearn.__version__)\n"
   ]
  },
  {
   "cell_type": "code",
   "execution_count": 6,
   "metadata": {},
   "outputs": [],
   "source": [
    "import pandas as pd\n",
    "from pandas.api.types import is_numeric_dtype\n",
    "import numpy as np\n",
    "\n",
    "# plotting \n",
    "import seaborn as sns\n",
    "import matplotlib.pyplot as plt\n",
    "\n",
    "\n",
    "# Preprocessing\n",
    "from sklearn import preprocessing\n",
    "from sklearn.preprocessing import StandardScaler, FunctionTransformer, OneHotEncoder\n",
    "from sklearn.model_selection import train_test_split, GridSearchCV\n",
    "\n",
    "# Feature selection\n",
    "from sklearn.feature_selection import chi2\n",
    "from sklearn.feature_selection import SelectKBest\n",
    "from sklearn.feature_selection import mutual_info_classif\n",
    "# Models\n",
    "from sklearn.tree import DecisionTreeClassifier\n",
    "from xgboost import XGBClassifier\n",
    "\n",
    "\n",
    "from sklearn.tree import DecisionTreeRegressor\n",
    "from xgboost import XGBRegressor\n",
    "from sklearn.model_selection import train_test_split, GridSearchCV\n",
    "from sklearn.metrics import mean_absolute_error, mean_squared_error, r2_score\n",
    "\n",
    "# Scores\n",
    "from sklearn.metrics import classification_report,confusion_matrix\n",
    "from sklearn.metrics import make_scorer, accuracy_score, precision_score, recall_score, f1_score, fbeta_score\n",
    "\n",
    "# Settings & warning handling\n",
    "import warnings\n",
    "pd.options.display.max_columns\n",
    "warnings.filterwarnings(\"always\")\n",
    "warnings.filterwarnings(\"ignore\")\n",
    "\n",
    "\n",
    "#--------------------------------------\n",
    "import pickle\n",
    "\n",
    "from sklearn.pipeline import Pipeline\n",
    "from sklearn.compose import ColumnTransformer\n",
    "from sklearn.impute import SimpleImputer\n",
    "from sklearn.decomposition import PCA"
   ]
  },
  {
   "cell_type": "code",
   "execution_count": 7,
   "metadata": {},
   "outputs": [
    {
     "name": "stdout",
     "output_type": "stream",
     "text": [
      "1.0.2\n"
     ]
    }
   ],
   "source": [
    "import sklearn\n",
    "print(sklearn.__version__)"
   ]
  },
  {
   "cell_type": "markdown",
   "metadata": {},
   "source": [
    "### Loading Data"
   ]
  },
  {
   "cell_type": "code",
   "execution_count": 8,
   "metadata": {},
   "outputs": [],
   "source": [
    "df = pd.read_csv(\"../Datasets/X_full.csv\", index_col=0)\n",
    "raw_df = pd.read_csv(\"../Datasets/LoanExport.csv\", index_col=0)"
   ]
  },
  {
   "cell_type": "code",
   "execution_count": 9,
   "metadata": {},
   "outputs": [
    {
     "data": {
      "text/html": [
       "<div>\n",
       "<style scoped>\n",
       "    .dataframe tbody tr th:only-of-type {\n",
       "        vertical-align: middle;\n",
       "    }\n",
       "\n",
       "    .dataframe tbody tr th {\n",
       "        vertical-align: top;\n",
       "    }\n",
       "\n",
       "    .dataframe thead th {\n",
       "        text-align: right;\n",
       "    }\n",
       "</style>\n",
       "<table border=\"1\" class=\"dataframe\">\n",
       "  <thead>\n",
       "    <tr style=\"text-align: right;\">\n",
       "      <th></th>\n",
       "      <th>CreditScore</th>\n",
       "      <th>FirstTimeHomebuyer</th>\n",
       "      <th>MSA</th>\n",
       "      <th>MIP</th>\n",
       "      <th>Units</th>\n",
       "      <th>Occupancy</th>\n",
       "      <th>OCLTV</th>\n",
       "      <th>DTI</th>\n",
       "      <th>OrigUPB</th>\n",
       "      <th>LTV</th>\n",
       "      <th>...</th>\n",
       "      <th>FirstPayment_Year</th>\n",
       "      <th>FirstPayment_Month</th>\n",
       "      <th>Maturity_Year</th>\n",
       "      <th>Maturity_Month</th>\n",
       "      <th>LTV_range</th>\n",
       "      <th>Credit_range</th>\n",
       "      <th>YearsInRepayment</th>\n",
       "      <th>Repay_range</th>\n",
       "      <th>IsFirstTimeHomebuyer</th>\n",
       "      <th>Duration</th>\n",
       "    </tr>\n",
       "  </thead>\n",
       "  <tbody>\n",
       "    <tr>\n",
       "      <th>0</th>\n",
       "      <td>711.841009</td>\n",
       "      <td>0</td>\n",
       "      <td>16974</td>\n",
       "      <td>25</td>\n",
       "      <td>1</td>\n",
       "      <td>0</td>\n",
       "      <td>89</td>\n",
       "      <td>27.0</td>\n",
       "      <td>117000</td>\n",
       "      <td>89.0</td>\n",
       "      <td>...</td>\n",
       "      <td>1999</td>\n",
       "      <td>2</td>\n",
       "      <td>2029</td>\n",
       "      <td>1</td>\n",
       "      <td>0</td>\n",
       "      <td>0</td>\n",
       "      <td>4.333333</td>\n",
       "      <td>2</td>\n",
       "      <td>0</td>\n",
       "      <td>30</td>\n",
       "    </tr>\n",
       "    <tr>\n",
       "      <th>1</th>\n",
       "      <td>711.841009</td>\n",
       "      <td>0</td>\n",
       "      <td>19740</td>\n",
       "      <td>0</td>\n",
       "      <td>1</td>\n",
       "      <td>0</td>\n",
       "      <td>73</td>\n",
       "      <td>17.0</td>\n",
       "      <td>109000</td>\n",
       "      <td>73.0</td>\n",
       "      <td>...</td>\n",
       "      <td>1999</td>\n",
       "      <td>2</td>\n",
       "      <td>2029</td>\n",
       "      <td>1</td>\n",
       "      <td>0</td>\n",
       "      <td>0</td>\n",
       "      <td>12.000000</td>\n",
       "      <td>4</td>\n",
       "      <td>0</td>\n",
       "      <td>30</td>\n",
       "    </tr>\n",
       "    <tr>\n",
       "      <th>2</th>\n",
       "      <td>711.841009</td>\n",
       "      <td>0</td>\n",
       "      <td>29940</td>\n",
       "      <td>0</td>\n",
       "      <td>1</td>\n",
       "      <td>0</td>\n",
       "      <td>75</td>\n",
       "      <td>16.0</td>\n",
       "      <td>88000</td>\n",
       "      <td>75.0</td>\n",
       "      <td>...</td>\n",
       "      <td>1999</td>\n",
       "      <td>2</td>\n",
       "      <td>2029</td>\n",
       "      <td>1</td>\n",
       "      <td>0</td>\n",
       "      <td>0</td>\n",
       "      <td>5.583333</td>\n",
       "      <td>2</td>\n",
       "      <td>0</td>\n",
       "      <td>30</td>\n",
       "    </tr>\n",
       "    <tr>\n",
       "      <th>3</th>\n",
       "      <td>711.841009</td>\n",
       "      <td>0</td>\n",
       "      <td>31084</td>\n",
       "      <td>0</td>\n",
       "      <td>1</td>\n",
       "      <td>0</td>\n",
       "      <td>76</td>\n",
       "      <td>14.0</td>\n",
       "      <td>160000</td>\n",
       "      <td>76.0</td>\n",
       "      <td>...</td>\n",
       "      <td>1999</td>\n",
       "      <td>2</td>\n",
       "      <td>2029</td>\n",
       "      <td>1</td>\n",
       "      <td>0</td>\n",
       "      <td>0</td>\n",
       "      <td>2.916667</td>\n",
       "      <td>1</td>\n",
       "      <td>0</td>\n",
       "      <td>30</td>\n",
       "    </tr>\n",
       "    <tr>\n",
       "      <th>4</th>\n",
       "      <td>711.841009</td>\n",
       "      <td>0</td>\n",
       "      <td>35644</td>\n",
       "      <td>0</td>\n",
       "      <td>1</td>\n",
       "      <td>0</td>\n",
       "      <td>78</td>\n",
       "      <td>18.0</td>\n",
       "      <td>109000</td>\n",
       "      <td>78.0</td>\n",
       "      <td>...</td>\n",
       "      <td>1999</td>\n",
       "      <td>2</td>\n",
       "      <td>2029</td>\n",
       "      <td>1</td>\n",
       "      <td>0</td>\n",
       "      <td>0</td>\n",
       "      <td>4.500000</td>\n",
       "      <td>2</td>\n",
       "      <td>0</td>\n",
       "      <td>30</td>\n",
       "    </tr>\n",
       "  </tbody>\n",
       "</table>\n",
       "<p>5 rows × 32 columns</p>\n",
       "</div>"
      ],
      "text/plain": [
       "   CreditScore  FirstTimeHomebuyer    MSA  MIP  Units  Occupancy  OCLTV   DTI  \\\n",
       "0   711.841009                   0  16974   25      1          0     89  27.0   \n",
       "1   711.841009                   0  19740    0      1          0     73  17.0   \n",
       "2   711.841009                   0  29940    0      1          0     75  16.0   \n",
       "3   711.841009                   0  31084    0      1          0     76  14.0   \n",
       "4   711.841009                   0  35644    0      1          0     78  18.0   \n",
       "\n",
       "   OrigUPB   LTV  ...  FirstPayment_Year  FirstPayment_Month  Maturity_Year  \\\n",
       "0   117000  89.0  ...               1999                   2           2029   \n",
       "1   109000  73.0  ...               1999                   2           2029   \n",
       "2    88000  75.0  ...               1999                   2           2029   \n",
       "3   160000  76.0  ...               1999                   2           2029   \n",
       "4   109000  78.0  ...               1999                   2           2029   \n",
       "\n",
       "   Maturity_Month  LTV_range  Credit_range  YearsInRepayment  Repay_range  \\\n",
       "0               1          0             0          4.333333            2   \n",
       "1               1          0             0         12.000000            4   \n",
       "2               1          0             0          5.583333            2   \n",
       "3               1          0             0          2.916667            1   \n",
       "4               1          0             0          4.500000            2   \n",
       "\n",
       "   IsFirstTimeHomebuyer  Duration  \n",
       "0                     0        30  \n",
       "1                     0        30  \n",
       "2                     0        30  \n",
       "3                     0        30  \n",
       "4                     0        30  \n",
       "\n",
       "[5 rows x 32 columns]"
      ]
     },
     "execution_count": 9,
     "metadata": {},
     "output_type": "execute_result"
    }
   ],
   "source": [
    "df.head()"
   ]
  },
  {
   "cell_type": "code",
   "execution_count": 10,
   "metadata": {},
   "outputs": [
    {
     "data": {
      "text/html": [
       "<div>\n",
       "<style scoped>\n",
       "    .dataframe tbody tr th:only-of-type {\n",
       "        vertical-align: middle;\n",
       "    }\n",
       "\n",
       "    .dataframe tbody tr th {\n",
       "        vertical-align: top;\n",
       "    }\n",
       "\n",
       "    .dataframe thead th {\n",
       "        text-align: right;\n",
       "    }\n",
       "</style>\n",
       "<table border=\"1\" class=\"dataframe\">\n",
       "  <thead>\n",
       "    <tr style=\"text-align: right;\">\n",
       "      <th></th>\n",
       "      <th>FirstPaymentDate</th>\n",
       "      <th>FirstTimeHomebuyer</th>\n",
       "      <th>MaturityDate</th>\n",
       "      <th>MSA</th>\n",
       "      <th>MIP</th>\n",
       "      <th>Units</th>\n",
       "      <th>Occupancy</th>\n",
       "      <th>OCLTV</th>\n",
       "      <th>DTI</th>\n",
       "      <th>OrigUPB</th>\n",
       "      <th>...</th>\n",
       "      <th>PostalCode</th>\n",
       "      <th>LoanSeqNum</th>\n",
       "      <th>LoanPurpose</th>\n",
       "      <th>OrigLoanTerm</th>\n",
       "      <th>NumBorrowers</th>\n",
       "      <th>SellerName</th>\n",
       "      <th>ServicerName</th>\n",
       "      <th>EverDelinquent</th>\n",
       "      <th>MonthsDelinquent</th>\n",
       "      <th>MonthsInRepayment</th>\n",
       "    </tr>\n",
       "    <tr>\n",
       "      <th>CreditScore</th>\n",
       "      <th></th>\n",
       "      <th></th>\n",
       "      <th></th>\n",
       "      <th></th>\n",
       "      <th></th>\n",
       "      <th></th>\n",
       "      <th></th>\n",
       "      <th></th>\n",
       "      <th></th>\n",
       "      <th></th>\n",
       "      <th></th>\n",
       "      <th></th>\n",
       "      <th></th>\n",
       "      <th></th>\n",
       "      <th></th>\n",
       "      <th></th>\n",
       "      <th></th>\n",
       "      <th></th>\n",
       "      <th></th>\n",
       "      <th></th>\n",
       "      <th></th>\n",
       "    </tr>\n",
       "  </thead>\n",
       "  <tbody>\n",
       "    <tr>\n",
       "      <th>0</th>\n",
       "      <td>199902</td>\n",
       "      <td>N</td>\n",
       "      <td>202901</td>\n",
       "      <td>16974</td>\n",
       "      <td>25</td>\n",
       "      <td>1</td>\n",
       "      <td>O</td>\n",
       "      <td>89</td>\n",
       "      <td>27</td>\n",
       "      <td>117000</td>\n",
       "      <td>...</td>\n",
       "      <td>60400</td>\n",
       "      <td>F199Q1268030</td>\n",
       "      <td>P</td>\n",
       "      <td>360</td>\n",
       "      <td>2</td>\n",
       "      <td>FL</td>\n",
       "      <td>WASHINGTONMUTUALBANK</td>\n",
       "      <td>0</td>\n",
       "      <td>0</td>\n",
       "      <td>52</td>\n",
       "    </tr>\n",
       "    <tr>\n",
       "      <th>0</th>\n",
       "      <td>199902</td>\n",
       "      <td>N</td>\n",
       "      <td>202901</td>\n",
       "      <td>19740</td>\n",
       "      <td>0</td>\n",
       "      <td>1</td>\n",
       "      <td>O</td>\n",
       "      <td>73</td>\n",
       "      <td>17</td>\n",
       "      <td>109000</td>\n",
       "      <td>...</td>\n",
       "      <td>80200</td>\n",
       "      <td>F199Q1015092</td>\n",
       "      <td>N</td>\n",
       "      <td>360</td>\n",
       "      <td>1</td>\n",
       "      <td>FT</td>\n",
       "      <td>CHASEHOMEFINANCELLC</td>\n",
       "      <td>0</td>\n",
       "      <td>0</td>\n",
       "      <td>144</td>\n",
       "    </tr>\n",
       "    <tr>\n",
       "      <th>0</th>\n",
       "      <td>199902</td>\n",
       "      <td>N</td>\n",
       "      <td>202901</td>\n",
       "      <td>29940</td>\n",
       "      <td>0</td>\n",
       "      <td>1</td>\n",
       "      <td>O</td>\n",
       "      <td>75</td>\n",
       "      <td>16</td>\n",
       "      <td>88000</td>\n",
       "      <td>...</td>\n",
       "      <td>66000</td>\n",
       "      <td>F199Q1266886</td>\n",
       "      <td>N</td>\n",
       "      <td>360</td>\n",
       "      <td>2</td>\n",
       "      <td>FL</td>\n",
       "      <td>WASHINGTONMUTUALBANK</td>\n",
       "      <td>0</td>\n",
       "      <td>0</td>\n",
       "      <td>67</td>\n",
       "    </tr>\n",
       "    <tr>\n",
       "      <th>0</th>\n",
       "      <td>199902</td>\n",
       "      <td>N</td>\n",
       "      <td>202901</td>\n",
       "      <td>31084</td>\n",
       "      <td>0</td>\n",
       "      <td>1</td>\n",
       "      <td>O</td>\n",
       "      <td>76</td>\n",
       "      <td>14</td>\n",
       "      <td>160000</td>\n",
       "      <td>...</td>\n",
       "      <td>90700</td>\n",
       "      <td>F199Q1178167</td>\n",
       "      <td>N</td>\n",
       "      <td>360</td>\n",
       "      <td>2</td>\n",
       "      <td>GM</td>\n",
       "      <td>GMACMTGECORP</td>\n",
       "      <td>0</td>\n",
       "      <td>0</td>\n",
       "      <td>35</td>\n",
       "    </tr>\n",
       "    <tr>\n",
       "      <th>0</th>\n",
       "      <td>199902</td>\n",
       "      <td>N</td>\n",
       "      <td>202901</td>\n",
       "      <td>35644</td>\n",
       "      <td>0</td>\n",
       "      <td>1</td>\n",
       "      <td>O</td>\n",
       "      <td>78</td>\n",
       "      <td>18</td>\n",
       "      <td>109000</td>\n",
       "      <td>...</td>\n",
       "      <td>7600</td>\n",
       "      <td>F199Q1178517</td>\n",
       "      <td>N</td>\n",
       "      <td>360</td>\n",
       "      <td>2</td>\n",
       "      <td>GM</td>\n",
       "      <td>GMACMTGECORP</td>\n",
       "      <td>0</td>\n",
       "      <td>0</td>\n",
       "      <td>54</td>\n",
       "    </tr>\n",
       "  </tbody>\n",
       "</table>\n",
       "<p>5 rows × 27 columns</p>\n",
       "</div>"
      ],
      "text/plain": [
       "             FirstPaymentDate FirstTimeHomebuyer  MaturityDate    MSA  MIP  \\\n",
       "CreditScore                                                                  \n",
       "0                      199902                  N        202901  16974   25   \n",
       "0                      199902                  N        202901  19740    0   \n",
       "0                      199902                  N        202901  29940    0   \n",
       "0                      199902                  N        202901  31084    0   \n",
       "0                      199902                  N        202901  35644    0   \n",
       "\n",
       "             Units Occupancy  OCLTV  DTI  OrigUPB  ...  PostalCode  \\\n",
       "CreditScore                                        ...               \n",
       "0                1         O     89   27   117000  ...       60400   \n",
       "0                1         O     73   17   109000  ...       80200   \n",
       "0                1         O     75   16    88000  ...       66000   \n",
       "0                1         O     76   14   160000  ...       90700   \n",
       "0                1         O     78   18   109000  ...        7600   \n",
       "\n",
       "               LoanSeqNum LoanPurpose OrigLoanTerm NumBorrowers SellerName  \\\n",
       "CreditScore                                                                  \n",
       "0            F199Q1268030           P          360            2         FL   \n",
       "0            F199Q1015092           N          360            1         FT   \n",
       "0            F199Q1266886           N          360            2         FL   \n",
       "0            F199Q1178167           N          360            2         GM   \n",
       "0            F199Q1178517           N          360            2         GM   \n",
       "\n",
       "                     ServicerName EverDelinquent MonthsDelinquent  \\\n",
       "CreditScore                                                         \n",
       "0            WASHINGTONMUTUALBANK              0                0   \n",
       "0            CHASEHOMEFINANCELLC               0                0   \n",
       "0            WASHINGTONMUTUALBANK              0                0   \n",
       "0            GMACMTGECORP                      0                0   \n",
       "0            GMACMTGECORP                      0                0   \n",
       "\n",
       "            MonthsInRepayment  \n",
       "CreditScore                    \n",
       "0                          52  \n",
       "0                         144  \n",
       "0                          67  \n",
       "0                          35  \n",
       "0                          54  \n",
       "\n",
       "[5 rows x 27 columns]"
      ]
     },
     "execution_count": 10,
     "metadata": {},
     "output_type": "execute_result"
    }
   ],
   "source": [
    "raw_df.head()"
   ]
  },
  {
   "cell_type": "code",
   "execution_count": 11,
   "metadata": {},
   "outputs": [
    {
     "name": "stdout",
     "output_type": "stream",
     "text": [
      "<class 'pandas.core.frame.DataFrame'>\n",
      "Int64Index: 291449 entries, 0 to 291450\n",
      "Data columns (total 32 columns):\n",
      " #   Column                Non-Null Count   Dtype  \n",
      "---  ------                --------------   -----  \n",
      " 0   CreditScore           291449 non-null  float64\n",
      " 1   FirstTimeHomebuyer    291449 non-null  int64  \n",
      " 2   MSA                   291449 non-null  int64  \n",
      " 3   MIP                   291449 non-null  int64  \n",
      " 4   Units                 291449 non-null  int64  \n",
      " 5   Occupancy             291449 non-null  int64  \n",
      " 6   OCLTV                 291449 non-null  int64  \n",
      " 7   DTI                   291449 non-null  float64\n",
      " 8   OrigUPB               291449 non-null  int64  \n",
      " 9   LTV                   291449 non-null  float64\n",
      " 10  OrigInterestRate      291449 non-null  float64\n",
      " 11  Channel               291449 non-null  int64  \n",
      " 12  PPM                   291449 non-null  int64  \n",
      " 13  PropertyState         291449 non-null  int64  \n",
      " 14  PropertyType          291449 non-null  int64  \n",
      " 15  LoanPurpose           291449 non-null  int64  \n",
      " 16  OrigLoanTerm          291449 non-null  int64  \n",
      " 17  NumBorrowers          291449 non-null  int64  \n",
      " 18  SellerName            291449 non-null  int64  \n",
      " 19  ServicerName          291449 non-null  int64  \n",
      " 20  MonthsDelinquent      291449 non-null  int64  \n",
      " 21  MonthsInRepayment     291449 non-null  int64  \n",
      " 22  FirstPayment_Year     291449 non-null  int64  \n",
      " 23  FirstPayment_Month    291449 non-null  int64  \n",
      " 24  Maturity_Year         291449 non-null  int64  \n",
      " 25  Maturity_Month        291449 non-null  int64  \n",
      " 26  LTV_range             291449 non-null  int64  \n",
      " 27  Credit_range          291449 non-null  int64  \n",
      " 28  YearsInRepayment      291449 non-null  float64\n",
      " 29  Repay_range           291449 non-null  int64  \n",
      " 30  IsFirstTimeHomebuyer  291449 non-null  int64  \n",
      " 31  Duration              291449 non-null  int64  \n",
      "dtypes: float64(5), int64(27)\n",
      "memory usage: 73.4 MB\n"
     ]
    }
   ],
   "source": [
    "df.info()"
   ]
  },
  {
   "cell_type": "markdown",
   "metadata": {},
   "source": [
    "# Creating target Variable"
   ]
  },
  {
   "cell_type": "markdown",
   "metadata": {},
   "source": [
    "### Equated Monthly Installment - EMI\n",
    "\n",
    "EMI for short - is the amount payable every month to the bank or any other financial institution until the loan amount is fully paid off. It consists of the interest on loan as well as part of the principal amount to be repaid.\n",
    "\n",
    "\n",
    "\n",
    "**Here the EMI formula:** \n",
    "<center>\n",
    "  <img src=\"https://github-production-user-asset-6210df.s3.amazonaws.com/89405673/263004315-582c9aab-6129-4372-8939-edc73b75119b.jpeg\" width=\"300\" height=\"120\"/>\n",
    "</center>\n",
    "\n",
    "\n",
    "Where:  \n",
    "P: Principal loan amount (= OrigUPB)  \n",
    "n: Loan tenure in months (= OrigLoanTerm)  \n",
    "r: Interest rate per month (= OrigInterestRate)  \n",
    "DEBT: EMI (so income = EMI / DTI)  "
   ]
  },
  {
   "cell_type": "code",
   "execution_count": 12,
   "metadata": {},
   "outputs": [
    {
     "name": "stdout",
     "output_type": "stream",
     "text": [
      "0     789750.0\n",
      "1     708500.0\n",
      "2     605000.0\n",
      "3    1100000.0\n",
      "4     776625.0\n",
      "Name: EMI, dtype: float64\n"
     ]
    }
   ],
   "source": [
    "# Let's use X**(-n) instead of X**(n) because n values are really big for X**(n) operations\n",
    "def calculate_EMI(P, r, n):\n",
    "    return P * r * (1 / (1 - (1 + r) ** (-n)))\n",
    "\n",
    "df['EMI'] = np.vectorize(calculate_EMI)(df[\"OrigUPB\"], df[\"OrigInterestRate\"] , df[\"OrigLoanTerm\"])\n",
    "\n",
    "# first 5 rows of EMI column\n",
    "print(df[\"EMI\"].head())"
   ]
  },
  {
   "cell_type": "markdown",
   "metadata": {},
   "source": [
    "### Total Payment and Interest Amount\n",
    "We can calculate total payment by multiplying the EMI with the loan tenure and interest amount by simply subtracting total payment and principal amount.\n"
   ]
  },
  {
   "cell_type": "code",
   "execution_count": 13,
   "metadata": {},
   "outputs": [
    {
     "name": "stdout",
     "output_type": "stream",
     "text": [
      "         EMI  OrigLoanTerm  OrigUPB  interestAmount  monthlyInterest\n",
      "0   789750.0           360   117000     284193000.0     7.894250e+05\n",
      "1   708500.0           360   109000     254951000.0     7.081972e+05\n",
      "2   605000.0           360    88000     217712000.0     6.047556e+05\n",
      "3  1100000.0           360   160000     395840000.0     1.099556e+06\n",
      "4   776625.0           360   109000     279476000.0     7.763222e+05\n"
     ]
    }
   ],
   "source": [
    "df[\"totalPayment\"]    = df[\"EMI\"] * df[\"OrigLoanTerm\"]\n",
    "df[\"interestAmount\"]  = df[\"totalPayment\"] - df[\"OrigUPB\"]\n",
    "df[\"monthlyInterest\"] = df[\"interestAmount\"] / df[\"OrigLoanTerm\"]\n",
    "\n",
    "\n",
    "print(df[[\"EMI\", \"OrigLoanTerm\", \"OrigUPB\", \"interestAmount\", \"monthlyInterest\"]].head())"
   ]
  },
  {
   "cell_type": "markdown",
   "metadata": {},
   "source": [
    "### Current principal\n",
    "The principal amount remaining depends on the months in repayment, the more months you have paid the less will be the left over principal. We can find out the current principal for each person with the help of monthly interest rate, actual principal, EMI they pay per month and months in repayment."
   ]
  },
  {
   "cell_type": "code",
   "execution_count": 14,
   "metadata": {},
   "outputs": [
    {
     "name": "stdout",
     "output_type": "stream",
     "text": [
      "0    117000.0\n",
      "1    109000.0\n",
      "2     88000.0\n",
      "3    160000.0\n",
      "4    109000.0\n",
      "Name: currentPrincipal, dtype: float64\n"
     ]
    }
   ],
   "source": [
    "def principal(r, amount, emi, month):\n",
    "    for i in range(month):\n",
    "        interest = r * amount\n",
    "        p = emi - interest\n",
    "        amount -= p\n",
    "    return amount\n",
    "\n",
    "df[\"currentPrincipal\"] = np.vectorize(principal)(df[\"OrigInterestRate\"], df[\"OrigUPB\"], df[\"EMI\"], df[\"MonthsInRepayment\"])\n",
    "print(df[\"currentPrincipal\"].head())"
   ]
  },
  {
   "cell_type": "markdown",
   "metadata": {},
   "source": [
    "# Monthly Income\n",
    "We are give DTI which is the ratio of debt to income, and because we know the monthly debt i.e. the monthly EMI we can calculate the monthly income by swapping it with DTI ."
   ]
  },
  {
   "cell_type": "code",
   "execution_count": 15,
   "metadata": {},
   "outputs": [
    {
     "name": "stdout",
     "output_type": "stream",
     "text": [
      "0    29250.000000\n",
      "1    41676.470588\n",
      "2    37812.500000\n",
      "3    78571.428571\n",
      "4    43145.833333\n",
      "Name: monthlyIncome, dtype: float64\n"
     ]
    }
   ],
   "source": [
    "def compute_monthly_income(dti, emi):\n",
    "    if dti == 0:\n",
    "        return 0.01\n",
    "    return  emi / dti\n",
    "\n",
    "df[\"monthlyIncome\"] = np.vectorize(compute_monthly_income)(df[\"DTI\"], df[\"EMI\"])\n",
    "print(df[\"monthlyIncome\"].head())"
   ]
  },
  {
   "cell_type": "markdown",
   "metadata": {},
   "source": [
    "### prePayment\n",
    "\n",
    "For having a simple model, we are assuming that a person is going to save up money based on their DTI for 2 years and pre-pay the residual amount after subtracting it with the EMI of those 2 years. We have also assumed that a person with DTI less than 40 is going to save up 50% of his income while a person with DTI more than 40% is going to save up 75% of his income and these savings are inclusive of EMI, so for example if a person has DTI of 25% and he is going to pre-pay 50-25=25% of his income."
   ]
  },
  {
   "cell_type": "code",
   "execution_count": 16,
   "metadata": {},
   "outputs": [
    {
     "name": "stdout",
     "output_type": "stream",
     "text": [
      "max : 22680000.0\n",
      "min : 21710.526315789473\n"
     ]
    }
   ],
   "source": [
    "def compute_pre_payment(dti, income):\n",
    "    if dti < 40:\n",
    "        return income/2\n",
    "    else:\n",
    "        return income * (3/4)\n",
    "\n",
    "df[\"prePayment\"] = np.vectorize(compute_pre_payment)(df[\"DTI\"], df[\"monthlyIncome\"] * 24)\n",
    "\n",
    "M = max(df[\"prePayment\"])\n",
    "m = min(df[\"prePayment\"])\n",
    "print(f\"max : {M}\")\n",
    "print(f\"min : {m}\")"
   ]
  },
  {
   "cell_type": "code",
   "execution_count": 17,
   "metadata": {},
   "outputs": [
    {
     "name": "stdout",
     "output_type": "stream",
     "text": [
      "max : 98.37500000000003\n",
      "min : 0.6443404837973886\n"
     ]
    }
   ],
   "source": [
    "df[\"SPP\"] = (df[\"EMI\"]-df[\"monthlyInterest\"]) * df[\"OrigLoanTerm\"]\n",
    "df[\"APP\"] = (df[\"EMI\"]-df[\"monthlyInterest\"]) * df[\"MonthsInRepayment\"] + df[\"prePayment\"]\n",
    "df[\"OPB\"] = df[\"currentPrincipal\"]\n",
    "\n",
    "df[\"PPR\"] = abs(df[\"SPP\"] - df[\"APP\"]) / df[\"OPB\"]\n",
    "\n",
    "features = [\"SPP\", \"APP\", \"OPB\", \"PRR\"]\n",
    "M = max(df[\"PPR\"])\n",
    "m = min(df[\"PPR\"])\n",
    "\n",
    "print(f\"max : {M}\")\n",
    "print(f\"min : {m}\")"
   ]
  },
  {
   "cell_type": "code",
   "execution_count": 18,
   "metadata": {},
   "outputs": [
    {
     "data": {
      "text/plain": [
       "\"plt.figure(figsize=(12, 4))\\n\\n# Kernel Density Plot - KDE\\nsns.kdeplot(data=df['PPR'], color='blue', fill=True)\\nplt.xlabel('PPR (Prepayment Risk Ratio)')\\nplt.ylabel('Density')\\nplt.title('Distribution of PPR KDEplot')\\nplt.show()\""
      ]
     },
     "execution_count": 18,
     "metadata": {},
     "output_type": "execute_result"
    }
   ],
   "source": [
    "\"\"\"plt.figure(figsize=(12, 4))\n",
    "\n",
    "# Kernel Density Plot - KDE\n",
    "sns.kdeplot(data=df['PPR'], color='blue', fill=True)\n",
    "plt.xlabel('PPR (Prepayment Risk Ratio)')\n",
    "plt.ylabel('Density')\n",
    "plt.title('Distribution of PPR KDEplot')\n",
    "plt.show()\"\"\""
   ]
  },
  {
   "cell_type": "markdown",
   "metadata": {},
   "source": [
    "# Preprocessing step"
   ]
  },
  {
   "cell_type": "code",
   "execution_count": 19,
   "metadata": {},
   "outputs": [],
   "source": [
    "data = df.copy()"
   ]
  },
  {
   "cell_type": "code",
   "execution_count": 20,
   "metadata": {},
   "outputs": [],
   "source": [
    "X = data[[  'FirstPayment_Month', 'IsFirstTimeHomebuyer', 'Maturity_Month', 'MIP', 'Occupancy',\n",
    "            'DTI', 'OrigUPB', 'OrigInterestRate', 'Channel', 'PPM',\n",
    "            'PropertyState', 'PropertyType', 'LoanPurpose',\n",
    "            'OrigLoanTerm', 'NumBorrowers', 'MonthsDelinquent',\n",
    "            'Credit_range', 'LTV_range', 'Repay_range'\n",
    "            ]]\n",
    "y = data[\"PPR\"]"
   ]
  },
  {
   "cell_type": "code",
   "execution_count": 21,
   "metadata": {},
   "outputs": [],
   "source": [
    "cat_cols = X.select_dtypes(\"object\").columns\n",
    "num_cols = X.select_dtypes(exclude=\"object\").columns\n",
    "target = 'PPR'\n",
    "\n",
    "\n",
    "# pipelines categorical variables\n",
    "categorical_pipeline = Pipeline(\n",
    "    steps=[\n",
    "        (\"impute\", SimpleImputer(strategy=\"constant\")),\n",
    "        (\"one_hot_encode\", OneHotEncoder(handle_unknown=\"ignore\")),\n",
    "    ]\n",
    ")\n",
    "\n",
    "# pipeline of num variables\n",
    "numeric_pipeline = Pipeline(\n",
    "    steps=[\n",
    "        (\"impute\", SimpleImputer(strategy=\"mean\"))\n",
    "    ]\n",
    ")\n",
    "\n",
    "# preprocessor\n",
    "preprocessor = ColumnTransformer(\n",
    "    transformers=[\n",
    "        (\"numeric\", numeric_pipeline, num_cols),\n",
    "        (\"categorical\", categorical_pipeline, cat_cols),\n",
    "    ]\n",
    ")"
   ]
  },
  {
   "cell_type": "code",
   "execution_count": 22,
   "metadata": {},
   "outputs": [
    {
     "data": {
      "text/plain": [
       "'from sklearn.feature_selection import SelectKBest, SelectPercentile, mutual_info_regression\\n\\ndef make_mi_score_and_plot(X, y):\\n    mi_scores = mutual_info_regression(X, y)\\n    mi_scores = pd.Series(mi_scores, name=\"MI Scores\", index=X.columns)\\n    mi_scores = mi_scores.sort_values(ascending=False)\\n\\n    # ploting the scores for each feature\\n\\n    plt.figure(dpi=100, figsize=(10, 6))\\n    mi_scores = mi_scores.sort_values(ascending=True)\\n    width = np.arange(len(mi_scores))\\n    ticks = list(mi_scores.index)\\n    plt.barh(width, mi_scores)\\n    plt.yticks(width, ticks)\\n    plt.title(\"Mutual Information Scores\")\\n    return mi_scores\\n\\n\\nmi_scores = make_mi_score_and_plot(X, y)'"
      ]
     },
     "execution_count": 22,
     "metadata": {},
     "output_type": "execute_result"
    }
   ],
   "source": [
    "\"\"\"from sklearn.feature_selection import SelectKBest, SelectPercentile, mutual_info_regression\n",
    "\n",
    "def make_mi_score_and_plot(X, y):\n",
    "    mi_scores = mutual_info_regression(X, y)\n",
    "    mi_scores = pd.Series(mi_scores, name=\"MI Scores\", index=X.columns)\n",
    "    mi_scores = mi_scores.sort_values(ascending=False)\n",
    "\n",
    "    # ploting the scores for each feature\n",
    "\n",
    "    plt.figure(dpi=100, figsize=(10, 6))\n",
    "    mi_scores = mi_scores.sort_values(ascending=True)\n",
    "    width = np.arange(len(mi_scores))\n",
    "    ticks = list(mi_scores.index)\n",
    "    plt.barh(width, mi_scores)\n",
    "    plt.yticks(width, ticks)\n",
    "    plt.title(\"Mutual Information Scores\")\n",
    "    return mi_scores\n",
    "\n",
    "\n",
    "mi_scores = make_mi_score_and_plot(X, y)\"\"\""
   ]
  },
  {
   "cell_type": "code",
   "execution_count": 23,
   "metadata": {},
   "outputs": [
    {
     "data": {
      "text/plain": [
       "'from sklearn.decomposition import PCA\\n\\n# new dimensionality\\nn_components = 15\\n\\n# Create principal components\\npca = PCA(n_components=n_components) # n_components = n_features by default\\nX_pca = pca.fit_transform(X)\\n\\n# Convert to dataframe\\npca_names = [f\"PC{i+1}\" for i in range(X_pca.shape[1])]\\nX_pca = pd.DataFrame(X_pca, columns=pca_names)\\n\\nX_pca_mi_score = make_mi_score_and_plot(X_pca, y)'"
      ]
     },
     "execution_count": 23,
     "metadata": {},
     "output_type": "execute_result"
    }
   ],
   "source": [
    "\"\"\"from sklearn.decomposition import PCA\n",
    "\n",
    "# new dimensionality\n",
    "n_components = 15\n",
    "\n",
    "# Create principal components\n",
    "pca = PCA(n_components=n_components) # n_components = n_features by default\n",
    "X_pca = pca.fit_transform(X)\n",
    "\n",
    "# Convert to dataframe\n",
    "pca_names = [f\"PC{i+1}\" for i in range(X_pca.shape[1])]\n",
    "X_pca = pd.DataFrame(X_pca, columns=pca_names)\n",
    "\n",
    "X_pca_mi_score = make_mi_score_and_plot(X_pca, y)\"\"\""
   ]
  },
  {
   "cell_type": "code",
   "execution_count": 24,
   "metadata": {},
   "outputs": [
    {
     "data": {
      "text/plain": [
       "'loadings = pd.DataFrame(\\n    pca.components_.T,\\n    columns=pca_names,\\n    index=X.columns,\\n)\\nloadings'"
      ]
     },
     "execution_count": 24,
     "metadata": {},
     "output_type": "execute_result"
    }
   ],
   "source": [
    "\"\"\"loadings = pd.DataFrame(\n",
    "    pca.components_.T,\n",
    "    columns=pca_names,\n",
    "    index=X.columns,\n",
    ")\n",
    "loadings\"\"\""
   ]
  },
  {
   "cell_type": "code",
   "execution_count": 25,
   "metadata": {},
   "outputs": [],
   "source": [
    "# splitting data\n",
    "X_train, X_test, y_train, y_test = train_test_split(X, y, test_size=0.2, random_state=42)"
   ]
  },
  {
   "cell_type": "code",
   "execution_count": 26,
   "metadata": {},
   "outputs": [],
   "source": [
    "DT_model = DecisionTreeRegressor(criterion='squared_error')\n",
    "DT_model.fit(X_train, y_train)\n",
    "DT_pred = DT_model.predict(X_test)\n",
    "\n",
    "DT_MSE = mean_squared_error(y_test, DT_pred)\n",
    "DT_R2 = r2_score(y_test, DT_pred)"
   ]
  },
  {
   "cell_type": "code",
   "execution_count": 27,
   "metadata": {},
   "outputs": [
    {
     "name": "stdout",
     "output_type": "stream",
     "text": [
      "MSE ------>: 0.0034534515813850713\n",
      "R2 score ------->: 0.9992920320122389\n"
     ]
    }
   ],
   "source": [
    "print(f\"MSE ------>: {DT_MSE}\")\n",
    "print(f\"R2 score ------->: {DT_R2}\")"
   ]
  },
  {
   "cell_type": "code",
   "execution_count": 28,
   "metadata": {},
   "outputs": [],
   "source": [
    "XGB_model = XGBRegressor( max_depth=7, n_estimators=300, random_state=40 )\n",
    "XGB_model.fit(X_train, y_train)\n",
    "XGB_pred = XGB_model.predict(X_test)\n",
    "\n",
    "XGB_MSE = mean_squared_error(y_test, XGB_pred)\n",
    "XGB_R2 = r2_score(y_test, XGB_pred)"
   ]
  },
  {
   "cell_type": "code",
   "execution_count": 29,
   "metadata": {},
   "outputs": [
    {
     "name": "stdout",
     "output_type": "stream",
     "text": [
      "MSE ------>: 0.0013700007955260998\n",
      "R2 score ------->: 0.9997191457058011\n"
     ]
    }
   ],
   "source": [
    "print(f\"MSE ------>: {XGB_MSE}\")\n",
    "print(f\"R2 score ------->: {XGB_R2}\")"
   ]
  },
  {
   "cell_type": "markdown",
   "metadata": {},
   "source": [
    "# Main Pipeline with XGBoost"
   ]
  },
  {
   "cell_type": "code",
   "execution_count": 30,
   "metadata": {},
   "outputs": [],
   "source": [
    "# now let's build our main pipeline with XGBoost\n",
    "pipeline = Pipeline(\n",
    "    steps=[\n",
    "        (\"preprocessor\", preprocessor),\n",
    "        (\"scaler\", StandardScaler()),\n",
    "        (\"pca\", PCA(n_components=15)),\n",
    "        (\"model\", XGBRegressor()),\n",
    "    ]\n",
    ")\n"
   ]
  },
  {
   "cell_type": "code",
   "execution_count": 31,
   "metadata": {},
   "outputs": [
    {
     "name": "stdout",
     "output_type": "stream",
     "text": [
      "Accuracy of the XGBoost model: 0.6410161885261072\n"
     ]
    }
   ],
   "source": [
    "pipeline.fit(X_train, y_train)\n",
    "accuracy = pipeline.score(X_test, y_test)\n",
    "\n",
    "print(\"Accuracy of the XGBoost model:\", accuracy)"
   ]
  },
  {
   "cell_type": "markdown",
   "metadata": {},
   "source": [
    "# Saving the model to deploy"
   ]
  },
  {
   "cell_type": "code",
   "execution_count": 32,
   "metadata": {},
   "outputs": [],
   "source": [
    "pickle.dump(pipeline, open(\"XGBreg_pipeline.pkl\", \"wb\"))"
   ]
  },
  {
   "cell_type": "code",
   "execution_count": null,
   "metadata": {},
   "outputs": [],
   "source": []
  }
 ],
 "metadata": {
  "kernelspec": {
   "display_name": "Python 3 (ipykernel)",
   "language": "python",
   "name": "python3"
  },
  "language_info": {
   "codemirror_mode": {
    "name": "ipython",
    "version": 3
   },
   "file_extension": ".py",
   "mimetype": "text/x-python",
   "name": "python",
   "nbconvert_exporter": "python",
   "pygments_lexer": "ipython3",
   "version": "3.9.12"
  }
 },
 "nbformat": 4,
 "nbformat_minor": 4
}
