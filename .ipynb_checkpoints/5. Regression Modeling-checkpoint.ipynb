{
 "cells": [
  {
   "cell_type": "markdown",
   "metadata": {},
   "source": [
    "# Target variable creation && Regression modelling"
   ]
  },
  {
   "cell_type": "markdown",
   "metadata": {},
   "source": [
    "## Libraries"
   ]
  },
  {
   "cell_type": "code",
   "execution_count": 1,
   "metadata": {},
   "outputs": [],
   "source": [
    "import pandas as pd\n",
    "from pandas.api.types import is_numeric_dtype\n",
    "import numpy as np\n",
    "\n",
    "# plotting \n",
    "import seaborn as sns\n",
    "import matplotlib.pyplot as plt\n",
    "import plotly.express as px\n",
    "import plotly.graph_objects as go\n",
    "from matplotlib.colors import ListedColormap\n",
    "\n",
    "# Preprocessing\n",
    "from sklearn import preprocessing\n",
    "from sklearn.preprocessing import StandardScaler\n",
    "from sklearn.model_selection import train_test_split, GridSearchCV\n",
    "\n",
    "# Feature selection\n",
    "from sklearn.feature_selection import chi2\n",
    "from scipy.stats import chi2_contingency\n",
    "from sklearn.feature_selection import SelectKBest\n",
    "from sklearn.feature_selection import mutual_info_classif\n",
    "import scipy.stats as stats\n",
    "\n",
    "# Models\n",
    "from sklearn.tree import DecisionTreeClassifier\n",
    "from xgboost import XGBClassifier\n",
    "\n",
    "\n",
    "from sklearn.tree import DecisionTreeRegressor\n",
    "from xgboost import XGBRegressor\n",
    "from sklearn.model_selection import train_test_split, GridSearchCV\n",
    "from sklearn.metrics import mean_absolute_error, mean_squared_error, r2_score\n",
    "\n",
    "# Scores\n",
    "from sklearn.metrics import classification_report,confusion_matrix\n",
    "from sklearn.metrics import make_scorer, accuracy_score, precision_score, recall_score, f1_score, fbeta_score\n",
    "\n",
    "# Settings & warning handling\n",
    "import warnings\n",
    "pd.options.display.max_columns\n",
    "warnings.filterwarnings(\"always\")\n",
    "warnings.filterwarnings(\"ignore\")"
   ]
  },
  {
   "cell_type": "markdown",
   "metadata": {},
   "source": [
    "### Loading Data"
   ]
  },
  {
   "cell_type": "markdown",
   "metadata": {},
   "source": [
    "### Data\n",
    " \n",
    "| Attributes | Representation|\n",
    "| -------- | ---------- |\n",
    "| CreditScore| Standardized credit score for loan origination|\n",
    "| FirstPaymentDate| Due date for first scheduled loan payment. | \n",
    "| FirstTimeHomebuyer| Indicator for first-time homebuyer qualification|\n",
    "| MaturityDate | The month and year that the final scheduled payment on the loan is due|\n",
    "| MSA | Mortgage Security Amount the determined by the appraiser|\n",
    "| MIP | percentage of loan paid monthly depends on down payment|\n",
    "| Units | Number of units in the mortgaged property at the time the loan was originated|\n",
    "| Occupancy | property occupancy status|\n",
    "| OCLTV | Ratio calculated by dividing outstanding loans by property value|\n",
    "| DTI | Ratio of total monthly debt by total monthly income to evaluate an applicant's ability to repay the loan|\n",
    "| OrigUPB |  The unpaid principal balance of the loan as it contributes to the current balance of the security|\n",
    "| LTV | amount the lender will pay|\n",
    "| OrigInterestRate| The interest rate of the loan as stated on the note the time the loan was originated|\n",
    "| Channel |  how the loan was delivered to the issuer|\n",
    "| PPM | Prepayment Penalty denotes whether the borrower is subject to a penalty for early payment of principal|\n",
    "| ProductType | classification of the loan as having either a fixed- or an adjustable-interest rate|\n",
    "| PropertyState | denotes the location of the property securing the loan|\n",
    "| PropertyType | type of property that secures the loan|\n",
    "| PostalCode | specific numbers, and sometimes letters, that help postal services deliver mail |\n",
    "| LoanSeqNum | The unique designation assigned to the loan by the issuer|\n",
    "| LoanPurpose | how loan amount can be used ~ Cash-out: no limitations on loan purpose ,No Cash-out: limited usage|\n",
    "| OrigLoanTerm | Original loan term: months for scheduled borrower payments at origination|\n",
    "| NumBorrowers | The number of borrowers who, at the time the loan was originated, are obligated to repay the loan|\n",
    "| SellerName | name of the entity that sold the loan to the issuer|\n",
    "| ServicerName | name of the entity that services the loan during the current reporting period|\n",
    "| EverDelinquent | borrower's history of being delinquent on their loan payments at any point|\n",
    "| MonthsDelinquent | number of months that a borrower has failed to make their scheduled loan payments on time|\n",
    "| MonthsInRepayment | number of months that a borrower has been making regular payments on a loan|"
   ]
  },
  {
   "cell_type": "code",
   "execution_count": 2,
   "metadata": {},
   "outputs": [],
   "source": [
    "df = pd.read_csv(\"LoanExport.csv\")"
   ]
  },
  {
   "cell_type": "markdown",
   "metadata": {},
   "source": [
    "# Creating target Variable"
   ]
  },
  {
   "cell_type": "markdown",
   "metadata": {},
   "source": [
    "### Equated Monthly Installment - EMI\n",
    "\n",
    "EMI for short - is the amount payable every month to the bank or any other financial institution until the loan amount is fully paid off. It consists of the interest on loan as well as part of the principal amount to be repaid.\n",
    "\n",
    "\n",
    "\n",
    "**Here the EMI formula:** \n",
    "<center>\n",
    "  <img src=\"https://github-production-user-asset-6210df.s3.amazonaws.com/89405673/263004315-582c9aab-6129-4372-8939-edc73b75119b.jpeg\" width=\"300\" height=\"120\"/>\n",
    "</center>\n",
    "\n",
    "\n",
    "**NOTE:** This following formula seems more simplier than the original\n",
    "<center>\n",
    "  <img src=\"https://github-production-user-asset-6210df.s3.amazonaws.com/89405673/263217837-4e98265a-0c65-4536-94b7-73c349da5f21.png\" width=\"400\" height=\"130\">\n",
    "</center>\n",
    "\n",
    "Where,\n",
    "P: Principal loan amount (= OrigUPB)\n",
    "\n",
    "n: Loan tenure in months (= OrigLoanTerm)\n",
    "\n",
    "r: Interest rate per month (= OrigInterestRate)\n",
    "\n",
    "DEBT: EMI (so income = EMI / DTI)"
   ]
  },
  {
   "cell_type": "code",
   "execution_count": 3,
   "metadata": {},
   "outputs": [
    {
     "name": "stdout",
     "output_type": "stream",
     "text": [
      "0     789750.0\n",
      "1     708500.0\n",
      "2     605000.0\n",
      "3    1100000.0\n",
      "4     776625.0\n",
      "Name: EMI, dtype: float64\n"
     ]
    }
   ],
   "source": [
    "# n are really big for X**(n) operation so it is better to go with X**(-n)\n",
    "def calculate_EMI(P, r, n):\n",
    "    return P * r * (1 / (1 - (1 + r) ** (-n)))\n",
    "\n",
    "df['EMI'] = np.vectorize(calculate_EMI)(df[\"OrigUPB\"], df[\"OrigInterestRate\"] , df[\"OrigLoanTerm\"])\n",
    "\n",
    "# first 5 rows of EMI column\n",
    "print(df[\"EMI\"].head())"
   ]
  },
  {
   "cell_type": "markdown",
   "metadata": {},
   "source": [
    "### Total Payment and Interest Amount\n",
    "We can calculate total payment by multiplying the EMI with the loan tenure and interest amount by simply subtracting total payment and principal amount.\n"
   ]
  },
  {
   "cell_type": "code",
   "execution_count": 5,
   "metadata": {},
   "outputs": [
    {
     "name": "stdout",
     "output_type": "stream",
     "text": [
      "         EMI  OrigLoanTerm  OrigUPB  interestAmount\n",
      "0   789750.0           360   117000     284193000.0\n",
      "1   708500.0           360   109000     254951000.0\n",
      "2   605000.0           360    88000     217712000.0\n",
      "3  1100000.0           360   160000     395840000.0\n",
      "4   776625.0           360   109000     279476000.0\n"
     ]
    }
   ],
   "source": [
    "df[\"totalPayment\"]    = df[\"EMI\"] * df[\"OrigLoanTerm\"]\n",
    "#df[\"monthlyInterest\"] = df[\"interestAmount\"] / df[\"OrigLoanTerm\"]\n",
    "df[\"interestAmount\"]  = df[\"totalPayment\"] - df[\"OrigUPB\"]\n",
    "\n",
    "\n",
    "features_list = [\"EMI\", \"OrigLoanTerm\", \"OrigUPB\", \"interestAmount\"]\n",
    "\n",
    "print(df[features_list].head())"
   ]
  },
  {
   "cell_type": "markdown",
   "metadata": {},
   "source": [
    "### Current principal\n",
    "The principal amount remaining depends on the months in repayment, the more months you have paid the less will be the left over principal. We can find out the current principal for each person with the help of monthly interest rate, actual principal, EMI they pay per month and months in repayment."
   ]
  },
  {
   "cell_type": "code",
   "execution_count": 6,
   "metadata": {},
   "outputs": [
    {
     "name": "stdout",
     "output_type": "stream",
     "text": [
      "0    117000.0\n",
      "1    109000.0\n",
      "2     88000.0\n",
      "3    160000.0\n",
      "4    109000.0\n",
      "Name: currentPrincipal, dtype: float64\n"
     ]
    }
   ],
   "source": [
    "def principal(r, amount, emi, month):\n",
    "    for i in range(month):\n",
    "        interest = r * amount\n",
    "        p = emi - interest\n",
    "        amount -= p\n",
    "    return amount\n",
    "\n",
    "df[\"currentPrincipal\"] = np.vectorize(principal)(df[\"OrigInterestRate\"], df[\"OrigUPB\"], df[\"EMI\"], df[\"MonthsInRepayment\"])\n",
    "\n",
    "print(df[\"currentPrincipal\"].head())"
   ]
  },
  {
   "cell_type": "markdown",
   "metadata": {},
   "source": [
    "# Monthly Income\n",
    "We are give DTI which is the ratio of debt to income, and because we know the monthly debt i.e. the monthly EMI we can calculate the monthly income by swapping it with DTI ."
   ]
  },
  {
   "cell_type": "code",
   "execution_count": 8,
   "metadata": {},
   "outputs": [
    {
     "name": "stdout",
     "output_type": "stream",
     "text": [
      "0    29250.000000\n",
      "1    41676.470588\n",
      "2    37812.500000\n",
      "3    78571.428571\n",
      "4    43145.833333\n",
      "Name: monthlyIncome, dtype: float64\n"
     ]
    }
   ],
   "source": [
    "def compute_monthly_income(dti, emi):\n",
    "    if dti == 0:\n",
    "        return 0.01\n",
    "    return  emi / dti\n",
    "\n",
    "df[\"monthlyIncome\"] = np.vectorize(compute_monthly_income)(df[\"DTI\"], df[\"EMI\"])\n",
    "\n",
    "print(df[\"monthlyIncome\"].head())"
   ]
  },
  {
   "cell_type": "markdown",
   "metadata": {},
   "source": [
    "### prePayment\n",
    "\n",
    "For having a simple model, we are assuming that a person is going to save up money based on their DTI for 2 years and pre-pay the residual amount after subtracting it with the EMI of those 2 years. We have also assumed that a person with DTI less than 40 is going to save up 50% of his income while a person with DTI more than 40% is going to save up 75% of his income and these savings are inclusive of EMI, so for example if a person has DTI of 25% and he is going to pre-pay 50-25=25% of his income."
   ]
  },
  {
   "cell_type": "code",
   "execution_count": 9,
   "metadata": {},
   "outputs": [
    {
     "name": "stdout",
     "output_type": "stream",
     "text": [
      "max : 22680000.0\n",
      "min : 0.12\n"
     ]
    }
   ],
   "source": [
    "def compute_pre_payment(dti, income):\n",
    "    if dti < 40:\n",
    "        return income/2\n",
    "    else:\n",
    "        return income * (3/4)\n",
    "\n",
    "df[\"prePayment\"] = np.vectorize(compute_pre_payment)(df[\"DTI\"], df[\"monthlyIncome\"] * 24)\n",
    "\n",
    "M = max(df[\"prePayment\"])\n",
    "m = min(df[\"prePayment\"])\n",
    "print(f\"max : {M}\")\n",
    "print(f\"min : {m}\")"
   ]
  },
  {
   "cell_type": "code",
   "execution_count": 11,
   "metadata": {},
   "outputs": [
    {
     "ename": "KeyError",
     "evalue": "'monthlyInterest'",
     "output_type": "error",
     "traceback": [
      "\u001b[1;31m---------------------------------------------------------------------------\u001b[0m",
      "\u001b[1;31mKeyError\u001b[0m                                  Traceback (most recent call last)",
      "\u001b[1;32m~\\anaconda3\\envs\\rstudio-\\lib\\site-packages\\pandas\\core\\indexes\\base.py\u001b[0m in \u001b[0;36mget_loc\u001b[1;34m(self, key, method, tolerance)\u001b[0m\n\u001b[0;32m   3360\u001b[0m             \u001b[1;32mtry\u001b[0m\u001b[1;33m:\u001b[0m\u001b[1;33m\u001b[0m\u001b[1;33m\u001b[0m\u001b[0m\n\u001b[1;32m-> 3361\u001b[1;33m                 \u001b[1;32mreturn\u001b[0m \u001b[0mself\u001b[0m\u001b[1;33m.\u001b[0m\u001b[0m_engine\u001b[0m\u001b[1;33m.\u001b[0m\u001b[0mget_loc\u001b[0m\u001b[1;33m(\u001b[0m\u001b[0mcasted_key\u001b[0m\u001b[1;33m)\u001b[0m\u001b[1;33m\u001b[0m\u001b[1;33m\u001b[0m\u001b[0m\n\u001b[0m\u001b[0;32m   3362\u001b[0m             \u001b[1;32mexcept\u001b[0m \u001b[0mKeyError\u001b[0m \u001b[1;32mas\u001b[0m \u001b[0merr\u001b[0m\u001b[1;33m:\u001b[0m\u001b[1;33m\u001b[0m\u001b[1;33m\u001b[0m\u001b[0m\n",
      "\u001b[1;32m~\\anaconda3\\envs\\rstudio-\\lib\\site-packages\\pandas\\_libs\\index.pyx\u001b[0m in \u001b[0;36mpandas._libs.index.IndexEngine.get_loc\u001b[1;34m()\u001b[0m\n",
      "\u001b[1;32m~\\anaconda3\\envs\\rstudio-\\lib\\site-packages\\pandas\\_libs\\index.pyx\u001b[0m in \u001b[0;36mpandas._libs.index.IndexEngine.get_loc\u001b[1;34m()\u001b[0m\n",
      "\u001b[1;32mpandas\\_libs\\hashtable_class_helper.pxi\u001b[0m in \u001b[0;36mpandas._libs.hashtable.PyObjectHashTable.get_item\u001b[1;34m()\u001b[0m\n",
      "\u001b[1;32mpandas\\_libs\\hashtable_class_helper.pxi\u001b[0m in \u001b[0;36mpandas._libs.hashtable.PyObjectHashTable.get_item\u001b[1;34m()\u001b[0m\n",
      "\u001b[1;31mKeyError\u001b[0m: 'monthlyInterest'",
      "\nThe above exception was the direct cause of the following exception:\n",
      "\u001b[1;31mKeyError\u001b[0m                                  Traceback (most recent call last)",
      "\u001b[1;32m~\\AppData\\Local\\Temp\\ipykernel_5776\\1743646380.py\u001b[0m in \u001b[0;36m<module>\u001b[1;34m\u001b[0m\n\u001b[1;32m----> 1\u001b[1;33m \u001b[0mdf\u001b[0m\u001b[1;33m[\u001b[0m\u001b[1;34m\"SPP\"\u001b[0m\u001b[1;33m]\u001b[0m \u001b[1;33m=\u001b[0m \u001b[1;33m(\u001b[0m\u001b[0mdf\u001b[0m\u001b[1;33m[\u001b[0m\u001b[1;34m\"EMI\"\u001b[0m\u001b[1;33m]\u001b[0m\u001b[1;33m-\u001b[0m\u001b[0mdf\u001b[0m\u001b[1;33m[\u001b[0m\u001b[1;34m\"monthlyInterest\"\u001b[0m\u001b[1;33m]\u001b[0m\u001b[1;33m)\u001b[0m \u001b[1;33m*\u001b[0m \u001b[0mdf\u001b[0m\u001b[1;33m[\u001b[0m\u001b[1;34m\"OrigLoanTerm\"\u001b[0m\u001b[1;33m]\u001b[0m\u001b[1;33m\u001b[0m\u001b[1;33m\u001b[0m\u001b[0m\n\u001b[0m\u001b[0;32m      2\u001b[0m \u001b[0mdf\u001b[0m\u001b[1;33m[\u001b[0m\u001b[1;34m\"APP\"\u001b[0m\u001b[1;33m]\u001b[0m \u001b[1;33m=\u001b[0m \u001b[1;33m(\u001b[0m\u001b[0mdf\u001b[0m\u001b[1;33m[\u001b[0m\u001b[1;34m\"EMI\"\u001b[0m\u001b[1;33m]\u001b[0m\u001b[1;33m-\u001b[0m\u001b[0mdf\u001b[0m\u001b[1;33m[\u001b[0m\u001b[1;34m\"monthlyInterest\"\u001b[0m\u001b[1;33m]\u001b[0m\u001b[1;33m)\u001b[0m \u001b[1;33m*\u001b[0m \u001b[0mdf\u001b[0m\u001b[1;33m[\u001b[0m\u001b[1;34m\"MonthsInRepayment\"\u001b[0m\u001b[1;33m]\u001b[0m \u001b[1;33m+\u001b[0m \u001b[0mdf\u001b[0m\u001b[1;33m[\u001b[0m\u001b[1;34m\"prePayment\"\u001b[0m\u001b[1;33m]\u001b[0m\u001b[1;33m\u001b[0m\u001b[1;33m\u001b[0m\u001b[0m\n\u001b[0;32m      3\u001b[0m \u001b[0mdf\u001b[0m\u001b[1;33m[\u001b[0m\u001b[1;34m\"OPB\"\u001b[0m\u001b[1;33m]\u001b[0m \u001b[1;33m=\u001b[0m \u001b[0mdt\u001b[0m\u001b[1;33m[\u001b[0m\u001b[1;34m\"currentPrincipal\"\u001b[0m\u001b[1;33m]\u001b[0m\u001b[1;33m\u001b[0m\u001b[1;33m\u001b[0m\u001b[0m\n\u001b[0;32m      4\u001b[0m \u001b[0mdf\u001b[0m\u001b[1;33m[\u001b[0m\u001b[1;34m\"PPR\"\u001b[0m\u001b[1;33m]\u001b[0m \u001b[1;33m=\u001b[0m \u001b[0mabs\u001b[0m\u001b[1;33m(\u001b[0m\u001b[0mdf\u001b[0m\u001b[1;33m[\u001b[0m\u001b[1;34m\"SPP\"\u001b[0m\u001b[1;33m]\u001b[0m \u001b[1;33m-\u001b[0m \u001b[0mdf\u001b[0m\u001b[1;33m[\u001b[0m\u001b[1;34m\"APP\"\u001b[0m\u001b[1;33m]\u001b[0m\u001b[1;33m)\u001b[0m \u001b[1;33m/\u001b[0m \u001b[0mdf\u001b[0m\u001b[1;33m[\u001b[0m\u001b[1;34m\"OPB\"\u001b[0m\u001b[1;33m]\u001b[0m\u001b[1;33m\u001b[0m\u001b[1;33m\u001b[0m\u001b[0m\n\u001b[0;32m      5\u001b[0m \u001b[1;33m\u001b[0m\u001b[0m\n",
      "\u001b[1;32m~\\anaconda3\\envs\\rstudio-\\lib\\site-packages\\pandas\\core\\frame.py\u001b[0m in \u001b[0;36m__getitem__\u001b[1;34m(self, key)\u001b[0m\n\u001b[0;32m   3456\u001b[0m             \u001b[1;32mif\u001b[0m \u001b[0mself\u001b[0m\u001b[1;33m.\u001b[0m\u001b[0mcolumns\u001b[0m\u001b[1;33m.\u001b[0m\u001b[0mnlevels\u001b[0m \u001b[1;33m>\u001b[0m \u001b[1;36m1\u001b[0m\u001b[1;33m:\u001b[0m\u001b[1;33m\u001b[0m\u001b[1;33m\u001b[0m\u001b[0m\n\u001b[0;32m   3457\u001b[0m                 \u001b[1;32mreturn\u001b[0m \u001b[0mself\u001b[0m\u001b[1;33m.\u001b[0m\u001b[0m_getitem_multilevel\u001b[0m\u001b[1;33m(\u001b[0m\u001b[0mkey\u001b[0m\u001b[1;33m)\u001b[0m\u001b[1;33m\u001b[0m\u001b[1;33m\u001b[0m\u001b[0m\n\u001b[1;32m-> 3458\u001b[1;33m             \u001b[0mindexer\u001b[0m \u001b[1;33m=\u001b[0m \u001b[0mself\u001b[0m\u001b[1;33m.\u001b[0m\u001b[0mcolumns\u001b[0m\u001b[1;33m.\u001b[0m\u001b[0mget_loc\u001b[0m\u001b[1;33m(\u001b[0m\u001b[0mkey\u001b[0m\u001b[1;33m)\u001b[0m\u001b[1;33m\u001b[0m\u001b[1;33m\u001b[0m\u001b[0m\n\u001b[0m\u001b[0;32m   3459\u001b[0m             \u001b[1;32mif\u001b[0m \u001b[0mis_integer\u001b[0m\u001b[1;33m(\u001b[0m\u001b[0mindexer\u001b[0m\u001b[1;33m)\u001b[0m\u001b[1;33m:\u001b[0m\u001b[1;33m\u001b[0m\u001b[1;33m\u001b[0m\u001b[0m\n\u001b[0;32m   3460\u001b[0m                 \u001b[0mindexer\u001b[0m \u001b[1;33m=\u001b[0m \u001b[1;33m[\u001b[0m\u001b[0mindexer\u001b[0m\u001b[1;33m]\u001b[0m\u001b[1;33m\u001b[0m\u001b[1;33m\u001b[0m\u001b[0m\n",
      "\u001b[1;32m~\\anaconda3\\envs\\rstudio-\\lib\\site-packages\\pandas\\core\\indexes\\base.py\u001b[0m in \u001b[0;36mget_loc\u001b[1;34m(self, key, method, tolerance)\u001b[0m\n\u001b[0;32m   3361\u001b[0m                 \u001b[1;32mreturn\u001b[0m \u001b[0mself\u001b[0m\u001b[1;33m.\u001b[0m\u001b[0m_engine\u001b[0m\u001b[1;33m.\u001b[0m\u001b[0mget_loc\u001b[0m\u001b[1;33m(\u001b[0m\u001b[0mcasted_key\u001b[0m\u001b[1;33m)\u001b[0m\u001b[1;33m\u001b[0m\u001b[1;33m\u001b[0m\u001b[0m\n\u001b[0;32m   3362\u001b[0m             \u001b[1;32mexcept\u001b[0m \u001b[0mKeyError\u001b[0m \u001b[1;32mas\u001b[0m \u001b[0merr\u001b[0m\u001b[1;33m:\u001b[0m\u001b[1;33m\u001b[0m\u001b[1;33m\u001b[0m\u001b[0m\n\u001b[1;32m-> 3363\u001b[1;33m                 \u001b[1;32mraise\u001b[0m \u001b[0mKeyError\u001b[0m\u001b[1;33m(\u001b[0m\u001b[0mkey\u001b[0m\u001b[1;33m)\u001b[0m \u001b[1;32mfrom\u001b[0m \u001b[0merr\u001b[0m\u001b[1;33m\u001b[0m\u001b[1;33m\u001b[0m\u001b[0m\n\u001b[0m\u001b[0;32m   3364\u001b[0m \u001b[1;33m\u001b[0m\u001b[0m\n\u001b[0;32m   3365\u001b[0m         \u001b[1;32mif\u001b[0m \u001b[0mis_scalar\u001b[0m\u001b[1;33m(\u001b[0m\u001b[0mkey\u001b[0m\u001b[1;33m)\u001b[0m \u001b[1;32mand\u001b[0m \u001b[0misna\u001b[0m\u001b[1;33m(\u001b[0m\u001b[0mkey\u001b[0m\u001b[1;33m)\u001b[0m \u001b[1;32mand\u001b[0m \u001b[1;32mnot\u001b[0m \u001b[0mself\u001b[0m\u001b[1;33m.\u001b[0m\u001b[0mhasnans\u001b[0m\u001b[1;33m:\u001b[0m\u001b[1;33m\u001b[0m\u001b[1;33m\u001b[0m\u001b[0m\n",
      "\u001b[1;31mKeyError\u001b[0m: 'monthlyInterest'"
     ]
    }
   ],
   "source": [
    "df[\"SPP\"] = (df[\"EMI\"]-df[\"monthlyInterest\"]) * df[\"OrigLoanTerm\"]\n",
    "df[\"APP\"] = (df[\"EMI\"]-df[\"monthlyInterest\"]) * df[\"MonthsInRepayment\"] + df[\"prePayment\"]\n",
    "df[\"OPB\"] = dt[\"currentPrincipal\"]\n",
    "df[\"PPR\"] = abs(df[\"SPP\"] - df[\"APP\"]) / df[\"OPB\"]\n",
    "\n",
    "features = [\"SPP\", \"APP\", \"OPB\", \"PRR\"]\n",
    "\n",
    "M = max(dt[\"PPR\"])\n",
    "m = min(dt[\"PPR\"])\n",
    "\n",
    "print(f\"max : {M}\")\n",
    "print(f\"min : {m}\")"
   ]
  },
  {
   "cell_type": "code",
   "execution_count": null,
   "metadata": {},
   "outputs": [],
   "source": [
    "plt.figure(figsize=(12, 4))\n",
    "\n",
    "# Kernel Density Plot - KDE\n",
    "sns.kdeplot(data=df['PPR'], color='blue', fill=True)\n",
    "plt.xlabel('PPR (Prepayment Risk Ratio)')\n",
    "plt.ylabel('Density')\n",
    "plt.title('Distribution of PPR KDEplot')\n",
    "plt.show()"
   ]
  },
  {
   "cell_type": "code",
   "execution_count": null,
   "metadata": {},
   "outputs": [],
   "source": []
  },
  {
   "cell_type": "code",
   "execution_count": null,
   "metadata": {},
   "outputs": [],
   "source": [
    "# categorical variables\n",
    "cat_cols = df.select_dtypes(\"object\").columns\n",
    "\n",
    "# numerical variables\n",
    "num_cols = df.select_dtypes(exclude=\"object\").columns"
   ]
  },
  {
   "cell_type": "code",
   "execution_count": null,
   "metadata": {},
   "outputs": [],
   "source": [
    "# let's check number of values in each categorical column\n",
    "df[cat_cols].nunique()"
   ]
  },
  {
   "cell_type": "code",
   "execution_count": null,
   "metadata": {},
   "outputs": [],
   "source": [
    "# # dropping the target column\n",
    "if target in num_cols:\n",
    "  num_cols = num_cols.drop(target)\n",
    "\n",
    "# # Create the scaler\n",
    "scaler = StandardScaler()\n",
    "\n",
    "# # normalazing the num cols\n",
    "normalized_data = pd.DataFrame(data=scaler.fit_transform(df[num_cols]),\n",
    "                               columns=df[num_cols].columns)\n",
    "\n",
    "g_per_row = 2\n",
    "for i in range(0, len(num_cols), g_per_row):\n",
    "  num_graph = len(num_cols) - i if len(num_cols)-i < g_per_row else g_per_row\n",
    "  fig, axes = plt.subplots(1, 2*g_per_row, figsize=(15, 5))\n",
    "  for j,k in enumerate(range(0,2*num_graph-1,2)):\n",
    "    col = num_cols[i+j]\n",
    "\n",
    "    # building the boxplot (will gives us the boundaries of the meaningfull data)\n",
    "    sns.boxplot(x=df[col], color='red', ax=axes[k])\n",
    "    axes[k].set_title(f'dist infos of [{col}]')\n",
    "    axes[k].set_ylabel(col)\n",
    "\n",
    "\n",
    "    quantile = df[col].quantile([0.25,0.5,0.75])\n",
    "    Q1 = quantile[0.25]\n",
    "    Q3 = quantile[0.75]\n",
    "    median = df[col].median()\n",
    "    min = df[col].min()\n",
    "    max = df[col].max()\n",
    "    axes[k].set_xlabel(f\"[{min} - {Q1:.3} - {median:.3} - {Q3:.3} - {max}]\")\n",
    "\n",
    "\n",
    "    # scatter col according to the target \n",
    "    sns.scatterplot(data=df, x=col, y=df[target], ax=axes[k+1])\n",
    "    axes[k+1].set_title('scatter('+col+') . target')\n",
    "    axes[k+1].set_xlabel(col)\n",
    "    axes[k+1].set_ylabel(target)\n",
    "\n",
    "  plt.tight_layout()\n",
    "  print(\"\\n\\n\")\n",
    "  plt.show()\n",
    "\n",
    "num_cols\n",
    "     "
   ]
  },
  {
   "cell_type": "code",
   "execution_count": null,
   "metadata": {},
   "outputs": [],
   "source": [
    "from numpy.core.multiarray import min_scalar_type\n",
    "# heler function\n",
    "def remove_outlier(input_df, col):\n",
    "    q1 = input_df[col].quantile(0.25)\n",
    "    q3 = input_df[col].quantile(0.75)\n",
    "    IQR = q3 - q1                         #Interquartile range\n",
    "    min_scalar_type  = q1-1.5*IQR\n",
    "    max = q3+1.5*IQR\n",
    "    output_df = input_df.loc[(input_df[col] > min) & (input_df[col] < max)]\n",
    "    return output_df\n",
    "\n",
    "\n",
    "\n",
    "# loop over all cols with outliers, and remove them\n",
    "# col_with_outliers = [\"MonthsInRepayment\",\"OrigInterestRate\",\"LTV\",\"OrigUPB\",\"OCLTV\",\"DTI\"]\n",
    "col_with_outliers = ['CreditScore','OCLTV', 'DTI', 'OrigUPB', 'LTV',\n",
    "                     'OrigInterestRate', 'MonthsInRepayment', 'EMI',\n",
    "                     'totalPayment', 'interestAmount','monthlyInterest',\n",
    "                     'currentPrincipal', 'prePayment','SPP', 'APP', 'OPB']\n",
    "# for col in col_with_outliers:\n",
    "#   data = remove_outlier(data, col)\n",
    "\n",
    "# data.head()"
   ]
  },
  {
   "cell_type": "code",
   "execution_count": null,
   "metadata": {},
   "outputs": [],
   "source": [
    "data = df.copy()"
   ]
  },
  {
   "cell_type": "markdown",
   "metadata": {},
   "source": [
    "## Simple EDA"
   ]
  },
  {
   "cell_type": "code",
   "execution_count": null,
   "metadata": {},
   "outputs": [],
   "source": [
    "# visualize Univariate analysis\n",
    "def visualize_univariate_analysis(col):\n",
    "    fig, axes = plt.subplots(1, 5, figsize=(20, 5))  # Create 1 row with 5 columns for the plots\n",
    "    print(f\"\\n====> {col}\\n\")\n",
    "\n",
    "    # Histogram\n",
    "    sns.histplot(data[col], kde=True, color='blue', ax=axes[0])\n",
    "    axes[0].set_title('Histogram of Data')\n",
    "    axes[0].set_xlabel('Value')\n",
    "    axes[0].set_ylabel('Frequency')\n",
    "\n",
    "    # Violin Plot\n",
    "    sns.violinplot(data[col], color='green', ax=axes[1])\n",
    "    axes[1].set_title('Violin Plot of Data')\n",
    "    axes[1].set_xlabel('Value')\n",
    "\n",
    "    # Scatter Plot\n",
    "    sns.scatterplot(x=np.arange(len(data[col])), y=data[col], color='teal', ax=axes[2])\n",
    "    axes[2].set_title('Scatter Plot of Data')\n",
    "    axes[2].set_xlabel('Index')\n",
    "    axes[2].set_ylabel('Value')\n",
    "\n",
    "\n",
    "    # Box plot\n",
    "    sns.boxplot(x=data[col], color='purple', ax=axes[3])\n",
    "    axes[3].set_title(f'dist infos of [{col}]')\n",
    "    axes[3].set_ylabel(col)\n",
    "\n",
    "    quantile = data[col].quantile([0.25,0.5,0.75])\n",
    "    Q1 = quantile[0.25]\n",
    "    Q3 = quantile[0.75]\n",
    "    median = data[col].median()\n",
    "    min = data[col].min()\n",
    "    max = data[col].max()\n",
    "    axes[3].set_xlabel(f\"[{min} - {Q1:.3} - {median:.3} - {Q3:.3} - {max}]\")\n",
    "\n",
    "\n",
    "    # Empirical Cumulative Distribution Function (ECDF)\n",
    "    sns.ecdfplot(data[col], color='orange', ax=axes[4])\n",
    "    axes[4].set_title('ECDF')\n",
    "    axes[4].set_xlabel('Value')\n",
    "    axes[4].set_ylabel('Cumulative Probability')\n",
    "\n",
    "    plt.tight_layout()\n",
    "    plt.show()\n",
    "\n",
    "# Visualize for each numerical column\n",
    "uni_num_cols = [\"PPR\" ,\"CreditRange\", \"OrigUPB\", \"LTV_Range\", \"OCLTV\", \"MIP\", \"OrigInterestRate\", \"DTI\"]\n",
    "for col in uni_num_cols:\n",
    "  visualize_univariate_analysis(col)"
   ]
  },
  {
   "cell_type": "code",
   "execution_count": null,
   "metadata": {},
   "outputs": [],
   "source": [
    "discrete_vars = []\n",
    "continuous_vars = []\n",
    "# Loop through each column and determine its data type\n",
    "for column in data.columns:\n",
    "    if pd.api.types.is_integer_dtype(data[column]) or pd.api.types.is_bool_dtype(data[column]):\n",
    "        discrete_vars.append(column)\n",
    "    elif pd.api.types.is_float_dtype(data[column]):\n",
    "        continuous_vars.append(column)\n",
    "\n",
    "print(\"Discrete Variables:\", discrete_vars)\n",
    "print(\"Continuous Variables:\", continuous_vars)"
   ]
  },
  {
   "cell_type": "code",
   "execution_count": null,
   "metadata": {},
   "outputs": [],
   "source": [
    "\n",
    "def bivariate_analysis_continuous_data(data, col, tv):\n",
    "    # Create a 1x2 subplot\n",
    "    fig, axs = plt.subplots(1, 2, figsize=(18, 5))\n",
    "\n",
    "    # Line plot\n",
    "    axs[0].plot(data[col], data[tv], marker='o')\n",
    "    axs[0].set_xlabel(tv)\n",
    "    axs[0].set_ylabel(col)\n",
    "    axs[0].set_title('Line Plot')\n",
    "    axs[0].tick_params(axis='x', rotation=90)\n",
    "    axs[0].xaxis.set_major_formatter('{:.3f}'.format)\n",
    "\n",
    "    # Scatter Plot\n",
    "    axs[1].scatter(data[col], data[tv], marker='o', color='b')\n",
    "    axs[1].set_xlabel(col)\n",
    "    axs[1].set_ylabel(tv)\n",
    "    axs[1].set_title('Scatter Plot')\n",
    "    axs[1].tick_params(axis='x', rotation=90)\n",
    "    axs[1].xaxis.set_major_formatter('{:.3f}'.format)\n",
    "\n",
    "    plt.tight_layout()\n",
    "    plt.show()"
   ]
  },
  {
   "cell_type": "code",
   "execution_count": null,
   "metadata": {},
   "outputs": [],
   "source": [
    "plt.figure(figsize=(14, 8))\n",
    "correlation_matrix = data.corr()\n",
    "sns.heatmap(correlation_matrix, annot=True, fmt=\".2f\", cmap='coolwarm', linewidths=0.2, annot_kws={\"size\": 6})\n",
    "plt.title('Correlation Heatmap')\n",
    "plt.show()"
   ]
  },
  {
   "cell_type": "code",
   "execution_count": null,
   "metadata": {},
   "outputs": [],
   "source": [
    "from sklearn.feature_selection import SelectKBest, SelectPercentile, mutual_info_regression\n",
    "\n",
    "def make_mi_score_and_plot(X, y):\n",
    "    mi_scores = mutual_info_regression(X, y)\n",
    "    mi_scores = pd.Series(mi_scores, name=\"MI Scores\", index=X.columns)\n",
    "    mi_scores = mi_scores.sort_values(ascending=False)\n",
    "\n",
    "    # ploting the scores for each feature\n",
    "\n",
    "    plt.figure(dpi=100, figsize=(10, 6))\n",
    "    mi_scores = mi_scores.sort_values(ascending=True)\n",
    "    width = np.arange(len(mi_scores))\n",
    "    ticks = list(mi_scores.index)\n",
    "    plt.barh(width, mi_scores)\n",
    "    plt.yticks(width, ticks)\n",
    "    plt.title(\"Mutual Information Scores\")\n",
    "    return mi_scores\n",
    "\n",
    "\n",
    "X = data.copy()\n",
    "y = X.pop(\"PPR\")\n",
    "\n",
    "mi_scores = make_mi_score_and_plot(X, y)"
   ]
  },
  {
   "cell_type": "code",
   "execution_count": null,
   "metadata": {},
   "outputs": [],
   "source": [
    "sns.relplot(x=\"MonthsDelinquent\", y=\"PPR\", data=data)"
   ]
  },
  {
   "cell_type": "code",
   "execution_count": null,
   "metadata": {},
   "outputs": [],
   "source": [
    "X = data.copy()\n",
    "y = X.pop('PPR')"
   ]
  },
  {
   "cell_type": "code",
   "execution_count": null,
   "metadata": {},
   "outputs": [],
   "source": [
    "from sklearn.decomposition import PCA\n",
    "\n",
    "# new dimensionality\n",
    "n_components = 26\n",
    "\n",
    "# Create principal components\n",
    "pca = PCA(n_components=n_components) # n_components = n_features by default\n",
    "X_pca = pca.fit_transform(X)\n",
    "\n",
    "# Convert to dataframe\n",
    "pca_names = [f\"PC{i+1}\" for i in range(X_pca.shape[1])]\n",
    "X_pca = pd.DataFrame(X_pca, columns=pca_names)\n",
    "\n",
    "X_pca_mi_score = make_mi_score_and_plot(X_pca, y)"
   ]
  },
  {
   "cell_type": "code",
   "execution_count": null,
   "metadata": {},
   "outputs": [],
   "source": [
    "loadings = pd.DataFrame(\n",
    "    pca.components_.T,\n",
    "    columns=pca_names,\n",
    "    index=X.columns,\n",
    ")\n",
    "loadings"
   ]
  },
  {
   "cell_type": "code",
   "execution_count": null,
   "metadata": {},
   "outputs": [],
   "source": [
    "X_train, X_test, y_train, y_test = train_test_split(X_pca_mi_score, y, test_size=0.3, random_state=40)"
   ]
  },
  {
   "cell_type": "code",
   "execution_count": null,
   "metadata": {},
   "outputs": [],
   "source": [
    "DT_model = DecisionTreeRegressor(criterion='squared_error')\n",
    "DT_model.fit(X_train, y_train)\n",
    "DT_pred = DT_model.predict(X_test)\n",
    "\n",
    "DT_MSE = mean_squared_error(y_test, DT_pred)\n",
    "DT_R2 = r2_score(y_test, DT_pred)"
   ]
  },
  {
   "cell_type": "code",
   "execution_count": null,
   "metadata": {},
   "outputs": [],
   "source": [
    "print(f\"MSE ------>: {DT_MSE} /nR2 score ------->: {DT_R2}\")"
   ]
  },
  {
   "cell_type": "code",
   "execution_count": null,
   "metadata": {},
   "outputs": [],
   "source": [
    "XGB_model = XGBRegressor( max_depth=7, n_estimators=300, random_state=40 )\n",
    "XGB_model.fit(X_train, y_train)\n",
    "XGB_pred = XGB_model.predict(X_test)\n",
    "\n",
    "XGB_MSE = mean_squared_error(y_test, XGB_pred)\n",
    "XGB_R2 = r2_score(y_test, XGB_pred)"
   ]
  },
  {
   "cell_type": "code",
   "execution_count": null,
   "metadata": {},
   "outputs": [],
   "source": [
    "print(f\"MSE ------>: {XGB_MSE} /nR2 score ------->: {XGB_R2}\")"
   ]
  }
 ],
 "metadata": {
  "kernelspec": {
   "display_name": "Python 3 (ipykernel)",
   "language": "python",
   "name": "python3"
  },
  "language_info": {
   "codemirror_mode": {
    "name": "ipython",
    "version": 3
   },
   "file_extension": ".py",
   "mimetype": "text/x-python",
   "name": "python",
   "nbconvert_exporter": "python",
   "pygments_lexer": "ipython3",
   "version": "3.7.1"
  }
 },
 "nbformat": 4,
 "nbformat_minor": 2
}
