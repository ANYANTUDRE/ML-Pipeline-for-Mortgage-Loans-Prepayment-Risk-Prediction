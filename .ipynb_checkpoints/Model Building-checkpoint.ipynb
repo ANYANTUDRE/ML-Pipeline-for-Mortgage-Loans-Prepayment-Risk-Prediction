{
 "cells": [
  {
   "cell_type": "markdown",
   "id": "33c3f900",
   "metadata": {},
   "source": [
    "# III. Fourth Task  👨‍💻: Models Building\n",
    "\n",
    "**1. Decision Trees   \n",
    "2. XGBoost Classifier**"
   ]
  },
  {
   "cell_type": "code",
   "execution_count": 1,
   "id": "f6a0e998",
   "metadata": {},
   "outputs": [],
   "source": [
    "# data manipulation\n",
    "import pandas as pd\n",
    "import numpy as np\n",
    "import matplotlib.pyplot as plt\n",
    "import seaborn as sns\n",
    "\n",
    "# sklearn\n",
    "from sklearn.model_selection import train_test_split\n",
    "from sklearn.preprocessing import StandardScaler\n",
    "from sklearn.tree import DecisionTreeClassifier\n",
    "from sklearn.model_selection import train_test_split\n",
    "from sklearn.metrics import accuracy_score, confusion_matrix, classification_report\n",
    "from sklearn import tree\n",
    "\n",
    "import xgboost as xgb\n",
    "from xgboost import XGBClassifier\n",
    "\n",
    "# settings & warning handling\n",
    "import warnings\n",
    "pd.options.display.max_columns\n",
    "warnings.filterwarnings(\"always\")\n",
    "warnings.filterwarnings(\"ignore\")"
   ]
  },
  {
   "cell_type": "code",
   "execution_count": 2,
   "id": "6627c790",
   "metadata": {},
   "outputs": [],
   "source": [
    "# read in csv file as a DataFrame\n",
    "\n",
    "data             = pd.read_csv(\"Prepared_Dataset.csv\", index_col=0)\n",
    "X_chi2_best      = pd.read_csv(\"X_chi2_best.csv\", index_col=0)\n",
    "X_best_mi_scores = pd.read_csv(\"X_best_mi_scores.csv\", index_col=0)\n",
    "X_pca_final      = pd.read_csv(\"X_pca_final.csv\", index_col=0)\n",
    "X_best_features  = pd.read_csv(\"X_best_features.csv\", index_col=0)"
   ]
  },
  {
   "cell_type": "code",
   "execution_count": 3,
   "id": "f47dc042",
   "metadata": {},
   "outputs": [
    {
     "data": {
      "text/plain": [
       "((291449, 13), (291449, 15), (291449, 15), (291449, 16))"
      ]
     },
     "execution_count": 3,
     "metadata": {},
     "output_type": "execute_result"
    }
   ],
   "source": [
    "X_pca_final.shape, X_chi2_best.shape, X_best_mi_scores.shape, X_best_features.shape"
   ]
  },
  {
   "cell_type": "code",
   "execution_count": 4,
   "id": "d28a3137",
   "metadata": {},
   "outputs": [],
   "source": [
    "y = data['EverDelinquent']"
   ]
  },
  {
   "cell_type": "code",
   "execution_count": 5,
   "id": "438bb06c",
   "metadata": {},
   "outputs": [
    {
     "data": {
      "text/plain": [
       "0    233787\n",
       "1     57662\n",
       "Name: EverDelinquent, dtype: int64"
      ]
     },
     "execution_count": 5,
     "metadata": {},
     "output_type": "execute_result"
    }
   ],
   "source": [
    "y.value_counts()"
   ]
  },
  {
   "cell_type": "code",
   "execution_count": 6,
   "id": "3f024f4c",
   "metadata": {},
   "outputs": [
    {
     "data": {
      "text/html": [
       "<div>\n",
       "<style scoped>\n",
       "    .dataframe tbody tr th:only-of-type {\n",
       "        vertical-align: middle;\n",
       "    }\n",
       "\n",
       "    .dataframe tbody tr th {\n",
       "        vertical-align: top;\n",
       "    }\n",
       "\n",
       "    .dataframe thead th {\n",
       "        text-align: right;\n",
       "    }\n",
       "</style>\n",
       "<table border=\"1\" class=\"dataframe\">\n",
       "  <thead>\n",
       "    <tr style=\"text-align: right;\">\n",
       "      <th></th>\n",
       "      <th>Credit_range</th>\n",
       "      <th>Repay_range</th>\n",
       "      <th>LTV_range</th>\n",
       "      <th>FirstTimeHomebuyer</th>\n",
       "      <th>ServicerName</th>\n",
       "      <th>PropertyState</th>\n",
       "      <th>NumBorrowers</th>\n",
       "      <th>MonthsInRepayment</th>\n",
       "      <th>OrigUPB</th>\n",
       "      <th>OrigInterestRate</th>\n",
       "      <th>Units</th>\n",
       "      <th>OrigLoanTerm</th>\n",
       "      <th>Duration</th>\n",
       "      <th>PropertyState.1</th>\n",
       "      <th>LoanPurpose</th>\n",
       "      <th>PPM</th>\n",
       "    </tr>\n",
       "  </thead>\n",
       "  <tbody>\n",
       "    <tr>\n",
       "      <th>0</th>\n",
       "      <td>0</td>\n",
       "      <td>2</td>\n",
       "      <td>0</td>\n",
       "      <td>0</td>\n",
       "      <td>0</td>\n",
       "      <td>0</td>\n",
       "      <td>2</td>\n",
       "      <td>52</td>\n",
       "      <td>117000</td>\n",
       "      <td>6.750</td>\n",
       "      <td>1</td>\n",
       "      <td>360</td>\n",
       "      <td>30</td>\n",
       "      <td>0</td>\n",
       "      <td>0</td>\n",
       "      <td>0</td>\n",
       "    </tr>\n",
       "    <tr>\n",
       "      <th>1</th>\n",
       "      <td>0</td>\n",
       "      <td>4</td>\n",
       "      <td>0</td>\n",
       "      <td>0</td>\n",
       "      <td>1</td>\n",
       "      <td>1</td>\n",
       "      <td>1</td>\n",
       "      <td>144</td>\n",
       "      <td>109000</td>\n",
       "      <td>6.500</td>\n",
       "      <td>1</td>\n",
       "      <td>360</td>\n",
       "      <td>30</td>\n",
       "      <td>1</td>\n",
       "      <td>1</td>\n",
       "      <td>0</td>\n",
       "    </tr>\n",
       "    <tr>\n",
       "      <th>2</th>\n",
       "      <td>0</td>\n",
       "      <td>2</td>\n",
       "      <td>0</td>\n",
       "      <td>0</td>\n",
       "      <td>0</td>\n",
       "      <td>1</td>\n",
       "      <td>2</td>\n",
       "      <td>67</td>\n",
       "      <td>88000</td>\n",
       "      <td>6.875</td>\n",
       "      <td>1</td>\n",
       "      <td>360</td>\n",
       "      <td>30</td>\n",
       "      <td>1</td>\n",
       "      <td>1</td>\n",
       "      <td>0</td>\n",
       "    </tr>\n",
       "    <tr>\n",
       "      <th>3</th>\n",
       "      <td>0</td>\n",
       "      <td>1</td>\n",
       "      <td>0</td>\n",
       "      <td>0</td>\n",
       "      <td>0</td>\n",
       "      <td>2</td>\n",
       "      <td>2</td>\n",
       "      <td>35</td>\n",
       "      <td>160000</td>\n",
       "      <td>6.875</td>\n",
       "      <td>1</td>\n",
       "      <td>360</td>\n",
       "      <td>30</td>\n",
       "      <td>2</td>\n",
       "      <td>1</td>\n",
       "      <td>0</td>\n",
       "    </tr>\n",
       "    <tr>\n",
       "      <th>4</th>\n",
       "      <td>0</td>\n",
       "      <td>2</td>\n",
       "      <td>0</td>\n",
       "      <td>0</td>\n",
       "      <td>0</td>\n",
       "      <td>3</td>\n",
       "      <td>2</td>\n",
       "      <td>54</td>\n",
       "      <td>109000</td>\n",
       "      <td>7.125</td>\n",
       "      <td>1</td>\n",
       "      <td>360</td>\n",
       "      <td>30</td>\n",
       "      <td>3</td>\n",
       "      <td>1</td>\n",
       "      <td>0</td>\n",
       "    </tr>\n",
       "  </tbody>\n",
       "</table>\n",
       "</div>"
      ],
      "text/plain": [
       "   Credit_range  Repay_range  LTV_range  FirstTimeHomebuyer  ServicerName  \\\n",
       "0             0            2          0                   0             0   \n",
       "1             0            4          0                   0             1   \n",
       "2             0            2          0                   0             0   \n",
       "3             0            1          0                   0             0   \n",
       "4             0            2          0                   0             0   \n",
       "\n",
       "   PropertyState  NumBorrowers  MonthsInRepayment  OrigUPB  OrigInterestRate  \\\n",
       "0              0             2                 52   117000             6.750   \n",
       "1              1             1                144   109000             6.500   \n",
       "2              1             2                 67    88000             6.875   \n",
       "3              2             2                 35   160000             6.875   \n",
       "4              3             2                 54   109000             7.125   \n",
       "\n",
       "   Units  OrigLoanTerm  Duration  PropertyState.1  LoanPurpose  PPM  \n",
       "0      1           360        30                0            0    0  \n",
       "1      1           360        30                1            1    0  \n",
       "2      1           360        30                1            1    0  \n",
       "3      1           360        30                2            1    0  \n",
       "4      1           360        30                3            1    0  "
      ]
     },
     "execution_count": 6,
     "metadata": {},
     "output_type": "execute_result"
    }
   ],
   "source": [
    "X_best_features.head()"
   ]
  },
  {
   "cell_type": "markdown",
   "id": "540dbd55",
   "metadata": {},
   "source": [
    "# Splitting Data\n",
    "To understand model performance, dividing the dataset into a training set and a test set is a good strategy.\n",
    "\n",
    "Let's split the dataset by using the function train_test_split()."
   ]
  },
  {
   "cell_type": "code",
   "execution_count": 7,
   "id": "31158738",
   "metadata": {},
   "outputs": [],
   "source": [
    "# Split dataset into training set and test set\n",
    "X_train, X_test, y_train, y_test = train_test_split(X_best_features, y, test_size=0.3, random_state=42) # 70% training and 30% test"
   ]
  },
  {
   "cell_type": "code",
   "execution_count": 8,
   "id": "1a7911d4",
   "metadata": {},
   "outputs": [
    {
     "data": {
      "text/plain": [
       "((204014, 16), (87435, 16))"
      ]
     },
     "execution_count": 8,
     "metadata": {},
     "output_type": "execute_result"
    }
   ],
   "source": [
    "# check the shape of X_train and X_test\n",
    "X_train.shape, X_test.shape"
   ]
  },
  {
   "cell_type": "markdown",
   "id": "3156631f",
   "metadata": {},
   "source": [
    "# 1. Decision Tree Algorithm\n",
    "\n",
    "Let's create a decision tree model using Scikit-learn"
   ]
  },
  {
   "cell_type": "markdown",
   "id": "7794c6fe",
   "metadata": {},
   "source": [
    "## Define the DT model"
   ]
  },
  {
   "cell_type": "code",
   "execution_count": 9,
   "id": "1089b709",
   "metadata": {},
   "outputs": [
    {
     "data": {
      "text/plain": [
       "DecisionTreeClassifier(criterion='entropy', max_depth=5, random_state=42)"
      ]
     },
     "execution_count": 9,
     "metadata": {},
     "output_type": "execute_result"
    }
   ],
   "source": [
    "# Create Decision Tree classifer object\n",
    "d_tree_model = DecisionTreeClassifier(criterion=\"entropy\", max_depth=5, random_state=42)\n",
    "\n",
    "# Train Decision Tree Classifer\n",
    "d_tree_model.fit(X_train, y_train)"
   ]
  },
  {
   "cell_type": "markdown",
   "id": "e6a92385",
   "metadata": {},
   "source": [
    "## Predictions on test set"
   ]
  },
  {
   "cell_type": "code",
   "execution_count": 10,
   "id": "8672b59b",
   "metadata": {},
   "outputs": [],
   "source": [
    "# Predict test set results\n",
    "y_pred_tree = d_tree_model.predict(X_test)"
   ]
  },
  {
   "cell_type": "code",
   "execution_count": 11,
   "id": "a3e3e02b",
   "metadata": {},
   "outputs": [
    {
     "name": "stdout",
     "output_type": "stream",
     "text": [
      "Model accuracy score with criterion entropy: 0.8113\n"
     ]
    }
   ],
   "source": [
    "# Check accuracy score \n",
    "print('Model accuracy score with criterion entropy: {0:0.4f}'.format(accuracy_score(y_test, y_pred_tree)))"
   ]
  },
  {
   "cell_type": "markdown",
   "id": "a9235399",
   "metadata": {},
   "source": [
    "We got a classification rate of 81.13%, which is considered as good accuracy. We can improve this accuracy by tuning the parameters in the decision tree algorithm."
   ]
  },
  {
   "cell_type": "markdown",
   "id": "4c0bee92",
   "metadata": {},
   "source": [
    "## Check for overfitting and underfitting"
   ]
  },
  {
   "cell_type": "code",
   "execution_count": 12,
   "id": "4e240b19",
   "metadata": {},
   "outputs": [
    {
     "name": "stdout",
     "output_type": "stream",
     "text": [
      "Accuracy on train: 0.8124638505200623\n",
      "Accuracy on test: 0.8113112597929891\n"
     ]
    }
   ],
   "source": [
    "# Model Accuracy, how often is the classifier correct?\n",
    "print(\"Accuracy on train:\", accuracy_score(d_tree_model.predict(X_train), y_train))\n",
    "print(\"Accuracy on test:\", accuracy_score(y_test, y_pred_tree))"
   ]
  },
  {
   "cell_type": "markdown",
   "id": "bcecffd8",
   "metadata": {},
   "source": [
    "Here, the training-set accuracy score is 81.24 while the test-set accuracy to be 81.13. These two values are quite comparable. So, there is no sign of overfitting."
   ]
  },
  {
   "cell_type": "markdown",
   "id": "692de666",
   "metadata": {},
   "source": [
    "## Classification Report\n",
    "\n",
    "Classification report evaluate the classification model performance. It displays the precision, recall, f1 and support scores for the model."
   ]
  },
  {
   "cell_type": "code",
   "execution_count": 13,
   "id": "f7fbd5bd",
   "metadata": {},
   "outputs": [
    {
     "name": "stdout",
     "output_type": "stream",
     "text": [
      "              precision    recall  f1-score   support\n",
      "\n",
      "           0       0.82      0.98      0.89     70033\n",
      "           1       0.63      0.13      0.21     17402\n",
      "\n",
      "    accuracy                           0.81     87435\n",
      "   macro avg       0.72      0.55      0.55     87435\n",
      "weighted avg       0.78      0.81      0.76     87435\n",
      "\n"
     ]
    }
   ],
   "source": [
    "print(classification_report(y_test, y_pred_tree))"
   ]
  },
  {
   "cell_type": "markdown",
   "id": "8a46cf03",
   "metadata": {},
   "source": [
    "## Confusion matrix\n",
    "A confusion matrix is a tool for summarizing the performance of a classification algorithm. A confusion matrix will give us a clear picture of classification model performance and the types of errors produced by the model.  "
   ]
  },
  {
   "cell_type": "code",
   "execution_count": 14,
   "id": "b259fed5",
   "metadata": {},
   "outputs": [
    {
     "name": "stdout",
     "output_type": "stream",
     "text": [
      "Confusion matrix\n",
      "\n",
      " [[68731  1302]\n",
      " [15196  2206]]\n"
     ]
    }
   ],
   "source": [
    "cm = confusion_matrix(y_test, y_pred_tree)\n",
    "print('Confusion matrix\\n\\n', cm)"
   ]
  },
  {
   "cell_type": "markdown",
   "id": "f237114d",
   "metadata": {},
   "source": [
    "# XGBoost Classifier"
   ]
  },
  {
   "cell_type": "code",
   "execution_count": 15,
   "id": "b9bb6488",
   "metadata": {},
   "outputs": [],
   "source": [
    "# define data_dmatrix\n",
    "data_dmatrix = xgb.DMatrix(data=X_best_features, label=y)"
   ]
  },
  {
   "cell_type": "code",
   "execution_count": 16,
   "id": "2053b095",
   "metadata": {},
   "outputs": [
    {
     "data": {
      "text/plain": [
       "XGBClassifier(alpha=10, base_score=0.5, booster='gbtree', callbacks=None,\n",
       "              colsample_bylevel=1, colsample_bynode=1, colsample_bytree=1,\n",
       "              early_stopping_rounds=None, enable_categorical=False,\n",
       "              eval_metric=None, gamma=0, gpu_id=-1, grow_policy='depthwise',\n",
       "              importance_type=None, interaction_constraints='',\n",
       "              learning_rate=0.01, max_bin=256, max_cat_to_onehot=4,\n",
       "              max_delta_step=0, max_depth=4, max_leaves=0, min_child_weight=1,\n",
       "              missing=nan, monotone_constraints='()', n_estimators=100,\n",
       "              n_jobs=0, num_parallel_tree=1, predictor='auto', random_state=0,\n",
       "              reg_alpha=10, ...)"
      ]
     },
     "execution_count": 16,
     "metadata": {},
     "output_type": "execute_result"
    }
   ],
   "source": [
    "# parameters\n",
    "params = {\n",
    "            'objective':'binary:logistic',\n",
    "            'max_depth': 4,\n",
    "            'alpha': 10,\n",
    "            'learning_rate': 0.01,\n",
    "            'n_estimators':100\n",
    "        }         \n",
    "           \n",
    "          \n",
    "# instantiate the classifier \n",
    "xgb_clf = XGBClassifier(**params)\n",
    "\n",
    "\n",
    "# fit the classifier to the training data\n",
    "xgb_clf.fit(X_train, y_train)"
   ]
  },
  {
   "cell_type": "code",
   "execution_count": 17,
   "id": "ae3f1e98",
   "metadata": {},
   "outputs": [
    {
     "name": "stdout",
     "output_type": "stream",
     "text": [
      "XGBClassifier(alpha=10, base_score=0.5, booster='gbtree', callbacks=None,\n",
      "              colsample_bylevel=1, colsample_bynode=1, colsample_bytree=1,\n",
      "              early_stopping_rounds=None, enable_categorical=False,\n",
      "              eval_metric=None, gamma=0, gpu_id=-1, grow_policy='depthwise',\n",
      "              importance_type=None, interaction_constraints='',\n",
      "              learning_rate=0.01, max_bin=256, max_cat_to_onehot=4,\n",
      "              max_delta_step=0, max_depth=4, max_leaves=0, min_child_weight=1,\n",
      "              missing=nan, monotone_constraints='()', n_estimators=100,\n",
      "              n_jobs=0, num_parallel_tree=1, predictor='auto', random_state=0,\n",
      "              reg_alpha=10, ...)\n"
     ]
    }
   ],
   "source": [
    "# parameters of the xgb trained model as follows -\n",
    "print(xgb_clf)"
   ]
  },
  {
   "cell_type": "code",
   "execution_count": 18,
   "id": "613b281e",
   "metadata": {},
   "outputs": [],
   "source": [
    "# make predictions on test data\n",
    "y_pred_xgb = xgb_clf.predict(X_test)"
   ]
  },
  {
   "cell_type": "code",
   "execution_count": 19,
   "id": "c3431614",
   "metadata": {},
   "outputs": [
    {
     "name": "stdout",
     "output_type": "stream",
     "text": [
      "XGBoost model accuracy score: 0.8118\n"
     ]
    }
   ],
   "source": [
    "print('XGBoost model accuracy score: {0:0.4f}'. format(accuracy_score(y_test, y_pred_xgb)))"
   ]
  },
  {
   "cell_type": "markdown",
   "id": "a79fc231",
   "metadata": {},
   "source": [
    "## Classification Report"
   ]
  },
  {
   "cell_type": "code",
   "execution_count": 20,
   "id": "d69bec7f",
   "metadata": {},
   "outputs": [
    {
     "name": "stdout",
     "output_type": "stream",
     "text": [
      "              precision    recall  f1-score   support\n",
      "\n",
      "           0       0.82      0.98      0.89     70033\n",
      "           1       0.63      0.13      0.22     17402\n",
      "\n",
      "    accuracy                           0.81     87435\n",
      "   macro avg       0.72      0.56      0.56     87435\n",
      "weighted avg       0.78      0.81      0.76     87435\n",
      "\n"
     ]
    }
   ],
   "source": [
    "print(classification_report(y_test, y_pred_xgb))"
   ]
  },
  {
   "cell_type": "markdown",
   "id": "080bf711",
   "metadata": {},
   "source": [
    "## k-fold Cross Validation"
   ]
  },
  {
   "cell_type": "code",
   "execution_count": 28,
   "id": "52c065df",
   "metadata": {},
   "outputs": [],
   "source": [
    "from xgboost import cv\n",
    "\n",
    "params = {\"objective\":\"binary:logistic\",'colsample_bytree': 0.3,'learning_rate': 0.01,\n",
    "                'max_depth': 7, 'alpha': 10}\n",
    "\n",
    "xgb_cv = cv(dtrain=data_dmatrix, params=params, nfold=5,\n",
    "                    num_boost_round=50, early_stopping_rounds=10, metrics=\"auc\", as_pandas=True, seed=123)"
   ]
  },
  {
   "cell_type": "code",
   "execution_count": 29,
   "id": "eeea1361",
   "metadata": {},
   "outputs": [
    {
     "data": {
      "text/html": [
       "<div>\n",
       "<style scoped>\n",
       "    .dataframe tbody tr th:only-of-type {\n",
       "        vertical-align: middle;\n",
       "    }\n",
       "\n",
       "    .dataframe tbody tr th {\n",
       "        vertical-align: top;\n",
       "    }\n",
       "\n",
       "    .dataframe thead th {\n",
       "        text-align: right;\n",
       "    }\n",
       "</style>\n",
       "<table border=\"1\" class=\"dataframe\">\n",
       "  <thead>\n",
       "    <tr style=\"text-align: right;\">\n",
       "      <th></th>\n",
       "      <th>train-auc-mean</th>\n",
       "      <th>train-auc-std</th>\n",
       "      <th>test-auc-mean</th>\n",
       "      <th>test-auc-std</th>\n",
       "    </tr>\n",
       "  </thead>\n",
       "  <tbody>\n",
       "    <tr>\n",
       "      <th>0</th>\n",
       "      <td>0.553909</td>\n",
       "      <td>0.000671</td>\n",
       "      <td>0.553076</td>\n",
       "      <td>0.004960</td>\n",
       "    </tr>\n",
       "    <tr>\n",
       "      <th>1</th>\n",
       "      <td>0.629564</td>\n",
       "      <td>0.053595</td>\n",
       "      <td>0.630518</td>\n",
       "      <td>0.051358</td>\n",
       "    </tr>\n",
       "    <tr>\n",
       "      <th>2</th>\n",
       "      <td>0.661463</td>\n",
       "      <td>0.049674</td>\n",
       "      <td>0.661935</td>\n",
       "      <td>0.050411</td>\n",
       "    </tr>\n",
       "    <tr>\n",
       "      <th>3</th>\n",
       "      <td>0.673844</td>\n",
       "      <td>0.055870</td>\n",
       "      <td>0.673865</td>\n",
       "      <td>0.056547</td>\n",
       "    </tr>\n",
       "    <tr>\n",
       "      <th>4</th>\n",
       "      <td>0.688123</td>\n",
       "      <td>0.059761</td>\n",
       "      <td>0.686727</td>\n",
       "      <td>0.060964</td>\n",
       "    </tr>\n",
       "  </tbody>\n",
       "</table>\n",
       "</div>"
      ],
      "text/plain": [
       "   train-auc-mean  train-auc-std  test-auc-mean  test-auc-std\n",
       "0        0.553909       0.000671       0.553076      0.004960\n",
       "1        0.629564       0.053595       0.630518      0.051358\n",
       "2        0.661463       0.049674       0.661935      0.050411\n",
       "3        0.673844       0.055870       0.673865      0.056547\n",
       "4        0.688123       0.059761       0.686727      0.060964"
      ]
     },
     "execution_count": 29,
     "metadata": {},
     "output_type": "execute_result"
    }
   ],
   "source": [
    "xgb_cv.head()"
   ]
  },
  {
   "cell_type": "markdown",
   "id": "25c17734",
   "metadata": {},
   "source": [
    "## Feature importance"
   ]
  },
  {
   "cell_type": "code",
   "execution_count": 30,
   "id": "5279f5f2",
   "metadata": {},
   "outputs": [
    {
     "data": {
      "image/png": "[encoded data removed]",
      "text/plain": [
       "<Figure size 432x288 with 1 Axes>"
      ]
     },
     "metadata": {
      "needs_background": "light"
     },
     "output_type": "display_data"
    },
    {
     "data": {
      "text/plain": [
       "<Figure size 1152x864 with 0 Axes>"
      ]
     },
     "metadata": {},
     "output_type": "display_data"
    }
   ],
   "source": [
    "xgb.plot_importance(xgb_clf)\n",
    "plt.figure(figsize = (16, 12))\n",
    "plt.show()"
   ]
  },
  {
   "cell_type": "markdown",
   "id": "420f544c",
   "metadata": {},
   "source": [
    "# Hyperparameters optimization for XGBoost"
   ]
  },
  {
   "cell_type": "code",
   "execution_count": null,
   "id": "0b3f07f4",
   "metadata": {},
   "outputs": [],
   "source": []
  },
  {
   "cell_type": "code",
   "execution_count": null,
   "id": "b7d0d19f",
   "metadata": {},
   "outputs": [],
   "source": []
  },
  {
   "cell_type": "code",
   "execution_count": null,
   "id": "49d09e89",
   "metadata": {},
   "outputs": [],
   "source": []
  },
  {
   "cell_type": "code",
   "execution_count": null,
   "id": "a5e77db0",
   "metadata": {},
   "outputs": [],
   "source": []
  },
  {
   "cell_type": "code",
   "execution_count": null,
   "id": "05598bc3",
   "metadata": {},
   "outputs": [],
   "source": []
  }
 ],
 "metadata": {
  "kernelspec": {
   "display_name": "Python 3 (ipykernel)",
   "language": "python",
   "name": "python3"
  },
  "language_info": {
   "codemirror_mode": {
    "name": "ipython",
    "version": 3
   },
   "file_extension": ".py",
   "mimetype": "text/x-python",
   "name": "python",
   "nbconvert_exporter": "python",
   "pygments_lexer": "ipython3",
   "version": "3.7.1"
  }
 },
 "nbformat": 4,
 "nbformat_minor": 5
}
