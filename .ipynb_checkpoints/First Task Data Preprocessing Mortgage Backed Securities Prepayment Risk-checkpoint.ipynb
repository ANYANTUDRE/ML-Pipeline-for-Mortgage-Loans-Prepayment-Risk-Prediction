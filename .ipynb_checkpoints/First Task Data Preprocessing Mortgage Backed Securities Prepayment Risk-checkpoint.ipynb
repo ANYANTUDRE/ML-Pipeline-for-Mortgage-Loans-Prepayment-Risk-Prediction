{
 "cells": [
  {
   "cell_type": "markdown",
   "id": "d10677eb",
   "metadata": {},
   "source": [
    "# **First Task : Data Preprocessing** \n",
    "\n",
    "The different steps for this first task are as follows:\n",
    "1. Data Cleaning\n",
    "2. Data Encoding\n",
    "3. Data Labeling"
   ]
  },
  {
   "cell_type": "markdown",
   "id": "7aa1b331",
   "metadata": {},
   "source": [
    "# Librairies"
   ]
  },
  {
   "cell_type": "code",
   "execution_count": 359,
   "id": "0b3ad08e",
   "metadata": {
    "execution": {
     "iopub.execute_input": "2023-08-14T16:08:08.119447Z",
     "iopub.status.busy": "2023-08-14T16:08:08.118213Z",
     "iopub.status.idle": "2023-08-14T16:08:21.871897Z",
     "shell.execute_reply": "2023-08-14T16:08:21.870243Z",
     "shell.execute_reply.started": "2023-08-14T16:08:08.119401Z"
    }
   },
   "outputs": [
    {
     "name": "stdout",
     "output_type": "stream",
     "text": [
      "Requirement already satisfied: category_encoders in /opt/conda/lib/python3.10/site-packages (2.6.1)\n",
      "Requirement already satisfied: numpy>=1.14.0 in /opt/conda/lib/python3.10/site-packages (from category_encoders) (1.23.5)\n",
      "Requirement already satisfied: scikit-learn>=0.20.0 in /opt/conda/lib/python3.10/site-packages (from category_encoders) (1.2.2)\n",
      "Requirement already satisfied: scipy>=1.0.0 in /opt/conda/lib/python3.10/site-packages (from category_encoders) (1.11.1)\n",
      "Requirement already satisfied: statsmodels>=0.9.0 in /opt/conda/lib/python3.10/site-packages (from category_encoders) (0.14.0)\n",
      "Requirement already satisfied: pandas>=1.0.5 in /opt/conda/lib/python3.10/site-packages (from category_encoders) (1.5.3)\n",
      "Requirement already satisfied: patsy>=0.5.1 in /opt/conda/lib/python3.10/site-packages (from category_encoders) (0.5.3)\n",
      "Requirement already satisfied: python-dateutil>=2.8.1 in /opt/conda/lib/python3.10/site-packages (from pandas>=1.0.5->category_encoders) (2.8.2)\n",
      "Requirement already satisfied: pytz>=2020.1 in /opt/conda/lib/python3.10/site-packages (from pandas>=1.0.5->category_encoders) (2023.3)\n",
      "Requirement already satisfied: six in /opt/conda/lib/python3.10/site-packages (from patsy>=0.5.1->category_encoders) (1.16.0)\n",
      "Requirement already satisfied: joblib>=1.1.1 in /opt/conda/lib/python3.10/site-packages (from scikit-learn>=0.20.0->category_encoders) (1.2.0)\n",
      "Requirement already satisfied: threadpoolctl>=2.0.0 in /opt/conda/lib/python3.10/site-packages (from scikit-learn>=0.20.0->category_encoders) (3.1.0)\n",
      "Requirement already satisfied: packaging>=21.3 in /opt/conda/lib/python3.10/site-packages (from statsmodels>=0.9.0->category_encoders) (21.3)\n",
      "Requirement already satisfied: pyparsing!=3.0.5,>=2.0.2 in /opt/conda/lib/python3.10/site-packages (from packaging>=21.3->statsmodels>=0.9.0->category_encoders) (3.0.9)\n"
     ]
    }
   ],
   "source": [
    "!pip install --upgrade category_encoders"
   ]
  },
  {
   "cell_type": "code",
   "execution_count": 360,
   "id": "2c706a54",
   "metadata": {
    "execution": {
     "iopub.execute_input": "2023-08-14T16:08:21.874738Z",
     "iopub.status.busy": "2023-08-14T16:08:21.874327Z",
     "iopub.status.idle": "2023-08-14T16:08:21.882768Z",
     "shell.execute_reply": "2023-08-14T16:08:21.881442Z",
     "shell.execute_reply.started": "2023-08-14T16:08:21.874704Z"
    }
   },
   "outputs": [],
   "source": [
    "# data manipulation\n",
    "import pandas as pd\n",
    "import numpy as np\n",
    "import datetime\n",
    "\n",
    "# data preprocessing & engineering\n",
    "from sklearn.preprocessing import LabelEncoder, OrdinalEncoder\n",
    "from category_encoders import BinaryEncoder\n",
    "\n",
    "# settings & warning handling\n",
    "import warnings\n",
    "pd.options.display.max_columns\n",
    "warnings.filterwarnings(\"always\")\n",
    "warnings.filterwarnings(\"ignore\")\n"
   ]
  },
  {
   "cell_type": "markdown",
   "id": "fab3880b",
   "metadata": {},
   "source": [
    "# First Look at the data"
   ]
  },
  {
   "cell_type": "code",
   "execution_count": 361,
   "id": "92fa9754",
   "metadata": {
    "execution": {
     "iopub.execute_input": "2023-08-14T16:08:21.884939Z",
     "iopub.status.busy": "2023-08-14T16:08:21.884530Z",
     "iopub.status.idle": "2023-08-14T16:08:23.265457Z",
     "shell.execute_reply": "2023-08-14T16:08:23.264233Z",
     "shell.execute_reply.started": "2023-08-14T16:08:21.884851Z"
    }
   },
   "outputs": [],
   "source": [
    "# read in csv file as a DataFrame\n",
    "data = pd.read_csv(\"/kaggle/input/final-project-dataset/LoanExport.csv\")"
   ]
  },
  {
   "cell_type": "code",
   "execution_count": 362,
   "id": "babc5fe8",
   "metadata": {
    "execution": {
     "iopub.execute_input": "2023-08-14T16:08:23.268694Z",
     "iopub.status.busy": "2023-08-14T16:08:23.268347Z",
     "iopub.status.idle": "2023-08-14T16:08:23.294902Z",
     "shell.execute_reply": "2023-08-14T16:08:23.293644Z",
     "shell.execute_reply.started": "2023-08-14T16:08:23.268659Z"
    }
   },
   "outputs": [
    {
     "data": {
      "text/html": [
       "<div>\n",
       "<style scoped>\n",
       "    .dataframe tbody tr th:only-of-type {\n",
       "        vertical-align: middle;\n",
       "    }\n",
       "\n",
       "    .dataframe tbody tr th {\n",
       "        vertical-align: top;\n",
       "    }\n",
       "\n",
       "    .dataframe thead th {\n",
       "        text-align: right;\n",
       "    }\n",
       "</style>\n",
       "<table border=\"1\" class=\"dataframe\">\n",
       "  <thead>\n",
       "    <tr style=\"text-align: right;\">\n",
       "      <th></th>\n",
       "      <th>CreditScore</th>\n",
       "      <th>FirstPaymentDate</th>\n",
       "      <th>FirstTimeHomebuyer</th>\n",
       "      <th>MaturityDate</th>\n",
       "      <th>MSA</th>\n",
       "      <th>MIP</th>\n",
       "      <th>Units</th>\n",
       "      <th>Occupancy</th>\n",
       "      <th>OCLTV</th>\n",
       "      <th>DTI</th>\n",
       "      <th>...</th>\n",
       "      <th>PostalCode</th>\n",
       "      <th>LoanSeqNum</th>\n",
       "      <th>LoanPurpose</th>\n",
       "      <th>OrigLoanTerm</th>\n",
       "      <th>NumBorrowers</th>\n",
       "      <th>SellerName</th>\n",
       "      <th>ServicerName</th>\n",
       "      <th>EverDelinquent</th>\n",
       "      <th>MonthsDelinquent</th>\n",
       "      <th>MonthsInRepayment</th>\n",
       "    </tr>\n",
       "  </thead>\n",
       "  <tbody>\n",
       "    <tr>\n",
       "      <th>0</th>\n",
       "      <td>0</td>\n",
       "      <td>199902</td>\n",
       "      <td>N</td>\n",
       "      <td>202901</td>\n",
       "      <td>16974</td>\n",
       "      <td>25</td>\n",
       "      <td>1</td>\n",
       "      <td>O</td>\n",
       "      <td>89</td>\n",
       "      <td>27</td>\n",
       "      <td>...</td>\n",
       "      <td>60400</td>\n",
       "      <td>F199Q1268030</td>\n",
       "      <td>P</td>\n",
       "      <td>360</td>\n",
       "      <td>2</td>\n",
       "      <td>FL</td>\n",
       "      <td>WASHINGTONMUTUALBANK</td>\n",
       "      <td>0</td>\n",
       "      <td>0</td>\n",
       "      <td>52</td>\n",
       "    </tr>\n",
       "    <tr>\n",
       "      <th>1</th>\n",
       "      <td>0</td>\n",
       "      <td>199902</td>\n",
       "      <td>N</td>\n",
       "      <td>202901</td>\n",
       "      <td>19740</td>\n",
       "      <td>0</td>\n",
       "      <td>1</td>\n",
       "      <td>O</td>\n",
       "      <td>73</td>\n",
       "      <td>17</td>\n",
       "      <td>...</td>\n",
       "      <td>80200</td>\n",
       "      <td>F199Q1015092</td>\n",
       "      <td>N</td>\n",
       "      <td>360</td>\n",
       "      <td>1</td>\n",
       "      <td>FT</td>\n",
       "      <td>CHASEHOMEFINANCELLC</td>\n",
       "      <td>0</td>\n",
       "      <td>0</td>\n",
       "      <td>144</td>\n",
       "    </tr>\n",
       "    <tr>\n",
       "      <th>2</th>\n",
       "      <td>0</td>\n",
       "      <td>199902</td>\n",
       "      <td>N</td>\n",
       "      <td>202901</td>\n",
       "      <td>29940</td>\n",
       "      <td>0</td>\n",
       "      <td>1</td>\n",
       "      <td>O</td>\n",
       "      <td>75</td>\n",
       "      <td>16</td>\n",
       "      <td>...</td>\n",
       "      <td>66000</td>\n",
       "      <td>F199Q1266886</td>\n",
       "      <td>N</td>\n",
       "      <td>360</td>\n",
       "      <td>2</td>\n",
       "      <td>FL</td>\n",
       "      <td>WASHINGTONMUTUALBANK</td>\n",
       "      <td>0</td>\n",
       "      <td>0</td>\n",
       "      <td>67</td>\n",
       "    </tr>\n",
       "    <tr>\n",
       "      <th>3</th>\n",
       "      <td>0</td>\n",
       "      <td>199902</td>\n",
       "      <td>N</td>\n",
       "      <td>202901</td>\n",
       "      <td>31084</td>\n",
       "      <td>0</td>\n",
       "      <td>1</td>\n",
       "      <td>O</td>\n",
       "      <td>76</td>\n",
       "      <td>14</td>\n",
       "      <td>...</td>\n",
       "      <td>90700</td>\n",
       "      <td>F199Q1178167</td>\n",
       "      <td>N</td>\n",
       "      <td>360</td>\n",
       "      <td>2</td>\n",
       "      <td>GM</td>\n",
       "      <td>GMACMTGECORP</td>\n",
       "      <td>0</td>\n",
       "      <td>0</td>\n",
       "      <td>35</td>\n",
       "    </tr>\n",
       "    <tr>\n",
       "      <th>4</th>\n",
       "      <td>0</td>\n",
       "      <td>199902</td>\n",
       "      <td>N</td>\n",
       "      <td>202901</td>\n",
       "      <td>35644</td>\n",
       "      <td>0</td>\n",
       "      <td>1</td>\n",
       "      <td>O</td>\n",
       "      <td>78</td>\n",
       "      <td>18</td>\n",
       "      <td>...</td>\n",
       "      <td>7600</td>\n",
       "      <td>F199Q1178517</td>\n",
       "      <td>N</td>\n",
       "      <td>360</td>\n",
       "      <td>2</td>\n",
       "      <td>GM</td>\n",
       "      <td>GMACMTGECORP</td>\n",
       "      <td>0</td>\n",
       "      <td>0</td>\n",
       "      <td>54</td>\n",
       "    </tr>\n",
       "  </tbody>\n",
       "</table>\n",
       "<p>5 rows × 28 columns</p>\n",
       "</div>"
      ],
      "text/plain": [
       "   CreditScore  FirstPaymentDate FirstTimeHomebuyer  MaturityDate    MSA  MIP  \\\n",
       "0            0            199902                  N        202901  16974   25   \n",
       "1            0            199902                  N        202901  19740    0   \n",
       "2            0            199902                  N        202901  29940    0   \n",
       "3            0            199902                  N        202901  31084    0   \n",
       "4            0            199902                  N        202901  35644    0   \n",
       "\n",
       "   Units Occupancy  OCLTV  DTI  ...  PostalCode    LoanSeqNum  LoanPurpose  \\\n",
       "0      1         O     89   27  ...       60400  F199Q1268030            P   \n",
       "1      1         O     73   17  ...       80200  F199Q1015092            N   \n",
       "2      1         O     75   16  ...       66000  F199Q1266886            N   \n",
       "3      1         O     76   14  ...       90700  F199Q1178167            N   \n",
       "4      1         O     78   18  ...        7600  F199Q1178517            N   \n",
       "\n",
       "  OrigLoanTerm NumBorrowers SellerName          ServicerName EverDelinquent  \\\n",
       "0          360            2         FL  WASHINGTONMUTUALBANK              0   \n",
       "1          360            1         FT  CHASEHOMEFINANCELLC               0   \n",
       "2          360            2         FL  WASHINGTONMUTUALBANK              0   \n",
       "3          360            2         GM  GMACMTGECORP                      0   \n",
       "4          360            2         GM  GMACMTGECORP                      0   \n",
       "\n",
       "  MonthsDelinquent MonthsInRepayment  \n",
       "0                0                52  \n",
       "1                0               144  \n",
       "2                0                67  \n",
       "3                0                35  \n",
       "4                0                54  \n",
       "\n",
       "[5 rows x 28 columns]"
      ]
     },
     "execution_count": 362,
     "metadata": {},
     "output_type": "execute_result"
    }
   ],
   "source": [
    "# explore the first 5 rows\n",
    "data.head()"
   ]
  },
  {
   "cell_type": "code",
   "execution_count": 363,
   "id": "5736c437",
   "metadata": {
    "execution": {
     "iopub.execute_input": "2023-08-14T16:08:23.297664Z",
     "iopub.status.busy": "2023-08-14T16:08:23.296832Z",
     "iopub.status.idle": "2023-08-14T16:08:23.321609Z",
     "shell.execute_reply": "2023-08-14T16:08:23.320462Z",
     "shell.execute_reply.started": "2023-08-14T16:08:23.297626Z"
    }
   },
   "outputs": [
    {
     "data": {
      "text/html": [
       "<div>\n",
       "<style scoped>\n",
       "    .dataframe tbody tr th:only-of-type {\n",
       "        vertical-align: middle;\n",
       "    }\n",
       "\n",
       "    .dataframe tbody tr th {\n",
       "        vertical-align: top;\n",
       "    }\n",
       "\n",
       "    .dataframe thead th {\n",
       "        text-align: right;\n",
       "    }\n",
       "</style>\n",
       "<table border=\"1\" class=\"dataframe\">\n",
       "  <thead>\n",
       "    <tr style=\"text-align: right;\">\n",
       "      <th></th>\n",
       "      <th>CreditScore</th>\n",
       "      <th>FirstPaymentDate</th>\n",
       "      <th>FirstTimeHomebuyer</th>\n",
       "      <th>MaturityDate</th>\n",
       "      <th>MSA</th>\n",
       "      <th>MIP</th>\n",
       "      <th>Units</th>\n",
       "      <th>Occupancy</th>\n",
       "      <th>OCLTV</th>\n",
       "      <th>DTI</th>\n",
       "      <th>...</th>\n",
       "      <th>PostalCode</th>\n",
       "      <th>LoanSeqNum</th>\n",
       "      <th>LoanPurpose</th>\n",
       "      <th>OrigLoanTerm</th>\n",
       "      <th>NumBorrowers</th>\n",
       "      <th>SellerName</th>\n",
       "      <th>ServicerName</th>\n",
       "      <th>EverDelinquent</th>\n",
       "      <th>MonthsDelinquent</th>\n",
       "      <th>MonthsInRepayment</th>\n",
       "    </tr>\n",
       "  </thead>\n",
       "  <tbody>\n",
       "    <tr>\n",
       "      <th>291446</th>\n",
       "      <td>839</td>\n",
       "      <td>199903</td>\n",
       "      <td>N</td>\n",
       "      <td>202902</td>\n",
       "      <td>37964</td>\n",
       "      <td>0</td>\n",
       "      <td>1</td>\n",
       "      <td>O</td>\n",
       "      <td>60</td>\n",
       "      <td>32</td>\n",
       "      <td>...</td>\n",
       "      <td>19400</td>\n",
       "      <td>F199Q1220925</td>\n",
       "      <td>N</td>\n",
       "      <td>360</td>\n",
       "      <td>2</td>\n",
       "      <td>Ot</td>\n",
       "      <td>Other servicers</td>\n",
       "      <td>0</td>\n",
       "      <td>0</td>\n",
       "      <td>12</td>\n",
       "    </tr>\n",
       "    <tr>\n",
       "      <th>291447</th>\n",
       "      <td>840</td>\n",
       "      <td>200210</td>\n",
       "      <td>N</td>\n",
       "      <td>202904</td>\n",
       "      <td>35644</td>\n",
       "      <td>0</td>\n",
       "      <td>1</td>\n",
       "      <td>O</td>\n",
       "      <td>73</td>\n",
       "      <td>0</td>\n",
       "      <td>...</td>\n",
       "      <td>11600</td>\n",
       "      <td>F199Q1401332</td>\n",
       "      <td>P</td>\n",
       "      <td>319</td>\n",
       "      <td>2</td>\n",
       "      <td>Ot</td>\n",
       "      <td>Other servicers</td>\n",
       "      <td>0</td>\n",
       "      <td>0</td>\n",
       "      <td>53</td>\n",
       "    </tr>\n",
       "    <tr>\n",
       "      <th>291448</th>\n",
       "      <td>840</td>\n",
       "      <td>200304</td>\n",
       "      <td>N</td>\n",
       "      <td>202904</td>\n",
       "      <td>42044</td>\n",
       "      <td>0</td>\n",
       "      <td>1</td>\n",
       "      <td>O</td>\n",
       "      <td>73</td>\n",
       "      <td>31</td>\n",
       "      <td>...</td>\n",
       "      <td>92800</td>\n",
       "      <td>F199Q1401282</td>\n",
       "      <td>N</td>\n",
       "      <td>313</td>\n",
       "      <td>1</td>\n",
       "      <td>Ot</td>\n",
       "      <td>Other servicers</td>\n",
       "      <td>0</td>\n",
       "      <td>0</td>\n",
       "      <td>38</td>\n",
       "    </tr>\n",
       "    <tr>\n",
       "      <th>291449</th>\n",
       "      <td>845</td>\n",
       "      <td>199904</td>\n",
       "      <td>N</td>\n",
       "      <td>202903</td>\n",
       "      <td>37964</td>\n",
       "      <td>0</td>\n",
       "      <td>1</td>\n",
       "      <td>I</td>\n",
       "      <td>80</td>\n",
       "      <td>54</td>\n",
       "      <td>...</td>\n",
       "      <td>19300</td>\n",
       "      <td>F199Q1220924</td>\n",
       "      <td>P</td>\n",
       "      <td>360</td>\n",
       "      <td>2</td>\n",
       "      <td>Ot</td>\n",
       "      <td>Other servicers</td>\n",
       "      <td>0</td>\n",
       "      <td>0</td>\n",
       "      <td>32</td>\n",
       "    </tr>\n",
       "    <tr>\n",
       "      <th>291450</th>\n",
       "      <td>849</td>\n",
       "      <td>199903</td>\n",
       "      <td>N</td>\n",
       "      <td>202902</td>\n",
       "      <td>37964</td>\n",
       "      <td>0</td>\n",
       "      <td>1</td>\n",
       "      <td>O</td>\n",
       "      <td>47</td>\n",
       "      <td>29</td>\n",
       "      <td>...</td>\n",
       "      <td>18900</td>\n",
       "      <td>F199Q1220923</td>\n",
       "      <td>P</td>\n",
       "      <td>360</td>\n",
       "      <td>2</td>\n",
       "      <td>Ot</td>\n",
       "      <td>Other servicers</td>\n",
       "      <td>0</td>\n",
       "      <td>0</td>\n",
       "      <td>29</td>\n",
       "    </tr>\n",
       "  </tbody>\n",
       "</table>\n",
       "<p>5 rows × 28 columns</p>\n",
       "</div>"
      ],
      "text/plain": [
       "        CreditScore  FirstPaymentDate FirstTimeHomebuyer  MaturityDate    MSA  \\\n",
       "291446          839            199903                  N        202902  37964   \n",
       "291447          840            200210                  N        202904  35644   \n",
       "291448          840            200304                  N        202904  42044   \n",
       "291449          845            199904                  N        202903  37964   \n",
       "291450          849            199903                  N        202902  37964   \n",
       "\n",
       "        MIP  Units Occupancy  OCLTV  DTI  ...  PostalCode    LoanSeqNum  \\\n",
       "291446    0      1         O     60   32  ...       19400  F199Q1220925   \n",
       "291447    0      1         O     73    0  ...       11600  F199Q1401332   \n",
       "291448    0      1         O     73   31  ...       92800  F199Q1401282   \n",
       "291449    0      1         I     80   54  ...       19300  F199Q1220924   \n",
       "291450    0      1         O     47   29  ...       18900  F199Q1220923   \n",
       "\n",
       "        LoanPurpose OrigLoanTerm NumBorrowers SellerName  \\\n",
       "291446            N          360            2         Ot   \n",
       "291447            P          319            2         Ot   \n",
       "291448            N          313            1         Ot   \n",
       "291449            P          360            2         Ot   \n",
       "291450            P          360            2         Ot   \n",
       "\n",
       "                ServicerName EverDelinquent MonthsDelinquent MonthsInRepayment  \n",
       "291446  Other servicers                   0                0                12  \n",
       "291447  Other servicers                   0                0                53  \n",
       "291448  Other servicers                   0                0                38  \n",
       "291449  Other servicers                   0                0                32  \n",
       "291450  Other servicers                   0                0                29  \n",
       "\n",
       "[5 rows x 28 columns]"
      ]
     },
     "execution_count": 363,
     "metadata": {},
     "output_type": "execute_result"
    }
   ],
   "source": [
    "# explore the last 5 rows\n",
    "data.tail()"
   ]
  },
  {
   "cell_type": "code",
   "execution_count": 364,
   "id": "bf05cbca",
   "metadata": {
    "execution": {
     "iopub.execute_input": "2023-08-14T16:08:23.323690Z",
     "iopub.status.busy": "2023-08-14T16:08:23.323286Z",
     "iopub.status.idle": "2023-08-14T16:08:23.336774Z",
     "shell.execute_reply": "2023-08-14T16:08:23.335459Z",
     "shell.execute_reply.started": "2023-08-14T16:08:23.323658Z"
    }
   },
   "outputs": [
    {
     "data": {
      "text/plain": [
       "(291451, 28)"
      ]
     },
     "execution_count": 364,
     "metadata": {},
     "output_type": "execute_result"
    }
   ],
   "source": [
    "# size of the dataset\n",
    "data.shape"
   ]
  },
  {
   "cell_type": "code",
   "execution_count": 365,
   "id": "5f1277ad",
   "metadata": {
    "execution": {
     "iopub.execute_input": "2023-08-14T16:08:23.339434Z",
     "iopub.status.busy": "2023-08-14T16:08:23.338731Z",
     "iopub.status.idle": "2023-08-14T16:08:23.350309Z",
     "shell.execute_reply": "2023-08-14T16:08:23.349359Z",
     "shell.execute_reply.started": "2023-08-14T16:08:23.339369Z"
    }
   },
   "outputs": [
    {
     "data": {
      "text/plain": [
       "Index(['CreditScore', 'FirstPaymentDate', 'FirstTimeHomebuyer', 'MaturityDate',\n",
       "       'MSA', 'MIP', 'Units', 'Occupancy', 'OCLTV', 'DTI', 'OrigUPB', 'LTV',\n",
       "       'OrigInterestRate', 'Channel', 'PPM', 'ProductType', 'PropertyState',\n",
       "       'PropertyType', 'PostalCode', 'LoanSeqNum', 'LoanPurpose',\n",
       "       'OrigLoanTerm', 'NumBorrowers', 'SellerName', 'ServicerName',\n",
       "       'EverDelinquent', 'MonthsDelinquent', 'MonthsInRepayment'],\n",
       "      dtype='object')"
      ]
     },
     "execution_count": 365,
     "metadata": {},
     "output_type": "execute_result"
    }
   ],
   "source": [
    "# check the columns names\n",
    "data.columns"
   ]
  },
  {
   "cell_type": "code",
   "execution_count": 366,
   "id": "4a1ba4e9",
   "metadata": {
    "execution": {
     "iopub.execute_input": "2023-08-14T16:08:23.352740Z",
     "iopub.status.busy": "2023-08-14T16:08:23.351800Z",
     "iopub.status.idle": "2023-08-14T16:08:24.703528Z",
     "shell.execute_reply": "2023-08-14T16:08:24.702199Z",
     "shell.execute_reply.started": "2023-08-14T16:08:23.352705Z"
    }
   },
   "outputs": [
    {
     "name": "stdout",
     "output_type": "stream",
     "text": [
      "<class 'pandas.core.frame.DataFrame'>\n",
      "RangeIndex: 291451 entries, 0 to 291450\n",
      "Data columns (total 28 columns):\n",
      " #   Column              Non-Null Count   Dtype  \n",
      "---  ------              --------------   -----  \n",
      " 0   CreditScore         291451 non-null  int64  \n",
      " 1   FirstPaymentDate    291451 non-null  int64  \n",
      " 2   FirstTimeHomebuyer  291451 non-null  object \n",
      " 3   MaturityDate        291451 non-null  int64  \n",
      " 4   MSA                 291451 non-null  object \n",
      " 5   MIP                 291451 non-null  int64  \n",
      " 6   Units               291451 non-null  int64  \n",
      " 7   Occupancy           291451 non-null  object \n",
      " 8   OCLTV               291451 non-null  int64  \n",
      " 9   DTI                 291451 non-null  int64  \n",
      " 10  OrigUPB             291451 non-null  int64  \n",
      " 11  LTV                 291451 non-null  int64  \n",
      " 12  OrigInterestRate    291451 non-null  float64\n",
      " 13  Channel             291451 non-null  object \n",
      " 14  PPM                 291451 non-null  object \n",
      " 15  ProductType         291451 non-null  object \n",
      " 16  PropertyState       291451 non-null  object \n",
      " 17  PropertyType        291451 non-null  object \n",
      " 18  PostalCode          291451 non-null  object \n",
      " 19  LoanSeqNum          291451 non-null  object \n",
      " 20  LoanPurpose         291451 non-null  object \n",
      " 21  OrigLoanTerm        291451 non-null  int64  \n",
      " 22  NumBorrowers        291451 non-null  object \n",
      " 23  SellerName          266457 non-null  object \n",
      " 24  ServicerName        291451 non-null  object \n",
      " 25  EverDelinquent      291451 non-null  int64  \n",
      " 26  MonthsDelinquent    291451 non-null  int64  \n",
      " 27  MonthsInRepayment   291451 non-null  int64  \n",
      "dtypes: float64(1), int64(13), object(14)\n",
      "memory usage: 62.3+ MB\n"
     ]
    }
   ],
   "source": [
    "data.info()"
   ]
  },
  {
   "cell_type": "markdown",
   "id": "b31f3502",
   "metadata": {},
   "source": [
    "# 1. Data Cleaning"
   ]
  },
  {
   "cell_type": "markdown",
   "id": "d54e9198",
   "metadata": {},
   "source": [
    "## Missing values treatment"
   ]
  },
  {
   "cell_type": "code",
   "execution_count": 367,
   "id": "48692357",
   "metadata": {
    "execution": {
     "iopub.execute_input": "2023-08-14T16:08:24.705332Z",
     "iopub.status.busy": "2023-08-14T16:08:24.704928Z",
     "iopub.status.idle": "2023-08-14T16:08:26.026986Z",
     "shell.execute_reply": "2023-08-14T16:08:26.025776Z",
     "shell.execute_reply.started": "2023-08-14T16:08:24.705302Z"
    }
   },
   "outputs": [
    {
     "data": {
      "text/plain": [
       "SellerName            24994\n",
       "CreditScore               0\n",
       "FirstPaymentDate          0\n",
       "MonthsDelinquent          0\n",
       "EverDelinquent            0\n",
       "ServicerName              0\n",
       "NumBorrowers              0\n",
       "OrigLoanTerm              0\n",
       "LoanPurpose               0\n",
       "LoanSeqNum                0\n",
       "PostalCode                0\n",
       "PropertyType              0\n",
       "PropertyState             0\n",
       "ProductType               0\n",
       "PPM                       0\n",
       "Channel                   0\n",
       "OrigInterestRate          0\n",
       "LTV                       0\n",
       "OrigUPB                   0\n",
       "DTI                       0\n",
       "OCLTV                     0\n",
       "Occupancy                 0\n",
       "Units                     0\n",
       "MIP                       0\n",
       "MSA                       0\n",
       "MaturityDate              0\n",
       "FirstTimeHomebuyer        0\n",
       "MonthsInRepayment         0\n",
       "dtype: int64"
      ]
     },
     "execution_count": 367,
     "metadata": {},
     "output_type": "execute_result"
    }
   ],
   "source": [
    "# missing values in descending order\n",
    "data.isnull().sum().sort_values(ascending=False)"
   ]
  },
  {
   "cell_type": "markdown",
   "id": "b6ed414f",
   "metadata": {},
   "source": [
    "We see that according to the isnull() function, only \"SellerName\" has missing values. \n",
    "However we'll look at the variable description to make sure that others columns don't have missing values."
   ]
  },
  {
   "cell_type": "markdown",
   "id": "97f0eac7",
   "metadata": {},
   "source": [
    "### 1. CreditScore  \n",
    "The standardized credit score used to evaluate the borrower during the loan origination process. For reperforming, modified fixed-rate and modified step-rate loans, this value will be blank. \n",
    "All known credit scores are disclosed at issuance. Generally, the credit score known and disclosed at time of PC issuance is the score used to originate the mortgage. Mortgages reported with unknown credit scores at the time of PC issuance may have credit scores disclosed in the month following PC issuance. Credit scores reported at PC issuance and those reported in the month following, if any, are not updated and these same scores continue to appear in the monthly reporting. \n",
    "\n",
    "**An unavailable credit score or a credit score value less than 300 or greater than 850 will be disclosed as “Not Available,” which will be indicated by 9999.  \n",
    "9999 = Not Available**"
   ]
  },
  {
   "cell_type": "code",
   "execution_count": 368,
   "id": "c75ae3fa",
   "metadata": {
    "execution": {
     "iopub.execute_input": "2023-08-14T16:08:26.032090Z",
     "iopub.status.busy": "2023-08-14T16:08:26.031732Z",
     "iopub.status.idle": "2023-08-14T16:08:26.042283Z",
     "shell.execute_reply": "2023-08-14T16:08:26.041208Z",
     "shell.execute_reply.started": "2023-08-14T16:08:26.032059Z"
    }
   },
   "outputs": [
    {
     "data": {
      "text/plain": [
       "0    0\n",
       "1    0\n",
       "2    0\n",
       "3    0\n",
       "4    0\n",
       "Name: CreditScore, dtype: int64"
      ]
     },
     "execution_count": 368,
     "metadata": {},
     "output_type": "execute_result"
    }
   ],
   "source": [
    "data['CreditScore'].head()"
   ]
  },
  {
   "cell_type": "code",
   "execution_count": 369,
   "id": "c3dbc160",
   "metadata": {
    "execution": {
     "iopub.execute_input": "2023-08-14T16:08:26.044467Z",
     "iopub.status.busy": "2023-08-14T16:08:26.043760Z",
     "iopub.status.idle": "2023-08-14T16:08:26.062758Z",
     "shell.execute_reply": "2023-08-14T16:08:26.061558Z",
     "shell.execute_reply.started": "2023-08-14T16:08:26.044434Z"
    }
   },
   "outputs": [
    {
     "data": {
      "text/plain": [
       "0       0\n",
       "1       0\n",
       "2       0\n",
       "3       0\n",
       "4       0\n",
       "       ..\n",
       "1184    0\n",
       "1185    0\n",
       "1186    0\n",
       "1187    0\n",
       "1188    0\n",
       "Name: CreditScore, Length: 1189, dtype: int64"
      ]
     },
     "execution_count": 369,
     "metadata": {},
     "output_type": "execute_result"
    }
   ],
   "source": [
    "data[data['CreditScore'] < 300]['CreditScore']"
   ]
  },
  {
   "cell_type": "code",
   "execution_count": 370,
   "id": "75507f74",
   "metadata": {
    "execution": {
     "iopub.execute_input": "2023-08-14T16:08:26.065157Z",
     "iopub.status.busy": "2023-08-14T16:08:26.064211Z",
     "iopub.status.idle": "2023-08-14T16:08:26.076214Z",
     "shell.execute_reply": "2023-08-14T16:08:26.074882Z",
     "shell.execute_reply.started": "2023-08-14T16:08:26.065100Z"
    }
   },
   "outputs": [
    {
     "data": {
      "text/plain": [
       "Series([], Name: CreditScore, dtype: int64)"
      ]
     },
     "execution_count": 370,
     "metadata": {},
     "output_type": "execute_result"
    }
   ],
   "source": [
    "data[data['CreditScore'] > 850]['CreditScore']"
   ]
  },
  {
   "cell_type": "code",
   "execution_count": 371,
   "id": "578a89fb",
   "metadata": {
    "execution": {
     "iopub.execute_input": "2023-08-14T16:08:26.078224Z",
     "iopub.status.busy": "2023-08-14T16:08:26.077905Z",
     "iopub.status.idle": "2023-08-14T16:08:26.090690Z",
     "shell.execute_reply": "2023-08-14T16:08:26.089471Z",
     "shell.execute_reply.started": "2023-08-14T16:08:26.078196Z"
    }
   },
   "outputs": [
    {
     "data": {
      "text/plain": [
       "Series([], Name: CreditScore, dtype: int64)"
      ]
     },
     "execution_count": 371,
     "metadata": {},
     "output_type": "execute_result"
    }
   ],
   "source": [
    "data[data['CreditScore'] == 9999]['CreditScore']"
   ]
  },
  {
   "cell_type": "markdown",
   "id": "9687f34c",
   "metadata": {},
   "source": [
    "There are 1189 values of 'CreditScore' less than 350 but not values greater than 850.  \n",
    "So these values should be marqued as “Not Available”, which will be indicated by 9999."
   ]
  },
  {
   "cell_type": "code",
   "execution_count": 372,
   "id": "b1a12773",
   "metadata": {
    "execution": {
     "iopub.execute_input": "2023-08-14T16:08:26.093065Z",
     "iopub.status.busy": "2023-08-14T16:08:26.092638Z",
     "iopub.status.idle": "2023-08-14T16:08:26.102588Z",
     "shell.execute_reply": "2023-08-14T16:08:26.101463Z",
     "shell.execute_reply.started": "2023-08-14T16:08:26.093026Z"
    }
   },
   "outputs": [],
   "source": [
    "# replacing all credit score values less than 300 by 9999\n",
    "data.loc[data['CreditScore'] < 300, 'CreditScore'] = 9999"
   ]
  },
  {
   "cell_type": "code",
   "execution_count": 373,
   "id": "84d91888",
   "metadata": {
    "execution": {
     "iopub.execute_input": "2023-08-14T16:08:26.104932Z",
     "iopub.status.busy": "2023-08-14T16:08:26.104516Z",
     "iopub.status.idle": "2023-08-14T16:08:26.118423Z",
     "shell.execute_reply": "2023-08-14T16:08:26.117065Z",
     "shell.execute_reply.started": "2023-08-14T16:08:26.104892Z"
    }
   },
   "outputs": [
    {
     "data": {
      "text/plain": [
       "Series([], Name: CreditScore, dtype: int64)"
      ]
     },
     "execution_count": 373,
     "metadata": {},
     "output_type": "execute_result"
    }
   ],
   "source": [
    "# check the result\n",
    "data[data['CreditScore'] < 300]['CreditScore']"
   ]
  },
  {
   "cell_type": "markdown",
   "id": "88ceba9e",
   "metadata": {},
   "source": [
    "###  2. FirstPaymentDate : \n",
    "The month and year that the first scheduled payment on the loan is due. For seller-owned modified mortgages, converted mortgages, and construction to permanent mortgages, the first payment due date of the mortgage as of the note modification, conversion, or construction to permanent date of the mortgage."
   ]
  },
  {
   "cell_type": "code",
   "execution_count": 374,
   "id": "40de1fa9",
   "metadata": {
    "execution": {
     "iopub.execute_input": "2023-08-14T16:08:26.120638Z",
     "iopub.status.busy": "2023-08-14T16:08:26.120175Z",
     "iopub.status.idle": "2023-08-14T16:08:26.131505Z",
     "shell.execute_reply": "2023-08-14T16:08:26.130054Z",
     "shell.execute_reply.started": "2023-08-14T16:08:26.120595Z"
    }
   },
   "outputs": [
    {
     "data": {
      "text/plain": [
       "291446    199903\n",
       "291447    200210\n",
       "291448    200304\n",
       "291449    199904\n",
       "291450    199903\n",
       "Name: FirstPaymentDate, dtype: int64"
      ]
     },
     "execution_count": 374,
     "metadata": {},
     "output_type": "execute_result"
    }
   ],
   "source": [
    "data.FirstPaymentDate.tail()"
   ]
  },
  {
   "cell_type": "markdown",
   "id": "7e51e46c",
   "metadata": {},
   "source": [
    "These values are dates but Python doesn't know that they're dates because the dtype is 'int64'."
   ]
  },
  {
   "cell_type": "code",
   "execution_count": 375,
   "id": "d9b4d85f",
   "metadata": {
    "execution": {
     "iopub.execute_input": "2023-08-14T16:08:26.133699Z",
     "iopub.status.busy": "2023-08-14T16:08:26.133343Z",
     "iopub.status.idle": "2023-08-14T16:08:26.144827Z",
     "shell.execute_reply": "2023-08-14T16:08:26.143786Z",
     "shell.execute_reply.started": "2023-08-14T16:08:26.133669Z"
    }
   },
   "outputs": [
    {
     "data": {
      "text/plain": [
       "dtype('int64')"
      ]
     },
     "execution_count": 375,
     "metadata": {},
     "output_type": "execute_result"
    }
   ],
   "source": [
    "data['FirstPaymentDate'].dtype"
   ]
  },
  {
   "cell_type": "code",
   "execution_count": 376,
   "id": "edf4f330",
   "metadata": {
    "execution": {
     "iopub.execute_input": "2023-08-14T16:08:26.146871Z",
     "iopub.status.busy": "2023-08-14T16:08:26.146521Z",
     "iopub.status.idle": "2023-08-14T16:08:26.529270Z",
     "shell.execute_reply": "2023-08-14T16:08:26.528096Z",
     "shell.execute_reply.started": "2023-08-14T16:08:26.146841Z"
    }
   },
   "outputs": [
    {
     "data": {
      "text/plain": [
       "291446    1999-03\n",
       "291447    2002-10\n",
       "291448    2003-04\n",
       "291449    1999-04\n",
       "291450    1999-03\n",
       "Name: FirstPaymentDate, dtype: object"
      ]
     },
     "execution_count": 376,
     "metadata": {},
     "output_type": "execute_result"
    }
   ],
   "source": [
    "# let's first separate year from month\n",
    "data['FirstPaymentDate'] = data['FirstPaymentDate'].apply(lambda x: str(x)[:4] + '-' + str(x)[4:]) #.astype('str')\n",
    "data['FirstPaymentDate'].tail()"
   ]
  },
  {
   "cell_type": "markdown",
   "id": "a017c62b",
   "metadata": {},
   "source": [
    "Then let's convert this object column to datetime. This is called \"Parsing Dates\", i.e., we're taking in a string and identifying its components parts. The format of dates are determined with a guide called \"strftime\". The most common parts of date are : \n",
    "- %d for day, \n",
    "- %m for month,\n",
    "- %y for two-digit year,\n",
    "- %Y for 4 digit year."
   ]
  },
  {
   "cell_type": "code",
   "execution_count": 377,
   "id": "77737c0e",
   "metadata": {
    "execution": {
     "iopub.execute_input": "2023-08-14T16:08:26.532288Z",
     "iopub.status.busy": "2023-08-14T16:08:26.531938Z",
     "iopub.status.idle": "2023-08-14T16:08:26.607634Z",
     "shell.execute_reply": "2023-08-14T16:08:26.606733Z",
     "shell.execute_reply.started": "2023-08-14T16:08:26.532258Z"
    }
   },
   "outputs": [
    {
     "data": {
      "text/plain": [
       "291446   1999-03-01\n",
       "291447   2002-10-01\n",
       "291448   2003-04-01\n",
       "291449   1999-04-01\n",
       "291450   1999-03-01\n",
       "Name: Parsed_FirstPaymentDate, dtype: datetime64[ns]"
      ]
     },
     "execution_count": 377,
     "metadata": {},
     "output_type": "execute_result"
    }
   ],
   "source": [
    "# create new colum for parsed date\n",
    "data['Parsed_FirstPaymentDate'] = pd.to_datetime(data['FirstPaymentDate'], format=\"%Y-%m\")\n",
    "data['Parsed_FirstPaymentDate'].tail()"
   ]
  },
  {
   "cell_type": "markdown",
   "id": "f87401ff",
   "metadata": {},
   "source": [
    "Now we can see that the column dtype is datetime64[ns] :)"
   ]
  },
  {
   "cell_type": "code",
   "execution_count": 378,
   "id": "2e6366b4",
   "metadata": {
    "execution": {
     "iopub.execute_input": "2023-08-14T16:08:26.609227Z",
     "iopub.status.busy": "2023-08-14T16:08:26.608902Z",
     "iopub.status.idle": "2023-08-14T16:08:26.677312Z",
     "shell.execute_reply": "2023-08-14T16:08:26.676012Z",
     "shell.execute_reply.started": "2023-08-14T16:08:26.609199Z"
    }
   },
   "outputs": [],
   "source": [
    "# delete the old date column\n",
    "data.drop('FirstPaymentDate', axis=1, inplace=True)"
   ]
  },
  {
   "cell_type": "markdown",
   "id": "6ecbdeb2",
   "metadata": {},
   "source": [
    "### 3. FirstTimeHomebuyer: \n",
    "The indicator denoting whether a borrower on the loan qualifies as a first-time homebuyer. Indicates whether the Borrower, or one of a group of Borrowers, is an individual who \n",
    "(1) is purchasing the mortgaged property, \n",
    "(2) will reside in the mortgaged property as a primary residence and \n",
    "(3) had no ownership interest (sole or joint) in a residential property during the three-year period preceding the date of the purchase of the mortgaged property. With certain limited exceptions, a displaced homemaker or single parent may also be considered a First- Time Homebuyer if the individual had no ownership interest in a residential property during the preceding three-year period other than an ownership interest in the marital residence with a spouse. \n",
    "\n",
    "**“Not Available” will be indicated by 9.  \n",
    "Y = Yes  \n",
    "N = No  \n",
    "9 = Not Available**"
   ]
  },
  {
   "cell_type": "code",
   "execution_count": 379,
   "id": "42df0bde",
   "metadata": {
    "execution": {
     "iopub.execute_input": "2023-08-14T16:08:26.679716Z",
     "iopub.status.busy": "2023-08-14T16:08:26.679011Z",
     "iopub.status.idle": "2023-08-14T16:08:26.688495Z",
     "shell.execute_reply": "2023-08-14T16:08:26.687173Z",
     "shell.execute_reply.started": "2023-08-14T16:08:26.679682Z"
    }
   },
   "outputs": [
    {
     "data": {
      "text/plain": [
       "0    N\n",
       "1    N\n",
       "2    N\n",
       "3    N\n",
       "4    N\n",
       "Name: FirstTimeHomebuyer, dtype: object"
      ]
     },
     "execution_count": 379,
     "metadata": {},
     "output_type": "execute_result"
    }
   ],
   "source": [
    "data.FirstTimeHomebuyer.head()"
   ]
  },
  {
   "cell_type": "code",
   "execution_count": 380,
   "id": "a16dd68e",
   "metadata": {
    "execution": {
     "iopub.execute_input": "2023-08-14T16:08:26.690187Z",
     "iopub.status.busy": "2023-08-14T16:08:26.689823Z",
     "iopub.status.idle": "2023-08-14T16:08:26.753273Z",
     "shell.execute_reply": "2023-08-14T16:08:26.752093Z",
     "shell.execute_reply.started": "2023-08-14T16:08:26.690154Z"
    }
   },
   "outputs": [
    {
     "data": {
      "text/plain": [
       "Series([], Name: FirstTimeHomebuyer, dtype: object)"
      ]
     },
     "execution_count": 380,
     "metadata": {},
     "output_type": "execute_result"
    }
   ],
   "source": [
    "data[data.FirstTimeHomebuyer == 9].FirstTimeHomebuyer"
   ]
  },
  {
   "cell_type": "code",
   "execution_count": 381,
   "id": "b6937f17",
   "metadata": {
    "execution": {
     "iopub.execute_input": "2023-08-14T16:08:26.756227Z",
     "iopub.status.busy": "2023-08-14T16:08:26.755447Z",
     "iopub.status.idle": "2023-08-14T16:08:26.817640Z",
     "shell.execute_reply": "2023-08-14T16:08:26.816449Z",
     "shell.execute_reply.started": "2023-08-14T16:08:26.756178Z"
    }
   },
   "outputs": [
    {
     "data": {
      "text/plain": [
       "Series([], Name: FirstTimeHomebuyer, dtype: object)"
      ]
     },
     "execution_count": 381,
     "metadata": {},
     "output_type": "execute_result"
    }
   ],
   "source": [
    "data[data.FirstTimeHomebuyer == 'Not Available'].FirstTimeHomebuyer"
   ]
  },
  {
   "cell_type": "code",
   "execution_count": 382,
   "id": "51c45c8a",
   "metadata": {
    "execution": {
     "iopub.execute_input": "2023-08-14T16:08:26.819786Z",
     "iopub.status.busy": "2023-08-14T16:08:26.819401Z",
     "iopub.status.idle": "2023-08-14T16:08:26.871509Z",
     "shell.execute_reply": "2023-08-14T16:08:26.870326Z",
     "shell.execute_reply.started": "2023-08-14T16:08:26.819751Z"
    }
   },
   "outputs": [
    {
     "data": {
      "text/plain": [
       "N    184154\n",
       "X     78015\n",
       "Y     29282\n",
       "Name: FirstTimeHomebuyer, dtype: int64"
      ]
     },
     "execution_count": 382,
     "metadata": {},
     "output_type": "execute_result"
    }
   ],
   "source": [
    "data.FirstTimeHomebuyer.value_counts()"
   ]
  },
  {
   "cell_type": "markdown",
   "id": "1ec6d780",
   "metadata": {},
   "source": [
    "In this column we have three categories: Y for Yes, N for No and X. We'll consider the X values as missing values or 'Not Available' so replaced by 9."
   ]
  },
  {
   "cell_type": "code",
   "execution_count": 383,
   "id": "2e7e10ff",
   "metadata": {
    "execution": {
     "iopub.execute_input": "2023-08-14T16:08:26.873271Z",
     "iopub.status.busy": "2023-08-14T16:08:26.872915Z",
     "iopub.status.idle": "2023-08-14T16:08:26.973000Z",
     "shell.execute_reply": "2023-08-14T16:08:26.972074Z",
     "shell.execute_reply.started": "2023-08-14T16:08:26.873238Z"
    }
   },
   "outputs": [
    {
     "data": {
      "text/plain": [
       "N    184154\n",
       "9     78015\n",
       "Y     29282\n",
       "Name: FirstTimeHomebuyer, dtype: int64"
      ]
     },
     "execution_count": 383,
     "metadata": {},
     "output_type": "execute_result"
    }
   ],
   "source": [
    "# replacing X by 9\n",
    "data.loc[data['FirstTimeHomebuyer'] == 'X', 'FirstTimeHomebuyer'] = 9\n",
    "data.FirstTimeHomebuyer.value_counts()"
   ]
  },
  {
   "cell_type": "markdown",
   "id": "d3f288b4",
   "metadata": {},
   "source": [
    "### 4. MaturityDate: \n",
    "The month and year that the final scheduled payment on the loan is due.  \n",
    "**We'll apply same process of date parsing as above for the 'FirstPaymentDate' column.**\n"
   ]
  },
  {
   "cell_type": "code",
   "execution_count": 384,
   "id": "8962a4d6",
   "metadata": {
    "execution": {
     "iopub.execute_input": "2023-08-14T16:08:26.975114Z",
     "iopub.status.busy": "2023-08-14T16:08:26.974080Z",
     "iopub.status.idle": "2023-08-14T16:08:26.984216Z",
     "shell.execute_reply": "2023-08-14T16:08:26.982935Z",
     "shell.execute_reply.started": "2023-08-14T16:08:26.975079Z"
    }
   },
   "outputs": [
    {
     "data": {
      "text/plain": [
       "0         202901\n",
       "1         202901\n",
       "2         202901\n",
       "3         202901\n",
       "4         202901\n",
       "           ...  \n",
       "291446    202902\n",
       "291447    202904\n",
       "291448    202904\n",
       "291449    202903\n",
       "291450    202902\n",
       "Name: MaturityDate, Length: 291451, dtype: int64"
      ]
     },
     "execution_count": 384,
     "metadata": {},
     "output_type": "execute_result"
    }
   ],
   "source": [
    "data.MaturityDate"
   ]
  },
  {
   "cell_type": "code",
   "execution_count": 385,
   "id": "d055370e",
   "metadata": {
    "execution": {
     "iopub.execute_input": "2023-08-14T16:08:26.986217Z",
     "iopub.status.busy": "2023-08-14T16:08:26.985802Z",
     "iopub.status.idle": "2023-08-14T16:08:27.341403Z",
     "shell.execute_reply": "2023-08-14T16:08:27.340286Z",
     "shell.execute_reply.started": "2023-08-14T16:08:26.986183Z"
    }
   },
   "outputs": [
    {
     "data": {
      "text/plain": [
       "291446    2029-02\n",
       "291447    2029-04\n",
       "291448    2029-04\n",
       "291449    2029-03\n",
       "291450    2029-02\n",
       "Name: MaturityDate, dtype: object"
      ]
     },
     "execution_count": 385,
     "metadata": {},
     "output_type": "execute_result"
    }
   ],
   "source": [
    "# let's first separate year from month\n",
    "data['MaturityDate'] = data['MaturityDate'].apply(lambda x: str(x)[:4] + '-' + str(x)[4:]) #.astype('str')\n",
    "data['MaturityDate'].tail()"
   ]
  },
  {
   "cell_type": "code",
   "execution_count": 386,
   "id": "98ceebb3",
   "metadata": {
    "execution": {
     "iopub.execute_input": "2023-08-14T16:08:27.351386Z",
     "iopub.status.busy": "2023-08-14T16:08:27.350963Z",
     "iopub.status.idle": "2023-08-14T16:08:27.432147Z",
     "shell.execute_reply": "2023-08-14T16:08:27.430995Z",
     "shell.execute_reply.started": "2023-08-14T16:08:27.351340Z"
    }
   },
   "outputs": [
    {
     "data": {
      "text/plain": [
       "291446   2029-02-01\n",
       "291447   2029-04-01\n",
       "291448   2029-04-01\n",
       "291449   2029-03-01\n",
       "291450   2029-02-01\n",
       "Name: Parsed_MaturityDate, dtype: datetime64[ns]"
      ]
     },
     "execution_count": 386,
     "metadata": {},
     "output_type": "execute_result"
    }
   ],
   "source": [
    "# create new colum for parsed date\n",
    "data['Parsed_MaturityDate'] = pd.to_datetime(data['MaturityDate'], format=\"%Y-%m\")\n",
    "data['Parsed_MaturityDate'].tail()"
   ]
  },
  {
   "cell_type": "code",
   "execution_count": 387,
   "id": "ba247e5c",
   "metadata": {
    "execution": {
     "iopub.execute_input": "2023-08-14T16:08:27.433972Z",
     "iopub.status.busy": "2023-08-14T16:08:27.433626Z",
     "iopub.status.idle": "2023-08-14T16:08:27.504198Z",
     "shell.execute_reply": "2023-08-14T16:08:27.502999Z",
     "shell.execute_reply.started": "2023-08-14T16:08:27.433940Z"
    }
   },
   "outputs": [],
   "source": [
    "# delete the old date column\n",
    "data.drop('MaturityDate', axis=1, inplace=True)"
   ]
  },
  {
   "cell_type": "markdown",
   "id": "b52a71d8",
   "metadata": {},
   "source": [
    "### 5. MSA: Mortgage Security Amount\n"
   ]
  },
  {
   "cell_type": "code",
   "execution_count": 388,
   "id": "0b9b9e76",
   "metadata": {
    "execution": {
     "iopub.execute_input": "2023-08-14T16:08:27.506421Z",
     "iopub.status.busy": "2023-08-14T16:08:27.505919Z",
     "iopub.status.idle": "2023-08-14T16:08:27.521163Z",
     "shell.execute_reply": "2023-08-14T16:08:27.519984Z",
     "shell.execute_reply.started": "2023-08-14T16:08:27.506356Z"
    }
   },
   "outputs": [
    {
     "data": {
      "text/plain": [
       "0    16974\n",
       "1    19740\n",
       "2    29940\n",
       "3    31084\n",
       "4    35644\n",
       "Name: MSA, dtype: object"
      ]
     },
     "execution_count": 388,
     "metadata": {},
     "output_type": "execute_result"
    }
   ],
   "source": [
    "data.MSA.head()"
   ]
  },
  {
   "cell_type": "code",
   "execution_count": 389,
   "id": "192a5aef",
   "metadata": {
    "execution": {
     "iopub.execute_input": "2023-08-14T16:08:27.525207Z",
     "iopub.status.busy": "2023-08-14T16:08:27.524482Z",
     "iopub.status.idle": "2023-08-14T16:08:27.587848Z",
     "shell.execute_reply": "2023-08-14T16:08:27.586918Z",
     "shell.execute_reply.started": "2023-08-14T16:08:27.525162Z"
    }
   },
   "outputs": [
    {
     "data": {
      "text/plain": [
       "X        39100\n",
       "31084     9338\n",
       "16974     8771\n",
       "12060     6985\n",
       "47644     6673\n",
       "         ...  \n",
       "21940        3\n",
       "49500        2\n",
       "25020        1\n",
       "10380        1\n",
       "32420        1\n",
       "Name: MSA, Length: 392, dtype: int64"
      ]
     },
     "execution_count": 389,
     "metadata": {},
     "output_type": "execute_result"
    }
   ],
   "source": [
    "data.MSA.value_counts()"
   ]
  },
  {
   "cell_type": "code",
   "execution_count": 390,
   "id": "c3022db0",
   "metadata": {
    "execution": {
     "iopub.execute_input": "2023-08-14T16:08:27.590257Z",
     "iopub.status.busy": "2023-08-14T16:08:27.588967Z",
     "iopub.status.idle": "2023-08-14T16:08:27.704721Z",
     "shell.execute_reply": "2023-08-14T16:08:27.703547Z",
     "shell.execute_reply.started": "2023-08-14T16:08:27.590221Z"
    }
   },
   "outputs": [
    {
     "data": {
      "text/plain": [
       "99       39100\n",
       "31084     9338\n",
       "16974     8771\n",
       "12060     6985\n",
       "47644     6673\n",
       "         ...  \n",
       "21940        3\n",
       "49500        2\n",
       "25020        1\n",
       "10380        1\n",
       "32420        1\n",
       "Name: MSA, Length: 392, dtype: int64"
      ]
     },
     "execution_count": 390,
     "metadata": {},
     "output_type": "execute_result"
    }
   ],
   "source": [
    "# replacing X by 99\n",
    "#data.loc[data['MSA'] == 'X', 'MSA'] = 99    # this won't work because there are spaces in the X string\n",
    "data.loc[data['MSA'] == 'X    ', 'MSA'] = 99\n",
    "data.MSA.value_counts()"
   ]
  },
  {
   "cell_type": "markdown",
   "id": "6cbdde77",
   "metadata": {},
   "source": [
    "**After many tries to replace X values by 99, I found that we must use(added spaces after X ) \"X    \" instead of simply \"X\" without spaces.**"
   ]
  },
  {
   "cell_type": "markdown",
   "id": "2aef8df0",
   "metadata": {},
   "source": [
    "### 6. MIP: \n",
    "The percentage of mortgage insurance coverage obtained at origination in effect at the time the security was issued. Only primary mortgage insurance that is purchased by the Borrower, lender or Freddie Mac is disclosed. Mortgage insurance that constitutes “credit enhancement” that is not required by Freddie Mac’s Charter is not disclosed.  \n",
    "**Amounts of mortgage insurance reported by Sellers that are in excess of 55% will be disclosed as “Not Available,” which will be indicated by 999.    \n",
    "000= No MI    \n",
    "999= Not Available**"
   ]
  },
  {
   "cell_type": "code",
   "execution_count": 391,
   "id": "71205c96",
   "metadata": {
    "execution": {
     "iopub.execute_input": "2023-08-14T16:08:27.706357Z",
     "iopub.status.busy": "2023-08-14T16:08:27.706039Z",
     "iopub.status.idle": "2023-08-14T16:08:27.714857Z",
     "shell.execute_reply": "2023-08-14T16:08:27.713738Z",
     "shell.execute_reply.started": "2023-08-14T16:08:27.706329Z"
    }
   },
   "outputs": [
    {
     "data": {
      "text/plain": [
       "291446    0\n",
       "291447    0\n",
       "291448    0\n",
       "291449    0\n",
       "291450    0\n",
       "Name: MIP, dtype: int64"
      ]
     },
     "execution_count": 391,
     "metadata": {},
     "output_type": "execute_result"
    }
   ],
   "source": [
    "data.MIP.tail()"
   ]
  },
  {
   "cell_type": "code",
   "execution_count": 392,
   "id": "dee85e5c",
   "metadata": {
    "execution": {
     "iopub.execute_input": "2023-08-14T16:08:27.716748Z",
     "iopub.status.busy": "2023-08-14T16:08:27.716367Z",
     "iopub.status.idle": "2023-08-14T16:08:27.733688Z",
     "shell.execute_reply": "2023-08-14T16:08:27.732710Z",
     "shell.execute_reply.started": "2023-08-14T16:08:27.716717Z"
    }
   },
   "outputs": [
    {
     "data": {
      "text/plain": [
       "0     184511\n",
       "25     42441\n",
       "30     41869\n",
       "12     13294\n",
       "18      3005\n",
       "17      2739\n",
       "35      1290\n",
       "36       748\n",
       "29       640\n",
       "20       497\n",
       "14       166\n",
       "27        66\n",
       "22        45\n",
       "6         32\n",
       "33        24\n",
       "32         9\n",
       "28         9\n",
       "15         7\n",
       "50         7\n",
       "47         7\n",
       "26         7\n",
       "24         6\n",
       "16         5\n",
       "1          5\n",
       "13         4\n",
       "52         3\n",
       "10         3\n",
       "37         3\n",
       "55         1\n",
       "21         1\n",
       "23         1\n",
       "19         1\n",
       "45         1\n",
       "7          1\n",
       "9          1\n",
       "11         1\n",
       "4          1\n",
       "Name: MIP, dtype: int64"
      ]
     },
     "execution_count": 392,
     "metadata": {},
     "output_type": "execute_result"
    }
   ],
   "source": [
    "data.MIP.value_counts()"
   ]
  },
  {
   "cell_type": "code",
   "execution_count": 393,
   "id": "5d748eaa",
   "metadata": {
    "execution": {
     "iopub.execute_input": "2023-08-14T16:08:27.735454Z",
     "iopub.status.busy": "2023-08-14T16:08:27.735040Z",
     "iopub.status.idle": "2023-08-14T16:08:27.752011Z",
     "shell.execute_reply": "2023-08-14T16:08:27.750797Z",
     "shell.execute_reply.started": "2023-08-14T16:08:27.735415Z"
    }
   },
   "outputs": [
    {
     "data": {
      "text/plain": [
       "Series([], Name: MIP, dtype: int64)"
      ]
     },
     "execution_count": 393,
     "metadata": {},
     "output_type": "execute_result"
    }
   ],
   "source": [
    "data[data['MIP'] > 55]['MIP']"
   ]
  },
  {
   "cell_type": "code",
   "execution_count": 394,
   "id": "c7a8deee",
   "metadata": {
    "execution": {
     "iopub.execute_input": "2023-08-14T16:08:27.754370Z",
     "iopub.status.busy": "2023-08-14T16:08:27.753824Z",
     "iopub.status.idle": "2023-08-14T16:08:27.765839Z",
     "shell.execute_reply": "2023-08-14T16:08:27.764670Z",
     "shell.execute_reply.started": "2023-08-14T16:08:27.754327Z"
    }
   },
   "outputs": [
    {
     "data": {
      "text/plain": [
       "Series([], Name: MIP, dtype: int64)"
      ]
     },
     "execution_count": 394,
     "metadata": {},
     "output_type": "execute_result"
    }
   ],
   "source": [
    "data[data['MIP'] == 999 ]['MIP']"
   ]
  },
  {
   "cell_type": "markdown",
   "id": "77ab0a00",
   "metadata": {},
   "source": [
    "### 7. Units: \n",
    "The number of dwelling units in the mortgaged property at the time the loan was originated. \n",
    "**“Not Available” will be indicated by 99.  \n",
    "1 = 1  \n",
    "2 = 2  \n",
    "3 = 3  \n",
    "4 = 4  \n",
    "99 = Not Available**"
   ]
  },
  {
   "cell_type": "code",
   "execution_count": 395,
   "id": "22ff399c",
   "metadata": {
    "execution": {
     "iopub.execute_input": "2023-08-14T16:08:27.768422Z",
     "iopub.status.busy": "2023-08-14T16:08:27.767337Z",
     "iopub.status.idle": "2023-08-14T16:08:27.780683Z",
     "shell.execute_reply": "2023-08-14T16:08:27.779484Z",
     "shell.execute_reply.started": "2023-08-14T16:08:27.768355Z"
    }
   },
   "outputs": [
    {
     "data": {
      "text/plain": [
       "1    285598\n",
       "2      4690\n",
       "3       587\n",
       "4       574\n",
       "0         2\n",
       "Name: Units, dtype: int64"
      ]
     },
     "execution_count": 395,
     "metadata": {},
     "output_type": "execute_result"
    }
   ],
   "source": [
    "data.Units.value_counts()"
   ]
  },
  {
   "cell_type": "markdown",
   "id": "4dafd09c",
   "metadata": {},
   "source": [
    "What do these 0 values mean?\n",
    "We'll simply drop the 0 values as 0 is not among 1, 2, 3, 4."
   ]
  },
  {
   "cell_type": "code",
   "execution_count": 396,
   "id": "d43233b0",
   "metadata": {
    "execution": {
     "iopub.execute_input": "2023-08-14T16:08:27.782465Z",
     "iopub.status.busy": "2023-08-14T16:08:27.782074Z",
     "iopub.status.idle": "2023-08-14T16:08:27.885157Z",
     "shell.execute_reply": "2023-08-14T16:08:27.884016Z",
     "shell.execute_reply.started": "2023-08-14T16:08:27.782433Z"
    }
   },
   "outputs": [],
   "source": [
    "data = data.drop(data[data['Units'] == 0].index)"
   ]
  },
  {
   "cell_type": "code",
   "execution_count": 397,
   "id": "ed95c893",
   "metadata": {
    "execution": {
     "iopub.execute_input": "2023-08-14T16:08:27.886736Z",
     "iopub.status.busy": "2023-08-14T16:08:27.886425Z",
     "iopub.status.idle": "2023-08-14T16:08:27.898832Z",
     "shell.execute_reply": "2023-08-14T16:08:27.897559Z",
     "shell.execute_reply.started": "2023-08-14T16:08:27.886709Z"
    }
   },
   "outputs": [
    {
     "data": {
      "text/plain": [
       "1    285598\n",
       "2      4690\n",
       "3       587\n",
       "4       574\n",
       "Name: Units, dtype: int64"
      ]
     },
     "execution_count": 397,
     "metadata": {},
     "output_type": "execute_result"
    }
   ],
   "source": [
    "data.Units.value_counts()"
   ]
  },
  {
   "cell_type": "markdown",
   "id": "53080c5e",
   "metadata": {},
   "source": [
    "### 8. Occupancy:  \n",
    "\n",
    "The classification describing the property occupancy status at the time the loan was originated. For reperforming, modified fixed-rate and modified step-rate loans, this value will be blank.  \n",
    "**“Not Available” will be indicated by a 9.  \n",
    "P = Primary Residence  \n",
    "S = Second Home  \n",
    "I = Investment Property  \n",
    "9 = Not Available**"
   ]
  },
  {
   "cell_type": "code",
   "execution_count": 398,
   "id": "fbd73cbe",
   "metadata": {
    "execution": {
     "iopub.execute_input": "2023-08-14T16:08:27.900653Z",
     "iopub.status.busy": "2023-08-14T16:08:27.900207Z",
     "iopub.status.idle": "2023-08-14T16:08:27.951292Z",
     "shell.execute_reply": "2023-08-14T16:08:27.950011Z",
     "shell.execute_reply.started": "2023-08-14T16:08:27.900619Z"
    }
   },
   "outputs": [
    {
     "data": {
      "text/plain": [
       "O    276129\n",
       "I      8734\n",
       "S      6586\n",
       "Name: Occupancy, dtype: int64"
      ]
     },
     "execution_count": 398,
     "metadata": {},
     "output_type": "execute_result"
    }
   ],
   "source": [
    "data.Occupancy.value_counts()"
   ]
  },
  {
   "cell_type": "markdown",
   "id": "ae2bf072",
   "metadata": {},
   "source": [
    "We have an unknown category in this column that is O. Probaly this column stands for “Not Available”. Let's replace these values by 9."
   ]
  },
  {
   "cell_type": "code",
   "execution_count": 399,
   "id": "03eaa02b",
   "metadata": {
    "execution": {
     "iopub.execute_input": "2023-08-14T16:08:27.953295Z",
     "iopub.status.busy": "2023-08-14T16:08:27.952827Z",
     "iopub.status.idle": "2023-08-14T16:08:28.049294Z",
     "shell.execute_reply": "2023-08-14T16:08:28.048012Z",
     "shell.execute_reply.started": "2023-08-14T16:08:27.953250Z"
    }
   },
   "outputs": [
    {
     "data": {
      "text/plain": [
       "9    276129\n",
       "I      8734\n",
       "S      6586\n",
       "Name: Occupancy, dtype: int64"
      ]
     },
     "execution_count": 399,
     "metadata": {},
     "output_type": "execute_result"
    }
   ],
   "source": [
    "# replacing O by 9\n",
    "data.loc[data['Occupancy'] == 'O', 'Occupancy'] = 9\n",
    "data.Occupancy.value_counts()"
   ]
  },
  {
   "cell_type": "markdown",
   "id": "0de59905",
   "metadata": {},
   "source": [
    "### 9. OCLTV: \n",
    "For reperforming, modified fixed-rate and modified step-rate loans, the ratio, expressed as a percentage, obtained by dividing the amount of all known outstanding loans at origination by the value of the property. Property value reflects either the lesser of the sales price or the appraised property value for a purchase, or the appraised property value for a refinance.  \n",
    "999 = Not Available \n",
    "If value 998, then the ratio is considered not available (securities issued on or after 9/1/2017)"
   ]
  },
  {
   "cell_type": "code",
   "execution_count": 400,
   "id": "89ba2d43",
   "metadata": {
    "execution": {
     "iopub.execute_input": "2023-08-14T16:08:28.051275Z",
     "iopub.status.busy": "2023-08-14T16:08:28.050926Z",
     "iopub.status.idle": "2023-08-14T16:08:28.060686Z",
     "shell.execute_reply": "2023-08-14T16:08:28.059207Z",
     "shell.execute_reply.started": "2023-08-14T16:08:28.051244Z"
    }
   },
   "outputs": [
    {
     "data": {
      "text/plain": [
       "0    89\n",
       "1    73\n",
       "2    75\n",
       "3    76\n",
       "4    78\n",
       "Name: OCLTV, dtype: int64"
      ]
     },
     "execution_count": 400,
     "metadata": {},
     "output_type": "execute_result"
    }
   ],
   "source": [
    "data.OCLTV.head()"
   ]
  },
  {
   "cell_type": "code",
   "execution_count": 401,
   "id": "12f6d69c",
   "metadata": {
    "execution": {
     "iopub.execute_input": "2023-08-14T16:08:28.062873Z",
     "iopub.status.busy": "2023-08-14T16:08:28.062536Z",
     "iopub.status.idle": "2023-08-14T16:08:28.075976Z",
     "shell.execute_reply": "2023-08-14T16:08:28.074581Z",
     "shell.execute_reply.started": "2023-08-14T16:08:28.062842Z"
    }
   },
   "outputs": [
    {
     "data": {
      "text/plain": [
       "Series([], Name: OCLTV, dtype: int64)"
      ]
     },
     "execution_count": 401,
     "metadata": {},
     "output_type": "execute_result"
    }
   ],
   "source": [
    "data[data.OCLTV == 998].OCLTV"
   ]
  },
  {
   "cell_type": "markdown",
   "id": "2e2e1567",
   "metadata": {},
   "source": [
    "### 10. DTI: \n",
    "The ratio obtained by dividing the total monthly debt expense by the total monthly income of the borrower at the time the loan was originated or modified. Disclosure of the debt to income ratio is based on \n",
    "(1) the sum of the Borrower’s monthly debt payments, including monthly housing expenses that incorporate the mortgage payment the Borrower is making at the time of the delivery of the mortgage loan to Freddie Mac, divided by \n",
    "(2) the total monthly income used to underwrite the Borrower as of the date of the origination of the mortgage loan. \n",
    "The debt to income ratio will not be updated. This disclosure is subject to the widely varying standards originators use to calculate and / or report Borrowers' income and liabilities. This disclosure is subject to the widely varying standards originators use to calculate and / or report Borrowers' secondary mortgage loan amounts.  \n",
    "**Percentages less than 1% or greater than 65% will be disclosed as “Not Available,” which will be indicated by a 999.  \n",
    "999 = Not Available**"
   ]
  },
  {
   "cell_type": "code",
   "execution_count": 402,
   "id": "19ffba13",
   "metadata": {
    "execution": {
     "iopub.execute_input": "2023-08-14T16:08:28.077838Z",
     "iopub.status.busy": "2023-08-14T16:08:28.077521Z",
     "iopub.status.idle": "2023-08-14T16:08:28.088919Z",
     "shell.execute_reply": "2023-08-14T16:08:28.087679Z",
     "shell.execute_reply.started": "2023-08-14T16:08:28.077809Z"
    }
   },
   "outputs": [
    {
     "data": {
      "text/plain": [
       "0    27\n",
       "1    17\n",
       "2    16\n",
       "3    14\n",
       "4    18\n",
       "Name: DTI, dtype: int64"
      ]
     },
     "execution_count": 402,
     "metadata": {},
     "output_type": "execute_result"
    }
   ],
   "source": [
    "data.DTI.head()"
   ]
  },
  {
   "cell_type": "code",
   "execution_count": 403,
   "id": "c0bc191a",
   "metadata": {
    "execution": {
     "iopub.execute_input": "2023-08-14T16:08:28.090930Z",
     "iopub.status.busy": "2023-08-14T16:08:28.090328Z",
     "iopub.status.idle": "2023-08-14T16:08:28.116350Z",
     "shell.execute_reply": "2023-08-14T16:08:28.115111Z",
     "shell.execute_reply.started": "2023-08-14T16:08:28.090898Z"
    }
   },
   "outputs": [
    {
     "data": {
      "text/plain": [
       "140       0\n",
       "167       0\n",
       "176       0\n",
       "179       0\n",
       "186       0\n",
       "         ..\n",
       "291438    0\n",
       "291441    0\n",
       "291442    0\n",
       "291443    0\n",
       "291447    0\n",
       "Name: DTI, Length: 17796, dtype: int64"
      ]
     },
     "execution_count": 403,
     "metadata": {},
     "output_type": "execute_result"
    }
   ],
   "source": [
    "data[data.DTI < 1].DTI"
   ]
  },
  {
   "cell_type": "code",
   "execution_count": 404,
   "id": "a8178b69",
   "metadata": {
    "execution": {
     "iopub.execute_input": "2023-08-14T16:08:28.118122Z",
     "iopub.status.busy": "2023-08-14T16:08:28.117802Z",
     "iopub.status.idle": "2023-08-14T16:08:28.128791Z",
     "shell.execute_reply": "2023-08-14T16:08:28.127644Z",
     "shell.execute_reply.started": "2023-08-14T16:08:28.118094Z"
    }
   },
   "outputs": [
    {
     "data": {
      "text/plain": [
       "Series([], Name: DTI, dtype: int64)"
      ]
     },
     "execution_count": 404,
     "metadata": {},
     "output_type": "execute_result"
    }
   ],
   "source": [
    "data[data.DTI > 65].DTI"
   ]
  },
  {
   "cell_type": "code",
   "execution_count": 405,
   "id": "75f9f2d2",
   "metadata": {
    "execution": {
     "iopub.execute_input": "2023-08-14T16:08:28.130920Z",
     "iopub.status.busy": "2023-08-14T16:08:28.130529Z",
     "iopub.status.idle": "2023-08-14T16:08:28.141012Z",
     "shell.execute_reply": "2023-08-14T16:08:28.139653Z",
     "shell.execute_reply.started": "2023-08-14T16:08:28.130888Z"
    }
   },
   "outputs": [
    {
     "data": {
      "text/plain": [
       "Series([], Name: DTI, dtype: int64)"
      ]
     },
     "execution_count": 405,
     "metadata": {},
     "output_type": "execute_result"
    }
   ],
   "source": [
    "data[data.DTI == 999].DTI"
   ]
  },
  {
   "cell_type": "code",
   "execution_count": 406,
   "id": "0109d71f",
   "metadata": {
    "execution": {
     "iopub.execute_input": "2023-08-14T16:08:28.143246Z",
     "iopub.status.busy": "2023-08-14T16:08:28.142730Z",
     "iopub.status.idle": "2023-08-14T16:08:28.156997Z",
     "shell.execute_reply": "2023-08-14T16:08:28.155729Z",
     "shell.execute_reply.started": "2023-08-14T16:08:28.143201Z"
    }
   },
   "outputs": [
    {
     "data": {
      "text/plain": [
       "Series([], Name: DTI, dtype: int64)"
      ]
     },
     "execution_count": 406,
     "metadata": {},
     "output_type": "execute_result"
    }
   ],
   "source": [
    "data.loc[data['DTI'] < 1, 'DTI'] = 999\n",
    "data[data.DTI < 1].DTI"
   ]
  },
  {
   "cell_type": "markdown",
   "id": "1dfc0e67",
   "metadata": {},
   "source": [
    "### 11. OrigUPB:"
   ]
  },
  {
   "cell_type": "code",
   "execution_count": 407,
   "id": "b4aee032",
   "metadata": {
    "execution": {
     "iopub.execute_input": "2023-08-14T16:08:28.158894Z",
     "iopub.status.busy": "2023-08-14T16:08:28.158563Z",
     "iopub.status.idle": "2023-08-14T16:08:28.169275Z",
     "shell.execute_reply": "2023-08-14T16:08:28.168440Z",
     "shell.execute_reply.started": "2023-08-14T16:08:28.158867Z"
    }
   },
   "outputs": [
    {
     "data": {
      "text/plain": [
       "0    117000\n",
       "1    109000\n",
       "2     88000\n",
       "3    160000\n",
       "4    109000\n",
       "Name: OrigUPB, dtype: int64"
      ]
     },
     "execution_count": 407,
     "metadata": {},
     "output_type": "execute_result"
    }
   ],
   "source": [
    "data.OrigUPB.head()"
   ]
  },
  {
   "cell_type": "markdown",
   "id": "3cf6f344",
   "metadata": {},
   "source": [
    "### 12. LTV: \n",
    "The ratio, expressed as a percentage, obtained by dividing the amount of the loan at origination by the value of the property. Property value reflects either the lesser of the sales price or the appraised property value for a purchase, or the appraised property value for a refinance. For reperforming, modified fixed-rate and modified step-rate loans, this value will be blank. In the case of a seasoned mortgage loan, if the Seller cannot warrant that the value of the mortgaged property has not declined since the note date, Freddie Mac requires that the Seller must provide a new appraisal value, which is used in the LTV calculation. \n",
    "**Percentages less than 1% or greater than 998% will be disclosed as “Not Available,” indicated by 999.  \n",
    "999 = Not Available.**"
   ]
  },
  {
   "cell_type": "code",
   "execution_count": 408,
   "id": "448efd93",
   "metadata": {
    "execution": {
     "iopub.execute_input": "2023-08-14T16:08:28.171002Z",
     "iopub.status.busy": "2023-08-14T16:08:28.170690Z",
     "iopub.status.idle": "2023-08-14T16:08:28.185855Z",
     "shell.execute_reply": "2023-08-14T16:08:28.184459Z",
     "shell.execute_reply.started": "2023-08-14T16:08:28.170976Z"
    }
   },
   "outputs": [
    {
     "data": {
      "text/plain": [
       "0    89\n",
       "1    73\n",
       "2    75\n",
       "3    76\n",
       "4    78\n",
       "Name: LTV, dtype: int64"
      ]
     },
     "execution_count": 408,
     "metadata": {},
     "output_type": "execute_result"
    }
   ],
   "source": [
    "data.LTV.head()"
   ]
  },
  {
   "cell_type": "code",
   "execution_count": 409,
   "id": "4fff64a3",
   "metadata": {
    "execution": {
     "iopub.execute_input": "2023-08-14T16:08:28.187856Z",
     "iopub.status.busy": "2023-08-14T16:08:28.187391Z",
     "iopub.status.idle": "2023-08-14T16:08:28.199222Z",
     "shell.execute_reply": "2023-08-14T16:08:28.198362Z",
     "shell.execute_reply.started": "2023-08-14T16:08:28.187825Z"
    }
   },
   "outputs": [
    {
     "data": {
      "text/plain": [
       "31098     0\n",
       "88463     0\n",
       "233257    0\n",
       "276981    0\n",
       "287773    0\n",
       "Name: LTV, dtype: int64"
      ]
     },
     "execution_count": 409,
     "metadata": {},
     "output_type": "execute_result"
    }
   ],
   "source": [
    "data[data.LTV < 1].LTV"
   ]
  },
  {
   "cell_type": "code",
   "execution_count": 410,
   "id": "3fa60201",
   "metadata": {
    "execution": {
     "iopub.execute_input": "2023-08-14T16:08:28.201760Z",
     "iopub.status.busy": "2023-08-14T16:08:28.200755Z",
     "iopub.status.idle": "2023-08-14T16:08:28.213020Z",
     "shell.execute_reply": "2023-08-14T16:08:28.211780Z",
     "shell.execute_reply.started": "2023-08-14T16:08:28.201727Z"
    }
   },
   "outputs": [
    {
     "data": {
      "text/plain": [
       "Series([], Name: LTV, dtype: int64)"
      ]
     },
     "execution_count": 410,
     "metadata": {},
     "output_type": "execute_result"
    }
   ],
   "source": [
    "data[data.LTV == 999].LTV"
   ]
  },
  {
   "cell_type": "code",
   "execution_count": 411,
   "id": "7d76c6a0",
   "metadata": {
    "execution": {
     "iopub.execute_input": "2023-08-14T16:08:28.214773Z",
     "iopub.status.busy": "2023-08-14T16:08:28.214231Z",
     "iopub.status.idle": "2023-08-14T16:08:28.224623Z",
     "shell.execute_reply": "2023-08-14T16:08:28.223663Z",
     "shell.execute_reply.started": "2023-08-14T16:08:28.214735Z"
    }
   },
   "outputs": [
    {
     "data": {
      "text/plain": [
       "Series([], Name: LTV, dtype: int64)"
      ]
     },
     "execution_count": 411,
     "metadata": {},
     "output_type": "execute_result"
    }
   ],
   "source": [
    "data[data.LTV > 998].LTV"
   ]
  },
  {
   "cell_type": "code",
   "execution_count": 412,
   "id": "7f50e836",
   "metadata": {
    "execution": {
     "iopub.execute_input": "2023-08-14T16:08:28.226835Z",
     "iopub.status.busy": "2023-08-14T16:08:28.225735Z",
     "iopub.status.idle": "2023-08-14T16:08:28.239253Z",
     "shell.execute_reply": "2023-08-14T16:08:28.238298Z",
     "shell.execute_reply.started": "2023-08-14T16:08:28.226798Z"
    }
   },
   "outputs": [
    {
     "data": {
      "text/plain": [
       "Series([], Name: DTI, dtype: int64)"
      ]
     },
     "execution_count": 412,
     "metadata": {},
     "output_type": "execute_result"
    }
   ],
   "source": [
    "data.loc[data['LTV'] < 1, 'LTV'] = 999\n",
    "data[data.DTI < 1].DTI"
   ]
  },
  {
   "cell_type": "markdown",
   "id": "f2efbd75",
   "metadata": {},
   "source": [
    "### 13. OrigInterestRate: \n",
    "For reperforming, modified fixed-rate and modified step-rate loans, the interest rate of the loan as stated on the note at the time the loan was originated. \n",
    "\n",
    "**If value <0 or >25, then the rate is considered not available (securities issued on or after 9/1/2017)**"
   ]
  },
  {
   "cell_type": "code",
   "execution_count": 413,
   "id": "70333d55",
   "metadata": {
    "execution": {
     "iopub.execute_input": "2023-08-14T16:08:28.241178Z",
     "iopub.status.busy": "2023-08-14T16:08:28.240665Z",
     "iopub.status.idle": "2023-08-14T16:08:28.250625Z",
     "shell.execute_reply": "2023-08-14T16:08:28.249497Z",
     "shell.execute_reply.started": "2023-08-14T16:08:28.241147Z"
    }
   },
   "outputs": [
    {
     "data": {
      "text/plain": [
       "291446    7.000\n",
       "291447    6.375\n",
       "291448    5.625\n",
       "291449    7.000\n",
       "291450    7.000\n",
       "Name: OrigInterestRate, dtype: float64"
      ]
     },
     "execution_count": 413,
     "metadata": {},
     "output_type": "execute_result"
    }
   ],
   "source": [
    "data.OrigInterestRate.tail()"
   ]
  },
  {
   "cell_type": "code",
   "execution_count": 414,
   "id": "ea8ba078",
   "metadata": {
    "execution": {
     "iopub.execute_input": "2023-08-14T16:08:28.252127Z",
     "iopub.status.busy": "2023-08-14T16:08:28.251772Z",
     "iopub.status.idle": "2023-08-14T16:08:28.267845Z",
     "shell.execute_reply": "2023-08-14T16:08:28.266951Z",
     "shell.execute_reply.started": "2023-08-14T16:08:28.252095Z"
    }
   },
   "outputs": [
    {
     "data": {
      "text/plain": [
       "Series([], Name: OrigInterestRate, dtype: float64)"
      ]
     },
     "execution_count": 414,
     "metadata": {},
     "output_type": "execute_result"
    }
   ],
   "source": [
    "data[data.OrigInterestRate < 0].OrigInterestRate"
   ]
  },
  {
   "cell_type": "code",
   "execution_count": 415,
   "id": "5f2137ff",
   "metadata": {
    "execution": {
     "iopub.execute_input": "2023-08-14T16:08:28.269764Z",
     "iopub.status.busy": "2023-08-14T16:08:28.269166Z",
     "iopub.status.idle": "2023-08-14T16:08:28.280460Z",
     "shell.execute_reply": "2023-08-14T16:08:28.279459Z",
     "shell.execute_reply.started": "2023-08-14T16:08:28.269729Z"
    }
   },
   "outputs": [
    {
     "data": {
      "text/plain": [
       "Series([], Name: OrigInterestRate, dtype: float64)"
      ]
     },
     "execution_count": 415,
     "metadata": {},
     "output_type": "execute_result"
    }
   ],
   "source": [
    "data[data.OrigInterestRate > 25].OrigInterestRate"
   ]
  },
  {
   "cell_type": "markdown",
   "id": "1b4471b5",
   "metadata": {},
   "source": [
    "### 14. Channel: \n",
    "The origination channel used by the party that delivered the loan to the issuer. For reperforming, modified fixed-rate and modified step-rate loans, this value will be blank. Disclosure indicates whether a broker or correspondent, as those terms are defined below, originated or was involved in the origination or the mortgage. If a Third-Party Origination is applicable, but the Seller does not specify Broker or Correspondent, the disclosure will indicate “TPO Not Specified.” If a Broker, Correspondent or Third Party Origination disclosure is not applicable, the mortgage loan will be designated as Retail, as defined below.\n",
    "\n",
    "• Broker is a person or entity that specializes in loan originations, receiving a commission (from a Correspondent or other lender) to match Borrowers and lenders. The Broker performs some or most of the loan processing functions, such as taking loan applications, or ordering credit reports, appraisals and title reports. Typically, the Broker does not underwrite or service the mortgage loan and generally does not use its own funds for closing; however, if the Broker funded a mortgage loan on a lender’s behalf, such a mortgage loan is considered a “Broker” third party origination mortgage loan. The mortgage loan is generally closed in the name of the lender who commissioned the Broker’s services. \n",
    "• Correspondent is an entity that typically sells the Mortgages it originates to other lenders, which are not Affiliates of that entity, under a specific commitment or as part of an ongoing relationship. The Correspondent performs some or all the loan processing functions, such as taking the loan application, ordering credit reports, appraisals, and title reports, and verifying the Borrower’s income and employment. The Correspondent may or may not have delegated underwriting and typically funds the mortgage loans at settlement. The mortgage loan is closed in the Correspondent’s name and the Correspondent may or may not service the mortgage loan. The Correspondent may use a Broker to perform some of the processing functions or even to fund the loan on its behalf; under such circumstances, the mortgage loan is considered a “Broker” third party origination mortgage loan, rather than a “Correspondent” third party origination mortgage loan. \n",
    "• Retail Mortgage is a mortgage loan that is originated, underwritten and funded by a lender or its Affiliates. The mortgage loan is closed in the name of the lender or its Affiliate and if it is sold to Freddie Mac, it is sold by the lender or its Affiliate that originated it. A mortgage loan that a Broker or Correspondent completely or partially originated, processed, underwrote, packaged, funded or closed is not considered a Retail mortgage loan. \n",
    "• For purposes of the definitions of Correspondent and Retail, “Affiliate” means any entity that is related to another party as a consequence of the entity, directly or indirectly, controlling the other party, being controlled by the other party, or being under common control with the other party.  \n",
    "**R = Retail  \n",
    "B = Broker  \n",
    "C = Correspondent  \n",
    "T = Third Party Origination - Not Specified   \n",
    "9 = Not Available**  "
   ]
  },
  {
   "cell_type": "code",
   "execution_count": 416,
   "id": "d374bf15",
   "metadata": {
    "execution": {
     "iopub.execute_input": "2023-08-14T16:08:28.282704Z",
     "iopub.status.busy": "2023-08-14T16:08:28.281735Z",
     "iopub.status.idle": "2023-08-14T16:08:28.291924Z",
     "shell.execute_reply": "2023-08-14T16:08:28.291098Z",
     "shell.execute_reply.started": "2023-08-14T16:08:28.282672Z"
    }
   },
   "outputs": [
    {
     "data": {
      "text/plain": [
       "0    T\n",
       "1    R\n",
       "2    T\n",
       "3    R\n",
       "4    R\n",
       "Name: Channel, dtype: object"
      ]
     },
     "execution_count": 416,
     "metadata": {},
     "output_type": "execute_result"
    }
   ],
   "source": [
    "data.Channel.head()"
   ]
  },
  {
   "cell_type": "code",
   "execution_count": 417,
   "id": "838ce154",
   "metadata": {
    "execution": {
     "iopub.execute_input": "2023-08-14T16:08:28.293949Z",
     "iopub.status.busy": "2023-08-14T16:08:28.292990Z",
     "iopub.status.idle": "2023-08-14T16:08:28.346314Z",
     "shell.execute_reply": "2023-08-14T16:08:28.345458Z",
     "shell.execute_reply.started": "2023-08-14T16:08:28.293842Z"
    }
   },
   "outputs": [
    {
     "data": {
      "text/plain": [
       "T    167668\n",
       "R    123219\n",
       "C       407\n",
       "B       155\n",
       "Name: Channel, dtype: int64"
      ]
     },
     "execution_count": 417,
     "metadata": {},
     "output_type": "execute_result"
    }
   ],
   "source": [
    "data.Channel.value_counts()"
   ]
  },
  {
   "cell_type": "markdown",
   "id": "0c4dda6f",
   "metadata": {},
   "source": [
    "### 15. PPM(Prepayment Penalty Indicator): \n",
    "The indicator denoting whether the borrower is subject to a penalty for early payment of principal.  \n",
    "**Y = Yes  \n",
    "N = No**"
   ]
  },
  {
   "cell_type": "code",
   "execution_count": 418,
   "id": "74bd78a4",
   "metadata": {
    "execution": {
     "iopub.execute_input": "2023-08-14T16:08:28.348716Z",
     "iopub.status.busy": "2023-08-14T16:08:28.347631Z",
     "iopub.status.idle": "2023-08-14T16:08:28.398734Z",
     "shell.execute_reply": "2023-08-14T16:08:28.397481Z",
     "shell.execute_reply.started": "2023-08-14T16:08:28.348678Z"
    }
   },
   "outputs": [
    {
     "data": {
      "text/plain": [
       "N    282123\n",
       "X      5405\n",
       "Y      3921\n",
       "Name: PPM, dtype: int64"
      ]
     },
     "execution_count": 418,
     "metadata": {},
     "output_type": "execute_result"
    }
   ],
   "source": [
    "data.PPM.value_counts()"
   ]
  },
  {
   "cell_type": "code",
   "execution_count": 419,
   "id": "7abeb858",
   "metadata": {
    "execution": {
     "iopub.execute_input": "2023-08-14T16:08:28.400331Z",
     "iopub.status.busy": "2023-08-14T16:08:28.399940Z",
     "iopub.status.idle": "2023-08-14T16:08:28.508333Z",
     "shell.execute_reply": "2023-08-14T16:08:28.507241Z",
     "shell.execute_reply.started": "2023-08-14T16:08:28.400289Z"
    }
   },
   "outputs": [
    {
     "data": {
      "text/plain": [
       "N     282123\n",
       "99      5405\n",
       "Y       3921\n",
       "Name: PPM, dtype: int64"
      ]
     },
     "execution_count": 419,
     "metadata": {},
     "output_type": "execute_result"
    }
   ],
   "source": [
    "# replacing X by 99\n",
    "data.loc[data['PPM'] == 'X', 'PPM'] = 99\n",
    "data.PPM.value_counts()"
   ]
  },
  {
   "cell_type": "markdown",
   "id": "d52db2de",
   "metadata": {},
   "source": [
    "There are three categories instead of two. That means we should handle the third one : X that can be considered a \"Not available\"."
   ]
  },
  {
   "cell_type": "markdown",
   "id": "3f5503e2",
   "metadata": {},
   "source": [
    "### 16. ProductType:\n",
    "\n"
   ]
  },
  {
   "cell_type": "code",
   "execution_count": 420,
   "id": "49e19887",
   "metadata": {
    "execution": {
     "iopub.execute_input": "2023-08-14T16:08:28.510287Z",
     "iopub.status.busy": "2023-08-14T16:08:28.509852Z",
     "iopub.status.idle": "2023-08-14T16:08:28.519291Z",
     "shell.execute_reply": "2023-08-14T16:08:28.518006Z",
     "shell.execute_reply.started": "2023-08-14T16:08:28.510252Z"
    }
   },
   "outputs": [
    {
     "data": {
      "text/plain": [
       "0    FRM  \n",
       "1    FRM  \n",
       "2    FRM  \n",
       "3    FRM  \n",
       "4    FRM  \n",
       "Name: ProductType, dtype: object"
      ]
     },
     "execution_count": 420,
     "metadata": {},
     "output_type": "execute_result"
    }
   ],
   "source": [
    "data.ProductType.head()"
   ]
  },
  {
   "cell_type": "code",
   "execution_count": 421,
   "id": "654e2101",
   "metadata": {
    "execution": {
     "iopub.execute_input": "2023-08-14T16:08:28.521178Z",
     "iopub.status.busy": "2023-08-14T16:08:28.520776Z",
     "iopub.status.idle": "2023-08-14T16:08:28.582578Z",
     "shell.execute_reply": "2023-08-14T16:08:28.581595Z",
     "shell.execute_reply.started": "2023-08-14T16:08:28.521132Z"
    }
   },
   "outputs": [
    {
     "data": {
      "text/plain": [
       "FRM      291449\n",
       "Name: ProductType, dtype: int64"
      ]
     },
     "execution_count": 421,
     "metadata": {},
     "output_type": "execute_result"
    }
   ],
   "source": [
    "data.ProductType.value_counts()"
   ]
  },
  {
   "cell_type": "markdown",
   "id": "8c39aaff",
   "metadata": {},
   "source": [
    "This column only has 1 categorie so it is not very useful. We'll drop it"
   ]
  },
  {
   "cell_type": "code",
   "execution_count": 422,
   "id": "dab133b5",
   "metadata": {
    "execution": {
     "iopub.execute_input": "2023-08-14T16:08:28.584033Z",
     "iopub.status.busy": "2023-08-14T16:08:28.583669Z",
     "iopub.status.idle": "2023-08-14T16:08:28.664717Z",
     "shell.execute_reply": "2023-08-14T16:08:28.663309Z",
     "shell.execute_reply.started": "2023-08-14T16:08:28.584001Z"
    }
   },
   "outputs": [],
   "source": [
    "data = data.drop('ProductType', axis = 1)"
   ]
  },
  {
   "cell_type": "markdown",
   "id": "6859aff7",
   "metadata": {},
   "source": [
    "### 17. PropertyState: \n",
    "The abbreviation denoting the location of the property securing the loan."
   ]
  },
  {
   "cell_type": "code",
   "execution_count": 423,
   "id": "f5507375",
   "metadata": {
    "execution": {
     "iopub.execute_input": "2023-08-14T16:08:28.667021Z",
     "iopub.status.busy": "2023-08-14T16:08:28.666567Z",
     "iopub.status.idle": "2023-08-14T16:08:28.676041Z",
     "shell.execute_reply": "2023-08-14T16:08:28.674822Z",
     "shell.execute_reply.started": "2023-08-14T16:08:28.666980Z"
    }
   },
   "outputs": [
    {
     "data": {
      "text/plain": [
       "0    IL\n",
       "1    CO\n",
       "2    KS\n",
       "3    CA\n",
       "4    NJ\n",
       "Name: PropertyState, dtype: object"
      ]
     },
     "execution_count": 423,
     "metadata": {},
     "output_type": "execute_result"
    }
   ],
   "source": [
    "data.PropertyState.head()"
   ]
  },
  {
   "cell_type": "code",
   "execution_count": 424,
   "id": "374d79c9",
   "metadata": {
    "execution": {
     "iopub.execute_input": "2023-08-14T16:08:28.678930Z",
     "iopub.status.busy": "2023-08-14T16:08:28.678298Z",
     "iopub.status.idle": "2023-08-14T16:08:28.743369Z",
     "shell.execute_reply": "2023-08-14T16:08:28.742072Z",
     "shell.execute_reply.started": "2023-08-14T16:08:28.678885Z"
    }
   },
   "outputs": [
    {
     "data": {
      "text/plain": [
       "CA    43326\n",
       "FL    19133\n",
       "MI    16284\n",
       "IL    13621\n",
       "TX    13092\n",
       "OH    11545\n",
       "CO    10127\n",
       "GA    10024\n",
       "NC     9983\n",
       "WA     9927\n",
       "AZ     9248\n",
       "VA     8096\n",
       "NY     7913\n",
       "PA     7738\n",
       "NJ     7457\n",
       "OR     6658\n",
       "MA     6392\n",
       "IN     6228\n",
       "MD     5515\n",
       "MO     5400\n",
       "MN     5092\n",
       "UT     4996\n",
       "WI     4660\n",
       "TN     4556\n",
       "SC     4473\n",
       "AL     4128\n",
       "KY     3896\n",
       "NV     3564\n",
       "CT     3253\n",
       "KS     2321\n",
       "ID     2296\n",
       "LA     2092\n",
       "NM     2053\n",
       "IA     1860\n",
       "OK     1803\n",
       "NE     1532\n",
       "NH     1320\n",
       "VT      945\n",
       "AR      938\n",
       "MS      935\n",
       "MT      872\n",
       "DE      838\n",
       "ME      755\n",
       "RI      722\n",
       "PR      693\n",
       "HI      609\n",
       "WV      542\n",
       "WY      496\n",
       "DC      492\n",
       "SD      376\n",
       "ND      315\n",
       "AK      245\n",
       "GU       74\n",
       "Name: PropertyState, dtype: int64"
      ]
     },
     "execution_count": 424,
     "metadata": {},
     "output_type": "execute_result"
    }
   ],
   "source": [
    "data.PropertyState.value_counts()"
   ]
  },
  {
   "cell_type": "markdown",
   "id": "bdf1fb64",
   "metadata": {},
   "source": [
    "### 18. PropertyType: \n",
    "The classification describing the type of property that secures the loan.  \n",
    "**“Not Available” will be indicated by 99.  \n",
    "CP = Cooperative  \n",
    "CO = Condominium  \n",
    "PU = Planned Unit Development   \n",
    "SF = Single-Family  \n",
    "MH = Manufactured Housing  \n",
    "99 = Not Available**  "
   ]
  },
  {
   "cell_type": "code",
   "execution_count": 425,
   "id": "35ca8744",
   "metadata": {
    "execution": {
     "iopub.execute_input": "2023-08-14T16:08:28.745855Z",
     "iopub.status.busy": "2023-08-14T16:08:28.745429Z",
     "iopub.status.idle": "2023-08-14T16:08:28.754858Z",
     "shell.execute_reply": "2023-08-14T16:08:28.753622Z",
     "shell.execute_reply.started": "2023-08-14T16:08:28.745815Z"
    }
   },
   "outputs": [
    {
     "data": {
      "text/plain": [
       "291446    SF\n",
       "291447    SF\n",
       "291448    SF\n",
       "291449    SF\n",
       "291450    SF\n",
       "Name: PropertyType, dtype: object"
      ]
     },
     "execution_count": 425,
     "metadata": {},
     "output_type": "execute_result"
    }
   ],
   "source": [
    "data.PropertyType.tail()"
   ]
  },
  {
   "cell_type": "code",
   "execution_count": 426,
   "id": "c55ea9d2",
   "metadata": {
    "execution": {
     "iopub.execute_input": "2023-08-14T16:08:28.756855Z",
     "iopub.status.busy": "2023-08-14T16:08:28.756492Z",
     "iopub.status.idle": "2023-08-14T16:08:28.820804Z",
     "shell.execute_reply": "2023-08-14T16:08:28.819536Z",
     "shell.execute_reply.started": "2023-08-14T16:08:28.756824Z"
    }
   },
   "outputs": [
    {
     "data": {
      "text/plain": [
       "SF    244921\n",
       "PU     27506\n",
       "CO     18100\n",
       "MH       723\n",
       "LH       105\n",
       "CP        72\n",
       "X         22\n",
       "Name: PropertyType, dtype: int64"
      ]
     },
     "execution_count": 426,
     "metadata": {},
     "output_type": "execute_result"
    }
   ],
   "source": [
    "data.PropertyType.value_counts()"
   ]
  },
  {
   "cell_type": "code",
   "execution_count": 427,
   "id": "e23e3cb3",
   "metadata": {
    "execution": {
     "iopub.execute_input": "2023-08-14T16:08:28.822975Z",
     "iopub.status.busy": "2023-08-14T16:08:28.822520Z",
     "iopub.status.idle": "2023-08-14T16:08:28.937996Z",
     "shell.execute_reply": "2023-08-14T16:08:28.936626Z",
     "shell.execute_reply.started": "2023-08-14T16:08:28.822933Z"
    }
   },
   "outputs": [
    {
     "data": {
      "text/plain": [
       "SF    244921\n",
       "PU     27506\n",
       "CO     18100\n",
       "MH       723\n",
       "LH       105\n",
       "CP        72\n",
       "99        22\n",
       "Name: PropertyType, dtype: int64"
      ]
     },
     "execution_count": 427,
     "metadata": {},
     "output_type": "execute_result"
    }
   ],
   "source": [
    "# handling X category\n",
    "# data.loc[data['PropertyType'] == 'X ' , 'PropertyType'] = 99  # this won't work\n",
    "data.loc[data['PropertyType'] == 'X ' , 'PropertyType'] = 99\n",
    "data.PropertyType.value_counts()"
   ]
  },
  {
   "cell_type": "markdown",
   "id": "6f6be196",
   "metadata": {},
   "source": [
    "### 19. PostalCode"
   ]
  },
  {
   "cell_type": "code",
   "execution_count": 428,
   "id": "188f2fdf",
   "metadata": {
    "execution": {
     "iopub.execute_input": "2023-08-14T16:08:28.939878Z",
     "iopub.status.busy": "2023-08-14T16:08:28.939535Z",
     "iopub.status.idle": "2023-08-14T16:08:28.948671Z",
     "shell.execute_reply": "2023-08-14T16:08:28.947543Z",
     "shell.execute_reply.started": "2023-08-14T16:08:28.939849Z"
    }
   },
   "outputs": [
    {
     "data": {
      "text/plain": [
       "0    60400\n",
       "1    80200\n",
       "2    66000\n",
       "3    90700\n",
       "4     7600\n",
       "Name: PostalCode, dtype: object"
      ]
     },
     "execution_count": 428,
     "metadata": {},
     "output_type": "execute_result"
    }
   ],
   "source": [
    "data.PostalCode.head()"
   ]
  },
  {
   "cell_type": "code",
   "execution_count": 429,
   "id": "34e8d80f",
   "metadata": {
    "execution": {
     "iopub.execute_input": "2023-08-14T16:08:28.950302Z",
     "iopub.status.busy": "2023-08-14T16:08:28.949932Z",
     "iopub.status.idle": "2023-08-14T16:08:29.012586Z",
     "shell.execute_reply": "2023-08-14T16:08:29.011391Z",
     "shell.execute_reply.started": "2023-08-14T16:08:28.950274Z"
    }
   },
   "outputs": [
    {
     "data": {
      "text/plain": [
       "94500    2582\n",
       "30000    2374\n",
       "48100    2166\n",
       "85200    2155\n",
       "48000    1976\n",
       "         ... \n",
       "79500       1\n",
       "26600       1\n",
       "41400       1\n",
       "36900       1\n",
       "41300       1\n",
       "Name: PostalCode, Length: 1767, dtype: int64"
      ]
     },
     "execution_count": 429,
     "metadata": {},
     "output_type": "execute_result"
    }
   ],
   "source": [
    "data.PostalCode.value_counts()"
   ]
  },
  {
   "cell_type": "code",
   "execution_count": 430,
   "id": "856c2a0e",
   "metadata": {
    "execution": {
     "iopub.execute_input": "2023-08-14T16:08:29.014390Z",
     "iopub.status.busy": "2023-08-14T16:08:29.014067Z",
     "iopub.status.idle": "2023-08-14T16:08:29.076989Z",
     "shell.execute_reply": "2023-08-14T16:08:29.075750Z",
     "shell.execute_reply.started": "2023-08-14T16:08:29.014347Z"
    }
   },
   "outputs": [
    {
     "data": {
      "text/plain": [
       "22936     X    \n",
       "109637    X    \n",
       "148896    X    \n",
       "175547    X    \n",
       "241675    X    \n",
       "285140    X    \n",
       "Name: PostalCode, dtype: object"
      ]
     },
     "execution_count": 430,
     "metadata": {},
     "output_type": "execute_result"
    }
   ],
   "source": [
    "data[data.PostalCode == 'X    '].PostalCode"
   ]
  },
  {
   "cell_type": "code",
   "execution_count": 431,
   "id": "2b36380a",
   "metadata": {
    "execution": {
     "iopub.execute_input": "2023-08-14T16:08:29.079680Z",
     "iopub.status.busy": "2023-08-14T16:08:29.079190Z",
     "iopub.status.idle": "2023-08-14T16:08:29.200453Z",
     "shell.execute_reply": "2023-08-14T16:08:29.199169Z",
     "shell.execute_reply.started": "2023-08-14T16:08:29.079636Z"
    }
   },
   "outputs": [
    {
     "data": {
      "text/plain": [
       "Series([], Name: PostalCode, dtype: object)"
      ]
     },
     "execution_count": 431,
     "metadata": {},
     "output_type": "execute_result"
    }
   ],
   "source": [
    "data.loc[data['PostalCode'] == 'X    ' , 'PostalCode'] = 99\n",
    "data[data.PostalCode == 'X    '].PostalCode"
   ]
  },
  {
   "cell_type": "markdown",
   "id": "465badf6",
   "metadata": {},
   "source": [
    "### 20. LoanSeqNum(Loan Identifier): \n",
    "The unique designation assigned to the loan by the issuer.\n"
   ]
  },
  {
   "cell_type": "code",
   "execution_count": 432,
   "id": "88b67265",
   "metadata": {
    "execution": {
     "iopub.execute_input": "2023-08-14T16:08:29.202166Z",
     "iopub.status.busy": "2023-08-14T16:08:29.201862Z",
     "iopub.status.idle": "2023-08-14T16:08:29.210407Z",
     "shell.execute_reply": "2023-08-14T16:08:29.209267Z",
     "shell.execute_reply.started": "2023-08-14T16:08:29.202140Z"
    }
   },
   "outputs": [
    {
     "data": {
      "text/plain": [
       "0    F199Q1268030\n",
       "1    F199Q1015092\n",
       "2    F199Q1266886\n",
       "3    F199Q1178167\n",
       "4    F199Q1178517\n",
       "Name: LoanSeqNum, dtype: object"
      ]
     },
     "execution_count": 432,
     "metadata": {},
     "output_type": "execute_result"
    }
   ],
   "source": [
    "data.LoanSeqNum.head()"
   ]
  },
  {
   "cell_type": "code",
   "execution_count": 433,
   "id": "962f6b0e",
   "metadata": {
    "execution": {
     "iopub.execute_input": "2023-08-14T16:08:29.212684Z",
     "iopub.status.busy": "2023-08-14T16:08:29.212308Z",
     "iopub.status.idle": "2023-08-14T16:08:29.563820Z",
     "shell.execute_reply": "2023-08-14T16:08:29.562709Z",
     "shell.execute_reply.started": "2023-08-14T16:08:29.212649Z"
    }
   },
   "outputs": [
    {
     "data": {
      "text/plain": [
       "F199Q1268030    1\n",
       "F199Q1262485    1\n",
       "F199Q1138623    1\n",
       "F199Q1220622    1\n",
       "F199Q1155120    1\n",
       "               ..\n",
       "F199Q1098563    1\n",
       "F199Q1049090    1\n",
       "F199Q1170229    1\n",
       "F199Q1284978    1\n",
       "F199Q1220923    1\n",
       "Name: LoanSeqNum, Length: 291449, dtype: int64"
      ]
     },
     "execution_count": 433,
     "metadata": {},
     "output_type": "execute_result"
    }
   ],
   "source": [
    "data.LoanSeqNum.value_counts()"
   ]
  },
  {
   "cell_type": "code",
   "execution_count": 434,
   "id": "6466e5fb",
   "metadata": {
    "execution": {
     "iopub.execute_input": "2023-08-14T16:08:29.565335Z",
     "iopub.status.busy": "2023-08-14T16:08:29.565019Z",
     "iopub.status.idle": "2023-08-14T16:08:29.626069Z",
     "shell.execute_reply": "2023-08-14T16:08:29.624898Z",
     "shell.execute_reply.started": "2023-08-14T16:08:29.565308Z"
    }
   },
   "outputs": [],
   "source": [
    "# drop this column because it's useless\n",
    "data = data.drop(['LoanSeqNum', 'PropertyState', 'ServicerName'], axis = 1)"
   ]
  },
  {
   "cell_type": "markdown",
   "id": "3a5d251d",
   "metadata": {},
   "source": [
    "### 21. LoanPurpose: \n",
    "The classification describing the purpose of the loan. Generally, a Cash-out Refinance mortgage loan is a mortgage loan in which the use of the loan amount is not limited to specific purposes. A mortgage loan placed on a property previously owned free and clear by the Borrower is always considered a Cash-out Refinance mortgage loan. Generally, a No Cash-out Refinance mortgage loan is a mortgage loan in which the loan amount is limited to the following uses:  \n",
    "• Pay off the first mortgage, regardless of its age  \n",
    "• Pay off any junior liens secured by the mortgaged property, that were used in their entirety to acquire the subject property   \n",
    "• Pay related closing costs, financing costs and prepaid items, and   \n",
    "• Disburse cash out to the Borrower (or any other payee) not to exceed 2% of the new refinance mortgage loan or $2,000, whichever is less. If a Refinance is applicable, but the seller of the mortgage loan does not specify Cash-out Refinance or No Cash-out Refinance, “Refinance—Not Specified” is indicated.  \n",
    "**“Not Available” will be indicated by a 9.  \n",
    "C = Refinance - Cash Out  \n",
    "N = Refinance - No Cash Out  \n",
    "R = Refinance - Not Specified  \n",
    "P = Purchase  \n",
    "M = Modified - Loss Mitigation**"
   ]
  },
  {
   "cell_type": "code",
   "execution_count": 435,
   "id": "3cc970a7",
   "metadata": {
    "execution": {
     "iopub.execute_input": "2023-08-14T16:08:29.628166Z",
     "iopub.status.busy": "2023-08-14T16:08:29.627726Z",
     "iopub.status.idle": "2023-08-14T16:08:29.676752Z",
     "shell.execute_reply": "2023-08-14T16:08:29.675277Z",
     "shell.execute_reply.started": "2023-08-14T16:08:29.628126Z"
    }
   },
   "outputs": [
    {
     "data": {
      "text/plain": [
       "P    123402\n",
       "N    110036\n",
       "C     58011\n",
       "Name: LoanPurpose, dtype: int64"
      ]
     },
     "execution_count": 435,
     "metadata": {},
     "output_type": "execute_result"
    }
   ],
   "source": [
    "data.LoanPurpose.value_counts()"
   ]
  },
  {
   "cell_type": "code",
   "execution_count": null,
   "id": "41318df2",
   "metadata": {},
   "outputs": [],
   "source": []
  },
  {
   "cell_type": "markdown",
   "id": "f423de19",
   "metadata": {},
   "source": [
    "### 23. NumBorrowers: \n",
    "The number of borrowers who, at the time the loan was originated, are obligated to repay the loan.  \n",
    "**1 = 1  \n",
    "2 = 2  \n",
    "3 = 3  \n",
    "4 = 4  \n",
    "5 = 5  \n",
    "6 = 6  \n",
    "7 = 7  \n",
    "8 = 8  \n",
    "9 = 9  \n",
    "10 = 10  \n",
    "99 = Not Available**"
   ]
  },
  {
   "cell_type": "code",
   "execution_count": 436,
   "id": "7231a034",
   "metadata": {
    "execution": {
     "iopub.execute_input": "2023-08-14T16:08:29.679182Z",
     "iopub.status.busy": "2023-08-14T16:08:29.678423Z",
     "iopub.status.idle": "2023-08-14T16:08:29.690508Z",
     "shell.execute_reply": "2023-08-14T16:08:29.689290Z",
     "shell.execute_reply.started": "2023-08-14T16:08:29.679138Z"
    }
   },
   "outputs": [
    {
     "data": {
      "text/plain": [
       "0    2\n",
       "1    1\n",
       "2    2\n",
       "3    2\n",
       "4    2\n",
       "Name: NumBorrowers, dtype: object"
      ]
     },
     "execution_count": 436,
     "metadata": {},
     "output_type": "execute_result"
    }
   ],
   "source": [
    "data.NumBorrowers.head()"
   ]
  },
  {
   "cell_type": "code",
   "execution_count": 437,
   "id": "681eae4f",
   "metadata": {
    "execution": {
     "iopub.execute_input": "2023-08-14T16:08:29.692552Z",
     "iopub.status.busy": "2023-08-14T16:08:29.692102Z",
     "iopub.status.idle": "2023-08-14T16:08:29.743975Z",
     "shell.execute_reply": "2023-08-14T16:08:29.742990Z",
     "shell.execute_reply.started": "2023-08-14T16:08:29.692511Z"
    }
   },
   "outputs": [
    {
     "data": {
      "text/plain": [
       "2     187333\n",
       "1     103777\n",
       "X        339\n",
       "Name: NumBorrowers, dtype: int64"
      ]
     },
     "execution_count": 437,
     "metadata": {},
     "output_type": "execute_result"
    }
   ],
   "source": [
    "data.NumBorrowers.value_counts()"
   ]
  },
  {
   "cell_type": "code",
   "execution_count": 438,
   "id": "910bc79d",
   "metadata": {
    "execution": {
     "iopub.execute_input": "2023-08-14T16:08:29.745408Z",
     "iopub.status.busy": "2023-08-14T16:08:29.745011Z",
     "iopub.status.idle": "2023-08-14T16:08:29.849866Z",
     "shell.execute_reply": "2023-08-14T16:08:29.848876Z",
     "shell.execute_reply.started": "2023-08-14T16:08:29.745365Z"
    }
   },
   "outputs": [
    {
     "data": {
      "text/plain": [
       "2     187333\n",
       "1     103777\n",
       "99       339\n",
       "Name: NumBorrowers, dtype: int64"
      ]
     },
     "execution_count": 438,
     "metadata": {},
     "output_type": "execute_result"
    }
   ],
   "source": [
    "# handling X category\n",
    "data.loc[data['NumBorrowers'] == 'X ' , 'NumBorrowers'] = 99\n",
    "data.NumBorrowers.value_counts()"
   ]
  },
  {
   "cell_type": "markdown",
   "id": "6b680148",
   "metadata": {},
   "source": [
    "### 24. SellerName: \n",
    "The name of the entity that sold the loan to the issuer. This field will not be updated after issuance, regardless of mergers/acquisitions."
   ]
  },
  {
   "cell_type": "code",
   "execution_count": 439,
   "id": "ac95d806",
   "metadata": {
    "execution": {
     "iopub.execute_input": "2023-08-14T16:08:29.851812Z",
     "iopub.status.busy": "2023-08-14T16:08:29.850966Z",
     "iopub.status.idle": "2023-08-14T16:08:29.906254Z",
     "shell.execute_reply": "2023-08-14T16:08:29.905045Z",
     "shell.execute_reply.started": "2023-08-14T16:08:29.851781Z"
    }
   },
   "outputs": [
    {
     "data": {
      "text/plain": [
       "Ot    76942\n",
       "CO    34479\n",
       "FL    25573\n",
       "FI    24581\n",
       "ST    22242\n",
       "NO    16184\n",
       "OL     7776\n",
       "PR     7365\n",
       "BA     7093\n",
       "GM     6566\n",
       "BI     6407\n",
       "G      4734\n",
       "CH     4599\n",
       "CR     4459\n",
       "FT     4105\n",
       "WA     3139\n",
       "AC     3076\n",
       "HO     2970\n",
       "PN     2407\n",
       "RE     1758\n",
       "Name: SellerName, dtype: int64"
      ]
     },
     "execution_count": 439,
     "metadata": {},
     "output_type": "execute_result"
    }
   ],
   "source": [
    "data.SellerName.value_counts()"
   ]
  },
  {
   "cell_type": "markdown",
   "id": "c57b16ea",
   "metadata": {},
   "source": [
    "### 25. ServicerName:\n",
    "The name of the entity that services the loan during the current reporting period.\n"
   ]
  },
  {
   "cell_type": "code",
   "execution_count": 441,
   "id": "04d3b93a",
   "metadata": {
    "execution": {
     "iopub.execute_input": "2023-08-14T16:08:54.978803Z",
     "iopub.status.busy": "2023-08-14T16:08:54.978398Z",
     "iopub.status.idle": "2023-08-14T16:08:54.983421Z",
     "shell.execute_reply": "2023-08-14T16:08:54.982438Z",
     "shell.execute_reply.started": "2023-08-14T16:08:54.978773Z"
    }
   },
   "outputs": [],
   "source": [
    "#data.ServicerName.value_counts()"
   ]
  },
  {
   "cell_type": "markdown",
   "id": "2081ec63",
   "metadata": {},
   "source": [
    "### 26. EverDelinquent:"
   ]
  },
  {
   "cell_type": "code",
   "execution_count": 442,
   "id": "6b8c5cd5",
   "metadata": {
    "execution": {
     "iopub.execute_input": "2023-08-14T16:08:58.266870Z",
     "iopub.status.busy": "2023-08-14T16:08:58.266301Z",
     "iopub.status.idle": "2023-08-14T16:08:58.279943Z",
     "shell.execute_reply": "2023-08-14T16:08:58.278509Z",
     "shell.execute_reply.started": "2023-08-14T16:08:58.266834Z"
    }
   },
   "outputs": [
    {
     "data": {
      "text/plain": [
       "0    233787\n",
       "1     57662\n",
       "Name: EverDelinquent, dtype: int64"
      ]
     },
     "execution_count": 442,
     "metadata": {},
     "output_type": "execute_result"
    }
   ],
   "source": [
    "data.EverDelinquent.value_counts()"
   ]
  },
  {
   "cell_type": "markdown",
   "id": "a5032aed",
   "metadata": {},
   "source": [
    "### 27. MonthsDelinquent:\n",
    "For reperforming, modified and modified step-rate loans, the number of days for which a mortgage loan has been reported delinquent.  \n",
    "**0 = Current  \n",
    "1 = 30-59  \n",
    "2 = 60-89  \n",
    "3 = 90-119  \n",
    "4 = 120+  \n",
    "Effective beginning March 2021**"
   ]
  },
  {
   "cell_type": "code",
   "execution_count": 443,
   "id": "0b40fb0b",
   "metadata": {
    "execution": {
     "iopub.execute_input": "2023-08-14T16:08:59.511368Z",
     "iopub.status.busy": "2023-08-14T16:08:59.510197Z",
     "iopub.status.idle": "2023-08-14T16:08:59.521255Z",
     "shell.execute_reply": "2023-08-14T16:08:59.520060Z",
     "shell.execute_reply.started": "2023-08-14T16:08:59.511314Z"
    }
   },
   "outputs": [
    {
     "data": {
      "text/plain": [
       "0    0\n",
       "1    0\n",
       "2    0\n",
       "3    0\n",
       "4    0\n",
       "Name: MonthsDelinquent, dtype: int64"
      ]
     },
     "execution_count": 443,
     "metadata": {},
     "output_type": "execute_result"
    }
   ],
   "source": [
    "data.MonthsDelinquent.head()"
   ]
  },
  {
   "cell_type": "code",
   "execution_count": 444,
   "id": "06393bb3",
   "metadata": {
    "execution": {
     "iopub.execute_input": "2023-08-14T16:09:00.180801Z",
     "iopub.status.busy": "2023-08-14T16:09:00.180361Z",
     "iopub.status.idle": "2023-08-14T16:09:00.194817Z",
     "shell.execute_reply": "2023-08-14T16:09:00.193467Z",
     "shell.execute_reply.started": "2023-08-14T16:09:00.180766Z"
    }
   },
   "outputs": [
    {
     "data": {
      "text/plain": [
       "0      233787\n",
       "1       23161\n",
       "2        7572\n",
       "3        3823\n",
       "4        2459\n",
       "        ...  \n",
       "153         1\n",
       "178         1\n",
       "159         1\n",
       "163         1\n",
       "171         1\n",
       "Name: MonthsDelinquent, Length: 174, dtype: int64"
      ]
     },
     "execution_count": 444,
     "metadata": {},
     "output_type": "execute_result"
    }
   ],
   "source": [
    "data.MonthsDelinquent.value_counts()"
   ]
  },
  {
   "cell_type": "markdown",
   "id": "ef8c2037",
   "metadata": {},
   "source": [
    "### 28. MonthsInRepayment: "
   ]
  },
  {
   "cell_type": "code",
   "execution_count": 445,
   "id": "c93c2eaa",
   "metadata": {
    "execution": {
     "iopub.execute_input": "2023-08-14T16:09:01.337150Z",
     "iopub.status.busy": "2023-08-14T16:09:01.336751Z",
     "iopub.status.idle": "2023-08-14T16:09:01.349086Z",
     "shell.execute_reply": "2023-08-14T16:09:01.348153Z",
     "shell.execute_reply.started": "2023-08-14T16:09:01.337117Z"
    }
   },
   "outputs": [
    {
     "data": {
      "text/plain": [
       "50     8002\n",
       "49     7976\n",
       "52     7947\n",
       "51     7753\n",
       "53     7603\n",
       "       ... \n",
       "207     112\n",
       "200     111\n",
       "205     107\n",
       "203     100\n",
       "204      99\n",
       "Name: MonthsInRepayment, Length: 212, dtype: int64"
      ]
     },
     "execution_count": 445,
     "metadata": {},
     "output_type": "execute_result"
    }
   ],
   "source": [
    "data.MonthsInRepayment.value_counts()"
   ]
  },
  {
   "cell_type": "markdown",
   "id": "9557bc2c",
   "metadata": {},
   "source": [
    "# Data Encoding"
   ]
  },
  {
   "cell_type": "code",
   "execution_count": 446,
   "id": "b27c0beb",
   "metadata": {
    "execution": {
     "iopub.execute_input": "2023-08-14T16:09:02.538395Z",
     "iopub.status.busy": "2023-08-14T16:09:02.537736Z",
     "iopub.status.idle": "2023-08-14T16:09:02.568841Z",
     "shell.execute_reply": "2023-08-14T16:09:02.567634Z",
     "shell.execute_reply.started": "2023-08-14T16:09:02.538348Z"
    }
   },
   "outputs": [
    {
     "data": {
      "text/plain": [
       "['FirstTimeHomebuyer',\n",
       " 'MSA',\n",
       " 'Occupancy',\n",
       " 'Channel',\n",
       " 'PPM',\n",
       " 'PropertyType',\n",
       " 'PostalCode',\n",
       " 'LoanPurpose',\n",
       " 'NumBorrowers',\n",
       " 'SellerName']"
      ]
     },
     "execution_count": 446,
     "metadata": {},
     "output_type": "execute_result"
    }
   ],
   "source": [
    "categorical_cols = data.select_dtypes(include=['object']).columns.tolist()\n",
    "categorical_cols"
   ]
  },
  {
   "cell_type": "code",
   "execution_count": 447,
   "id": "87ea3712",
   "metadata": {
    "execution": {
     "iopub.execute_input": "2023-08-14T16:09:02.777840Z",
     "iopub.status.busy": "2023-08-14T16:09:02.777427Z",
     "iopub.status.idle": "2023-08-14T16:09:03.102017Z",
     "shell.execute_reply": "2023-08-14T16:09:03.100686Z",
     "shell.execute_reply.started": "2023-08-14T16:09:02.777807Z"
    }
   },
   "outputs": [],
   "source": [
    "data = pd.get_dummies(data, columns=['Channel',\n",
    "                                     'LoanPurpose',\n",
    "                                     'PropertyType',\n",
    "                                     'SellerName',\n",
    "                                     ])"
   ]
  },
  {
   "cell_type": "markdown",
   "id": "fa92a5e8",
   "metadata": {},
   "source": [
    "# Data Labeling"
   ]
  },
  {
   "cell_type": "code",
   "execution_count": 448,
   "id": "2eea85b7",
   "metadata": {
    "execution": {
     "iopub.execute_input": "2023-08-14T16:09:03.876794Z",
     "iopub.status.busy": "2023-08-14T16:09:03.876348Z",
     "iopub.status.idle": "2023-08-14T16:09:04.009331Z",
     "shell.execute_reply": "2023-08-14T16:09:04.008388Z",
     "shell.execute_reply.started": "2023-08-14T16:09:03.876760Z"
    }
   },
   "outputs": [],
   "source": [
    "# convert to integers\n",
    "data['MSA']           = data['MSA'].astype(int)\n",
    "data['NumBorrowers']  = data['NumBorrowers'].astype(int)\n",
    "data['PostalCode']    = data['PostalCode'].astype(int)"
   ]
  },
  {
   "cell_type": "code",
   "execution_count": 449,
   "id": "3471c59b",
   "metadata": {
    "execution": {
     "iopub.execute_input": "2023-08-14T16:09:04.259974Z",
     "iopub.status.busy": "2023-08-14T16:09:04.259600Z",
     "iopub.status.idle": "2023-08-14T16:09:04.284780Z",
     "shell.execute_reply": "2023-08-14T16:09:04.283543Z",
     "shell.execute_reply.started": "2023-08-14T16:09:04.259946Z"
    }
   },
   "outputs": [],
   "source": [
    "data['FirstTimeHomebuyer'] = data['FirstTimeHomebuyer'].map({\n",
    "                                                                 'N' : 0, \n",
    "                                                                 'Y' : 1\n",
    "                                                            }) #.astype('int')"
   ]
  },
  {
   "cell_type": "code",
   "execution_count": 450,
   "id": "d1df099b",
   "metadata": {
    "execution": {
     "iopub.execute_input": "2023-08-14T16:09:05.306957Z",
     "iopub.status.busy": "2023-08-14T16:09:05.306507Z",
     "iopub.status.idle": "2023-08-14T16:09:05.330364Z",
     "shell.execute_reply": "2023-08-14T16:09:05.329271Z",
     "shell.execute_reply.started": "2023-08-14T16:09:05.306926Z"
    }
   },
   "outputs": [],
   "source": [
    "data['PPM'] = data['PPM'].map({\n",
    "                                 'N' : 0, \n",
    "                                 'Y' : 1,\n",
    "                                 '9' : 9\n",
    "                            }) #.astype('int')"
   ]
  },
  {
   "cell_type": "code",
   "execution_count": 451,
   "id": "e3fc630a",
   "metadata": {
    "execution": {
     "iopub.execute_input": "2023-08-14T16:09:10.175605Z",
     "iopub.status.busy": "2023-08-14T16:09:10.175166Z",
     "iopub.status.idle": "2023-08-14T16:09:10.207811Z",
     "shell.execute_reply": "2023-08-14T16:09:10.206221Z",
     "shell.execute_reply.started": "2023-08-14T16:09:10.175526Z"
    }
   },
   "outputs": [],
   "source": [
    "data['Occupancy'] = data['Occupancy'].map({\n",
    "                                             'S' : 0,\n",
    "                                             'I' : 1, \n",
    "                                             '9' : 9\n",
    "                                        })"
   ]
  },
  {
   "cell_type": "code",
   "execution_count": 452,
   "id": "ac684f79",
   "metadata": {
    "execution": {
     "iopub.execute_input": "2023-08-14T16:09:11.861389Z",
     "iopub.status.busy": "2023-08-14T16:09:11.860998Z",
     "iopub.status.idle": "2023-08-14T16:09:11.885730Z",
     "shell.execute_reply": "2023-08-14T16:09:11.884466Z",
     "shell.execute_reply.started": "2023-08-14T16:09:11.861344Z"
    }
   },
   "outputs": [
    {
     "data": {
      "text/html": [
       "<div>\n",
       "<style scoped>\n",
       "    .dataframe tbody tr th:only-of-type {\n",
       "        vertical-align: middle;\n",
       "    }\n",
       "\n",
       "    .dataframe tbody tr th {\n",
       "        vertical-align: top;\n",
       "    }\n",
       "\n",
       "    .dataframe thead th {\n",
       "        text-align: right;\n",
       "    }\n",
       "</style>\n",
       "<table border=\"1\" class=\"dataframe\">\n",
       "  <thead>\n",
       "    <tr style=\"text-align: right;\">\n",
       "      <th></th>\n",
       "      <th>CreditScore</th>\n",
       "      <th>FirstTimeHomebuyer</th>\n",
       "      <th>MSA</th>\n",
       "      <th>MIP</th>\n",
       "      <th>Units</th>\n",
       "      <th>Occupancy</th>\n",
       "      <th>OCLTV</th>\n",
       "      <th>DTI</th>\n",
       "      <th>OrigUPB</th>\n",
       "      <th>LTV</th>\n",
       "      <th>...</th>\n",
       "      <th>SellerName_GM</th>\n",
       "      <th>SellerName_HO</th>\n",
       "      <th>SellerName_NO</th>\n",
       "      <th>SellerName_OL</th>\n",
       "      <th>SellerName_Ot</th>\n",
       "      <th>SellerName_PN</th>\n",
       "      <th>SellerName_PR</th>\n",
       "      <th>SellerName_RE</th>\n",
       "      <th>SellerName_ST</th>\n",
       "      <th>SellerName_WA</th>\n",
       "    </tr>\n",
       "  </thead>\n",
       "  <tbody>\n",
       "    <tr>\n",
       "      <th>0</th>\n",
       "      <td>9999</td>\n",
       "      <td>0.0</td>\n",
       "      <td>16974</td>\n",
       "      <td>25</td>\n",
       "      <td>1</td>\n",
       "      <td>NaN</td>\n",
       "      <td>89</td>\n",
       "      <td>27</td>\n",
       "      <td>117000</td>\n",
       "      <td>89</td>\n",
       "      <td>...</td>\n",
       "      <td>0</td>\n",
       "      <td>0</td>\n",
       "      <td>0</td>\n",
       "      <td>0</td>\n",
       "      <td>0</td>\n",
       "      <td>0</td>\n",
       "      <td>0</td>\n",
       "      <td>0</td>\n",
       "      <td>0</td>\n",
       "      <td>0</td>\n",
       "    </tr>\n",
       "    <tr>\n",
       "      <th>1</th>\n",
       "      <td>9999</td>\n",
       "      <td>0.0</td>\n",
       "      <td>19740</td>\n",
       "      <td>0</td>\n",
       "      <td>1</td>\n",
       "      <td>NaN</td>\n",
       "      <td>73</td>\n",
       "      <td>17</td>\n",
       "      <td>109000</td>\n",
       "      <td>73</td>\n",
       "      <td>...</td>\n",
       "      <td>0</td>\n",
       "      <td>0</td>\n",
       "      <td>0</td>\n",
       "      <td>0</td>\n",
       "      <td>0</td>\n",
       "      <td>0</td>\n",
       "      <td>0</td>\n",
       "      <td>0</td>\n",
       "      <td>0</td>\n",
       "      <td>0</td>\n",
       "    </tr>\n",
       "    <tr>\n",
       "      <th>2</th>\n",
       "      <td>9999</td>\n",
       "      <td>0.0</td>\n",
       "      <td>29940</td>\n",
       "      <td>0</td>\n",
       "      <td>1</td>\n",
       "      <td>NaN</td>\n",
       "      <td>75</td>\n",
       "      <td>16</td>\n",
       "      <td>88000</td>\n",
       "      <td>75</td>\n",
       "      <td>...</td>\n",
       "      <td>0</td>\n",
       "      <td>0</td>\n",
       "      <td>0</td>\n",
       "      <td>0</td>\n",
       "      <td>0</td>\n",
       "      <td>0</td>\n",
       "      <td>0</td>\n",
       "      <td>0</td>\n",
       "      <td>0</td>\n",
       "      <td>0</td>\n",
       "    </tr>\n",
       "    <tr>\n",
       "      <th>3</th>\n",
       "      <td>9999</td>\n",
       "      <td>0.0</td>\n",
       "      <td>31084</td>\n",
       "      <td>0</td>\n",
       "      <td>1</td>\n",
       "      <td>NaN</td>\n",
       "      <td>76</td>\n",
       "      <td>14</td>\n",
       "      <td>160000</td>\n",
       "      <td>76</td>\n",
       "      <td>...</td>\n",
       "      <td>1</td>\n",
       "      <td>0</td>\n",
       "      <td>0</td>\n",
       "      <td>0</td>\n",
       "      <td>0</td>\n",
       "      <td>0</td>\n",
       "      <td>0</td>\n",
       "      <td>0</td>\n",
       "      <td>0</td>\n",
       "      <td>0</td>\n",
       "    </tr>\n",
       "    <tr>\n",
       "      <th>4</th>\n",
       "      <td>9999</td>\n",
       "      <td>0.0</td>\n",
       "      <td>35644</td>\n",
       "      <td>0</td>\n",
       "      <td>1</td>\n",
       "      <td>NaN</td>\n",
       "      <td>78</td>\n",
       "      <td>18</td>\n",
       "      <td>109000</td>\n",
       "      <td>78</td>\n",
       "      <td>...</td>\n",
       "      <td>1</td>\n",
       "      <td>0</td>\n",
       "      <td>0</td>\n",
       "      <td>0</td>\n",
       "      <td>0</td>\n",
       "      <td>0</td>\n",
       "      <td>0</td>\n",
       "      <td>0</td>\n",
       "      <td>0</td>\n",
       "      <td>0</td>\n",
       "    </tr>\n",
       "  </tbody>\n",
       "</table>\n",
       "<p>5 rows × 54 columns</p>\n",
       "</div>"
      ],
      "text/plain": [
       "   CreditScore  FirstTimeHomebuyer    MSA  MIP  Units  Occupancy  OCLTV  DTI  \\\n",
       "0         9999                 0.0  16974   25      1        NaN     89   27   \n",
       "1         9999                 0.0  19740    0      1        NaN     73   17   \n",
       "2         9999                 0.0  29940    0      1        NaN     75   16   \n",
       "3         9999                 0.0  31084    0      1        NaN     76   14   \n",
       "4         9999                 0.0  35644    0      1        NaN     78   18   \n",
       "\n",
       "   OrigUPB  LTV  ...  SellerName_GM  SellerName_HO  SellerName_NO  \\\n",
       "0   117000   89  ...              0              0              0   \n",
       "1   109000   73  ...              0              0              0   \n",
       "2    88000   75  ...              0              0              0   \n",
       "3   160000   76  ...              1              0              0   \n",
       "4   109000   78  ...              1              0              0   \n",
       "\n",
       "   SellerName_OL  SellerName_Ot  SellerName_PN  SellerName_PR  SellerName_RE  \\\n",
       "0              0              0              0              0              0   \n",
       "1              0              0              0              0              0   \n",
       "2              0              0              0              0              0   \n",
       "3              0              0              0              0              0   \n",
       "4              0              0              0              0              0   \n",
       "\n",
       "  SellerName_ST SellerName_WA  \n",
       "0             0             0  \n",
       "1             0             0  \n",
       "2             0             0  \n",
       "3             0             0  \n",
       "4             0             0  \n",
       "\n",
       "[5 rows x 54 columns]"
      ]
     },
     "execution_count": 452,
     "metadata": {},
     "output_type": "execute_result"
    }
   ],
   "source": [
    "data.head()"
   ]
  },
  {
   "cell_type": "code",
   "execution_count": null,
   "id": "7de8f45f",
   "metadata": {},
   "outputs": [],
   "source": []
  }
 ],
 "metadata": {
  "kernelspec": {
   "display_name": "Python 3 (ipykernel)",
   "language": "python",
   "name": "python3"
  },
  "language_info": {
   "codemirror_mode": {
    "name": "ipython",
    "version": 3
   },
   "file_extension": ".py",
   "mimetype": "text/x-python",
   "name": "python",
   "nbconvert_exporter": "python",
   "pygments_lexer": "ipython3",
   "version": "3.7.1"
  }
 },
 "nbformat": 4,
 "nbformat_minor": 5
}
