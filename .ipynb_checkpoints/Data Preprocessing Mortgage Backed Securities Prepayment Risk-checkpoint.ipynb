{
 "cells": [
  {
   "cell_type": "markdown",
   "id": "34d4c980",
   "metadata": {},
   "source": [
    "# **First Tasks : Data Preprocessing** \n",
    "\n",
    "1. Data Cleaning\n",
    "2. Data Encoding\n",
    "3. Data Labeling"
   ]
  },
  {
   "cell_type": "markdown",
   "id": "3edf641c",
   "metadata": {},
   "source": [
    "# Librairies"
   ]
  },
  {
   "cell_type": "code",
   "execution_count": 1,
   "id": "af6c8ea5",
   "metadata": {},
   "outputs": [],
   "source": [
    "# data manipulation\n",
    "import pandas as pd\n",
    "import numpy as np\n",
    "import datetime\n",
    "\n",
    "# data preprocessing & engineering\n",
    "from sklearn.preprocessing import LabelEncoder, OrdinalEncoder\n",
    "\n",
    "# settings & warning handling\n",
    "import warnings\n",
    "pd.options.display.max_columns\n",
    "warnings.filterwarnings(\"always\")\n",
    "warnings.filterwarnings(\"ignore\")\n"
   ]
  },
  {
   "cell_type": "markdown",
   "id": "f9dcb9a5",
   "metadata": {},
   "source": [
    "# First Look at the data"
   ]
  },
  {
   "cell_type": "code",
   "execution_count": 2,
   "id": "c86f7cf2",
   "metadata": {},
   "outputs": [],
   "source": [
    "# read in csv file as a DataFrame\n",
    "data = pd.read_csv(\"LoanExport.csv\")"
   ]
  },
  {
   "cell_type": "code",
   "execution_count": 3,
   "id": "04f1624d",
   "metadata": {},
   "outputs": [
    {
     "data": {
      "text/html": [
       "<div>\n",
       "<style scoped>\n",
       "    .dataframe tbody tr th:only-of-type {\n",
       "        vertical-align: middle;\n",
       "    }\n",
       "\n",
       "    .dataframe tbody tr th {\n",
       "        vertical-align: top;\n",
       "    }\n",
       "\n",
       "    .dataframe thead th {\n",
       "        text-align: right;\n",
       "    }\n",
       "</style>\n",
       "<table border=\"1\" class=\"dataframe\">\n",
       "  <thead>\n",
       "    <tr style=\"text-align: right;\">\n",
       "      <th></th>\n",
       "      <th>CreditScore</th>\n",
       "      <th>FirstPaymentDate</th>\n",
       "      <th>FirstTimeHomebuyer</th>\n",
       "      <th>MaturityDate</th>\n",
       "      <th>MSA</th>\n",
       "      <th>MIP</th>\n",
       "      <th>Units</th>\n",
       "      <th>Occupancy</th>\n",
       "      <th>OCLTV</th>\n",
       "      <th>DTI</th>\n",
       "      <th>...</th>\n",
       "      <th>PostalCode</th>\n",
       "      <th>LoanSeqNum</th>\n",
       "      <th>LoanPurpose</th>\n",
       "      <th>OrigLoanTerm</th>\n",
       "      <th>NumBorrowers</th>\n",
       "      <th>SellerName</th>\n",
       "      <th>ServicerName</th>\n",
       "      <th>EverDelinquent</th>\n",
       "      <th>MonthsDelinquent</th>\n",
       "      <th>MonthsInRepayment</th>\n",
       "    </tr>\n",
       "  </thead>\n",
       "  <tbody>\n",
       "    <tr>\n",
       "      <th>0</th>\n",
       "      <td>0</td>\n",
       "      <td>199902</td>\n",
       "      <td>N</td>\n",
       "      <td>202901</td>\n",
       "      <td>16974</td>\n",
       "      <td>25</td>\n",
       "      <td>1</td>\n",
       "      <td>O</td>\n",
       "      <td>89</td>\n",
       "      <td>27</td>\n",
       "      <td>...</td>\n",
       "      <td>60400</td>\n",
       "      <td>F199Q1268030</td>\n",
       "      <td>P</td>\n",
       "      <td>360</td>\n",
       "      <td>2</td>\n",
       "      <td>FL</td>\n",
       "      <td>WASHINGTONMUTUALBANK</td>\n",
       "      <td>0</td>\n",
       "      <td>0</td>\n",
       "      <td>52</td>\n",
       "    </tr>\n",
       "    <tr>\n",
       "      <th>1</th>\n",
       "      <td>0</td>\n",
       "      <td>199902</td>\n",
       "      <td>N</td>\n",
       "      <td>202901</td>\n",
       "      <td>19740</td>\n",
       "      <td>0</td>\n",
       "      <td>1</td>\n",
       "      <td>O</td>\n",
       "      <td>73</td>\n",
       "      <td>17</td>\n",
       "      <td>...</td>\n",
       "      <td>80200</td>\n",
       "      <td>F199Q1015092</td>\n",
       "      <td>N</td>\n",
       "      <td>360</td>\n",
       "      <td>1</td>\n",
       "      <td>FT</td>\n",
       "      <td>CHASEHOMEFINANCELLC</td>\n",
       "      <td>0</td>\n",
       "      <td>0</td>\n",
       "      <td>144</td>\n",
       "    </tr>\n",
       "    <tr>\n",
       "      <th>2</th>\n",
       "      <td>0</td>\n",
       "      <td>199902</td>\n",
       "      <td>N</td>\n",
       "      <td>202901</td>\n",
       "      <td>29940</td>\n",
       "      <td>0</td>\n",
       "      <td>1</td>\n",
       "      <td>O</td>\n",
       "      <td>75</td>\n",
       "      <td>16</td>\n",
       "      <td>...</td>\n",
       "      <td>66000</td>\n",
       "      <td>F199Q1266886</td>\n",
       "      <td>N</td>\n",
       "      <td>360</td>\n",
       "      <td>2</td>\n",
       "      <td>FL</td>\n",
       "      <td>WASHINGTONMUTUALBANK</td>\n",
       "      <td>0</td>\n",
       "      <td>0</td>\n",
       "      <td>67</td>\n",
       "    </tr>\n",
       "    <tr>\n",
       "      <th>3</th>\n",
       "      <td>0</td>\n",
       "      <td>199902</td>\n",
       "      <td>N</td>\n",
       "      <td>202901</td>\n",
       "      <td>31084</td>\n",
       "      <td>0</td>\n",
       "      <td>1</td>\n",
       "      <td>O</td>\n",
       "      <td>76</td>\n",
       "      <td>14</td>\n",
       "      <td>...</td>\n",
       "      <td>90700</td>\n",
       "      <td>F199Q1178167</td>\n",
       "      <td>N</td>\n",
       "      <td>360</td>\n",
       "      <td>2</td>\n",
       "      <td>GM</td>\n",
       "      <td>GMACMTGECORP</td>\n",
       "      <td>0</td>\n",
       "      <td>0</td>\n",
       "      <td>35</td>\n",
       "    </tr>\n",
       "    <tr>\n",
       "      <th>4</th>\n",
       "      <td>0</td>\n",
       "      <td>199902</td>\n",
       "      <td>N</td>\n",
       "      <td>202901</td>\n",
       "      <td>35644</td>\n",
       "      <td>0</td>\n",
       "      <td>1</td>\n",
       "      <td>O</td>\n",
       "      <td>78</td>\n",
       "      <td>18</td>\n",
       "      <td>...</td>\n",
       "      <td>7600</td>\n",
       "      <td>F199Q1178517</td>\n",
       "      <td>N</td>\n",
       "      <td>360</td>\n",
       "      <td>2</td>\n",
       "      <td>GM</td>\n",
       "      <td>GMACMTGECORP</td>\n",
       "      <td>0</td>\n",
       "      <td>0</td>\n",
       "      <td>54</td>\n",
       "    </tr>\n",
       "  </tbody>\n",
       "</table>\n",
       "<p>5 rows × 28 columns</p>\n",
       "</div>"
      ],
      "text/plain": [
       "   CreditScore  FirstPaymentDate FirstTimeHomebuyer  MaturityDate    MSA  MIP  \\\n",
       "0            0            199902                  N        202901  16974   25   \n",
       "1            0            199902                  N        202901  19740    0   \n",
       "2            0            199902                  N        202901  29940    0   \n",
       "3            0            199902                  N        202901  31084    0   \n",
       "4            0            199902                  N        202901  35644    0   \n",
       "\n",
       "   Units Occupancy  OCLTV  DTI  ...  PostalCode    LoanSeqNum  LoanPurpose  \\\n",
       "0      1         O     89   27  ...       60400  F199Q1268030            P   \n",
       "1      1         O     73   17  ...       80200  F199Q1015092            N   \n",
       "2      1         O     75   16  ...       66000  F199Q1266886            N   \n",
       "3      1         O     76   14  ...       90700  F199Q1178167            N   \n",
       "4      1         O     78   18  ...        7600  F199Q1178517            N   \n",
       "\n",
       "  OrigLoanTerm NumBorrowers SellerName          ServicerName EverDelinquent  \\\n",
       "0          360            2         FL  WASHINGTONMUTUALBANK              0   \n",
       "1          360            1         FT  CHASEHOMEFINANCELLC               0   \n",
       "2          360            2         FL  WASHINGTONMUTUALBANK              0   \n",
       "3          360            2         GM  GMACMTGECORP                      0   \n",
       "4          360            2         GM  GMACMTGECORP                      0   \n",
       "\n",
       "  MonthsDelinquent MonthsInRepayment  \n",
       "0                0                52  \n",
       "1                0               144  \n",
       "2                0                67  \n",
       "3                0                35  \n",
       "4                0                54  \n",
       "\n",
       "[5 rows x 28 columns]"
      ]
     },
     "execution_count": 3,
     "metadata": {},
     "output_type": "execute_result"
    }
   ],
   "source": [
    "# explore the first 5 rows\n",
    "data.head()"
   ]
  },
  {
   "cell_type": "code",
   "execution_count": 4,
   "id": "8107012c",
   "metadata": {},
   "outputs": [
    {
     "data": {
      "text/html": [
       "<div>\n",
       "<style scoped>\n",
       "    .dataframe tbody tr th:only-of-type {\n",
       "        vertical-align: middle;\n",
       "    }\n",
       "\n",
       "    .dataframe tbody tr th {\n",
       "        vertical-align: top;\n",
       "    }\n",
       "\n",
       "    .dataframe thead th {\n",
       "        text-align: right;\n",
       "    }\n",
       "</style>\n",
       "<table border=\"1\" class=\"dataframe\">\n",
       "  <thead>\n",
       "    <tr style=\"text-align: right;\">\n",
       "      <th></th>\n",
       "      <th>CreditScore</th>\n",
       "      <th>FirstPaymentDate</th>\n",
       "      <th>FirstTimeHomebuyer</th>\n",
       "      <th>MaturityDate</th>\n",
       "      <th>MSA</th>\n",
       "      <th>MIP</th>\n",
       "      <th>Units</th>\n",
       "      <th>Occupancy</th>\n",
       "      <th>OCLTV</th>\n",
       "      <th>DTI</th>\n",
       "      <th>...</th>\n",
       "      <th>PostalCode</th>\n",
       "      <th>LoanSeqNum</th>\n",
       "      <th>LoanPurpose</th>\n",
       "      <th>OrigLoanTerm</th>\n",
       "      <th>NumBorrowers</th>\n",
       "      <th>SellerName</th>\n",
       "      <th>ServicerName</th>\n",
       "      <th>EverDelinquent</th>\n",
       "      <th>MonthsDelinquent</th>\n",
       "      <th>MonthsInRepayment</th>\n",
       "    </tr>\n",
       "  </thead>\n",
       "  <tbody>\n",
       "    <tr>\n",
       "      <th>291446</th>\n",
       "      <td>839</td>\n",
       "      <td>199903</td>\n",
       "      <td>N</td>\n",
       "      <td>202902</td>\n",
       "      <td>37964</td>\n",
       "      <td>0</td>\n",
       "      <td>1</td>\n",
       "      <td>O</td>\n",
       "      <td>60</td>\n",
       "      <td>32</td>\n",
       "      <td>...</td>\n",
       "      <td>19400</td>\n",
       "      <td>F199Q1220925</td>\n",
       "      <td>N</td>\n",
       "      <td>360</td>\n",
       "      <td>2</td>\n",
       "      <td>Ot</td>\n",
       "      <td>Other servicers</td>\n",
       "      <td>0</td>\n",
       "      <td>0</td>\n",
       "      <td>12</td>\n",
       "    </tr>\n",
       "    <tr>\n",
       "      <th>291447</th>\n",
       "      <td>840</td>\n",
       "      <td>200210</td>\n",
       "      <td>N</td>\n",
       "      <td>202904</td>\n",
       "      <td>35644</td>\n",
       "      <td>0</td>\n",
       "      <td>1</td>\n",
       "      <td>O</td>\n",
       "      <td>73</td>\n",
       "      <td>0</td>\n",
       "      <td>...</td>\n",
       "      <td>11600</td>\n",
       "      <td>F199Q1401332</td>\n",
       "      <td>P</td>\n",
       "      <td>319</td>\n",
       "      <td>2</td>\n",
       "      <td>Ot</td>\n",
       "      <td>Other servicers</td>\n",
       "      <td>0</td>\n",
       "      <td>0</td>\n",
       "      <td>53</td>\n",
       "    </tr>\n",
       "    <tr>\n",
       "      <th>291448</th>\n",
       "      <td>840</td>\n",
       "      <td>200304</td>\n",
       "      <td>N</td>\n",
       "      <td>202904</td>\n",
       "      <td>42044</td>\n",
       "      <td>0</td>\n",
       "      <td>1</td>\n",
       "      <td>O</td>\n",
       "      <td>73</td>\n",
       "      <td>31</td>\n",
       "      <td>...</td>\n",
       "      <td>92800</td>\n",
       "      <td>F199Q1401282</td>\n",
       "      <td>N</td>\n",
       "      <td>313</td>\n",
       "      <td>1</td>\n",
       "      <td>Ot</td>\n",
       "      <td>Other servicers</td>\n",
       "      <td>0</td>\n",
       "      <td>0</td>\n",
       "      <td>38</td>\n",
       "    </tr>\n",
       "    <tr>\n",
       "      <th>291449</th>\n",
       "      <td>845</td>\n",
       "      <td>199904</td>\n",
       "      <td>N</td>\n",
       "      <td>202903</td>\n",
       "      <td>37964</td>\n",
       "      <td>0</td>\n",
       "      <td>1</td>\n",
       "      <td>I</td>\n",
       "      <td>80</td>\n",
       "      <td>54</td>\n",
       "      <td>...</td>\n",
       "      <td>19300</td>\n",
       "      <td>F199Q1220924</td>\n",
       "      <td>P</td>\n",
       "      <td>360</td>\n",
       "      <td>2</td>\n",
       "      <td>Ot</td>\n",
       "      <td>Other servicers</td>\n",
       "      <td>0</td>\n",
       "      <td>0</td>\n",
       "      <td>32</td>\n",
       "    </tr>\n",
       "    <tr>\n",
       "      <th>291450</th>\n",
       "      <td>849</td>\n",
       "      <td>199903</td>\n",
       "      <td>N</td>\n",
       "      <td>202902</td>\n",
       "      <td>37964</td>\n",
       "      <td>0</td>\n",
       "      <td>1</td>\n",
       "      <td>O</td>\n",
       "      <td>47</td>\n",
       "      <td>29</td>\n",
       "      <td>...</td>\n",
       "      <td>18900</td>\n",
       "      <td>F199Q1220923</td>\n",
       "      <td>P</td>\n",
       "      <td>360</td>\n",
       "      <td>2</td>\n",
       "      <td>Ot</td>\n",
       "      <td>Other servicers</td>\n",
       "      <td>0</td>\n",
       "      <td>0</td>\n",
       "      <td>29</td>\n",
       "    </tr>\n",
       "  </tbody>\n",
       "</table>\n",
       "<p>5 rows × 28 columns</p>\n",
       "</div>"
      ],
      "text/plain": [
       "        CreditScore  FirstPaymentDate FirstTimeHomebuyer  MaturityDate    MSA  \\\n",
       "291446          839            199903                  N        202902  37964   \n",
       "291447          840            200210                  N        202904  35644   \n",
       "291448          840            200304                  N        202904  42044   \n",
       "291449          845            199904                  N        202903  37964   \n",
       "291450          849            199903                  N        202902  37964   \n",
       "\n",
       "        MIP  Units Occupancy  OCLTV  DTI  ...  PostalCode    LoanSeqNum  \\\n",
       "291446    0      1         O     60   32  ...       19400  F199Q1220925   \n",
       "291447    0      1         O     73    0  ...       11600  F199Q1401332   \n",
       "291448    0      1         O     73   31  ...       92800  F199Q1401282   \n",
       "291449    0      1         I     80   54  ...       19300  F199Q1220924   \n",
       "291450    0      1         O     47   29  ...       18900  F199Q1220923   \n",
       "\n",
       "        LoanPurpose OrigLoanTerm NumBorrowers SellerName  \\\n",
       "291446            N          360            2         Ot   \n",
       "291447            P          319            2         Ot   \n",
       "291448            N          313            1         Ot   \n",
       "291449            P          360            2         Ot   \n",
       "291450            P          360            2         Ot   \n",
       "\n",
       "                ServicerName EverDelinquent MonthsDelinquent MonthsInRepayment  \n",
       "291446  Other servicers                   0                0                12  \n",
       "291447  Other servicers                   0                0                53  \n",
       "291448  Other servicers                   0                0                38  \n",
       "291449  Other servicers                   0                0                32  \n",
       "291450  Other servicers                   0                0                29  \n",
       "\n",
       "[5 rows x 28 columns]"
      ]
     },
     "execution_count": 4,
     "metadata": {},
     "output_type": "execute_result"
    }
   ],
   "source": [
    "# explore the last 5 rows\n",
    "data.tail()"
   ]
  },
  {
   "cell_type": "code",
   "execution_count": 5,
   "id": "2212efbc",
   "metadata": {},
   "outputs": [
    {
     "data": {
      "text/plain": [
       "(291451, 28)"
      ]
     },
     "execution_count": 5,
     "metadata": {},
     "output_type": "execute_result"
    }
   ],
   "source": [
    "# size of the dataset\n",
    "data.shape"
   ]
  },
  {
   "cell_type": "code",
   "execution_count": 6,
   "id": "9e448ccf",
   "metadata": {},
   "outputs": [
    {
     "data": {
      "text/plain": [
       "Index(['CreditScore', 'FirstPaymentDate', 'FirstTimeHomebuyer', 'MaturityDate',\n",
       "       'MSA', 'MIP', 'Units', 'Occupancy', 'OCLTV', 'DTI', 'OrigUPB', 'LTV',\n",
       "       'OrigInterestRate', 'Channel', 'PPM', 'ProductType', 'PropertyState',\n",
       "       'PropertyType', 'PostalCode', 'LoanSeqNum', 'LoanPurpose',\n",
       "       'OrigLoanTerm', 'NumBorrowers', 'SellerName', 'ServicerName',\n",
       "       'EverDelinquent', 'MonthsDelinquent', 'MonthsInRepayment'],\n",
       "      dtype='object')"
      ]
     },
     "execution_count": 6,
     "metadata": {},
     "output_type": "execute_result"
    }
   ],
   "source": [
    "# check the columns names\n",
    "data.columns"
   ]
  },
  {
   "cell_type": "code",
   "execution_count": 7,
   "id": "85123350",
   "metadata": {},
   "outputs": [
    {
     "name": "stdout",
     "output_type": "stream",
     "text": [
      "<class 'pandas.core.frame.DataFrame'>\n",
      "RangeIndex: 291451 entries, 0 to 291450\n",
      "Data columns (total 28 columns):\n",
      " #   Column              Non-Null Count   Dtype  \n",
      "---  ------              --------------   -----  \n",
      " 0   CreditScore         291451 non-null  int64  \n",
      " 1   FirstPaymentDate    291451 non-null  int64  \n",
      " 2   FirstTimeHomebuyer  291451 non-null  object \n",
      " 3   MaturityDate        291451 non-null  int64  \n",
      " 4   MSA                 291451 non-null  object \n",
      " 5   MIP                 291451 non-null  int64  \n",
      " 6   Units               291451 non-null  int64  \n",
      " 7   Occupancy           291451 non-null  object \n",
      " 8   OCLTV               291451 non-null  int64  \n",
      " 9   DTI                 291451 non-null  int64  \n",
      " 10  OrigUPB             291451 non-null  int64  \n",
      " 11  LTV                 291451 non-null  int64  \n",
      " 12  OrigInterestRate    291451 non-null  float64\n",
      " 13  Channel             291451 non-null  object \n",
      " 14  PPM                 291451 non-null  object \n",
      " 15  ProductType         291451 non-null  object \n",
      " 16  PropertyState       291451 non-null  object \n",
      " 17  PropertyType        291451 non-null  object \n",
      " 18  PostalCode          291451 non-null  object \n",
      " 19  LoanSeqNum          291451 non-null  object \n",
      " 20  LoanPurpose         291451 non-null  object \n",
      " 21  OrigLoanTerm        291451 non-null  int64  \n",
      " 22  NumBorrowers        291451 non-null  object \n",
      " 23  SellerName          266457 non-null  object \n",
      " 24  ServicerName        291451 non-null  object \n",
      " 25  EverDelinquent      291451 non-null  int64  \n",
      " 26  MonthsDelinquent    291451 non-null  int64  \n",
      " 27  MonthsInRepayment   291451 non-null  int64  \n",
      "dtypes: float64(1), int64(13), object(14)\n",
      "memory usage: 62.3+ MB\n"
     ]
    }
   ],
   "source": [
    "data.info()"
   ]
  },
  {
   "cell_type": "code",
   "execution_count": 8,
   "id": "a190177e",
   "metadata": {},
   "outputs": [],
   "source": [
    "not_found_cols = [     \n",
    "                   'MSA', \n",
    "                   'ProductType', \n",
    "                   'PostalCode', \n",
    "                   'LoanSeqNum', \n",
    "                   'EverDelinquent'\n",
    "                 ]"
   ]
  },
  {
   "cell_type": "markdown",
   "id": "16017899",
   "metadata": {},
   "source": [
    "# Data Cleaning"
   ]
  },
  {
   "cell_type": "markdown",
   "id": "59bd38f6",
   "metadata": {},
   "source": [
    "## Missing values treatment"
   ]
  },
  {
   "cell_type": "code",
   "execution_count": 9,
   "id": "d4dc8d98",
   "metadata": {},
   "outputs": [
    {
     "data": {
      "text/plain": [
       "SellerName            24994\n",
       "CreditScore               0\n",
       "FirstPaymentDate          0\n",
       "MonthsDelinquent          0\n",
       "EverDelinquent            0\n",
       "ServicerName              0\n",
       "NumBorrowers              0\n",
       "OrigLoanTerm              0\n",
       "LoanPurpose               0\n",
       "LoanSeqNum                0\n",
       "PostalCode                0\n",
       "PropertyType              0\n",
       "PropertyState             0\n",
       "ProductType               0\n",
       "PPM                       0\n",
       "Channel                   0\n",
       "OrigInterestRate          0\n",
       "LTV                       0\n",
       "OrigUPB                   0\n",
       "DTI                       0\n",
       "OCLTV                     0\n",
       "Occupancy                 0\n",
       "Units                     0\n",
       "MIP                       0\n",
       "MSA                       0\n",
       "MaturityDate              0\n",
       "FirstTimeHomebuyer        0\n",
       "MonthsInRepayment         0\n",
       "dtype: int64"
      ]
     },
     "execution_count": 9,
     "metadata": {},
     "output_type": "execute_result"
    }
   ],
   "source": [
    "# missing values in descending in descending order\n",
    "data.isnull().sum().sort_values(ascending=False)"
   ]
  },
  {
   "cell_type": "markdown",
   "id": "95e0dc1e",
   "metadata": {},
   "source": [
    "We see that according to the isnull() function, only \"SellerName\" has missing values. \n",
    "However we'll look at the variable description to make sure that others columns don't have missing values."
   ]
  },
  {
   "cell_type": "markdown",
   "id": "6562011f",
   "metadata": {},
   "source": [
    "### 1. CreditScore  \n",
    "The standardized credit score used to evaluate the borrower during the loan origination process. For reperforming, modified fixed-rate and modified step-rate loans, this value will be blank. \n",
    "All known credit scores are disclosed at issuance. Generally, the credit score known and disclosed at time of PC issuance is the score used to originate the mortgage. Mortgages reported with unknown credit scores at the time of PC issuance may have credit scores disclosed in the month following PC issuance. Credit scores reported at PC issuance and those reported in the month following, if any, are not updated and these same scores continue to appear in the monthly reporting. \n",
    "\n",
    "**An unavailable credit score or a credit score value less than 300 or greater than 850 will be disclosed as “Not Available,” which will be indicated by 9999.  \n",
    "9999 = Not Available**"
   ]
  },
  {
   "cell_type": "code",
   "execution_count": 10,
   "id": "792270ac",
   "metadata": {},
   "outputs": [
    {
     "data": {
      "text/plain": [
       "0    0\n",
       "1    0\n",
       "2    0\n",
       "3    0\n",
       "4    0\n",
       "Name: CreditScore, dtype: int64"
      ]
     },
     "execution_count": 10,
     "metadata": {},
     "output_type": "execute_result"
    }
   ],
   "source": [
    "data['CreditScore'].head()"
   ]
  },
  {
   "cell_type": "code",
   "execution_count": 11,
   "id": "914e20cc",
   "metadata": {},
   "outputs": [
    {
     "data": {
      "text/plain": [
       "0       0\n",
       "1       0\n",
       "2       0\n",
       "3       0\n",
       "4       0\n",
       "       ..\n",
       "1184    0\n",
       "1185    0\n",
       "1186    0\n",
       "1187    0\n",
       "1188    0\n",
       "Name: CreditScore, Length: 1189, dtype: int64"
      ]
     },
     "execution_count": 11,
     "metadata": {},
     "output_type": "execute_result"
    }
   ],
   "source": [
    "data[data['CreditScore'] < 300]['CreditScore']"
   ]
  },
  {
   "cell_type": "code",
   "execution_count": 12,
   "id": "2bdffea9",
   "metadata": {},
   "outputs": [
    {
     "data": {
      "text/plain": [
       "Series([], Name: CreditScore, dtype: int64)"
      ]
     },
     "execution_count": 12,
     "metadata": {},
     "output_type": "execute_result"
    }
   ],
   "source": [
    "data[data['CreditScore'] > 850]['CreditScore']"
   ]
  },
  {
   "cell_type": "code",
   "execution_count": 13,
   "id": "e1946320",
   "metadata": {},
   "outputs": [
    {
     "data": {
      "text/plain": [
       "Series([], Name: CreditScore, dtype: int64)"
      ]
     },
     "execution_count": 13,
     "metadata": {},
     "output_type": "execute_result"
    }
   ],
   "source": [
    "data[data['CreditScore'] == 9999]['CreditScore']"
   ]
  },
  {
   "cell_type": "markdown",
   "id": "56b9f5c4",
   "metadata": {},
   "source": [
    "There are 1189 values of 'CreditScore' less than 350 but not values greater than 850.  \n",
    "So these values should be marqued as “Not Available”, which will be indicated by 9999."
   ]
  },
  {
   "cell_type": "code",
   "execution_count": 14,
   "id": "4861ec86",
   "metadata": {},
   "outputs": [],
   "source": [
    "# replacing all credit score values less than 300 by 9999\n",
    "data.loc[data['CreditScore'] < 300, 'CreditScore'] = 9999"
   ]
  },
  {
   "cell_type": "code",
   "execution_count": 15,
   "id": "8cfe4e84",
   "metadata": {},
   "outputs": [
    {
     "data": {
      "text/plain": [
       "Series([], Name: CreditScore, dtype: int64)"
      ]
     },
     "execution_count": 15,
     "metadata": {},
     "output_type": "execute_result"
    }
   ],
   "source": [
    "# check the result\n",
    "data[data['CreditScore'] < 300]['CreditScore']"
   ]
  },
  {
   "cell_type": "markdown",
   "id": "dac1cc33",
   "metadata": {},
   "source": [
    "###  2. FirstPaymentDate : \n",
    "The month and year that the first scheduled payment on the loan is due. For seller-owned modified mortgages, converted mortgages, and construction to permanent mortgages, the first payment due date of the mortgage as of the note modification, conversion, or construction to permanent date of the mortgage."
   ]
  },
  {
   "cell_type": "code",
   "execution_count": 16,
   "id": "14e9f5b0",
   "metadata": {},
   "outputs": [
    {
     "data": {
      "text/plain": [
       "0         199902\n",
       "1         199902\n",
       "2         199902\n",
       "3         199902\n",
       "4         199902\n",
       "           ...  \n",
       "291446    199903\n",
       "291447    200210\n",
       "291448    200304\n",
       "291449    199904\n",
       "291450    199903\n",
       "Name: FirstPaymentDate, Length: 291451, dtype: int64"
      ]
     },
     "execution_count": 16,
     "metadata": {},
     "output_type": "execute_result"
    }
   ],
   "source": [
    "data.FirstPaymentDate"
   ]
  },
  {
   "cell_type": "markdown",
   "id": "d3915a25",
   "metadata": {},
   "source": [
    "These values are dates but Python doesn't know that they're dates because the dtype is 'int64'."
   ]
  },
  {
   "cell_type": "code",
   "execution_count": 17,
   "id": "070f18ac",
   "metadata": {},
   "outputs": [
    {
     "data": {
      "text/plain": [
       "dtype('int64')"
      ]
     },
     "execution_count": 17,
     "metadata": {},
     "output_type": "execute_result"
    }
   ],
   "source": [
    "data['FirstPaymentDate'].dtype"
   ]
  },
  {
   "cell_type": "code",
   "execution_count": 18,
   "id": "10cce094",
   "metadata": {},
   "outputs": [
    {
     "data": {
      "text/plain": [
       "291446    1999-03\n",
       "291447    2002-10\n",
       "291448    2003-04\n",
       "291449    1999-04\n",
       "291450    1999-03\n",
       "Name: FirstPaymentDate, dtype: object"
      ]
     },
     "execution_count": 18,
     "metadata": {},
     "output_type": "execute_result"
    }
   ],
   "source": [
    "# let's first separate year from month\n",
    "data['FirstPaymentDate'] = data['FirstPaymentDate'].apply(lambda x: str(x)[:4] + '-' + str(x)[4:]) #.astype('str')\n",
    "data['FirstPaymentDate'].tail()"
   ]
  },
  {
   "cell_type": "markdown",
   "id": "6046495a",
   "metadata": {},
   "source": [
    "Then let's convert this object column to datetime. This is called \"Parsing Dates\", i.e., we're taking in astring and identifying its components parts. The format of dates are determined with a guide called \"strftime\". The most common parts of date are : \n",
    "- %d for day, \n",
    "- %m for month,\n",
    "- %y for two-digit year,\n",
    "- %Y for 4 digit year."
   ]
  },
  {
   "cell_type": "code",
   "execution_count": 19,
   "id": "fd06538c",
   "metadata": {},
   "outputs": [
    {
     "data": {
      "text/plain": [
       "291446   1999-03-01\n",
       "291447   2002-10-01\n",
       "291448   2003-04-01\n",
       "291449   1999-04-01\n",
       "291450   1999-03-01\n",
       "Name: Parsed_FirstPaymentDate, dtype: datetime64[ns]"
      ]
     },
     "execution_count": 19,
     "metadata": {},
     "output_type": "execute_result"
    }
   ],
   "source": [
    "# create new colum for parsed date\n",
    "data['Parsed_FirstPaymentDate'] = pd.to_datetime(data['FirstPaymentDate'], format=\"%Y-%m\")\n",
    "data['Parsed_FirstPaymentDate'].tail()"
   ]
  },
  {
   "cell_type": "markdown",
   "id": "9fd815cd",
   "metadata": {},
   "source": [
    "Now we can see that the column dtype is datetime64[ns] :)"
   ]
  },
  {
   "cell_type": "code",
   "execution_count": 20,
   "id": "2193a54a",
   "metadata": {},
   "outputs": [],
   "source": [
    "# delete the old date column\n",
    "data.drop('FirstPaymentDate', axis=1, inplace=True)"
   ]
  },
  {
   "cell_type": "markdown",
   "id": "49205c24",
   "metadata": {},
   "source": [
    "### 3. FirstTimeHomebuyer: \n",
    "The indicator denoting whether a borrower on the loan qualifies as a first-time homebuyer. Indicates whether the Borrower, or one of a group of Borrowers, is an individual who \n",
    "(1) is purchasing the mortgaged property, \n",
    "(2) will reside in the mortgaged property as a primary residence and \n",
    "(3) had no ownership interest (sole or joint) in a residential property during the three-year period preceding the date of the purchase of the mortgaged property. With certain limited exceptions, a displaced homemaker or single parent may also be considered a First- Time Homebuyer if the individual had no ownership interest in a residential property during the preceding three-year period other than an ownership interest in the marital residence with a spouse. \n",
    "\n",
    "**“Not Available” will be indicated by 9.  \n",
    "Y = Yes  \n",
    "N = No  \n",
    "9 = Not Available**"
   ]
  },
  {
   "cell_type": "code",
   "execution_count": 21,
   "id": "7bf0b0ef",
   "metadata": {},
   "outputs": [
    {
     "data": {
      "text/plain": [
       "0    N\n",
       "1    N\n",
       "2    N\n",
       "3    N\n",
       "4    N\n",
       "Name: FirstTimeHomebuyer, dtype: object"
      ]
     },
     "execution_count": 21,
     "metadata": {},
     "output_type": "execute_result"
    }
   ],
   "source": [
    "data.FirstTimeHomebuyer.head()"
   ]
  },
  {
   "cell_type": "code",
   "execution_count": 22,
   "id": "f0eefa3b",
   "metadata": {},
   "outputs": [
    {
     "data": {
      "text/plain": [
       "Series([], Name: FirstTimeHomebuyer, dtype: object)"
      ]
     },
     "execution_count": 22,
     "metadata": {},
     "output_type": "execute_result"
    }
   ],
   "source": [
    "data[data.FirstTimeHomebuyer == 9].FirstTimeHomebuyer"
   ]
  },
  {
   "cell_type": "code",
   "execution_count": 23,
   "id": "5b6dafc6",
   "metadata": {},
   "outputs": [
    {
     "data": {
      "text/plain": [
       "Series([], Name: FirstTimeHomebuyer, dtype: object)"
      ]
     },
     "execution_count": 23,
     "metadata": {},
     "output_type": "execute_result"
    }
   ],
   "source": [
    "data[data.FirstTimeHomebuyer == 'Not Available'].FirstTimeHomebuyer"
   ]
  },
  {
   "cell_type": "code",
   "execution_count": 24,
   "id": "87b1cb3c",
   "metadata": {},
   "outputs": [
    {
     "data": {
      "text/plain": [
       "N    184154\n",
       "X     78015\n",
       "Y     29282\n",
       "Name: FirstTimeHomebuyer, dtype: int64"
      ]
     },
     "execution_count": 24,
     "metadata": {},
     "output_type": "execute_result"
    }
   ],
   "source": [
    "data.FirstTimeHomebuyer.value_counts()"
   ]
  },
  {
   "cell_type": "markdown",
   "id": "8de4ed91",
   "metadata": {},
   "source": [
    "In this column we have three categories: Y for Yes, N for No and X. We'll consider the X values as missing values or 'Not Available' so replaced by 9."
   ]
  },
  {
   "cell_type": "code",
   "execution_count": 25,
   "id": "c52fcf44",
   "metadata": {},
   "outputs": [
    {
     "data": {
      "text/plain": [
       "N    184154\n",
       "9     78015\n",
       "Y     29282\n",
       "Name: FirstTimeHomebuyer, dtype: int64"
      ]
     },
     "execution_count": 25,
     "metadata": {},
     "output_type": "execute_result"
    }
   ],
   "source": [
    "# replacing X by 9\n",
    "data.loc[data['FirstTimeHomebuyer'] == 'X', 'FirstTimeHomebuyer'] = 9\n",
    "data.FirstTimeHomebuyer.value_counts()"
   ]
  },
  {
   "cell_type": "markdown",
   "id": "42559ea0",
   "metadata": {},
   "source": [
    "### 4. MaturityDate: \n",
    "The month and year that the final scheduled payment on the loan is due.  \n",
    "**We'll apply same process of date parsing as above for the 'FirstPaymentDate' column.**\n"
   ]
  },
  {
   "cell_type": "code",
   "execution_count": 26,
   "id": "9c77c987",
   "metadata": {},
   "outputs": [
    {
     "data": {
      "text/plain": [
       "0         202901\n",
       "1         202901\n",
       "2         202901\n",
       "3         202901\n",
       "4         202901\n",
       "           ...  \n",
       "291446    202902\n",
       "291447    202904\n",
       "291448    202904\n",
       "291449    202903\n",
       "291450    202902\n",
       "Name: MaturityDate, Length: 291451, dtype: int64"
      ]
     },
     "execution_count": 26,
     "metadata": {},
     "output_type": "execute_result"
    }
   ],
   "source": [
    "data.MaturityDate"
   ]
  },
  {
   "cell_type": "code",
   "execution_count": 27,
   "id": "7eaf6f04",
   "metadata": {},
   "outputs": [
    {
     "data": {
      "text/plain": [
       "291446    2029-02\n",
       "291447    2029-04\n",
       "291448    2029-04\n",
       "291449    2029-03\n",
       "291450    2029-02\n",
       "Name: MaturityDate, dtype: object"
      ]
     },
     "execution_count": 27,
     "metadata": {},
     "output_type": "execute_result"
    }
   ],
   "source": [
    "# let's first separate year from month\n",
    "data['MaturityDate'] = data['MaturityDate'].apply(lambda x: str(x)[:4] + '-' + str(x)[4:]) #.astype('str')\n",
    "data['MaturityDate'].tail()"
   ]
  },
  {
   "cell_type": "code",
   "execution_count": 28,
   "id": "1cb6ac12",
   "metadata": {},
   "outputs": [
    {
     "data": {
      "text/plain": [
       "291446   2029-02-01\n",
       "291447   2029-04-01\n",
       "291448   2029-04-01\n",
       "291449   2029-03-01\n",
       "291450   2029-02-01\n",
       "Name: Parsed_MaturityDate, dtype: datetime64[ns]"
      ]
     },
     "execution_count": 28,
     "metadata": {},
     "output_type": "execute_result"
    }
   ],
   "source": [
    "# create new colum for parsed date\n",
    "data['Parsed_MaturityDate'] = pd.to_datetime(data['MaturityDate'], format=\"%Y-%m\")\n",
    "data['Parsed_MaturityDate'].tail()"
   ]
  },
  {
   "cell_type": "code",
   "execution_count": 29,
   "id": "97d656c6",
   "metadata": {},
   "outputs": [],
   "source": [
    "# delete the old date column\n",
    "data.drop('MaturityDate', axis=1, inplace=True)"
   ]
  },
  {
   "cell_type": "markdown",
   "id": "4bbedbeb",
   "metadata": {},
   "source": [
    "### 5. MSA: Mortgage Security Amount\n"
   ]
  },
  {
   "cell_type": "code",
   "execution_count": 30,
   "id": "5b6eb2c9",
   "metadata": {},
   "outputs": [
    {
     "data": {
      "text/plain": [
       "0    16974\n",
       "1    19740\n",
       "2    29940\n",
       "3    31084\n",
       "4    35644\n",
       "Name: MSA, dtype: object"
      ]
     },
     "execution_count": 30,
     "metadata": {},
     "output_type": "execute_result"
    }
   ],
   "source": [
    "data.MSA.head()"
   ]
  },
  {
   "cell_type": "code",
   "execution_count": 31,
   "id": "c39b5ff1",
   "metadata": {},
   "outputs": [
    {
     "data": {
      "text/plain": [
       "X        39100\n",
       "31084     9338\n",
       "16974     8771\n",
       "12060     6985\n",
       "47644     6673\n",
       "         ...  \n",
       "21940        3\n",
       "49500        2\n",
       "25020        1\n",
       "10380        1\n",
       "32420        1\n",
       "Name: MSA, Length: 392, dtype: int64"
      ]
     },
     "execution_count": 31,
     "metadata": {},
     "output_type": "execute_result"
    }
   ],
   "source": [
    "data.MSA.value_counts()"
   ]
  },
  {
   "cell_type": "code",
   "execution_count": 32,
   "id": "4855c37b",
   "metadata": {},
   "outputs": [
    {
     "data": {
      "text/plain": [
       "99       39100\n",
       "31084     9338\n",
       "16974     8771\n",
       "12060     6985\n",
       "47644     6673\n",
       "         ...  \n",
       "21940        3\n",
       "49500        2\n",
       "25020        1\n",
       "10380        1\n",
       "32420        1\n",
       "Name: MSA, Length: 392, dtype: int64"
      ]
     },
     "execution_count": 32,
     "metadata": {},
     "output_type": "execute_result"
    }
   ],
   "source": [
    "# replacing X by 99\n",
    "#data.loc[data['MSA'] == 'X', 'MSA'] = 99    # this won't work because there are spaces in the X string\n",
    "data.loc[data['MSA'] == 'X    ', 'MSA'] = 99\n",
    "data.MSA.value_counts()"
   ]
  },
  {
   "cell_type": "markdown",
   "id": "95e41019",
   "metadata": {},
   "source": [
    "**After many tries to replace X values by 99, I found that we must use(added spaces after X ) \"X    \" instead of simply \"X\" without spaces.**"
   ]
  },
  {
   "cell_type": "markdown",
   "id": "c5be7324",
   "metadata": {},
   "source": [
    "### 6. MIP: \n",
    "The percentage of mortgage insurance coverage obtained at origination in effect at the time the security was issued. Only primary mortgage insurance that is purchased by the Borrower, lender or Freddie Mac is disclosed. Mortgage insurance that constitutes “credit enhancement” that is not required by Freddie Mac’s Charter is not disclosed. Amounts of mortgage insurance reported by Sellers that are in excess of 55% will be disclosed as “Not Available,” which will be indicated by 999.   \n",
    "000= No MI  \n",
    "999= Not Available  "
   ]
  },
  {
   "cell_type": "code",
   "execution_count": 33,
   "id": "01515dcc",
   "metadata": {},
   "outputs": [
    {
     "data": {
      "text/plain": [
       "0         25\n",
       "1          0\n",
       "2          0\n",
       "3          0\n",
       "4          0\n",
       "          ..\n",
       "291446     0\n",
       "291447     0\n",
       "291448     0\n",
       "291449     0\n",
       "291450     0\n",
       "Name: MIP, Length: 291451, dtype: int64"
      ]
     },
     "execution_count": 33,
     "metadata": {},
     "output_type": "execute_result"
    }
   ],
   "source": [
    "data.MIP"
   ]
  },
  {
   "cell_type": "code",
   "execution_count": 34,
   "id": "27175f71",
   "metadata": {},
   "outputs": [
    {
     "data": {
      "text/plain": [
       "0     184511\n",
       "25     42441\n",
       "30     41869\n",
       "12     13294\n",
       "18      3005\n",
       "17      2739\n",
       "35      1290\n",
       "36       748\n",
       "29       640\n",
       "20       497\n",
       "14       166\n",
       "27        66\n",
       "22        45\n",
       "6         32\n",
       "33        24\n",
       "32         9\n",
       "28         9\n",
       "15         7\n",
       "50         7\n",
       "47         7\n",
       "26         7\n",
       "24         6\n",
       "16         5\n",
       "1          5\n",
       "13         4\n",
       "52         3\n",
       "10         3\n",
       "37         3\n",
       "55         1\n",
       "21         1\n",
       "23         1\n",
       "19         1\n",
       "45         1\n",
       "7          1\n",
       "9          1\n",
       "11         1\n",
       "4          1\n",
       "Name: MIP, dtype: int64"
      ]
     },
     "execution_count": 34,
     "metadata": {},
     "output_type": "execute_result"
    }
   ],
   "source": [
    "data.MIP.value_counts()"
   ]
  },
  {
   "cell_type": "code",
   "execution_count": 35,
   "id": "78a8def8",
   "metadata": {},
   "outputs": [
    {
     "data": {
      "text/plain": [
       "Series([], Name: MIP, dtype: int64)"
      ]
     },
     "execution_count": 35,
     "metadata": {},
     "output_type": "execute_result"
    }
   ],
   "source": [
    "data[data['MIP'] > 55]['MIP']"
   ]
  },
  {
   "cell_type": "code",
   "execution_count": 36,
   "id": "6926c2a9",
   "metadata": {},
   "outputs": [
    {
     "data": {
      "text/plain": [
       "Series([], Name: MIP, dtype: int64)"
      ]
     },
     "execution_count": 36,
     "metadata": {},
     "output_type": "execute_result"
    }
   ],
   "source": [
    "data[data['MIP'] == 999 ]['MIP']"
   ]
  },
  {
   "cell_type": "markdown",
   "id": "6f46d750",
   "metadata": {},
   "source": [
    "### 7. Units: \n",
    "The number of dwelling units in the mortgaged property at the time the loan was originated. \n",
    "**“Not Available” will be indicated by 99.  \n",
    "1 = 1  \n",
    "2 = 2  \n",
    "3 = 3  \n",
    "4 = 4  \n",
    "99 = Not Available**"
   ]
  },
  {
   "cell_type": "code",
   "execution_count": 37,
   "id": "0735a942",
   "metadata": {},
   "outputs": [
    {
     "data": {
      "text/plain": [
       "1    285598\n",
       "2      4690\n",
       "3       587\n",
       "4       574\n",
       "0         2\n",
       "Name: Units, dtype: int64"
      ]
     },
     "execution_count": 37,
     "metadata": {},
     "output_type": "execute_result"
    }
   ],
   "source": [
    "data.Units.value_counts()"
   ]
  },
  {
   "cell_type": "markdown",
   "id": "8e567176",
   "metadata": {},
   "source": [
    "What do these 0 values mean?\n",
    "We'll simply drop the 0 values as 0 is not among 1, 2, 3, 4."
   ]
  },
  {
   "cell_type": "code",
   "execution_count": 38,
   "id": "ff995320",
   "metadata": {},
   "outputs": [],
   "source": [
    "data = data.drop(data[data['Units'] == 0].index)"
   ]
  },
  {
   "cell_type": "code",
   "execution_count": 39,
   "id": "8bfa53a8",
   "metadata": {},
   "outputs": [
    {
     "data": {
      "text/plain": [
       "1    285598\n",
       "2      4690\n",
       "3       587\n",
       "4       574\n",
       "Name: Units, dtype: int64"
      ]
     },
     "execution_count": 39,
     "metadata": {},
     "output_type": "execute_result"
    }
   ],
   "source": [
    "data.Units.value_counts()"
   ]
  },
  {
   "cell_type": "markdown",
   "id": "a7d3e264",
   "metadata": {},
   "source": [
    "### 8. Occupancy:  \n",
    "\n",
    "The classification describing the property occupancy status at the time the loan was originated. For reperforming, modified fixed-rate and modified step-rate loans, this value will be blank.  \n",
    "**“Not Available” will be indicated by a 9.  \n",
    "P = Primary Residence  \n",
    "S = Second Home  \n",
    "I = Investment Property  \n",
    "9 = Not Available**"
   ]
  },
  {
   "cell_type": "code",
   "execution_count": 40,
   "id": "1fafe77c",
   "metadata": {},
   "outputs": [
    {
     "data": {
      "text/plain": [
       "O    276129\n",
       "I      8734\n",
       "S      6586\n",
       "Name: Occupancy, dtype: int64"
      ]
     },
     "execution_count": 40,
     "metadata": {},
     "output_type": "execute_result"
    }
   ],
   "source": [
    "data.Occupancy.value_counts()"
   ]
  },
  {
   "cell_type": "markdown",
   "id": "f5760603",
   "metadata": {},
   "source": [
    "We have an unknown category in this column that is O. Probaly this column stands for “Not Available”. Let's replace these values by 9."
   ]
  },
  {
   "cell_type": "code",
   "execution_count": 41,
   "id": "2042c896",
   "metadata": {},
   "outputs": [
    {
     "data": {
      "text/plain": [
       "9    276129\n",
       "I      8734\n",
       "S      6586\n",
       "Name: Occupancy, dtype: int64"
      ]
     },
     "execution_count": 41,
     "metadata": {},
     "output_type": "execute_result"
    }
   ],
   "source": [
    "# replacing O by 9\n",
    "data.loc[data['Occupancy'] == 'O', 'Occupancy'] = 9\n",
    "data.Occupancy.value_counts()"
   ]
  },
  {
   "cell_type": "markdown",
   "id": "15e6b6d3",
   "metadata": {},
   "source": [
    "### 9. OCLTV: \n",
    "For reperforming, modified fixed-rate and modified step-rate loans, the ratio, expressed as a percentage, obtained by dividing the amount of all known outstanding loans at origination by the value of the property. Property value reflects either the lesser of the sales price or the appraised property value for a purchase, or the appraised property value for a refinance.  \n",
    "999 = Not Available \n",
    "If value 998, then the ratio is considered not available (securities issued on or after 9/1/2017)"
   ]
  },
  {
   "cell_type": "code",
   "execution_count": 42,
   "id": "d716c8e0",
   "metadata": {},
   "outputs": [
    {
     "data": {
      "text/plain": [
       "0    89\n",
       "1    73\n",
       "2    75\n",
       "3    76\n",
       "4    78\n",
       "Name: OCLTV, dtype: int64"
      ]
     },
     "execution_count": 42,
     "metadata": {},
     "output_type": "execute_result"
    }
   ],
   "source": [
    "data.OCLTV.head()"
   ]
  },
  {
   "cell_type": "code",
   "execution_count": 43,
   "id": "f71b783c",
   "metadata": {},
   "outputs": [
    {
     "data": {
      "text/plain": [
       "Series([], Name: OCLTV, dtype: int64)"
      ]
     },
     "execution_count": 43,
     "metadata": {},
     "output_type": "execute_result"
    }
   ],
   "source": [
    "data[data.OCLTV == 998].OCLTV"
   ]
  },
  {
   "cell_type": "markdown",
   "id": "8d932c74",
   "metadata": {},
   "source": [
    "### 10. DTI: \n",
    "The ratio obtained by dividing the total monthly debt expense by the total monthly income of the borrower at the time the loan was originated or modified. Disclosure of the debt to income ratio is based on \n",
    "(1) the sum of the Borrower’s monthly debt payments, including monthly housing expenses that incorporate the mortgage payment the Borrower is making at the time of the delivery of the mortgage loan to Freddie Mac, divided by \n",
    "(2) the total monthly income used to underwrite the Borrower as of the date of the origination of the mortgage loan. \n",
    "The debt to income ratio will not be updated. This disclosure is subject to the widely varying standards originators use to calculate and / or report Borrowers' income and liabilities. This disclosure is subject to the widely varying standards originators use to calculate and / or report Borrowers' secondary mortgage loan amounts.  \n",
    "**Percentages less than 1% or greater than 65% will be disclosed as “Not Available,” which will be indicated by a 999.  \n",
    "999 = Not Available**"
   ]
  },
  {
   "cell_type": "code",
   "execution_count": 44,
   "id": "2fee78b3",
   "metadata": {},
   "outputs": [
    {
     "data": {
      "text/plain": [
       "0    27\n",
       "1    17\n",
       "2    16\n",
       "3    14\n",
       "4    18\n",
       "Name: DTI, dtype: int64"
      ]
     },
     "execution_count": 44,
     "metadata": {},
     "output_type": "execute_result"
    }
   ],
   "source": [
    "data.DTI.head()"
   ]
  },
  {
   "cell_type": "code",
   "execution_count": 45,
   "id": "ed967355",
   "metadata": {},
   "outputs": [
    {
     "data": {
      "text/plain": [
       "140       0\n",
       "167       0\n",
       "176       0\n",
       "179       0\n",
       "186       0\n",
       "         ..\n",
       "291438    0\n",
       "291441    0\n",
       "291442    0\n",
       "291443    0\n",
       "291447    0\n",
       "Name: DTI, Length: 17796, dtype: int64"
      ]
     },
     "execution_count": 45,
     "metadata": {},
     "output_type": "execute_result"
    }
   ],
   "source": [
    "data[data.DTI < 1].DTI"
   ]
  },
  {
   "cell_type": "code",
   "execution_count": 46,
   "id": "0a2dbb46",
   "metadata": {},
   "outputs": [
    {
     "data": {
      "text/plain": [
       "Series([], Name: DTI, dtype: int64)"
      ]
     },
     "execution_count": 46,
     "metadata": {},
     "output_type": "execute_result"
    }
   ],
   "source": [
    "data[data.DTI > 65].DTI"
   ]
  },
  {
   "cell_type": "code",
   "execution_count": 47,
   "id": "98be1344",
   "metadata": {},
   "outputs": [
    {
     "data": {
      "text/plain": [
       "Series([], Name: DTI, dtype: int64)"
      ]
     },
     "execution_count": 47,
     "metadata": {},
     "output_type": "execute_result"
    }
   ],
   "source": [
    "data[data.DTI == 999].DTI"
   ]
  },
  {
   "cell_type": "code",
   "execution_count": 48,
   "id": "85220434",
   "metadata": {},
   "outputs": [
    {
     "data": {
      "text/plain": [
       "Series([], Name: DTI, dtype: int64)"
      ]
     },
     "execution_count": 48,
     "metadata": {},
     "output_type": "execute_result"
    }
   ],
   "source": [
    "data.loc[data['DTI'] < 1, 'DTI'] = 999\n",
    "data[data.DTI < 1].DTI"
   ]
  },
  {
   "cell_type": "markdown",
   "id": "66a7507f",
   "metadata": {},
   "source": [
    "### 11. OrigUPB:"
   ]
  },
  {
   "cell_type": "code",
   "execution_count": 49,
   "id": "012c91b3",
   "metadata": {},
   "outputs": [
    {
     "data": {
      "text/plain": [
       "0    117000\n",
       "1    109000\n",
       "2     88000\n",
       "3    160000\n",
       "4    109000\n",
       "Name: OrigUPB, dtype: int64"
      ]
     },
     "execution_count": 49,
     "metadata": {},
     "output_type": "execute_result"
    }
   ],
   "source": [
    "data.OrigUPB.head()"
   ]
  },
  {
   "cell_type": "code",
   "execution_count": null,
   "id": "555112b8",
   "metadata": {},
   "outputs": [],
   "source": []
  },
  {
   "cell_type": "markdown",
   "id": "3c4cabfc",
   "metadata": {},
   "source": [
    "### 12. LTV: \n",
    "The ratio, expressed as a percentage, obtained by dividing the amount of the loan at origination by the value of the property. Property value reflects either the lesser of the sales price or the appraised property value for a purchase, or the appraised property value for a refinance. For reperforming, modified fixed-rate and modified step-rate loans, this value will be blank. In the case of a seasoned mortgage loan, if the Seller cannot warrant that the value of the mortgaged property has not declined since the note date, Freddie Mac requires that the Seller must provide a new appraisal value, which is used in the LTV calculation. \n",
    "**Percentages less than 1% or greater than 998% will be disclosed as “Not Available,” indicated by 999.  \n",
    "999 = Not Available.**"
   ]
  },
  {
   "cell_type": "code",
   "execution_count": 50,
   "id": "44dcb796",
   "metadata": {},
   "outputs": [
    {
     "data": {
      "text/plain": [
       "0    89\n",
       "1    73\n",
       "2    75\n",
       "3    76\n",
       "4    78\n",
       "Name: LTV, dtype: int64"
      ]
     },
     "execution_count": 50,
     "metadata": {},
     "output_type": "execute_result"
    }
   ],
   "source": [
    "data.LTV.head()"
   ]
  },
  {
   "cell_type": "code",
   "execution_count": 51,
   "id": "b2eef614",
   "metadata": {},
   "outputs": [
    {
     "data": {
      "text/plain": [
       "31098     0\n",
       "88463     0\n",
       "233257    0\n",
       "276981    0\n",
       "287773    0\n",
       "Name: LTV, dtype: int64"
      ]
     },
     "execution_count": 51,
     "metadata": {},
     "output_type": "execute_result"
    }
   ],
   "source": [
    "data[data.LTV < 1].LTV"
   ]
  },
  {
   "cell_type": "code",
   "execution_count": 52,
   "id": "ff471f9b",
   "metadata": {},
   "outputs": [
    {
     "data": {
      "text/plain": [
       "Series([], Name: LTV, dtype: int64)"
      ]
     },
     "execution_count": 52,
     "metadata": {},
     "output_type": "execute_result"
    }
   ],
   "source": [
    "data[data.LTV == 999].LTV"
   ]
  },
  {
   "cell_type": "code",
   "execution_count": 53,
   "id": "ff789e85",
   "metadata": {},
   "outputs": [
    {
     "data": {
      "text/plain": [
       "Series([], Name: LTV, dtype: int64)"
      ]
     },
     "execution_count": 53,
     "metadata": {},
     "output_type": "execute_result"
    }
   ],
   "source": [
    "data[data.LTV > 998].LTV"
   ]
  },
  {
   "cell_type": "code",
   "execution_count": 54,
   "id": "8458b045",
   "metadata": {},
   "outputs": [
    {
     "data": {
      "text/plain": [
       "Series([], Name: DTI, dtype: int64)"
      ]
     },
     "execution_count": 54,
     "metadata": {},
     "output_type": "execute_result"
    }
   ],
   "source": [
    "data.loc[data['LTV'] < 1, 'LTV'] = 999\n",
    "data[data.DTI < 1].DTI"
   ]
  },
  {
   "cell_type": "markdown",
   "id": "40a4316a",
   "metadata": {},
   "source": [
    "### 13. OrigInterestRate: \n",
    "For reperforming, modified fixed-rate and modified step-rate loans, the interest rate of the loan as stated on the note at the time the loan was originated. \n",
    "\n",
    "**If value <0 or >25, then the rate is considered not available (securities issued on or after 9/1/2017)**"
   ]
  },
  {
   "cell_type": "code",
   "execution_count": 55,
   "id": "9be5b31c",
   "metadata": {},
   "outputs": [
    {
     "data": {
      "text/plain": [
       "291446    7.000\n",
       "291447    6.375\n",
       "291448    5.625\n",
       "291449    7.000\n",
       "291450    7.000\n",
       "Name: OrigInterestRate, dtype: float64"
      ]
     },
     "execution_count": 55,
     "metadata": {},
     "output_type": "execute_result"
    }
   ],
   "source": [
    "data.OrigInterestRate.tail()"
   ]
  },
  {
   "cell_type": "code",
   "execution_count": 56,
   "id": "9845b29b",
   "metadata": {},
   "outputs": [
    {
     "data": {
      "text/plain": [
       "Series([], Name: OrigInterestRate, dtype: float64)"
      ]
     },
     "execution_count": 56,
     "metadata": {},
     "output_type": "execute_result"
    }
   ],
   "source": [
    "data[data.OrigInterestRate < 0].OrigInterestRate"
   ]
  },
  {
   "cell_type": "code",
   "execution_count": 57,
   "id": "e22e758e",
   "metadata": {},
   "outputs": [
    {
     "data": {
      "text/plain": [
       "Series([], Name: OrigInterestRate, dtype: float64)"
      ]
     },
     "execution_count": 57,
     "metadata": {},
     "output_type": "execute_result"
    }
   ],
   "source": [
    "data[data.OrigInterestRate > 25].OrigInterestRate"
   ]
  },
  {
   "cell_type": "markdown",
   "id": "02050f43",
   "metadata": {},
   "source": [
    "### 14. Channel: \n",
    "The origination channel used by the party that delivered the loan to the issuer. For reperforming, modified fixed-rate and modified step-rate loans, this value will be blank. Disclosure indicates whether a broker or correspondent, as those terms are defined below, originated or was involved in the origination or the mortgage. If a Third-Party Origination is applicable, but the Seller does not specify Broker or Correspondent, the disclosure will indicate “TPO Not Specified.” If a Broker, Correspondent or Third Party Origination disclosure is not applicable, the mortgage loan will be designated as Retail, as defined below.\n",
    "\n",
    "• Broker is a person or entity that specializes in loan originations, receiving a commission (from a Correspondent or other lender) to match Borrowers and lenders. The Broker performs some or most of the loan processing functions, such as taking loan applications, or ordering credit reports, appraisals and title reports. Typically, the Broker does not underwrite or service the mortgage loan and generally does not use its own funds for closing; however, if the Broker funded a mortgage loan on a lender’s behalf, such a mortgage loan is considered a “Broker” third party origination mortgage loan. The mortgage loan is generally closed in the name of the lender who commissioned the Broker’s services. \n",
    "• Correspondent is an entity that typically sells the Mortgages it originates to other lenders, which are not Affiliates of that entity, under a specific commitment or as part of an ongoing relationship. The Correspondent performs some or all the loan processing functions, such as taking the loan application, ordering credit reports, appraisals, and title reports, and verifying the Borrower’s income and employment. The Correspondent may or may not have delegated underwriting and typically funds the mortgage loans at settlement. The mortgage loan is closed in the Correspondent’s name and the Correspondent may or may not service the mortgage loan. The Correspondent may use a Broker to perform some of the processing functions or even to fund the loan on its behalf; under such circumstances, the mortgage loan is considered a “Broker” third party origination mortgage loan, rather than a “Correspondent” third party origination mortgage loan. \n",
    "• Retail Mortgage is a mortgage loan that is originated, underwritten and funded by a lender or its Affiliates. The mortgage loan is closed in the name of the lender or its Affiliate and if it is sold to Freddie Mac, it is sold by the lender or its Affiliate that originated it. A mortgage loan that a Broker or Correspondent completely or partially originated, processed, underwrote, packaged, funded or closed is not considered a Retail mortgage loan. \n",
    "• For purposes of the definitions of Correspondent and Retail, “Affiliate” means any entity that is related to another party as a consequence of the entity, directly or indirectly, controlling the other party, being controlled by the other party, or being under common control with the other party.  \n",
    "**R = Retail  \n",
    "B = Broker  \n",
    "C = Correspondent  \n",
    "T = Third Party Origination - Not Specified   \n",
    "9 = Not Available**  "
   ]
  },
  {
   "cell_type": "code",
   "execution_count": 58,
   "id": "1bbeba76",
   "metadata": {},
   "outputs": [
    {
     "data": {
      "text/plain": [
       "0    T\n",
       "1    R\n",
       "2    T\n",
       "3    R\n",
       "4    R\n",
       "Name: Channel, dtype: object"
      ]
     },
     "execution_count": 58,
     "metadata": {},
     "output_type": "execute_result"
    }
   ],
   "source": [
    "data.Channel.head()"
   ]
  },
  {
   "cell_type": "code",
   "execution_count": 59,
   "id": "9c6d9a42",
   "metadata": {},
   "outputs": [
    {
     "data": {
      "text/plain": [
       "T    167668\n",
       "R    123219\n",
       "C       407\n",
       "B       155\n",
       "Name: Channel, dtype: int64"
      ]
     },
     "execution_count": 59,
     "metadata": {},
     "output_type": "execute_result"
    }
   ],
   "source": [
    "data.Channel.value_counts()"
   ]
  },
  {
   "cell_type": "markdown",
   "id": "17eb819c",
   "metadata": {},
   "source": [
    "### 15. PPM(Prepayment Penalty Indicator): \n",
    "The indicator denoting whether the borrower is subject to a penalty for early payment of principal.  \n",
    "**Y = Yes  \n",
    "N = No**"
   ]
  },
  {
   "cell_type": "code",
   "execution_count": 60,
   "id": "13528ac9",
   "metadata": {},
   "outputs": [
    {
     "data": {
      "text/plain": [
       "N    282123\n",
       "X      5405\n",
       "Y      3921\n",
       "Name: PPM, dtype: int64"
      ]
     },
     "execution_count": 60,
     "metadata": {},
     "output_type": "execute_result"
    }
   ],
   "source": [
    "data.PPM.value_counts()"
   ]
  },
  {
   "cell_type": "code",
   "execution_count": 61,
   "id": "49710c86",
   "metadata": {},
   "outputs": [
    {
     "data": {
      "text/plain": [
       "N     282123\n",
       "99      5405\n",
       "Y       3921\n",
       "Name: PPM, dtype: int64"
      ]
     },
     "execution_count": 61,
     "metadata": {},
     "output_type": "execute_result"
    }
   ],
   "source": [
    "# replacing X by 99\n",
    "data.loc[data['PPM'] == 'X', 'PPM'] = 99\n",
    "data.PPM.value_counts()"
   ]
  },
  {
   "cell_type": "markdown",
   "id": "d4d9bfed",
   "metadata": {},
   "source": [
    "There are three categories instead of two. That means we should handle the third one : X that can be considered a \"Not available\"."
   ]
  },
  {
   "cell_type": "markdown",
   "id": "32fcff8a",
   "metadata": {},
   "source": [
    "### 16. ProductType:\n",
    "\n"
   ]
  },
  {
   "cell_type": "code",
   "execution_count": 62,
   "id": "e53ddf6e",
   "metadata": {},
   "outputs": [
    {
     "data": {
      "text/plain": [
       "0    FRM  \n",
       "1    FRM  \n",
       "2    FRM  \n",
       "3    FRM  \n",
       "4    FRM  \n",
       "Name: ProductType, dtype: object"
      ]
     },
     "execution_count": 62,
     "metadata": {},
     "output_type": "execute_result"
    }
   ],
   "source": [
    "data.ProductType.head()"
   ]
  },
  {
   "cell_type": "code",
   "execution_count": 63,
   "id": "ede17ec2",
   "metadata": {},
   "outputs": [
    {
     "data": {
      "text/plain": [
       "FRM      291449\n",
       "Name: ProductType, dtype: int64"
      ]
     },
     "execution_count": 63,
     "metadata": {},
     "output_type": "execute_result"
    }
   ],
   "source": [
    "data.ProductType.value_counts()"
   ]
  },
  {
   "cell_type": "markdown",
   "id": "607726bc",
   "metadata": {},
   "source": [
    "This column only has 1 categorie so it is not very useful. We'll drop it"
   ]
  },
  {
   "cell_type": "code",
   "execution_count": 64,
   "id": "b25fe415",
   "metadata": {},
   "outputs": [],
   "source": [
    "data = data.drop('ProductType', axis = 1)"
   ]
  },
  {
   "cell_type": "markdown",
   "id": "63732a9f",
   "metadata": {},
   "source": [
    "### 17. PropertyState: \n",
    "The abbreviation denoting the location of the property securing the loan."
   ]
  },
  {
   "cell_type": "code",
   "execution_count": 65,
   "id": "5b111a74",
   "metadata": {},
   "outputs": [
    {
     "data": {
      "text/plain": [
       "0    IL\n",
       "1    CO\n",
       "2    KS\n",
       "3    CA\n",
       "4    NJ\n",
       "Name: PropertyState, dtype: object"
      ]
     },
     "execution_count": 65,
     "metadata": {},
     "output_type": "execute_result"
    }
   ],
   "source": [
    "data.PropertyState.head()"
   ]
  },
  {
   "cell_type": "code",
   "execution_count": 66,
   "id": "5e05e643",
   "metadata": {},
   "outputs": [
    {
     "data": {
      "text/plain": [
       "CA    43326\n",
       "FL    19133\n",
       "MI    16284\n",
       "IL    13621\n",
       "TX    13092\n",
       "OH    11545\n",
       "CO    10127\n",
       "GA    10024\n",
       "NC     9983\n",
       "WA     9927\n",
       "AZ     9248\n",
       "VA     8096\n",
       "NY     7913\n",
       "PA     7738\n",
       "NJ     7457\n",
       "OR     6658\n",
       "MA     6392\n",
       "IN     6228\n",
       "MD     5515\n",
       "MO     5400\n",
       "MN     5092\n",
       "UT     4996\n",
       "WI     4660\n",
       "TN     4556\n",
       "SC     4473\n",
       "AL     4128\n",
       "KY     3896\n",
       "NV     3564\n",
       "CT     3253\n",
       "KS     2321\n",
       "ID     2296\n",
       "LA     2092\n",
       "NM     2053\n",
       "IA     1860\n",
       "OK     1803\n",
       "NE     1532\n",
       "NH     1320\n",
       "VT      945\n",
       "AR      938\n",
       "MS      935\n",
       "MT      872\n",
       "DE      838\n",
       "ME      755\n",
       "RI      722\n",
       "PR      693\n",
       "HI      609\n",
       "WV      542\n",
       "WY      496\n",
       "DC      492\n",
       "SD      376\n",
       "ND      315\n",
       "AK      245\n",
       "GU       74\n",
       "Name: PropertyState, dtype: int64"
      ]
     },
     "execution_count": 66,
     "metadata": {},
     "output_type": "execute_result"
    }
   ],
   "source": [
    "data.PropertyState.value_counts()"
   ]
  },
  {
   "cell_type": "markdown",
   "id": "9edd69e6",
   "metadata": {},
   "source": [
    "### 18. PropertyType: \n",
    "The classification describing the type of property that secures the loan.  \n",
    "**“Not Available” will be indicated by 99.  \n",
    "CP = Cooperative  \n",
    "CO = Condominium  \n",
    "PU = Planned Unit Development   \n",
    "SF = Single-Family  \n",
    "MH = Manufactured Housing  \n",
    "99 = Not Available**  "
   ]
  },
  {
   "cell_type": "code",
   "execution_count": 67,
   "id": "20c7fced",
   "metadata": {},
   "outputs": [
    {
     "data": {
      "text/plain": [
       "291446    SF\n",
       "291447    SF\n",
       "291448    SF\n",
       "291449    SF\n",
       "291450    SF\n",
       "Name: PropertyType, dtype: object"
      ]
     },
     "execution_count": 67,
     "metadata": {},
     "output_type": "execute_result"
    }
   ],
   "source": [
    "data.PropertyType.tail()"
   ]
  },
  {
   "cell_type": "code",
   "execution_count": 68,
   "id": "e945c758",
   "metadata": {},
   "outputs": [
    {
     "data": {
      "text/plain": [
       "SF    244921\n",
       "PU     27506\n",
       "CO     18100\n",
       "MH       723\n",
       "LH       105\n",
       "CP        72\n",
       "X         22\n",
       "Name: PropertyType, dtype: int64"
      ]
     },
     "execution_count": 68,
     "metadata": {},
     "output_type": "execute_result"
    }
   ],
   "source": [
    "data.PropertyType.value_counts()"
   ]
  },
  {
   "cell_type": "code",
   "execution_count": 94,
   "id": "87737fb0",
   "metadata": {},
   "outputs": [
    {
     "data": {
      "text/plain": [
       "SF    244921\n",
       "PU     27506\n",
       "CO     18100\n",
       "MH       723\n",
       "LH       105\n",
       "CP        72\n",
       "99        22\n",
       "Name: PropertyType, dtype: int64"
      ]
     },
     "execution_count": 94,
     "metadata": {},
     "output_type": "execute_result"
    }
   ],
   "source": [
    "# handling X category\n",
    "# data.loc[data['PropertyType'] == 'X ' , 'PropertyType'] = 99  # this won't work\n",
    "data.loc[data['PropertyType'] == 'X ' , 'PropertyType'] = 99\n",
    "data.PropertyType.value_counts()"
   ]
  },
  {
   "cell_type": "markdown",
   "id": "f8a5418e",
   "metadata": {},
   "source": [
    "### 19. PostalCode"
   ]
  },
  {
   "cell_type": "code",
   "execution_count": 72,
   "id": "7f3e51d7",
   "metadata": {},
   "outputs": [
    {
     "data": {
      "text/plain": [
       "0    60400\n",
       "1    80200\n",
       "2    66000\n",
       "3    90700\n",
       "4     7600\n",
       "Name: PostalCode, dtype: object"
      ]
     },
     "execution_count": 72,
     "metadata": {},
     "output_type": "execute_result"
    }
   ],
   "source": [
    "data.PostalCode.head()"
   ]
  },
  {
   "cell_type": "code",
   "execution_count": 96,
   "id": "ebfac627",
   "metadata": {},
   "outputs": [
    {
     "data": {
      "text/plain": [
       "94500    2582\n",
       "30000    2374\n",
       "48100    2166\n",
       "85200    2155\n",
       "48000    1976\n",
       "         ... \n",
       "79500       1\n",
       "26600       1\n",
       "41400       1\n",
       "36900       1\n",
       "41300       1\n",
       "Name: PostalCode, Length: 1767, dtype: int64"
      ]
     },
     "execution_count": 96,
     "metadata": {},
     "output_type": "execute_result"
    }
   ],
   "source": [
    "data.PostalCode.value_counts()"
   ]
  },
  {
   "cell_type": "markdown",
   "id": "3992f413",
   "metadata": {},
   "source": [
    "### 20. LoanSeqNum(Loan Identifier): \n",
    "The unique designation assigned to the loan by the issuer.\n"
   ]
  },
  {
   "cell_type": "code",
   "execution_count": 73,
   "id": "45bfb66c",
   "metadata": {},
   "outputs": [
    {
     "data": {
      "text/plain": [
       "0    F199Q1268030\n",
       "1    F199Q1015092\n",
       "2    F199Q1266886\n",
       "3    F199Q1178167\n",
       "4    F199Q1178517\n",
       "Name: LoanSeqNum, dtype: object"
      ]
     },
     "execution_count": 73,
     "metadata": {},
     "output_type": "execute_result"
    }
   ],
   "source": [
    "data.LoanSeqNum.head()"
   ]
  },
  {
   "cell_type": "code",
   "execution_count": 74,
   "id": "7dfa274e",
   "metadata": {},
   "outputs": [
    {
     "data": {
      "text/plain": [
       "F199Q1268030    1\n",
       "F199Q1262485    1\n",
       "F199Q1138623    1\n",
       "F199Q1220622    1\n",
       "F199Q1155120    1\n",
       "               ..\n",
       "F199Q1098563    1\n",
       "F199Q1049090    1\n",
       "F199Q1170229    1\n",
       "F199Q1284978    1\n",
       "F199Q1220923    1\n",
       "Name: LoanSeqNum, Length: 291449, dtype: int64"
      ]
     },
     "execution_count": 74,
     "metadata": {},
     "output_type": "execute_result"
    }
   ],
   "source": [
    "data.LoanSeqNum.value_counts()"
   ]
  },
  {
   "cell_type": "code",
   "execution_count": 75,
   "id": "fd2f108f",
   "metadata": {},
   "outputs": [],
   "source": [
    "# drop this column because it's useless\n",
    "data = data.drop('LoanSeqNum', axis = 1)"
   ]
  },
  {
   "cell_type": "markdown",
   "id": "787c4054",
   "metadata": {},
   "source": [
    "### 21. LoanPurpose: \n",
    "The classification describing the purpose of the loan. Generally, a Cash-out Refinance mortgage loan is a mortgage loan in which the use of the loan amount is not limited to specific purposes. A mortgage loan placed on a property previously owned free and clear by the Borrower is always considered a Cash-out Refinance mortgage loan. Generally, a No Cash-out Refinance mortgage loan is a mortgage loan in which the loan amount is limited to the following uses:  \n",
    "• Pay off the first mortgage, regardless of its age  \n",
    "• Pay off any junior liens secured by the mortgaged property, that were used in their entirety to acquire the subject property   \n",
    "• Pay related closing costs, financing costs and prepaid items, and   \n",
    "• Disburse cash out to the Borrower (or any other payee) not to exceed 2% of the new refinance mortgage loan or $2,000, whichever is less As an exception to the above, for construction conversion mortgage loans and renovation mortgage loans, the amount of the interim construction financing secured by the mortgaged property is considered an amount used to pay off the first mortgage. Paying off unsecured liens or construction costs paid by the Borrower outside of the secured interim construction financing is considered cash out to the Borrower, if greater than $2,000 or 2% of the loan amount. This disclosure is subject to various special exceptions used by Sellers to determine whether a mortgage loan is a No Cash-out Refinance mortgage loan. If a Refinance is applicable, but the seller of the mortgage loan does not specify Cash-out Refinance or No Cash-out Refinance, “Refinance—Not Specified” is indicated.  \n",
    "**“Not Available” will be indicated by a 9.  \n",
    "C = Refinance - Cash Out  \n",
    "N = Refinance - No Cash Out  \n",
    "R = Refinance - Not Specified  \n",
    "P = Purchase  \n",
    "M = Modified - Loss Mitigation**"
   ]
  },
  {
   "cell_type": "code",
   "execution_count": 76,
   "id": "7198c978",
   "metadata": {},
   "outputs": [
    {
     "data": {
      "text/plain": [
       "P    123402\n",
       "N    110036\n",
       "C     58011\n",
       "Name: LoanPurpose, dtype: int64"
      ]
     },
     "execution_count": 76,
     "metadata": {},
     "output_type": "execute_result"
    }
   ],
   "source": [
    "data.LoanPurpose.value_counts()"
   ]
  },
  {
   "cell_type": "code",
   "execution_count": null,
   "id": "61d5165f",
   "metadata": {},
   "outputs": [],
   "source": []
  },
  {
   "cell_type": "markdown",
   "id": "4dbd8a2d",
   "metadata": {},
   "source": [
    "### 23. NumBorrowers: \n",
    "The number of borrowers who, at the time the loan was originated, are obligated to repay the loan.  \n",
    "**1 = 1  \n",
    "2 = 2  \n",
    "3 = 3  \n",
    "4 = 4  \n",
    "5 = 5  \n",
    "6 = 6  \n",
    "7 = 7  \n",
    "8 = 8  \n",
    "9 = 9  \n",
    "10 = 10  \n",
    "99 = Not Available**"
   ]
  },
  {
   "cell_type": "code",
   "execution_count": 97,
   "id": "04fb247c",
   "metadata": {},
   "outputs": [
    {
     "data": {
      "text/plain": [
       "2     187333\n",
       "1     103777\n",
       "X        339\n",
       "Name: NumBorrowers, dtype: int64"
      ]
     },
     "execution_count": 97,
     "metadata": {},
     "output_type": "execute_result"
    }
   ],
   "source": [
    "data.NumBorrowers.value_counts()"
   ]
  },
  {
   "cell_type": "code",
   "execution_count": 99,
   "id": "db899640",
   "metadata": {},
   "outputs": [
    {
     "data": {
      "text/plain": [
       "2     187333\n",
       "1     103777\n",
       "99       339\n",
       "Name: NumBorrowers, dtype: int64"
      ]
     },
     "execution_count": 99,
     "metadata": {},
     "output_type": "execute_result"
    }
   ],
   "source": [
    "# handling X category\n",
    "data.loc[data['NumBorrowers'] == 'X ' , 'NumBorrowers'] = 99\n",
    "data.NumBorrowers.value_counts()"
   ]
  },
  {
   "cell_type": "markdown",
   "id": "bbdc4f8e",
   "metadata": {},
   "source": [
    "### 24. SellerName: \n",
    "The name of the entity that sold the loan to the issuer. This field will not be updated after issuance, regardless of mergers/acquisitions."
   ]
  },
  {
   "cell_type": "code",
   "execution_count": 79,
   "id": "dcf3c1bc",
   "metadata": {},
   "outputs": [
    {
     "data": {
      "text/plain": [
       "Ot    76942\n",
       "CO    34479\n",
       "FL    25573\n",
       "FI    24581\n",
       "ST    22242\n",
       "NO    16184\n",
       "OL     7776\n",
       "PR     7365\n",
       "BA     7093\n",
       "GM     6566\n",
       "BI     6407\n",
       "G      4734\n",
       "CH     4599\n",
       "CR     4459\n",
       "FT     4105\n",
       "WA     3139\n",
       "AC     3076\n",
       "HO     2970\n",
       "PN     2407\n",
       "RE     1758\n",
       "Name: SellerName, dtype: int64"
      ]
     },
     "execution_count": 79,
     "metadata": {},
     "output_type": "execute_result"
    }
   ],
   "source": [
    "data.SellerName.value_counts()"
   ]
  },
  {
   "cell_type": "markdown",
   "id": "8b750a38",
   "metadata": {},
   "source": [
    "### 25. ServicerName:\n",
    "The name of the entity that services the loan during the current reporting period.\n"
   ]
  },
  {
   "cell_type": "code",
   "execution_count": 80,
   "id": "b790bf07",
   "metadata": {},
   "outputs": [
    {
     "data": {
      "text/plain": [
       "Other servicers         64042\n",
       "COUNTRYWIDE             31142\n",
       "BANKOFAMERICANA         29481\n",
       "WASHINGTONMUTUALBANK    22626\n",
       "CHASEMANHATTANMTGECO    14791\n",
       "ABNAMROMTGEGROUPINC     14368\n",
       "WELLSFARGOHOMEMORTGA    13960\n",
       "GMACMTGECORP            11560\n",
       "BAMORTGAGELLC           11559\n",
       "CHASEMTGECO             10109\n",
       "NATLCITYMTGECO           9940\n",
       "WELLSFARGOBANKNA         9460\n",
       "JPMORGANCHASEBANKNA      7723\n",
       "FTMTGESERVICESINC        7126\n",
       "SUNTRUSTMORTGAGEINC      6680\n",
       "CITIMORTGAGEINC          6529\n",
       "PRINCIPALRESIDENTIAL     6335\n",
       "CHASEHOMEFINANCELLC      5399\n",
       "HOMESIDELENDINGINC       4508\n",
       "FIFTHTHIRDBANK           4111\n",
       "Name: ServicerName, dtype: int64"
      ]
     },
     "execution_count": 80,
     "metadata": {},
     "output_type": "execute_result"
    }
   ],
   "source": [
    "data.ServicerName.value_counts()"
   ]
  },
  {
   "cell_type": "markdown",
   "id": "704825f3",
   "metadata": {},
   "source": [
    "### 26. EverDelinquent:"
   ]
  },
  {
   "cell_type": "code",
   "execution_count": 81,
   "id": "aae56cd5",
   "metadata": {},
   "outputs": [
    {
     "data": {
      "text/plain": [
       "0    233787\n",
       "1     57662\n",
       "Name: EverDelinquent, dtype: int64"
      ]
     },
     "execution_count": 81,
     "metadata": {},
     "output_type": "execute_result"
    }
   ],
   "source": [
    "data.EverDelinquent.value_counts()"
   ]
  },
  {
   "cell_type": "markdown",
   "id": "87bf3520",
   "metadata": {},
   "source": [
    "### 27. MonthsDelinquent:\n",
    "For reperforming, modified and modified step-rate loans, the number of days for which a mortgage loan has been reported delinquent.  \n",
    "**0 = Current  \n",
    "1 = 30-59  \n",
    "2 = 60-89  \n",
    "3 = 90-119  \n",
    "4 = 120+  \n",
    "Effective beginning March 2021**"
   ]
  },
  {
   "cell_type": "code",
   "execution_count": 82,
   "id": "4c844291",
   "metadata": {},
   "outputs": [
    {
     "data": {
      "text/plain": [
       "0    0\n",
       "1    0\n",
       "2    0\n",
       "3    0\n",
       "4    0\n",
       "Name: MonthsDelinquent, dtype: int64"
      ]
     },
     "execution_count": 82,
     "metadata": {},
     "output_type": "execute_result"
    }
   ],
   "source": [
    "data.MonthsDelinquent.head()"
   ]
  },
  {
   "cell_type": "code",
   "execution_count": 83,
   "id": "086235a1",
   "metadata": {},
   "outputs": [
    {
     "data": {
      "text/plain": [
       "0      233787\n",
       "1       23161\n",
       "2        7572\n",
       "3        3823\n",
       "4        2459\n",
       "        ...  \n",
       "153         1\n",
       "178         1\n",
       "159         1\n",
       "163         1\n",
       "171         1\n",
       "Name: MonthsDelinquent, Length: 174, dtype: int64"
      ]
     },
     "execution_count": 83,
     "metadata": {},
     "output_type": "execute_result"
    }
   ],
   "source": [
    "data.MonthsDelinquent.value_counts()"
   ]
  },
  {
   "cell_type": "markdown",
   "id": "82814d79",
   "metadata": {},
   "source": [
    "### 28. MonthsInRepayment: "
   ]
  },
  {
   "cell_type": "code",
   "execution_count": 84,
   "id": "0ce671ce",
   "metadata": {},
   "outputs": [
    {
     "data": {
      "text/plain": [
       "50     8002\n",
       "49     7976\n",
       "52     7947\n",
       "51     7753\n",
       "53     7603\n",
       "       ... \n",
       "207     112\n",
       "200     111\n",
       "205     107\n",
       "203     100\n",
       "204      99\n",
       "Name: MonthsInRepayment, Length: 212, dtype: int64"
      ]
     },
     "execution_count": 84,
     "metadata": {},
     "output_type": "execute_result"
    }
   ],
   "source": [
    "data.MonthsInRepayment.value_counts()"
   ]
  },
  {
   "cell_type": "markdown",
   "id": "46f5b62e",
   "metadata": {},
   "source": [
    "# Data Encoding"
   ]
  },
  {
   "cell_type": "code",
   "execution_count": 87,
   "id": "d4d53eab",
   "metadata": {},
   "outputs": [
    {
     "data": {
      "text/plain": [
       "['FirstTimeHomebuyer',\n",
       " 'MSA',\n",
       " 'Occupancy',\n",
       " 'Channel',\n",
       " 'PPM',\n",
       " 'PropertyState',\n",
       " 'PropertyType',\n",
       " 'PostalCode',\n",
       " 'LoanPurpose',\n",
       " 'NumBorrowers',\n",
       " 'SellerName',\n",
       " 'ServicerName']"
      ]
     },
     "execution_count": 87,
     "metadata": {},
     "output_type": "execute_result"
    }
   ],
   "source": [
    "categorical_cols = data.select_dtypes(include=['object']).columns.tolist()\n",
    "categorical_cols"
   ]
  },
  {
   "cell_type": "markdown",
   "id": "e4d93a65",
   "metadata": {},
   "source": [
    "One Hot Encoding cols: \n",
    "- 'FirstTimeHomebuyer',\n",
    "- 'MSA',\n",
    "- 'Channel',\n",
    "- 'PPM',\n",
    "- 'PropertyState',\n",
    "- 'PropertyType',\n",
    "- 'PostalCode',\n",
    "- 'LoanPurpose',\n",
    "- 'NumBorrowers',\n",
    "- 'SellerName',\n",
    "- 'ServicerName'\n",
    "\n",
    "Label Encoding cols:\n",
    "- 'Occupancy'"
   ]
  },
  {
   "cell_type": "code",
   "execution_count": null,
   "id": "2f456c8e",
   "metadata": {},
   "outputs": [],
   "source": []
  },
  {
   "cell_type": "code",
   "execution_count": null,
   "id": "bbabb34e",
   "metadata": {},
   "outputs": [],
   "source": []
  },
  {
   "cell_type": "code",
   "execution_count": null,
   "id": "3d62a6a6",
   "metadata": {},
   "outputs": [],
   "source": []
  },
  {
   "cell_type": "code",
   "execution_count": null,
   "id": "ddbf1aba",
   "metadata": {},
   "outputs": [],
   "source": []
  },
  {
   "cell_type": "code",
   "execution_count": null,
   "id": "5bc991dd",
   "metadata": {},
   "outputs": [],
   "source": []
  },
  {
   "cell_type": "code",
   "execution_count": null,
   "id": "a27cf38c",
   "metadata": {},
   "outputs": [],
   "source": []
  },
  {
   "cell_type": "markdown",
   "id": "15206c50",
   "metadata": {},
   "source": [
    "# Data Labeling"
   ]
  },
  {
   "cell_type": "code",
   "execution_count": 88,
   "id": "f98e3e28",
   "metadata": {},
   "outputs": [],
   "source": [
    "data['FirstTimeHomebuyer'] = data['FirstTimeHomebuyer'].map({\n",
    "                                                                 'N' : 0, \n",
    "                                                                 'Y' : 1,\n",
    "                                                                 '9' : 9\n",
    "                                                            }) #.astype('int')"
   ]
  },
  {
   "cell_type": "code",
   "execution_count": 101,
   "id": "c3ebcb64",
   "metadata": {},
   "outputs": [],
   "source": [
    "data['PPM'] = data['PPM'].map({\n",
    "                                 'N' : 0, \n",
    "                                 'Y' : 1,\n",
    "                                 '9' : 9\n",
    "                            }) #.astype('int')"
   ]
  },
  {
   "cell_type": "code",
   "execution_count": 103,
   "id": "84a50e0e",
   "metadata": {},
   "outputs": [
    {
     "data": {
      "text/plain": [
       "0.0    282123\n",
       "1.0      3921\n",
       "Name: PPM, dtype: int64"
      ]
     },
     "execution_count": 103,
     "metadata": {},
     "output_type": "execute_result"
    }
   ],
   "source": [
    "data['PPM'].value_counts()"
   ]
  },
  {
   "cell_type": "markdown",
   "id": "085816f8",
   "metadata": {},
   "source": [
    "!!!!!!!!!!!!!!!!!!!!!!!!             Where are the 9 values :(       !!!!!!!!!!!!!!!!!!!!!!!!!!!!!!!!!!!!!!!!!!!!!!!!"
   ]
  },
  {
   "cell_type": "code",
   "execution_count": null,
   "id": "14496615",
   "metadata": {},
   "outputs": [],
   "source": [
    "data['Occupancy'] = data['Occupancy'].map({\n",
    "                                             'S' : 0,\n",
    "                                             'I' : 1, \n",
    "                                             '9' : 9\n",
    "                                        })"
   ]
  },
  {
   "cell_type": "code",
   "execution_count": 91,
   "id": "967985bf",
   "metadata": {},
   "outputs": [],
   "source": [
    "data['MSA'] = data['MSA'].astype(int)\n",
    "data['NumBorrowers'] = data['NumBorrowers'].astype(int)"
   ]
  },
  {
   "cell_type": "code",
   "execution_count": null,
   "id": "2dd73d2b",
   "metadata": {},
   "outputs": [],
   "source": []
  },
  {
   "cell_type": "code",
   "execution_count": null,
   "id": "a3083b32",
   "metadata": {},
   "outputs": [],
   "source": []
  },
  {
   "cell_type": "code",
   "execution_count": null,
   "id": "6391b3ca",
   "metadata": {},
   "outputs": [],
   "source": []
  },
  {
   "cell_type": "markdown",
   "id": "38ec054f",
   "metadata": {},
   "source": [
    "Data Description:\n",
    "\n",
    "1. CreditScore (Borrower Credit Score) : \n",
    "The standardized credit score used to evaluate the borrower during the loan origination process. For reperforming, modified fixed-rate and modified step-rate loans, this value will be blank. \n",
    "All known credit scores are disclosed at issuance. Generally, the credit score known and disclosed at time of PC issuance is the score used to originate the mortgage. Mortgages reported with unknown credit scores at the time of PC issuance may have credit scores disclosed in the month following PC issuance. Credit scores reported at PC issuance and those reported in the month following, if any, are not updated and these same scores continue to appear in the monthly reporting. \n",
    "\n",
    "An unavailable credit score or a credit score value less than 300 or greater than 850 will be disclosed as “Not Available,” which will be indicated by 9999. \n",
    "9999 = Not Available\n",
    "\n",
    "2. FirstPaymentDate : \n",
    "The month and year that the first scheduled payment on the loan is due. For seller-owned modified mortgages, converted mortgages, and construction to permanent mortgages, the first payment due date of the mortgage as of the note modification, conversion, or construction to permanent date of the mortgage.\n",
    "\n",
    "\n",
    "3. FirstTimeHomebuyer: \n",
    "The indicator denoting whether a borrower on the loan qualifies as a first-time homebuyer. Indicates whether the Borrower, or one of a group of Borrowers, is an individual who (1) is purchasing the mortgaged property, (2) will reside in the mortgaged property as a primary residence and (3) had no ownership interest (sole or joint) in a residential property during the three-year period preceding the date of the purchase of the mortgaged property. With certain limited exceptions, a displaced homemaker or single parent may also be considered a First- Time Homebuyer if the individual had no ownership interest in a residential property during the preceding three-year period other than an ownership interest in the marital residence with a spouse. \n",
    "\n",
    "“Not Available” will be indicated by 9. \n",
    "Y = Yes N = No 9 = Not Available\n",
    "\n",
    "\n",
    "\n",
    "4. MaturityDate: \n",
    "The month and year that the final scheduled payment on the loan is due.\n",
    "\n",
    "\n",
    "5. MSA: \n",
    "\n",
    "\n",
    "6. MIP: \n",
    "The percentage of mortgage insurance coverage obtained at origination in effect at the time the security was issued. Only primary mortgage insurance that is purchased by the Borrower, lender or Freddie Mac is disclosed. Mortgage insurance that constitutes “credit enhancement” that is not required by Freddie Mac’s Charter is not disclosed. Amounts of mortgage insurance reported by Sellers that are in excess of 55% will be disclosed as “Not Available,” which will be indicated by 999. 000= No MI 999= Not Available\n",
    "\n",
    "\n",
    "\n",
    "\n",
    "7. Units: \n",
    "The number of dwelling units in the mortgaged property at the time the loan was originated. “Not Available” will be indicated by 99. 1 = 1 2 = 2 3 = 3 4 = 4 99 = Not Available\n",
    "\n",
    "\n",
    "8. Occupancy:\n",
    "The classification describing the property occupancy status at the time the loan was originated. For reperforming, modified fixed-rate and modified step-rate loans, this value will be blank.  \n",
    "“Not Available” will be indicated by a 9.  \n",
    "P = Primary Residence  \n",
    "S = Second Home  \n",
    "I = Investment Property  \n",
    "9 = Not Available \n",
    "\n",
    "\n",
    "\n",
    "9. OCLTV: \n",
    "For reperforming, modified fixed-rate and modified step-rate loans, the ratio, expressed as a percentage, obtained by dividing the amount of all known outstanding loans at origination by the value of the property. Property value reflects either the lesser of the sales price or the appraised property value for a purchase, or the appraised property value for a refinance. 999 = Not Available If value 998, then the ratio is considered not available (securities issued on or after 9/1/2017)\n",
    "\n",
    "\n",
    "10. DTI: \n",
    "The ratio obtained by dividing the total monthly debt expense by the total monthly income of the borrower at the time the loan was originated or modified. Disclosure of the debt to income ratio is based on (1) the sum of the Borrower’s monthly debt payments, including monthly housing expenses that incorporate the mortgage payment the Borrower is making at the time of the delivery of the mortgage loan to Freddie Mac, divided by (2) the total monthly income used to underwrite the Borrower as of the date of the origination of the mortgage loan. The debt to income ratio will not be updated. This disclosure is subject to the widely varying standards originators use to calculate and / or report Borrowers' income and liabilities. This disclosure is subject to the widely varying standards originators use to calculate and / or report Borrowers' secondary mortgage loan amounts. Percentages less than 1% or greater than 65% will be disclosed as “Not Available,” which will be indicated by a 999. 999 = Not Available\n",
    "\n",
    "\n",
    "11. OrigUPB:\n",
    "\n",
    "\n",
    "12. LTV: \n",
    "The ratio, expressed as a percentage, obtained by dividing the amount of the loan at origination by the value of the property. Property value reflects either the lesser of the sales price or the appraised property value for a purchase, or the appraised property value for a refinance. For reperforming, modified fixed-rate and modified step-rate loans, this value will be blank. In the case of a seasoned mortgage loan, if the Seller cannot warrant that the value of the mortgaged property has not declined since the note date, Freddie Mac requires that the Seller must provide a new appraisal value, which is used in the LTV calculation. Percentages less than 1% or greater than 998% will be disclosed as “Not Available,” indicated by 999. 999 = Not Available\n",
    "\n",
    "\n",
    "13. OrigInterestRate: \n",
    "For reperforming, modified fixed-rate and modified step-rate loans, the interest rate of the loan as stated on the note at the time the loan was originated. If value <0 or >25, then the rate is considered not available (securities issued on or after 9/1/2017)\n",
    "\n",
    "\n",
    "14. Channel: \n",
    "The origination channel used by the party that delivered the loan to the issuer. For reperforming, modified fixed-rate and modified step-rate loans, this value will be blank. Disclosure indicates whether a broker or correspondent, as those terms are defined below, originated or was involved in the origination or the mortgage. If a Third-Party Origination is applicable, but the Seller does not specify Broker or Correspondent, the disclosure will indicate “TPO Not Specified.” If a Broker, Correspondent or Third Party Origination disclosure is not applicable, the mortgage loan will be designated as Retail, as defined below. \n",
    "• Broker is a person or entity that specializes in loan originations, receiving a commission (from a Correspondent or other lender) to match Borrowers and lenders. The Broker performs some or most of the loan processing functions, such as taking loan applications, or ordering credit reports, appraisals and title reports. Typically, the Broker does not underwrite or service the mortgage loan and generally does not use its own funds for closing; however, if the Broker funded a mortgage loan on a lender’s behalf, such a mortgage loan is considered a “Broker” third party origination mortgage loan. The mortgage loan is generally closed in the name of the lender who commissioned the Broker’s services. \n",
    "• Correspondent is an entity that typically sells the Mortgages it originates to other lenders, which are not Affiliates of that entity, under a specific commitment or as part of an ongoing relationship. The Correspondent performs some or all the loan processing functions, such as taking the loan application, ordering credit reports, appraisals, and title reports, and verifying the Borrower’s income and employment. The Correspondent may or may not have delegated underwriting and typically funds the mortgage loans at settlement. The mortgage loan is closed in the Correspondent’s name and the Correspondent may or may not service the mortgage loan. The Correspondent may use a Broker to perform some of the processing functions or even to fund the loan on its behalf; under such circumstances, the mortgage loan is considered a “Broker” third party origination mortgage loan, rather than a “Correspondent” third party origination mortgage loan. \n",
    "• Retail Mortgage is a mortgage loan that is originated, underwritten and funded by a lender or its Affiliates. The mortgage loan is closed in the name of the lender or its Affiliate and if it is sold to Freddie Mac, it is sold by the lender or its Affiliate that originated it. A mortgage loan that a Broker or Correspondent completely or partially originated, processed, underwrote, packaged, funded or closed is not considered a Retail mortgage loan. \n",
    "• For purposes of the definitions of Correspondent and Retail, “Affiliate” means any entity that is related to another party as a consequence of the entity, directly or indirectly, controlling the other party, being controlled by the other party, or being under common control with the other party. \n",
    "R = Retail B = Broker C = Correspondent T = Third Party Origination - Not Specified 9 = Not Available\n",
    "\n",
    "\n",
    "\n",
    "15. PPM(Prepayment Penalty Indicator): \n",
    "The indicator denoting whether the borrower is subject to a penalty for early payment of principal. Y = Yes N = No\n",
    "\n",
    "\n",
    "16. ProductType:\n",
    "\n",
    "\n",
    "\n",
    "17. PropertyState: \n",
    "The abbreviation denoting the location of the property securing the loan.\n",
    "\n",
    "\n",
    "\n",
    "18. PropertyType: \n",
    "The classification describing the type of property that secures the loan. “Not Available” will be indicated by 99. CP = Cooperative CO = Condominium PU = Planned Unit Development SF = Single-Family MH = Manufactured Housing 99 = Not Available\n",
    "\n",
    "\n",
    "19. PostalCode:\n",
    "\n",
    "\n",
    "20. LoanSeqNum(Loan Identifier): \n",
    "The unique designation assigned to the loan by the issuer.\n",
    "\n",
    "\n",
    "21. LoanPurpose: \n",
    "The classification describing the purpose of the loan. Generally, a Cash-out Refinance mortgage loan is a mortgage loan in which the use of the loan amount is not limited to specific purposes. A mortgage loan placed on a property previously owned free and clear by the Borrower is always considered a Cash-out Refinance mortgage loan. Generally, a No Cash-out Refinance mortgage loan is a mortgage loan in which the loan amount is limited to the following uses: \n",
    "• Pay off the first mortgage, regardless of its age \n",
    "• Pay off any junior liens secured by the mortgaged property, that were used in their entirety to acquire the subject property \n",
    "• Pay related closing costs, financing costs and prepaid items, and \n",
    "• Disburse cash out to the Borrower (or any other payee) not to exceed 2% of the new refinance mortgage loan or $2,000, whichever is less As an exception to the above, for construction conversion mortgage loans and renovation mortgage loans, the amount of the interim construction financing secured by the mortgaged property is considered an amount used to pay off the first mortgage. Paying off unsecured liens or construction costs paid by the Borrower outside of the secured interim construction financing is considered cash out to the Borrower, if greater than $2,000 or 2% of the loan amount. This disclosure is subject to various special exceptions used by Sellers to determine whether a mortgage loan is a No Cash-out Refinance mortgage loan. If a Refinance is applicable, but the seller of the mortgage loan does not specify Cash-out Refinance or No Cash-out Refinance, “Refinance—Not Specified” is indicated. “Not Available” will be indicated by a 9. C = Refinance - Cash Out N = Refinance - No Cash Out R = Refinance - Not Specified P = Purchase M = Modified - Loss Mitigation\n",
    "\n",
    "\n",
    "22. OrigLoanTerm:\n",
    "For reperforming, modified fixed-rate and modified step-rate loans, the number of months in which regularly scheduled borrower payments are due as stated on the note at the time the loan was originated.\n",
    "\n",
    "\n",
    "23. NumBorrowers: \n",
    "The number of borrowers who, at the time the loan was originated, are obligated to repay the loan. 1 = 1 2 = 2 3 = 3 4 = 4 5 = 5 6 = 6 7 = 7 8 = 8 9 = 9 10 = 10 99 = Not Available\n",
    "\n",
    "\n",
    "24. SellerName: \n",
    "The name of the entity that sold the loan to the issuer. This field will not be updated after issuance, regardless of mergers/acquisitions.\n",
    "\n",
    "\n",
    "25. ServicerName:\n",
    "The name of the entity that services the loan during the current reporting period.\n",
    "\n",
    "\n",
    "26. EverDelinquent:\n",
    "\n",
    "\n",
    "27. MonthsDelinquent:\n",
    "For reperforming, modified and modified step-rate loans, the number of days for which a mortgage loan has been reported delinquent. 0 = Current 1 = 30-59 2 = 60-89 3 = 90-119 4 = 120+ Effective beginning March 2021\n",
    "\n",
    "\n",
    "28. MonthsInRepayment: \n",
    "The type of assistance plan that the borrower is enrolled in that provides temporary mortgage payment relief or an opportunity to cure a mortgage delinquency over a defined period. The data in this stratification will be published on a one-month delay due to the timing of our servicing reporting cycle. For example, the values in this stratification published in July 2020 correspond to the delinquency status in the Days Delinquent Stratification published in June 2020. \n",
    "• Forbearance Plan (F) - An agreement between the servicer and the borrower that reflects the terms of the forbearance, including whether the borrower may make either reduced or no monthly payments for a specific period. \n",
    "• **Repayment Plan (R) - An agreement between the servicer and a borrower that gives the borrower a defined period to reinstate the mortgage by paying the normal regular payments plus an additional agreed upon amount in repayment of the delinquency.**\n",
    "• Trial Period Plan (T) - An agreement, generally lasting 3 months, that allows the servicer to test the borrower’s ability to make a modified loan payment before finalizing the modification. \n",
    "• Other Workout Plan (O) - The borrower is enrolled in a plan other than a forbearance plan, a repayment plan or a trial period plan. \n",
    "• No Workout Plan (N) - The borrower is not enrolled in an alternate plan. \n",
    "• Not Applicable (7) - A borrower assistance plan is not applicable for the related mortgage loan. \n",
    "Not Available (9) - A borrower assistance plan is not available for disclosure."
   ]
  },
  {
   "cell_type": "code",
   "execution_count": null,
   "id": "6668f375",
   "metadata": {},
   "outputs": [],
   "source": []
  }
 ],
 "metadata": {
  "kernelspec": {
   "display_name": "Python 3 (ipykernel)",
   "language": "python",
   "name": "python3"
  },
  "language_info": {
   "codemirror_mode": {
    "name": "ipython",
    "version": 3
   },
   "file_extension": ".py",
   "mimetype": "text/x-python",
   "name": "python",
   "nbconvert_exporter": "python",
   "pygments_lexer": "ipython3",
   "version": "3.7.1"
  }
 },
 "nbformat": 4,
 "nbformat_minor": 5
}
