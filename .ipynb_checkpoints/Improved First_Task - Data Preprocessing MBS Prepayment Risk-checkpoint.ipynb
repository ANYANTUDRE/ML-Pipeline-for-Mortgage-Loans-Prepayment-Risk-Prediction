{
 "cells": [
  {
   "cell_type": "markdown",
   "id": "d10677eb",
   "metadata": {},
   "source": [
    "# **I. First Task(improved version) : Data Preprocessing** \n",
    "\n",
    "The different steps for this first task are as follows:\n",
    "1. Data Cleaning\n",
    "2. Data Encoding\n",
    "3. Data Labeling"
   ]
  },
  {
   "cell_type": "markdown",
   "id": "7aa1b331",
   "metadata": {},
   "source": [
    "# Librairies"
   ]
  },
  {
   "cell_type": "code",
   "execution_count": 1,
   "id": "0b3ad08e",
   "metadata": {
    "execution": {
     "iopub.execute_input": "2023-08-14T16:08:08.119447Z",
     "iopub.status.busy": "2023-08-14T16:08:08.118213Z",
     "iopub.status.idle": "2023-08-14T16:08:21.871897Z",
     "shell.execute_reply": "2023-08-14T16:08:21.870243Z",
     "shell.execute_reply.started": "2023-08-14T16:08:08.119401Z"
    }
   },
   "outputs": [
    {
     "name": "stdout",
     "output_type": "stream",
     "text": [
      "Requirement already satisfied: seaborn in c:\\users\\hp\\anaconda3\\envs\\rstudio-\\lib\\site-packages (0.12.2)\n",
      "Requirement already satisfied: pandas>=0.25 in c:\\users\\hp\\anaconda3\\envs\\rstudio-\\lib\\site-packages (from seaborn) (1.3.5)\n",
      "Requirement already satisfied: numpy!=1.24.0,>=1.17 in c:\\users\\hp\\anaconda3\\envs\\rstudio-\\lib\\site-packages (from seaborn) (1.21.6)\n",
      "Requirement already satisfied: matplotlib!=3.6.1,>=3.1 in c:\\users\\hp\\anaconda3\\envs\\rstudio-\\lib\\site-packages (from seaborn) (3.5.2)\n",
      "Requirement already satisfied: typing_extensions in c:\\users\\hp\\anaconda3\\envs\\rstudio-\\lib\\site-packages (from seaborn) (4.1.1)\n",
      "Requirement already satisfied: packaging>=20.0 in c:\\users\\hp\\anaconda3\\envs\\rstudio-\\lib\\site-packages (from matplotlib!=3.6.1,>=3.1->seaborn) (21.3)\n",
      "Requirement already satisfied: python-dateutil>=2.7 in c:\\users\\hp\\anaconda3\\envs\\rstudio-\\lib\\site-packages (from matplotlib!=3.6.1,>=3.1->seaborn) (2.8.2)\n",
      "Requirement already satisfied: kiwisolver>=1.0.1 in c:\\users\\hp\\anaconda3\\envs\\rstudio-\\lib\\site-packages (from matplotlib!=3.6.1,>=3.1->seaborn) (1.4.4)\n",
      "Requirement already satisfied: pillow>=6.2.0 in c:\\users\\hp\\anaconda3\\envs\\rstudio-\\lib\\site-packages (from matplotlib!=3.6.1,>=3.1->seaborn) (9.2.0)\n",
      "Requirement already satisfied: cycler>=0.10 in c:\\users\\hp\\anaconda3\\envs\\rstudio-\\lib\\site-packages (from matplotlib!=3.6.1,>=3.1->seaborn) (0.11.0)\n",
      "Requirement already satisfied: fonttools>=4.22.0 in c:\\users\\hp\\anaconda3\\envs\\rstudio-\\lib\\site-packages (from matplotlib!=3.6.1,>=3.1->seaborn) (4.34.4)\n",
      "Requirement already satisfied: pyparsing>=2.2.1 in c:\\users\\hp\\anaconda3\\envs\\rstudio-\\lib\\site-packages (from matplotlib!=3.6.1,>=3.1->seaborn) (3.0.4)\n",
      "Requirement already satisfied: pytz>=2017.3 in c:\\users\\hp\\anaconda3\\envs\\rstudio-\\lib\\site-packages (from pandas>=0.25->seaborn) (2022.7.1)\n",
      "Requirement already satisfied: six>=1.5 in c:\\users\\hp\\anaconda3\\envs\\rstudio-\\lib\\site-packages (from python-dateutil>=2.7->matplotlib!=3.6.1,>=3.1->seaborn) (1.16.0)\n"
     ]
    }
   ],
   "source": [
    "#!pip install --upgrade category_encoders\n",
    "!pip install seaborn"
   ]
  },
  {
   "cell_type": "code",
   "execution_count": 2,
   "id": "2c706a54",
   "metadata": {
    "execution": {
     "iopub.execute_input": "2023-08-14T16:08:21.874738Z",
     "iopub.status.busy": "2023-08-14T16:08:21.874327Z",
     "iopub.status.idle": "2023-08-14T16:08:21.882768Z",
     "shell.execute_reply": "2023-08-14T16:08:21.881442Z",
     "shell.execute_reply.started": "2023-08-14T16:08:21.874704Z"
    }
   },
   "outputs": [],
   "source": [
    "# data manipulation\n",
    "import pandas as pd\n",
    "from pandas.api.types import is_numeric_dtype\n",
    "import numpy as np\n",
    "import seaborn as sns\n",
    "import datetime\n",
    "\n",
    "# data preprocessing & engineering\n",
    "from sklearn.preprocessing import LabelEncoder, OrdinalEncoder\n",
    "#from category_encoders import BinaryEncoder\n",
    "\n",
    "# settings & warning handling\n",
    "import warnings\n",
    "pd.options.display.max_columns\n",
    "warnings.filterwarnings(\"always\")\n",
    "warnings.filterwarnings(\"ignore\")\n"
   ]
  },
  {
   "cell_type": "markdown",
   "id": "fab3880b",
   "metadata": {},
   "source": [
    "# First Look at the data"
   ]
  },
  {
   "cell_type": "code",
   "execution_count": 3,
   "id": "92fa9754",
   "metadata": {
    "execution": {
     "iopub.execute_input": "2023-08-14T16:08:21.884939Z",
     "iopub.status.busy": "2023-08-14T16:08:21.884530Z",
     "iopub.status.idle": "2023-08-14T16:08:23.265457Z",
     "shell.execute_reply": "2023-08-14T16:08:23.264233Z",
     "shell.execute_reply.started": "2023-08-14T16:08:21.884851Z"
    }
   },
   "outputs": [],
   "source": [
    "# read in csv file as a DataFrame\n",
    "data = pd.read_csv(\"LoanExport.csv\")"
   ]
  },
  {
   "cell_type": "code",
   "execution_count": 4,
   "id": "babc5fe8",
   "metadata": {
    "execution": {
     "iopub.execute_input": "2023-08-14T16:08:23.268694Z",
     "iopub.status.busy": "2023-08-14T16:08:23.268347Z",
     "iopub.status.idle": "2023-08-14T16:08:23.294902Z",
     "shell.execute_reply": "2023-08-14T16:08:23.293644Z",
     "shell.execute_reply.started": "2023-08-14T16:08:23.268659Z"
    }
   },
   "outputs": [
    {
     "data": {
      "text/html": [
       "<div>\n",
       "<style scoped>\n",
       "    .dataframe tbody tr th:only-of-type {\n",
       "        vertical-align: middle;\n",
       "    }\n",
       "\n",
       "    .dataframe tbody tr th {\n",
       "        vertical-align: top;\n",
       "    }\n",
       "\n",
       "    .dataframe thead th {\n",
       "        text-align: right;\n",
       "    }\n",
       "</style>\n",
       "<table border=\"1\" class=\"dataframe\">\n",
       "  <thead>\n",
       "    <tr style=\"text-align: right;\">\n",
       "      <th></th>\n",
       "      <th>CreditScore</th>\n",
       "      <th>FirstPaymentDate</th>\n",
       "      <th>FirstTimeHomebuyer</th>\n",
       "      <th>MaturityDate</th>\n",
       "      <th>MSA</th>\n",
       "      <th>MIP</th>\n",
       "      <th>Units</th>\n",
       "      <th>Occupancy</th>\n",
       "      <th>OCLTV</th>\n",
       "      <th>DTI</th>\n",
       "      <th>...</th>\n",
       "      <th>PostalCode</th>\n",
       "      <th>LoanSeqNum</th>\n",
       "      <th>LoanPurpose</th>\n",
       "      <th>OrigLoanTerm</th>\n",
       "      <th>NumBorrowers</th>\n",
       "      <th>SellerName</th>\n",
       "      <th>ServicerName</th>\n",
       "      <th>EverDelinquent</th>\n",
       "      <th>MonthsDelinquent</th>\n",
       "      <th>MonthsInRepayment</th>\n",
       "    </tr>\n",
       "  </thead>\n",
       "  <tbody>\n",
       "    <tr>\n",
       "      <th>0</th>\n",
       "      <td>0</td>\n",
       "      <td>199902</td>\n",
       "      <td>N</td>\n",
       "      <td>202901</td>\n",
       "      <td>16974</td>\n",
       "      <td>25</td>\n",
       "      <td>1</td>\n",
       "      <td>O</td>\n",
       "      <td>89</td>\n",
       "      <td>27</td>\n",
       "      <td>...</td>\n",
       "      <td>60400</td>\n",
       "      <td>F199Q1268030</td>\n",
       "      <td>P</td>\n",
       "      <td>360</td>\n",
       "      <td>2</td>\n",
       "      <td>FL</td>\n",
       "      <td>WASHINGTONMUTUALBANK</td>\n",
       "      <td>0</td>\n",
       "      <td>0</td>\n",
       "      <td>52</td>\n",
       "    </tr>\n",
       "    <tr>\n",
       "      <th>1</th>\n",
       "      <td>0</td>\n",
       "      <td>199902</td>\n",
       "      <td>N</td>\n",
       "      <td>202901</td>\n",
       "      <td>19740</td>\n",
       "      <td>0</td>\n",
       "      <td>1</td>\n",
       "      <td>O</td>\n",
       "      <td>73</td>\n",
       "      <td>17</td>\n",
       "      <td>...</td>\n",
       "      <td>80200</td>\n",
       "      <td>F199Q1015092</td>\n",
       "      <td>N</td>\n",
       "      <td>360</td>\n",
       "      <td>1</td>\n",
       "      <td>FT</td>\n",
       "      <td>CHASEHOMEFINANCELLC</td>\n",
       "      <td>0</td>\n",
       "      <td>0</td>\n",
       "      <td>144</td>\n",
       "    </tr>\n",
       "    <tr>\n",
       "      <th>2</th>\n",
       "      <td>0</td>\n",
       "      <td>199902</td>\n",
       "      <td>N</td>\n",
       "      <td>202901</td>\n",
       "      <td>29940</td>\n",
       "      <td>0</td>\n",
       "      <td>1</td>\n",
       "      <td>O</td>\n",
       "      <td>75</td>\n",
       "      <td>16</td>\n",
       "      <td>...</td>\n",
       "      <td>66000</td>\n",
       "      <td>F199Q1266886</td>\n",
       "      <td>N</td>\n",
       "      <td>360</td>\n",
       "      <td>2</td>\n",
       "      <td>FL</td>\n",
       "      <td>WASHINGTONMUTUALBANK</td>\n",
       "      <td>0</td>\n",
       "      <td>0</td>\n",
       "      <td>67</td>\n",
       "    </tr>\n",
       "    <tr>\n",
       "      <th>3</th>\n",
       "      <td>0</td>\n",
       "      <td>199902</td>\n",
       "      <td>N</td>\n",
       "      <td>202901</td>\n",
       "      <td>31084</td>\n",
       "      <td>0</td>\n",
       "      <td>1</td>\n",
       "      <td>O</td>\n",
       "      <td>76</td>\n",
       "      <td>14</td>\n",
       "      <td>...</td>\n",
       "      <td>90700</td>\n",
       "      <td>F199Q1178167</td>\n",
       "      <td>N</td>\n",
       "      <td>360</td>\n",
       "      <td>2</td>\n",
       "      <td>GM</td>\n",
       "      <td>GMACMTGECORP</td>\n",
       "      <td>0</td>\n",
       "      <td>0</td>\n",
       "      <td>35</td>\n",
       "    </tr>\n",
       "    <tr>\n",
       "      <th>4</th>\n",
       "      <td>0</td>\n",
       "      <td>199902</td>\n",
       "      <td>N</td>\n",
       "      <td>202901</td>\n",
       "      <td>35644</td>\n",
       "      <td>0</td>\n",
       "      <td>1</td>\n",
       "      <td>O</td>\n",
       "      <td>78</td>\n",
       "      <td>18</td>\n",
       "      <td>...</td>\n",
       "      <td>7600</td>\n",
       "      <td>F199Q1178517</td>\n",
       "      <td>N</td>\n",
       "      <td>360</td>\n",
       "      <td>2</td>\n",
       "      <td>GM</td>\n",
       "      <td>GMACMTGECORP</td>\n",
       "      <td>0</td>\n",
       "      <td>0</td>\n",
       "      <td>54</td>\n",
       "    </tr>\n",
       "  </tbody>\n",
       "</table>\n",
       "<p>5 rows × 28 columns</p>\n",
       "</div>"
      ],
      "text/plain": [
       "   CreditScore  FirstPaymentDate FirstTimeHomebuyer  MaturityDate    MSA  MIP  \\\n",
       "0            0            199902                  N        202901  16974   25   \n",
       "1            0            199902                  N        202901  19740    0   \n",
       "2            0            199902                  N        202901  29940    0   \n",
       "3            0            199902                  N        202901  31084    0   \n",
       "4            0            199902                  N        202901  35644    0   \n",
       "\n",
       "   Units Occupancy  OCLTV  DTI  ...  PostalCode    LoanSeqNum  LoanPurpose  \\\n",
       "0      1         O     89   27  ...       60400  F199Q1268030            P   \n",
       "1      1         O     73   17  ...       80200  F199Q1015092            N   \n",
       "2      1         O     75   16  ...       66000  F199Q1266886            N   \n",
       "3      1         O     76   14  ...       90700  F199Q1178167            N   \n",
       "4      1         O     78   18  ...        7600  F199Q1178517            N   \n",
       "\n",
       "  OrigLoanTerm NumBorrowers SellerName          ServicerName EverDelinquent  \\\n",
       "0          360            2         FL  WASHINGTONMUTUALBANK              0   \n",
       "1          360            1         FT  CHASEHOMEFINANCELLC               0   \n",
       "2          360            2         FL  WASHINGTONMUTUALBANK              0   \n",
       "3          360            2         GM  GMACMTGECORP                      0   \n",
       "4          360            2         GM  GMACMTGECORP                      0   \n",
       "\n",
       "  MonthsDelinquent MonthsInRepayment  \n",
       "0                0                52  \n",
       "1                0               144  \n",
       "2                0                67  \n",
       "3                0                35  \n",
       "4                0                54  \n",
       "\n",
       "[5 rows x 28 columns]"
      ]
     },
     "execution_count": 4,
     "metadata": {},
     "output_type": "execute_result"
    }
   ],
   "source": [
    "# explore the first 5 rows\n",
    "data.head()"
   ]
  },
  {
   "cell_type": "code",
   "execution_count": 5,
   "id": "5736c437",
   "metadata": {
    "execution": {
     "iopub.execute_input": "2023-08-14T16:08:23.297664Z",
     "iopub.status.busy": "2023-08-14T16:08:23.296832Z",
     "iopub.status.idle": "2023-08-14T16:08:23.321609Z",
     "shell.execute_reply": "2023-08-14T16:08:23.320462Z",
     "shell.execute_reply.started": "2023-08-14T16:08:23.297626Z"
    }
   },
   "outputs": [
    {
     "data": {
      "text/html": [
       "<div>\n",
       "<style scoped>\n",
       "    .dataframe tbody tr th:only-of-type {\n",
       "        vertical-align: middle;\n",
       "    }\n",
       "\n",
       "    .dataframe tbody tr th {\n",
       "        vertical-align: top;\n",
       "    }\n",
       "\n",
       "    .dataframe thead th {\n",
       "        text-align: right;\n",
       "    }\n",
       "</style>\n",
       "<table border=\"1\" class=\"dataframe\">\n",
       "  <thead>\n",
       "    <tr style=\"text-align: right;\">\n",
       "      <th></th>\n",
       "      <th>CreditScore</th>\n",
       "      <th>FirstPaymentDate</th>\n",
       "      <th>FirstTimeHomebuyer</th>\n",
       "      <th>MaturityDate</th>\n",
       "      <th>MSA</th>\n",
       "      <th>MIP</th>\n",
       "      <th>Units</th>\n",
       "      <th>Occupancy</th>\n",
       "      <th>OCLTV</th>\n",
       "      <th>DTI</th>\n",
       "      <th>...</th>\n",
       "      <th>PostalCode</th>\n",
       "      <th>LoanSeqNum</th>\n",
       "      <th>LoanPurpose</th>\n",
       "      <th>OrigLoanTerm</th>\n",
       "      <th>NumBorrowers</th>\n",
       "      <th>SellerName</th>\n",
       "      <th>ServicerName</th>\n",
       "      <th>EverDelinquent</th>\n",
       "      <th>MonthsDelinquent</th>\n",
       "      <th>MonthsInRepayment</th>\n",
       "    </tr>\n",
       "  </thead>\n",
       "  <tbody>\n",
       "    <tr>\n",
       "      <th>291446</th>\n",
       "      <td>839</td>\n",
       "      <td>199903</td>\n",
       "      <td>N</td>\n",
       "      <td>202902</td>\n",
       "      <td>37964</td>\n",
       "      <td>0</td>\n",
       "      <td>1</td>\n",
       "      <td>O</td>\n",
       "      <td>60</td>\n",
       "      <td>32</td>\n",
       "      <td>...</td>\n",
       "      <td>19400</td>\n",
       "      <td>F199Q1220925</td>\n",
       "      <td>N</td>\n",
       "      <td>360</td>\n",
       "      <td>2</td>\n",
       "      <td>Ot</td>\n",
       "      <td>Other servicers</td>\n",
       "      <td>0</td>\n",
       "      <td>0</td>\n",
       "      <td>12</td>\n",
       "    </tr>\n",
       "    <tr>\n",
       "      <th>291447</th>\n",
       "      <td>840</td>\n",
       "      <td>200210</td>\n",
       "      <td>N</td>\n",
       "      <td>202904</td>\n",
       "      <td>35644</td>\n",
       "      <td>0</td>\n",
       "      <td>1</td>\n",
       "      <td>O</td>\n",
       "      <td>73</td>\n",
       "      <td>0</td>\n",
       "      <td>...</td>\n",
       "      <td>11600</td>\n",
       "      <td>F199Q1401332</td>\n",
       "      <td>P</td>\n",
       "      <td>319</td>\n",
       "      <td>2</td>\n",
       "      <td>Ot</td>\n",
       "      <td>Other servicers</td>\n",
       "      <td>0</td>\n",
       "      <td>0</td>\n",
       "      <td>53</td>\n",
       "    </tr>\n",
       "    <tr>\n",
       "      <th>291448</th>\n",
       "      <td>840</td>\n",
       "      <td>200304</td>\n",
       "      <td>N</td>\n",
       "      <td>202904</td>\n",
       "      <td>42044</td>\n",
       "      <td>0</td>\n",
       "      <td>1</td>\n",
       "      <td>O</td>\n",
       "      <td>73</td>\n",
       "      <td>31</td>\n",
       "      <td>...</td>\n",
       "      <td>92800</td>\n",
       "      <td>F199Q1401282</td>\n",
       "      <td>N</td>\n",
       "      <td>313</td>\n",
       "      <td>1</td>\n",
       "      <td>Ot</td>\n",
       "      <td>Other servicers</td>\n",
       "      <td>0</td>\n",
       "      <td>0</td>\n",
       "      <td>38</td>\n",
       "    </tr>\n",
       "    <tr>\n",
       "      <th>291449</th>\n",
       "      <td>845</td>\n",
       "      <td>199904</td>\n",
       "      <td>N</td>\n",
       "      <td>202903</td>\n",
       "      <td>37964</td>\n",
       "      <td>0</td>\n",
       "      <td>1</td>\n",
       "      <td>I</td>\n",
       "      <td>80</td>\n",
       "      <td>54</td>\n",
       "      <td>...</td>\n",
       "      <td>19300</td>\n",
       "      <td>F199Q1220924</td>\n",
       "      <td>P</td>\n",
       "      <td>360</td>\n",
       "      <td>2</td>\n",
       "      <td>Ot</td>\n",
       "      <td>Other servicers</td>\n",
       "      <td>0</td>\n",
       "      <td>0</td>\n",
       "      <td>32</td>\n",
       "    </tr>\n",
       "    <tr>\n",
       "      <th>291450</th>\n",
       "      <td>849</td>\n",
       "      <td>199903</td>\n",
       "      <td>N</td>\n",
       "      <td>202902</td>\n",
       "      <td>37964</td>\n",
       "      <td>0</td>\n",
       "      <td>1</td>\n",
       "      <td>O</td>\n",
       "      <td>47</td>\n",
       "      <td>29</td>\n",
       "      <td>...</td>\n",
       "      <td>18900</td>\n",
       "      <td>F199Q1220923</td>\n",
       "      <td>P</td>\n",
       "      <td>360</td>\n",
       "      <td>2</td>\n",
       "      <td>Ot</td>\n",
       "      <td>Other servicers</td>\n",
       "      <td>0</td>\n",
       "      <td>0</td>\n",
       "      <td>29</td>\n",
       "    </tr>\n",
       "  </tbody>\n",
       "</table>\n",
       "<p>5 rows × 28 columns</p>\n",
       "</div>"
      ],
      "text/plain": [
       "        CreditScore  FirstPaymentDate FirstTimeHomebuyer  MaturityDate    MSA  \\\n",
       "291446          839            199903                  N        202902  37964   \n",
       "291447          840            200210                  N        202904  35644   \n",
       "291448          840            200304                  N        202904  42044   \n",
       "291449          845            199904                  N        202903  37964   \n",
       "291450          849            199903                  N        202902  37964   \n",
       "\n",
       "        MIP  Units Occupancy  OCLTV  DTI  ...  PostalCode    LoanSeqNum  \\\n",
       "291446    0      1         O     60   32  ...       19400  F199Q1220925   \n",
       "291447    0      1         O     73    0  ...       11600  F199Q1401332   \n",
       "291448    0      1         O     73   31  ...       92800  F199Q1401282   \n",
       "291449    0      1         I     80   54  ...       19300  F199Q1220924   \n",
       "291450    0      1         O     47   29  ...       18900  F199Q1220923   \n",
       "\n",
       "        LoanPurpose OrigLoanTerm NumBorrowers SellerName  \\\n",
       "291446            N          360            2         Ot   \n",
       "291447            P          319            2         Ot   \n",
       "291448            N          313            1         Ot   \n",
       "291449            P          360            2         Ot   \n",
       "291450            P          360            2         Ot   \n",
       "\n",
       "                ServicerName EverDelinquent MonthsDelinquent MonthsInRepayment  \n",
       "291446  Other servicers                   0                0                12  \n",
       "291447  Other servicers                   0                0                53  \n",
       "291448  Other servicers                   0                0                38  \n",
       "291449  Other servicers                   0                0                32  \n",
       "291450  Other servicers                   0                0                29  \n",
       "\n",
       "[5 rows x 28 columns]"
      ]
     },
     "execution_count": 5,
     "metadata": {},
     "output_type": "execute_result"
    }
   ],
   "source": [
    "# explore the last 5 rows\n",
    "data.tail()"
   ]
  },
  {
   "cell_type": "code",
   "execution_count": 6,
   "id": "bf05cbca",
   "metadata": {
    "execution": {
     "iopub.execute_input": "2023-08-14T16:08:23.323690Z",
     "iopub.status.busy": "2023-08-14T16:08:23.323286Z",
     "iopub.status.idle": "2023-08-14T16:08:23.336774Z",
     "shell.execute_reply": "2023-08-14T16:08:23.335459Z",
     "shell.execute_reply.started": "2023-08-14T16:08:23.323658Z"
    }
   },
   "outputs": [
    {
     "data": {
      "text/plain": [
       "(291451, 28)"
      ]
     },
     "execution_count": 6,
     "metadata": {},
     "output_type": "execute_result"
    }
   ],
   "source": [
    "# size of the dataset\n",
    "data.shape"
   ]
  },
  {
   "cell_type": "code",
   "execution_count": 7,
   "id": "5f1277ad",
   "metadata": {
    "execution": {
     "iopub.execute_input": "2023-08-14T16:08:23.339434Z",
     "iopub.status.busy": "2023-08-14T16:08:23.338731Z",
     "iopub.status.idle": "2023-08-14T16:08:23.350309Z",
     "shell.execute_reply": "2023-08-14T16:08:23.349359Z",
     "shell.execute_reply.started": "2023-08-14T16:08:23.339369Z"
    }
   },
   "outputs": [
    {
     "data": {
      "text/plain": [
       "Index(['CreditScore', 'FirstPaymentDate', 'FirstTimeHomebuyer', 'MaturityDate',\n",
       "       'MSA', 'MIP', 'Units', 'Occupancy', 'OCLTV', 'DTI', 'OrigUPB', 'LTV',\n",
       "       'OrigInterestRate', 'Channel', 'PPM', 'ProductType', 'PropertyState',\n",
       "       'PropertyType', 'PostalCode', 'LoanSeqNum', 'LoanPurpose',\n",
       "       'OrigLoanTerm', 'NumBorrowers', 'SellerName', 'ServicerName',\n",
       "       'EverDelinquent', 'MonthsDelinquent', 'MonthsInRepayment'],\n",
       "      dtype='object')"
      ]
     },
     "execution_count": 7,
     "metadata": {},
     "output_type": "execute_result"
    }
   ],
   "source": [
    "# checking the columns names\n",
    "data.columns"
   ]
  },
  {
   "cell_type": "code",
   "execution_count": 8,
   "id": "4a1ba4e9",
   "metadata": {
    "execution": {
     "iopub.execute_input": "2023-08-14T16:08:23.352740Z",
     "iopub.status.busy": "2023-08-14T16:08:23.351800Z",
     "iopub.status.idle": "2023-08-14T16:08:24.703528Z",
     "shell.execute_reply": "2023-08-14T16:08:24.702199Z",
     "shell.execute_reply.started": "2023-08-14T16:08:23.352705Z"
    }
   },
   "outputs": [
    {
     "name": "stdout",
     "output_type": "stream",
     "text": [
      "<class 'pandas.core.frame.DataFrame'>\n",
      "RangeIndex: 291451 entries, 0 to 291450\n",
      "Data columns (total 28 columns):\n",
      " #   Column              Non-Null Count   Dtype  \n",
      "---  ------              --------------   -----  \n",
      " 0   CreditScore         291451 non-null  int64  \n",
      " 1   FirstPaymentDate    291451 non-null  int64  \n",
      " 2   FirstTimeHomebuyer  291451 non-null  object \n",
      " 3   MaturityDate        291451 non-null  int64  \n",
      " 4   MSA                 291451 non-null  object \n",
      " 5   MIP                 291451 non-null  int64  \n",
      " 6   Units               291451 non-null  int64  \n",
      " 7   Occupancy           291451 non-null  object \n",
      " 8   OCLTV               291451 non-null  int64  \n",
      " 9   DTI                 291451 non-null  int64  \n",
      " 10  OrigUPB             291451 non-null  int64  \n",
      " 11  LTV                 291451 non-null  int64  \n",
      " 12  OrigInterestRate    291451 non-null  float64\n",
      " 13  Channel             291451 non-null  object \n",
      " 14  PPM                 291451 non-null  object \n",
      " 15  ProductType         291451 non-null  object \n",
      " 16  PropertyState       291451 non-null  object \n",
      " 17  PropertyType        291451 non-null  object \n",
      " 18  PostalCode          291451 non-null  object \n",
      " 19  LoanSeqNum          291451 non-null  object \n",
      " 20  LoanPurpose         291451 non-null  object \n",
      " 21  OrigLoanTerm        291451 non-null  int64  \n",
      " 22  NumBorrowers        291451 non-null  object \n",
      " 23  SellerName          266457 non-null  object \n",
      " 24  ServicerName        291451 non-null  object \n",
      " 25  EverDelinquent      291451 non-null  int64  \n",
      " 26  MonthsDelinquent    291451 non-null  int64  \n",
      " 27  MonthsInRepayment   291451 non-null  int64  \n",
      "dtypes: float64(1), int64(13), object(14)\n",
      "memory usage: 62.3+ MB\n"
     ]
    }
   ],
   "source": [
    "# looking for more infos about the dataset\n",
    "data.info()"
   ]
  },
  {
   "cell_type": "markdown",
   "id": "b31f3502",
   "metadata": {},
   "source": [
    "# 1. Data Cleaning"
   ]
  },
  {
   "cell_type": "markdown",
   "id": "394a3431",
   "metadata": {},
   "source": [
    "## 1.1. Parsing Dates"
   ]
  },
  {
   "cell_type": "markdown",
   "id": "03fca43e",
   "metadata": {},
   "source": [
    "###  - FirstPaymentDate : \n",
    "The month and year that the first scheduled payment on the loan is due."
   ]
  },
  {
   "cell_type": "code",
   "execution_count": 9,
   "id": "4698882a",
   "metadata": {
    "execution": {
     "iopub.execute_input": "2023-08-14T16:08:26.120638Z",
     "iopub.status.busy": "2023-08-14T16:08:26.120175Z",
     "iopub.status.idle": "2023-08-14T16:08:26.131505Z",
     "shell.execute_reply": "2023-08-14T16:08:26.130054Z",
     "shell.execute_reply.started": "2023-08-14T16:08:26.120595Z"
    }
   },
   "outputs": [
    {
     "data": {
      "text/plain": [
       "291446    199903\n",
       "291447    200210\n",
       "291448    200304\n",
       "291449    199904\n",
       "291450    199903\n",
       "Name: FirstPaymentDate, dtype: int64"
      ]
     },
     "execution_count": 9,
     "metadata": {},
     "output_type": "execute_result"
    }
   ],
   "source": [
    "data.FirstPaymentDate.tail()"
   ]
  },
  {
   "cell_type": "markdown",
   "id": "5ac6f60c",
   "metadata": {},
   "source": [
    "These values are dates but Python doesn't know that they're dates because the dtype is 'int64'."
   ]
  },
  {
   "cell_type": "code",
   "execution_count": 10,
   "id": "f6395d92",
   "metadata": {
    "execution": {
     "iopub.execute_input": "2023-08-14T16:08:26.133699Z",
     "iopub.status.busy": "2023-08-14T16:08:26.133343Z",
     "iopub.status.idle": "2023-08-14T16:08:26.144827Z",
     "shell.execute_reply": "2023-08-14T16:08:26.143786Z",
     "shell.execute_reply.started": "2023-08-14T16:08:26.133669Z"
    }
   },
   "outputs": [
    {
     "data": {
      "text/plain": [
       "dtype('int64')"
      ]
     },
     "execution_count": 10,
     "metadata": {},
     "output_type": "execute_result"
    }
   ],
   "source": [
    "data['FirstPaymentDate'].dtype"
   ]
  },
  {
   "cell_type": "code",
   "execution_count": 11,
   "id": "07581f5a",
   "metadata": {
    "execution": {
     "iopub.execute_input": "2023-08-14T16:08:26.146871Z",
     "iopub.status.busy": "2023-08-14T16:08:26.146521Z",
     "iopub.status.idle": "2023-08-14T16:08:26.529270Z",
     "shell.execute_reply": "2023-08-14T16:08:26.528096Z",
     "shell.execute_reply.started": "2023-08-14T16:08:26.146841Z"
    }
   },
   "outputs": [
    {
     "data": {
      "text/plain": [
       "291446    1999-03\n",
       "291447    2002-10\n",
       "291448    2003-04\n",
       "291449    1999-04\n",
       "291450    1999-03\n",
       "Name: FirstPaymentDate, dtype: object"
      ]
     },
     "execution_count": 11,
     "metadata": {},
     "output_type": "execute_result"
    }
   ],
   "source": [
    "# let's first separate year from month\n",
    "data['FirstPaymentDate'] = data['FirstPaymentDate'].apply(lambda x: str(x)[:4] + '-' + str(x)[4:]) #.astype('str')\n",
    "data['FirstPaymentDate'].tail()"
   ]
  },
  {
   "cell_type": "markdown",
   "id": "91d8b00b",
   "metadata": {},
   "source": [
    "Then let's convert this object column to datetime. This is called \"Parsing Dates\", i.e., we're taking in a string and identifying its components parts. The format of dates are determined with a guide called \"strftime\". The most common parts of date are : \n",
    "- %d for day, \n",
    "- %m for month,\n",
    "- %y for two-digit year,\n",
    "- %Y for 4 digit year."
   ]
  },
  {
   "cell_type": "code",
   "execution_count": 12,
   "id": "092f0434",
   "metadata": {
    "execution": {
     "iopub.execute_input": "2023-08-14T16:08:26.532288Z",
     "iopub.status.busy": "2023-08-14T16:08:26.531938Z",
     "iopub.status.idle": "2023-08-14T16:08:26.607634Z",
     "shell.execute_reply": "2023-08-14T16:08:26.606733Z",
     "shell.execute_reply.started": "2023-08-14T16:08:26.532258Z"
    }
   },
   "outputs": [
    {
     "data": {
      "text/plain": [
       "291446   1999-03-01\n",
       "291447   2002-10-01\n",
       "291448   2003-04-01\n",
       "291449   1999-04-01\n",
       "291450   1999-03-01\n",
       "Name: Parsed_FirstPaymentDate, dtype: datetime64[ns]"
      ]
     },
     "execution_count": 12,
     "metadata": {},
     "output_type": "execute_result"
    }
   ],
   "source": [
    "# create new colum for parsed date\n",
    "data['Parsed_FirstPaymentDate'] = pd.to_datetime(data['FirstPaymentDate'], format=\"%Y-%m\")\n",
    "data['Parsed_FirstPaymentDate'].tail()"
   ]
  },
  {
   "cell_type": "markdown",
   "id": "296dd4de",
   "metadata": {},
   "source": [
    "Now we can see that the column dtype is datetime64[ns] :)"
   ]
  },
  {
   "cell_type": "markdown",
   "id": "618f0250",
   "metadata": {},
   "source": [
    "### - MaturityDate: \n",
    "The month and year that the final scheduled payment on the loan is due.  \n",
    "**We'll apply same process of date parsing as above for the 'FirstPaymentDate' column.**\n"
   ]
  },
  {
   "cell_type": "code",
   "execution_count": 13,
   "id": "f07a2f6f",
   "metadata": {
    "execution": {
     "iopub.execute_input": "2023-08-14T16:08:26.986217Z",
     "iopub.status.busy": "2023-08-14T16:08:26.985802Z",
     "iopub.status.idle": "2023-08-14T16:08:27.341403Z",
     "shell.execute_reply": "2023-08-14T16:08:27.340286Z",
     "shell.execute_reply.started": "2023-08-14T16:08:26.986183Z"
    }
   },
   "outputs": [
    {
     "data": {
      "text/plain": [
       "291446    2029-02\n",
       "291447    2029-04\n",
       "291448    2029-04\n",
       "291449    2029-03\n",
       "291450    2029-02\n",
       "Name: MaturityDate, dtype: object"
      ]
     },
     "execution_count": 13,
     "metadata": {},
     "output_type": "execute_result"
    }
   ],
   "source": [
    "# let's first separate year from month\n",
    "data['MaturityDate'] = data['MaturityDate'].apply(lambda x: str(x)[:4] + '-' + str(x)[4:]) #.astype('str')\n",
    "data['MaturityDate'].tail()"
   ]
  },
  {
   "cell_type": "code",
   "execution_count": 14,
   "id": "9ef4a659",
   "metadata": {
    "execution": {
     "iopub.execute_input": "2023-08-14T16:08:27.351386Z",
     "iopub.status.busy": "2023-08-14T16:08:27.350963Z",
     "iopub.status.idle": "2023-08-14T16:08:27.432147Z",
     "shell.execute_reply": "2023-08-14T16:08:27.430995Z",
     "shell.execute_reply.started": "2023-08-14T16:08:27.351340Z"
    }
   },
   "outputs": [
    {
     "data": {
      "text/plain": [
       "291446   2029-02-01\n",
       "291447   2029-04-01\n",
       "291448   2029-04-01\n",
       "291449   2029-03-01\n",
       "291450   2029-02-01\n",
       "Name: Parsed_MaturityDate, dtype: datetime64[ns]"
      ]
     },
     "execution_count": 14,
     "metadata": {},
     "output_type": "execute_result"
    }
   ],
   "source": [
    "# create new colum for parsed date\n",
    "data['Parsed_MaturityDate'] = pd.to_datetime(data['MaturityDate'], format=\"%Y-%m\")\n",
    "data['Parsed_MaturityDate'].tail()"
   ]
  },
  {
   "cell_type": "markdown",
   "id": "d54e9198",
   "metadata": {},
   "source": [
    "## 1.2. Missing values treatment"
   ]
  },
  {
   "cell_type": "code",
   "execution_count": 15,
   "id": "48692357",
   "metadata": {
    "execution": {
     "iopub.execute_input": "2023-08-14T16:08:24.705332Z",
     "iopub.status.busy": "2023-08-14T16:08:24.704928Z",
     "iopub.status.idle": "2023-08-14T16:08:26.026986Z",
     "shell.execute_reply": "2023-08-14T16:08:26.025776Z",
     "shell.execute_reply.started": "2023-08-14T16:08:24.705302Z"
    }
   },
   "outputs": [
    {
     "data": {
      "text/plain": [
       "SellerName                 24994\n",
       "CreditScore                    0\n",
       "FirstPaymentDate               0\n",
       "Parsed_FirstPaymentDate        0\n",
       "MonthsInRepayment              0\n",
       "MonthsDelinquent               0\n",
       "EverDelinquent                 0\n",
       "ServicerName                   0\n",
       "NumBorrowers                   0\n",
       "OrigLoanTerm                   0\n",
       "LoanPurpose                    0\n",
       "LoanSeqNum                     0\n",
       "PostalCode                     0\n",
       "PropertyType                   0\n",
       "PropertyState                  0\n",
       "ProductType                    0\n",
       "PPM                            0\n",
       "Channel                        0\n",
       "OrigInterestRate               0\n",
       "LTV                            0\n",
       "OrigUPB                        0\n",
       "DTI                            0\n",
       "OCLTV                          0\n",
       "Occupancy                      0\n",
       "Units                          0\n",
       "MIP                            0\n",
       "MSA                            0\n",
       "MaturityDate                   0\n",
       "FirstTimeHomebuyer             0\n",
       "Parsed_MaturityDate            0\n",
       "dtype: int64"
      ]
     },
     "execution_count": 15,
     "metadata": {},
     "output_type": "execute_result"
    }
   ],
   "source": [
    "# missing values in descending order\n",
    "data.isnull().sum().sort_values(ascending=False)"
   ]
  },
  {
   "cell_type": "markdown",
   "id": "b6ed414f",
   "metadata": {},
   "source": [
    "We see that according to the isnull() function, only \"SellerName\" has missing values.  \n",
    "\n",
    "However after reading carefully the variable description it seems that others columns have missing values. Indeed some columns values are marked as \"Not Available\" or 999. \n",
    "We can also observe that some columns have \"X\" values and are in object form as well as some columns should be of an integer type but are of an object type. Now let us detect which columns have these \"X\" values and if there are any other symbols too."
   ]
  },
  {
   "cell_type": "code",
   "execution_count": 16,
   "id": "26950021",
   "metadata": {},
   "outputs": [
    {
     "name": "stdout",
     "output_type": "stream",
     "text": [
      "CreditScore : [  0 335 342 363 366 370 375 391 396 445 462 466 471 476 477 478 479 481\n",
      " 482 483 485 486 487 489 490 491 492 493 494 495 496 497 498 499 500 501\n",
      " 502 503 504 505 506 507 508 509 510 511 512 513 514 515 516 517 518 519\n",
      " 520 521 522 523 524 525 526 527 528 529 530 531 532 533 534 535 536 537\n",
      " 538 539 540 541 542 543 544 545 546 547 548 549 550 551 552 553 554 555\n",
      " 556 557 558 559 560 561 562 563 564 565 566 567 568 569 570 571 572 573\n",
      " 574 575 576 577 578 579 580 581 582 583 584 585 586 587 588 589 590 591\n",
      " 592 593 594 595 596 597 598 599 600 601 602 603 604 605 606 607 608 609\n",
      " 610 611 612 613 614 615 616 617 618 619 620 621 622 623 624 625 626 627\n",
      " 628 629 630 631 632 633 634 635 636 637 638 639 640 641 642 643 644 645\n",
      " 646 647 648 649 650 651 652 653 654 655 656 657 658 659 660 661 662 663\n",
      " 664 665 666 667 668 669 670 671 672 673 674 675 676 677 678 679 680 681\n",
      " 682 683 684 685 686 687 688 689 690 691 692 693 694 695 696 697 698 699\n",
      " 700 701 702 703 704 705 706 707 708 709 710 711 712 713 714 715 716 717\n",
      " 718 719 720 721 722 723 724 725 726 727 728 729 730 731 732 733 734 735\n",
      " 736 737 738 739 740 741 742 743 744 745 746 747 748 749 750 751 752 753\n",
      " 754 755 756 757 758 759 760 761 762 763 764 765 766 767 768 769 770 771\n",
      " 772 773 774 775 776 777 778 779 780 781 782 783 784 785 786 787 788 789\n",
      " 790 791 792 793 794 795 796 797 798 799 800 801 802 803 804 805 806 807\n",
      " 808 809 810 811 812 813 814 815 816 817 818 819 820 822 823 825 826 827\n",
      " 828 829 831 835 837 838 839 840 845 849]\n",
      "\n",
      "----------------------------------------------------------------------------------------------------\n",
      "\n",
      "\n",
      "FirstPaymentDate : ['1999-02' '1999-03' '1999-04' '1999-05' '1999-06' '1999-07' '1999-08'\n",
      " '1999-09' '1999-10' '1999-11' '1999-12' '2000-01' '2000-04' '2000-05'\n",
      " '2000-06' '2001-05' '2000-09' '2002-04' '2003-03' '2002-12' '2000-07'\n",
      " '2000-03' '2002-06' '2000-02' '2000-08' '2001-06' '2000-11' '2001-03'\n",
      " '2002-02' '2001-01' '2003-04' '2000-10' '2001-12' '2001-02' '2003-08'\n",
      " '2001-07' '2002-10' '2001-04' '2001-10' '2001-08' '2003-09' '2003-05'\n",
      " '2002-01' '2001-09' '2001-11' '2003-12' '2004-05' '2002-09' '1999-01'\n",
      " '2003-01' '2002-08' '2000-12' '2002-03' '2003-06' '2003-07' '2003-02'\n",
      " '2002-05' '2002-07' '2002-11' '2004-01' '2011-11' '2013-03' '2003-10'\n",
      " '2003-11' '2004-03' '2004-04']\n",
      "\n",
      "----------------------------------------------------------------------------------------------------\n",
      "\n",
      "\n",
      "FirstTimeHomebuyer : ['N' 'X' 'Y']\n",
      "\n",
      "----------------------------------------------------------------------------------------------------\n",
      "\n",
      "\n",
      "MaturityDate : ['2029-01' '2027-10' '2029-02' '2024-09' '2027-02' '2029-03' '2026-02'\n",
      " '2026-07' '2029-04' '2026-09' '2029-05' '2029-06' '2029-07' '2029-08'\n",
      " '2029-09' '2029-10' '2029-11' '2029-12' '2030-03' '2030-04' '2028-04'\n",
      " '2030-08' '2026-11' '2028-03' '2027-04' '2025-08' '2030-06' '2030-02'\n",
      " '2025-09' '2027-03' '2025-07' '2025-11' '2027-06' '2025-02' '2027-05'\n",
      " '2026-12' '2027-01' '2025-04' '2030-01' '2026-10' '2026-01' '2026-06'\n",
      " '2026-08' '2030-10' '2027-12' '2028-09' '2027-08' '2025-10' '2025-03'\n",
      " '2028-08' '2027-09' '2027-07' '2028-06' '2028-02' '2026-05' '2028-11'\n",
      " '2026-04' '2024-10' '2031-01' '2028-05' '2030-12' '2030-05' '2024-05'\n",
      " '2028-10' '2033-08' '2030-09' '2024-06' '2030-07' '2026-03' '2028-07'\n",
      " '2028-12' '2025-06' '2025-01' '2027-11' '2032-11' '2031-11' '2025-12'\n",
      " '2031-06' '2024-02' '2031-05' '2024-11' '2028-01' '2033-12' '2025-05'\n",
      " '2024-08' '2031-04' '2041-11' '2024-07' '2043-02' '2032-12' '2030-11'\n",
      " '2024-03' '2033-04' '2024-04' '2032-10' '2032-02']\n",
      "\n",
      "----------------------------------------------------------------------------------------------------\n",
      "\n",
      "\n",
      "MSA : ['16974' '19740' '29940' '31084' '35644' 'X    ' '36740' '25540' '48620'\n",
      " '12060' '12420' '13140' '13644' '15764' '16700' '16940' '17900' '19124'\n",
      " '20500' '20764' '21340' '22380' '22744' '23060' '23104' '24660' '24860'\n",
      " '25060' '26900' '27060' '27140' '27260' '28420' '29404' '30780' '31340'\n",
      " '33124' '33340' '33460' '34820' '35004' '35084' '35380' '37100' '38060'\n",
      " '38300' '38900' '39300' '39340' '39820' '40060' '40140' '40900' '41180'\n",
      " '41620' '41700' '41740' '41884' '42044' '42220' '42644' '43900' '46060'\n",
      " '46700' '47644' '47894' '49180' '49420' '11340' '12100' '14500' '17820'\n",
      " '17860' '19340' '19804' '28140' '29740' '36084' '36500' '37460' '42060'\n",
      " '47260' '48424' '12580' '14484' '14860' '19380' '26420' '29420' '29620'\n",
      " '36540' '37764' '37860' '37964' '38940' '40380' '45300' '19660' '11300'\n",
      " '11460' '12220' '12940' '13820' '13980' '14740' '15540' '16740' '17140'\n",
      " '17460' '17780' '22220' '23420' '23844' '24340' '24780' '26180' '27620'\n",
      " '31420' '31540' '34980' '35300' '39100' '39580' '39900' '40420' '41940'\n",
      " '41980' '42020' '45940' '47300' '48300' '49340' '34100' '35840' '36980'\n",
      " '39140' '43620' '15804' '15940' '29820' '32820' '38860' '40484' '41060'\n",
      " '44140' '45500' '12540' '10740' '10900' '11540' '12260' '12980' '14260'\n",
      " '16180' '16300' '18140' '21140' '22500' '23580' '25260' '26300' '29460'\n",
      " '31140' '31900' '32780' '32900' '33260' '33540' '33700' '34940' '36420'\n",
      " '37340' '37900' '39740' '41500' '42100' '43340' '44700' '45104' '49020'\n",
      " '10420' '10580' '16860' '17980' '22660' '28020' '31020' '35980' '11700'\n",
      " '17660' '19500' '20020' '36780' '36100' '42680' '45220' '48900' '22420'\n",
      " '33860' '28100' '40660' '26820' '49660' '40580' '14060' '24300' '44600'\n",
      " '15980' '23540' '12700' '36260' '30460' '38540' '26620' '45780' '47380'\n",
      " '24580' '18880' '15500' '25420' '41420' '44060' '19140' '39540' '19780'\n",
      " '40340' '34900' '48864' '15380' '20260' '25860' '29140' '42340' '21780'\n",
      " '34740' '33780' '35660' '26580' '24540' '41100' '29540' '21660' '27500'\n",
      " '43780' '30860' '28940' '46140' '44100' '22180' '45460' '42540' '33660'\n",
      " '49740' '15260' '45060' '13900' '43300' '24140' '31700' '19260' '31180'\n",
      " '32580' '18020' '18700' '12020' '27900' '19460' '47220' '27340' '37380'\n",
      " '11180' '44180' '39460' '26100' '29020' '40980' '47580' '27180' '15180'\n",
      " '20740' '46660' '13740' '13460' '20940' '21300' '43580' '49620' '19180'\n",
      " '27740' '30340' '39380' '48140' '49700' '47940' '43100' '27100' '16620'\n",
      " '27860' '30620' '20100' '41780' '31860' '17020' '34580' '10500' '18580'\n",
      " '34620' '17300' '47020' '44940' '30980' '25180' '38220' '13380' '22540'\n",
      " '38340' '22900' '44220' '42140' '22140' '22020' '13020' '30700' '25500'\n",
      " '14540' '22520' '10180' '40220' '46340' '14020' '45820' '16580' '11260'\n",
      " '28700' '21060' '46220' '20220' '29180' '34060' '39660' '11100' '36140'\n",
      " '29100' '16820' '10780' '30140' '26380' '30300' '21820' '28740' '16020'\n",
      " '48660' '12620' '27780' '46540' '25620' '33740' '11020' '24500' '48540'\n",
      " '29700' '21500' '25020' '24220' '31460' '23460' '37700' '41540' '33140'\n",
      " '41660' '30020' '13780' '28660' '16220' '41900' '41140' '37620' '48700'\n",
      " '44300' '24020' '17420' '31740' '29340' '19060' '11500' '26980' '25980'\n",
      " '36220' '10380' '49500' '21940' '32420']\n",
      "\n",
      "----------------------------------------------------------------------------------------------------\n",
      "\n",
      "\n",
      "MIP : [25  0 30 12 35 29 17 18 20 22  6 14 33 16 52 36 28 11 45 15 27 10 32  9\n",
      " 50 47  7 24 37 26  1 13 21 19 23 55  4]\n",
      "\n",
      "----------------------------------------------------------------------------------------------------\n",
      "\n",
      "\n",
      "Units : [1 2 4 3 0]\n",
      "\n",
      "----------------------------------------------------------------------------------------------------\n",
      "\n",
      "\n",
      "Occupancy : ['O' 'I' 'S']\n",
      "\n",
      "----------------------------------------------------------------------------------------------------\n",
      "\n",
      "\n",
      "OCLTV : [ 89  73  75  76  78  90  72  95  80  77  85  93  70  74  79  62  44  32\n",
      "  64  91  53  69  60  54  52  84  68  36  55  96  97  46  58  63  83  87\n",
      "  94  86  50  45  71  61  42  59  57  48  51  67  81  66  82  88  26  30\n",
      "  24  34  37  65  31 100   7  38  39  16  41  33  18  22  35  92  40  56\n",
      "  29  43  28  47  49  25  98  27 103  13  10  23  20  15  21 102 101  14\n",
      "  17 105  19   8   0  99 104 110  12   6  11   9]\n",
      "\n",
      "----------------------------------------------------------------------------------------------------\n",
      "\n",
      "\n",
      "DTI : [27 17 16 14 18 40 21 20 38 19 23 45 28 29 15 43 25 24 26 35 46 39 33 48\n",
      " 30 31 22 56 32 12  6 37 36 42 34 11 41  8 44 55  0 13 53 10  9 51  7 47\n",
      " 65 54  2 57  5  3  4 50 59 49 52 64 60 58 62  1 61 63]\n",
      "\n",
      "----------------------------------------------------------------------------------------------------\n",
      "\n",
      "\n",
      "OrigUPB : [117000 109000  88000 160000 207000 111000  97000  55000  35000 126000\n",
      " 200000  70000  93000  79000  54000  80000 231000 145000 187000 148000\n",
      "  90000  65000  86000 122000 157000  94000  63000  50000 100000 191000\n",
      " 204000 222000 189000  57000 202000 137000  56000 140000  18000  76000\n",
      "  77000 151000 118000 182000  98000  89000 172000  82000 240000 102000\n",
      " 173000  51000 169000 101000 152000 141000  47000 128000 133000 135000\n",
      " 115000 144000 146000 212000 176000 214000 190000 227000  99000  83000\n",
      "  49000  29000 124000 132000 150000 300000  95000 149000 162000 226000\n",
      " 110000 112000 219000 236000  67000 195000 164000 198000  60000 194000\n",
      " 147000 104000  72000 183000 154000 179000  66000 210000  46000  96000\n",
      " 225000 156000  45000 235000 113000 139000  74000  68000  69000 238000\n",
      " 142000  73000  52000 143000  27000 217000 106000  64000  36000  39000\n",
      " 134000  38000 108000 120000 155000  71000  31000 234000  28000 136000\n",
      " 184000  48000  44000  42000 193000 119000 131000  26000 114000  81000\n",
      " 209000 248000 185000  61000  30000  41000  92000  62000 170000  87000\n",
      "  75000 174000 103000  59000 230000 105000 177000 130000  84000 138000\n",
      " 116000  23000 125000  34000  33000 171000 213000 127000 205000 123000\n",
      " 203000 291000 216000 158000 167000 153000  20000 220000 175000 211000\n",
      " 163000  43000  53000  32000 252000 161000 129000 215000  78000  40000\n",
      " 188000 239000 107000  58000  37000 181000 166000 228000 307000 197000\n",
      " 180000  91000 192000  85000 206000 165000 232000 208000 201000  13000\n",
      " 121000 196000 221000 304000 159000 229000 278000  24000 284000 243000\n",
      " 178000 251000 261000 313000  25000 262000 168000 186000 223000 323000\n",
      " 306000 282000 199000 237000 224000 250000 246000 260000 254000 247000\n",
      " 244000 274000 329000 242000 272000  21000 265000 233000 270000 264000\n",
      " 348000 276000 266000 218000 328000 245000 280000 256000 315000 263000\n",
      " 338000 351000 267000 285000 259000 258000 257000 327000  14000 400000\n",
      "  17000 332000  16000 277000 275000 298000 287000 319000  19000  15000\n",
      " 279000 390000  22000 299000 281000 296000 269000 249000 241000 325000\n",
      " 359000 297000 253000 347000 355000 288000 273000 271000 286000 302000\n",
      " 290000 371000 336000 293000 360000 255000  10000 303000 268000 316000\n",
      " 350000 292000 320000 312000 301000 352000 318000 289000 326000 305000\n",
      " 294000 345000 331000 283000 330000 311000 361000 308000 310000 295000\n",
      " 415000 333000 368000 428000  12000 309000 370000 423000 358000 340000\n",
      " 354000 461000 324000 399000 339000 364000 334000   9000 346000 363000\n",
      " 353000 497000 341000 442000 410000 455000 314000 344000 431000 317000\n",
      " 392000 413000 436000 322000 389000 398000 454000  11000 458000 416000\n",
      " 440000 402000   8000 387000 420000]\n",
      "\n",
      "----------------------------------------------------------------------------------------------------\n",
      "\n",
      "\n",
      "LTV : [ 89  73  75  76  78  90  72  95  80  77  85  93  70  74  79  62  44  32\n",
      "  64  91  53  69  60  54  52  84  68  36  55  96  97  46  58  63  83  87\n",
      "  94  86  50  45  71  61  42  59  57  48  51  67  81  66  82  88  26  30\n",
      "  24  34  37  65  31   7  38  39  16  41  33  18  22  35  92  40  56  29\n",
      "  43  28  47 100  49  25  98  27  13  10  23  20  15  21 103  14  17  19\n",
      "   8   0  99  12   6  11   9]\n",
      "\n",
      "----------------------------------------------------------------------------------------------------\n",
      "\n",
      "\n",
      "OrigInterestRate : [ 6.75   6.5    6.875  7.125  7.     7.25   6.625  7.75   7.2    7.5\n",
      "  7.625  7.875  6.25   8.125  7.15   7.375  6.375  8.75   7.1    8.5\n",
      "  7.05   6.95   8.     6.     8.625  8.375  6.125  5.75   5.875  8.25\n",
      "  7.18   5.125  5.25   8.99   5.625  9.     9.375  5.     9.125  6.99\n",
      "  5.375  8.365  8.875  8.825  6.975  7.3    7.313  9.625  9.5    9.25\n",
      "  7.85   8.695  4.875  7.775  7.29   7.405  9.75   7.13   5.99   6.999\n",
      "  7.055  7.09   6.785  7.08   7.025  7.7    7.58  10.5    7.55   7.445\n",
      "  9.875  6.9    6.85   6.925  8.37   7.095  7.19   8.85   7.456  7.675\n",
      "  9.675  7.475  8.04   7.4    7.22   7.17   8.7    7.301  8.9   10.\n",
      "  5.5    6.62   6.7    7.325 10.375  4.75   6.6    7.8    7.333 10.85\n",
      "  7.185  7.99   7.245 11.5    6.94   6.87   7.65   7.312  7.28   7.39\n",
      "  7.07   6.55   9.95   7.43   7.48   6.88   8.45   6.825  6.895  6.3\n",
      "  7.49   6.8    6.63   8.05   7.275  7.175  7.225  7.075  8.8    7.33\n",
      "  7.35   7.23   6.65   7.91   7.575  7.425  7.03   7.31  10.625  6.45\n",
      "  7.14   7.12   7.24   7.013  9.7    6.4    6.49   6.97   7.355  7.878\n",
      "  8.27   7.38   7.45   7.105  9.35  10.75   7.365  6.871  5.96   8.3\n",
      "  7.36   9.975  7.37   7.32  11.125  8.07   6.1    6.883  7.95   7.6\n",
      "  7.54  11.1    6.955  9.99   6.995  7.023  5.89   6.35   8.32   8.315\n",
      "  7.62   7.188  7.26   8.14   7.072  7.106  7.066  6.225  7.016  6.52\n",
      "  7.255  6.715  7.04   6.545  6.93   7.056  6.69   8.1    8.485 12.35\n",
      "  7.06   6.2    7.085  7.495  7.158  6.33   8.13   8.18   7.66   6.602\n",
      "  7.293  7.371  6.98   8.06   6.92   5.49   6.626  6.685  6.51   8.67\n",
      "  6.813  7.257  7.165  8.31   8.255  7.825  7.395  7.624  7.195  7.265\n",
      "  6.935  6.965  4.     6.54   6.948  7.64   7.02   6.74   6.96   6.957\n",
      "  7.063  7.415  7.21   6.15   6.79   7.399  7.47   7.059  7.305  7.925\n",
      "  7.93   7.154  6.09   5.8  ]\n",
      "\n",
      "----------------------------------------------------------------------------------------------------\n",
      "\n",
      "\n",
      "Channel : ['T' 'R' 'C' 'B']\n",
      "\n",
      "----------------------------------------------------------------------------------------------------\n",
      "\n",
      "\n",
      "PPM : ['N' 'X' 'Y']\n",
      "\n",
      "----------------------------------------------------------------------------------------------------\n",
      "\n",
      "\n",
      "ProductType : ['FRM  ']\n",
      "\n",
      "----------------------------------------------------------------------------------------------------\n",
      "\n",
      "\n",
      "PropertyState : ['IL' 'CO' 'KS' 'CA' 'NJ' 'WI' 'FL' 'CT' 'GA' 'TX' 'MD' 'MA' 'SC' 'WY'\n",
      " 'NC' 'AZ' 'IN' 'MS' 'NY' 'WA' 'AR' 'VA' 'MN' 'LA' 'PA' 'OR' 'RI' 'UT'\n",
      " 'MI' 'TN' 'AL' 'MO' 'IA' 'NM' 'NV' 'VT' 'OH' 'NE' 'HI' 'ID' 'PR' 'DC'\n",
      " 'GU' 'KY' 'NH' 'SD' 'ME' 'MT' 'OK' 'WV' 'DE' 'ND' 'AK']\n",
      "\n",
      "----------------------------------------------------------------------------------------------------\n",
      "\n",
      "\n",
      "PropertyType : ['SF' 'PU' 'CO' 'MH' 'CP' 'LH' 'X ']\n",
      "\n",
      "----------------------------------------------------------------------------------------------------\n",
      "\n",
      "\n",
      "PostalCode : ['60400' '80200' '66000' ... '33200' '84200' '41300']\n",
      "\n",
      "----------------------------------------------------------------------------------------------------\n",
      "\n",
      "\n"
     ]
    },
    {
     "name": "stdout",
     "output_type": "stream",
     "text": [
      "LoanSeqNum : ['F199Q1268030' 'F199Q1015092' 'F199Q1266886' ... 'F199Q1401282'\n",
      " 'F199Q1220924' 'F199Q1220923']\n",
      "\n",
      "----------------------------------------------------------------------------------------------------\n",
      "\n",
      "\n",
      "LoanPurpose : ['P' 'N' 'C']\n",
      "\n",
      "----------------------------------------------------------------------------------------------------\n",
      "\n",
      "\n",
      "OrigLoanTerm : [360 345 306 335 322 327 329 358 355 356 354 346 350 334 325 344 348 313\n",
      " 316 336 359 318 353 330 319 332 315 320 338 312 328 337 351 333 317 331\n",
      " 357 341 343 326 339 324 347 352 307 309 349 342 304 310 323 340 301 305\n",
      " 314 321 302 308 303 361 311]\n",
      "\n",
      "----------------------------------------------------------------------------------------------------\n",
      "\n",
      "\n",
      "NumBorrowers : ['2' '1' 'X ']\n",
      "\n",
      "----------------------------------------------------------------------------------------------------\n",
      "\n",
      "\n",
      "SellerName : ['FL' 'FT' 'GM' 'Ot' 'RE' 'NO' 'ST' 'CR' 'CH' 'FI' 'HO' 'PR' nan 'PN' 'WA'\n",
      " 'BA' 'G ' 'OL' 'AC' 'CO' 'BI']\n",
      "\n",
      "----------------------------------------------------------------------------------------------------\n",
      "\n",
      "\n",
      "ServicerName : ['WASHINGTONMUTUALBANK' 'CHASEHOMEFINANCELLC ' 'GMACMTGECORP        '\n",
      " 'Other servicers     ' 'WELLSFARGOBANKNA   ' 'ABNAMROMTGEGROUPINC'\n",
      " 'BANKOFAMERICANA    ' 'CHASEMANHATTANMTGECO' 'HOMESIDELENDINGINC '\n",
      " 'CHASEMTGECO         ' 'WELLSFARGOHOMEMORTGA' 'PRINCIPALRESIDENTIAL'\n",
      " 'CITIMORTGAGEINC    ' 'JPMORGANCHASEBANKNA' 'BAMORTGAGELLC      '\n",
      " 'NATLCITYMTGECO      ' 'FTMTGESERVICESINC  ' 'SUNTRUSTMORTGAGEINC'\n",
      " 'COUNTRYWIDE         ' 'FIFTHTHIRDBANK      ']\n",
      "\n",
      "----------------------------------------------------------------------------------------------------\n",
      "\n",
      "\n",
      "EverDelinquent : [0 1]\n",
      "\n",
      "----------------------------------------------------------------------------------------------------\n",
      "\n",
      "\n",
      "MonthsDelinquent : [  0   3 104   5  23  32   1   2   4  20  10  34  35   6  11 153   7  15\n",
      "   8  18  78  24  14  28  13  95  17  25   9  66  36  19  27  49  50  26\n",
      "  29  12  16  21  22 118  30  69 158  62  43  38  64  71  76  74  92  41\n",
      "  91  83 130  70 102  33  31  84  85  65  52  47  46  68  45  37 120  61\n",
      "  39  56 129  60  48  55 172  54  40 136 151 124 100 105  51  99 107  73\n",
      "  57 170 117  86  94  63  75 149 106 112 110  77 122 135 180  58  53 116\n",
      "  59  42 163 111 141 169  44  82  79  72 121 134  81  89 150 113 109 146\n",
      "  80 133  97 103 168  67 101 145 139  87  93 140 115 147  96 127  98 132\n",
      " 108 126 138  88 156 119 165  90 114 157 144 160 123 148 143 137 152 175\n",
      " 131 154 162 179 128 178 125 155 159 142 161 171]\n",
      "\n",
      "----------------------------------------------------------------------------------------------------\n",
      "\n",
      "\n",
      "MonthsInRepayment : [ 52 144  67  35  54  42  44 145  64 212  37  47  53  55  66  26  38  36\n",
      "  39  40  11 176  46 197 210  56 118  63  24  28  91  50  22 211 199  23\n",
      "  30 125  41  76  49  18  19  43  60  83  95  29  45  13   6  48  62  14\n",
      "  15 111  51  17  75  58  27  10  31 133 165 156  33  68 205  57 159  81\n",
      " 191 194 114  59 100 134  74   9  34  77 170 122  69  72 206 148 153 101\n",
      " 180   8  32   5 207   7 128  71  65  79 174 195 151 149  21  12 137 130\n",
      "  70 173 166  61 160  20 178   3 147   2 164 139 108  92 209 102  87  94\n",
      "  73 123  16 142   1 172 109 141 175 103 168 155 177 158 138  25 110  98\n",
      "  84 208 188 106 112 121 136 179   4 154 161 157 150  80 183  93 143 162\n",
      " 126  89 184  82 117 107 193  85 124 192  78 169 104 131 140 163 182 132\n",
      " 135  86 129 186 127 189 190 198 202 167 146  90 119  99 201 120  96 116\n",
      " 105 171  88 113 181 204  97 203 185 196 115 152 200 187]\n",
      "\n",
      "----------------------------------------------------------------------------------------------------\n",
      "\n",
      "\n",
      "Parsed_FirstPaymentDate : ['1999-02-01T00:00:00.000000000' '1999-03-01T00:00:00.000000000'\n",
      " '1999-04-01T00:00:00.000000000' '1999-05-01T00:00:00.000000000'\n",
      " '1999-06-01T00:00:00.000000000' '1999-07-01T00:00:00.000000000'\n",
      " '1999-08-01T00:00:00.000000000' '1999-09-01T00:00:00.000000000'\n",
      " '1999-10-01T00:00:00.000000000' '1999-11-01T00:00:00.000000000'\n",
      " '1999-12-01T00:00:00.000000000' '2000-01-01T00:00:00.000000000'\n",
      " '2000-04-01T00:00:00.000000000' '2000-05-01T00:00:00.000000000'\n",
      " '2000-06-01T00:00:00.000000000' '2001-05-01T00:00:00.000000000'\n",
      " '2000-09-01T00:00:00.000000000' '2002-04-01T00:00:00.000000000'\n",
      " '2003-03-01T00:00:00.000000000' '2002-12-01T00:00:00.000000000'\n",
      " '2000-07-01T00:00:00.000000000' '2000-03-01T00:00:00.000000000'\n",
      " '2002-06-01T00:00:00.000000000' '2000-02-01T00:00:00.000000000'\n",
      " '2000-08-01T00:00:00.000000000' '2001-06-01T00:00:00.000000000'\n",
      " '2000-11-01T00:00:00.000000000' '2001-03-01T00:00:00.000000000'\n",
      " '2002-02-01T00:00:00.000000000' '2001-01-01T00:00:00.000000000'\n",
      " '2003-04-01T00:00:00.000000000' '2000-10-01T00:00:00.000000000'\n",
      " '2001-12-01T00:00:00.000000000' '2001-02-01T00:00:00.000000000'\n",
      " '2003-08-01T00:00:00.000000000' '2001-07-01T00:00:00.000000000'\n",
      " '2002-10-01T00:00:00.000000000' '2001-04-01T00:00:00.000000000'\n",
      " '2001-10-01T00:00:00.000000000' '2001-08-01T00:00:00.000000000'\n",
      " '2003-09-01T00:00:00.000000000' '2003-05-01T00:00:00.000000000'\n",
      " '2002-01-01T00:00:00.000000000' '2001-09-01T00:00:00.000000000'\n",
      " '2001-11-01T00:00:00.000000000' '2003-12-01T00:00:00.000000000'\n",
      " '2004-05-01T00:00:00.000000000' '2002-09-01T00:00:00.000000000'\n",
      " '1999-01-01T00:00:00.000000000' '2003-01-01T00:00:00.000000000'\n",
      " '2002-08-01T00:00:00.000000000' '2000-12-01T00:00:00.000000000'\n",
      " '2002-03-01T00:00:00.000000000' '2003-06-01T00:00:00.000000000'\n",
      " '2003-07-01T00:00:00.000000000' '2003-02-01T00:00:00.000000000'\n",
      " '2002-05-01T00:00:00.000000000' '2002-07-01T00:00:00.000000000'\n",
      " '2002-11-01T00:00:00.000000000' '2004-01-01T00:00:00.000000000'\n",
      " '2011-11-01T00:00:00.000000000' '2013-03-01T00:00:00.000000000'\n",
      " '2003-10-01T00:00:00.000000000' '2003-11-01T00:00:00.000000000'\n",
      " '2004-03-01T00:00:00.000000000' '2004-04-01T00:00:00.000000000']\n",
      "\n",
      "----------------------------------------------------------------------------------------------------\n",
      "\n",
      "\n",
      "Parsed_MaturityDate : ['2029-01-01T00:00:00.000000000' '2027-10-01T00:00:00.000000000'\n",
      " '2029-02-01T00:00:00.000000000' '2024-09-01T00:00:00.000000000'\n",
      " '2027-02-01T00:00:00.000000000' '2029-03-01T00:00:00.000000000'\n",
      " '2026-02-01T00:00:00.000000000' '2026-07-01T00:00:00.000000000'\n",
      " '2029-04-01T00:00:00.000000000' '2026-09-01T00:00:00.000000000'\n",
      " '2029-05-01T00:00:00.000000000' '2029-06-01T00:00:00.000000000'\n",
      " '2029-07-01T00:00:00.000000000' '2029-08-01T00:00:00.000000000'\n",
      " '2029-09-01T00:00:00.000000000' '2029-10-01T00:00:00.000000000'\n",
      " '2029-11-01T00:00:00.000000000' '2029-12-01T00:00:00.000000000'\n",
      " '2030-03-01T00:00:00.000000000' '2030-04-01T00:00:00.000000000'\n",
      " '2028-04-01T00:00:00.000000000' '2030-08-01T00:00:00.000000000'\n",
      " '2026-11-01T00:00:00.000000000' '2028-03-01T00:00:00.000000000'\n",
      " '2027-04-01T00:00:00.000000000' '2025-08-01T00:00:00.000000000'\n",
      " '2030-06-01T00:00:00.000000000' '2030-02-01T00:00:00.000000000'\n",
      " '2025-09-01T00:00:00.000000000' '2027-03-01T00:00:00.000000000'\n",
      " '2025-07-01T00:00:00.000000000' '2025-11-01T00:00:00.000000000'\n",
      " '2027-06-01T00:00:00.000000000' '2025-02-01T00:00:00.000000000'\n",
      " '2027-05-01T00:00:00.000000000' '2026-12-01T00:00:00.000000000'\n",
      " '2027-01-01T00:00:00.000000000' '2025-04-01T00:00:00.000000000'\n",
      " '2030-01-01T00:00:00.000000000' '2026-10-01T00:00:00.000000000'\n",
      " '2026-01-01T00:00:00.000000000' '2026-06-01T00:00:00.000000000'\n",
      " '2026-08-01T00:00:00.000000000' '2030-10-01T00:00:00.000000000'\n",
      " '2027-12-01T00:00:00.000000000' '2028-09-01T00:00:00.000000000'\n",
      " '2027-08-01T00:00:00.000000000' '2025-10-01T00:00:00.000000000'\n",
      " '2025-03-01T00:00:00.000000000' '2028-08-01T00:00:00.000000000'\n",
      " '2027-09-01T00:00:00.000000000' '2027-07-01T00:00:00.000000000'\n",
      " '2028-06-01T00:00:00.000000000' '2028-02-01T00:00:00.000000000'\n",
      " '2026-05-01T00:00:00.000000000' '2028-11-01T00:00:00.000000000'\n",
      " '2026-04-01T00:00:00.000000000' '2024-10-01T00:00:00.000000000'\n",
      " '2031-01-01T00:00:00.000000000' '2028-05-01T00:00:00.000000000'\n",
      " '2030-12-01T00:00:00.000000000' '2030-05-01T00:00:00.000000000'\n",
      " '2024-05-01T00:00:00.000000000' '2028-10-01T00:00:00.000000000'\n",
      " '2033-08-01T00:00:00.000000000' '2030-09-01T00:00:00.000000000'\n",
      " '2024-06-01T00:00:00.000000000' '2030-07-01T00:00:00.000000000'\n",
      " '2026-03-01T00:00:00.000000000' '2028-07-01T00:00:00.000000000'\n",
      " '2028-12-01T00:00:00.000000000' '2025-06-01T00:00:00.000000000'\n",
      " '2025-01-01T00:00:00.000000000' '2027-11-01T00:00:00.000000000'\n",
      " '2032-11-01T00:00:00.000000000' '2031-11-01T00:00:00.000000000'\n",
      " '2025-12-01T00:00:00.000000000' '2031-06-01T00:00:00.000000000'\n",
      " '2024-02-01T00:00:00.000000000' '2031-05-01T00:00:00.000000000'\n",
      " '2024-11-01T00:00:00.000000000' '2028-01-01T00:00:00.000000000'\n",
      " '2033-12-01T00:00:00.000000000' '2025-05-01T00:00:00.000000000'\n",
      " '2024-08-01T00:00:00.000000000' '2031-04-01T00:00:00.000000000'\n",
      " '2041-11-01T00:00:00.000000000' '2024-07-01T00:00:00.000000000'\n",
      " '2043-02-01T00:00:00.000000000' '2032-12-01T00:00:00.000000000'\n",
      " '2030-11-01T00:00:00.000000000' '2024-03-01T00:00:00.000000000'\n",
      " '2033-04-01T00:00:00.000000000' '2024-04-01T00:00:00.000000000'\n",
      " '2032-10-01T00:00:00.000000000' '2032-02-01T00:00:00.000000000']\n",
      "\n",
      "----------------------------------------------------------------------------------------------------\n",
      "\n",
      "\n"
     ]
    }
   ],
   "source": [
    "for col in data.columns:\n",
    "    print('{} : {}\\n'.format(col,data[col].unique()))\n",
    "    print('-'*100)\n",
    "    print('\\n')"
   ]
  },
  {
   "cell_type": "markdown",
   "id": "0c13a91c",
   "metadata": {},
   "source": [
    "### Summury of Missing Values Analysis"
   ]
  },
  {
   "cell_type": "code",
   "execution_count": 17,
   "id": "226b8307",
   "metadata": {
    "scrolled": true
   },
   "outputs": [
    {
     "data": {
      "text/html": [
       "<div>\n",
       "<style scoped>\n",
       "    .dataframe tbody tr th:only-of-type {\n",
       "        vertical-align: middle;\n",
       "    }\n",
       "\n",
       "    .dataframe tbody tr th {\n",
       "        vertical-align: top;\n",
       "    }\n",
       "\n",
       "    .dataframe thead th {\n",
       "        text-align: right;\n",
       "    }\n",
       "</style>\n",
       "<table border=\"1\" class=\"dataframe\">\n",
       "  <thead>\n",
       "    <tr style=\"text-align: right;\">\n",
       "      <th></th>\n",
       "      <th>is_Numeric</th>\n",
       "      <th>has_X_values?</th>\n",
       "      <th>Conditions</th>\n",
       "      <th>Column_Description</th>\n",
       "    </tr>\n",
       "  </thead>\n",
       "  <tbody>\n",
       "    <tr>\n",
       "      <th>CreditScore</th>\n",
       "      <td>True</td>\n",
       "      <td>False</td>\n",
       "      <td>Scores &lt;300 or &gt;850 are “Not Available”</td>\n",
       "      <td>The standardized credit score used to evaluate the borrower during the loan origination process.</td>\n",
       "    </tr>\n",
       "    <tr>\n",
       "      <th>FirstTimeHomebuyer</th>\n",
       "      <td>False</td>\n",
       "      <td>True</td>\n",
       "      <td>9 = Not Available</td>\n",
       "      <td>The indicator denoting whether a borrower on the loan qualifies as a first-time homebuyer.</td>\n",
       "    </tr>\n",
       "    <tr>\n",
       "      <th>MSA</th>\n",
       "      <td>False</td>\n",
       "      <td>True</td>\n",
       "      <td>None</td>\n",
       "      <td>Mortgage Security Amount</td>\n",
       "    </tr>\n",
       "    <tr>\n",
       "      <th>MIP</th>\n",
       "      <td>True</td>\n",
       "      <td>False</td>\n",
       "      <td>MIP values &gt; 55% will be disclosed as “Not Available”. 000= No MI; 999= Not Available</td>\n",
       "      <td>The percentage of mortgage insurance coverage obtained at origination in effect at the time the security was issued.</td>\n",
       "    </tr>\n",
       "    <tr>\n",
       "      <th>Units</th>\n",
       "      <td>True</td>\n",
       "      <td>False</td>\n",
       "      <td>99 = Not Available</td>\n",
       "      <td>The number of dwelling units in the mortgaged property at the time the loan was originated: 1, 2, 3 or 4.</td>\n",
       "    </tr>\n",
       "    <tr>\n",
       "      <th>Occupancy</th>\n",
       "      <td>False</td>\n",
       "      <td>False</td>\n",
       "      <td>None</td>\n",
       "      <td>The classification describing the property occupancy status at the time the loan was originated.</td>\n",
       "    </tr>\n",
       "    <tr>\n",
       "      <th>OCLTV</th>\n",
       "      <td>True</td>\n",
       "      <td>False</td>\n",
       "      <td>99 = Not Available</td>\n",
       "      <td>The ratio, expressed as a percentage, obtained by dividing the amount of all known outstanding loans at origination by the value of the property.</td>\n",
       "    </tr>\n",
       "    <tr>\n",
       "      <th>DTI</th>\n",
       "      <td>True</td>\n",
       "      <td>False</td>\n",
       "      <td>Percentages &lt; 1% or &gt; 65% will be disclosed as “Not Available,”</td>\n",
       "      <td>The ratio obtained by dividing the total monthly debt expense by the total monthly income of the borrower at the time the loan was originated or modified.</td>\n",
       "    </tr>\n",
       "    <tr>\n",
       "      <th>LTV</th>\n",
       "      <td>True</td>\n",
       "      <td>False</td>\n",
       "      <td>Percentages &lt; 1% or &gt; than 998% will be disclosed as “Not Available,”. 999 = Not Available.</td>\n",
       "      <td>The ratio, expressed as a percentage, obtained by dividing the amount of the loan at origination by the value of the property.</td>\n",
       "    </tr>\n",
       "    <tr>\n",
       "      <th>OrigInterestRate</th>\n",
       "      <td>True</td>\n",
       "      <td>False</td>\n",
       "      <td>If value &lt;0 or &gt;25, then the rate is considered not available</td>\n",
       "      <td>The interest rate of the loan as stated on the note at the time the loan was originated.</td>\n",
       "    </tr>\n",
       "    <tr>\n",
       "      <th>Channel</th>\n",
       "      <td>False</td>\n",
       "      <td>False</td>\n",
       "      <td>9 = Not Available</td>\n",
       "      <td>The origination channel used by the party that delivered the loan to the issuer.</td>\n",
       "    </tr>\n",
       "    <tr>\n",
       "      <th>PPM</th>\n",
       "      <td>False</td>\n",
       "      <td>True</td>\n",
       "      <td>9 = Not Available</td>\n",
       "      <td>The indicator denoting whether the borrower is subject to a penalty for early payment of principal.</td>\n",
       "    </tr>\n",
       "    <tr>\n",
       "      <th>PropertyType</th>\n",
       "      <td>False</td>\n",
       "      <td>True</td>\n",
       "      <td>None</td>\n",
       "      <td>The classification describing the type of property that secures the loan.</td>\n",
       "    </tr>\n",
       "    <tr>\n",
       "      <th>PostalCode</th>\n",
       "      <td>False</td>\n",
       "      <td>True</td>\n",
       "      <td>None</td>\n",
       "      <td>-</td>\n",
       "    </tr>\n",
       "    <tr>\n",
       "      <th>NumBorrowers</th>\n",
       "      <td>False</td>\n",
       "      <td>True</td>\n",
       "      <td>99 = Not Available</td>\n",
       "      <td>The number of borrowers who, at the time the loan was originated, are obligated to repay the loan: 1, 2, 3, 4, 5, 6, 7, 8, 9, 10.</td>\n",
       "    </tr>\n",
       "    <tr>\n",
       "      <th>SellerName</th>\n",
       "      <td>False</td>\n",
       "      <td>False</td>\n",
       "      <td>None</td>\n",
       "      <td>The name of the entity that sold the loan to the issuer.</td>\n",
       "    </tr>\n",
       "    <tr>\n",
       "      <th>ServicerName</th>\n",
       "      <td>False</td>\n",
       "      <td>False</td>\n",
       "      <td>None</td>\n",
       "      <td>The name of the entity that services the loan during the current reporting period.</td>\n",
       "    </tr>\n",
       "    <tr>\n",
       "      <th>EverDelinquent</th>\n",
       "      <td>True</td>\n",
       "      <td>False</td>\n",
       "      <td>None</td>\n",
       "      <td>Target column</td>\n",
       "    </tr>\n",
       "    <tr>\n",
       "      <th>MonthsDelinquent</th>\n",
       "      <td>True</td>\n",
       "      <td>False</td>\n",
       "      <td>9 = Not Available</td>\n",
       "      <td>The number of days for which a mortgage loan has been reported delinquent.</td>\n",
       "    </tr>\n",
       "    <tr>\n",
       "      <th>MonthsInRepayment</th>\n",
       "      <td>True</td>\n",
       "      <td>False</td>\n",
       "      <td>None</td>\n",
       "      <td>-</td>\n",
       "    </tr>\n",
       "  </tbody>\n",
       "</table>\n",
       "</div>"
      ],
      "text/plain": [
       "                   is_Numeric has_X_values?  \\\n",
       "CreditScore              True         False   \n",
       "FirstTimeHomebuyer      False          True   \n",
       "MSA                     False          True   \n",
       "MIP                      True         False   \n",
       "Units                    True         False   \n",
       "Occupancy               False         False   \n",
       "OCLTV                    True         False   \n",
       "DTI                      True         False   \n",
       "LTV                      True         False   \n",
       "OrigInterestRate         True         False   \n",
       "Channel                 False         False   \n",
       "PPM                     False          True   \n",
       "PropertyType            False          True   \n",
       "PostalCode              False          True   \n",
       "NumBorrowers            False          True   \n",
       "SellerName              False         False   \n",
       "ServicerName            False         False   \n",
       "EverDelinquent           True         False   \n",
       "MonthsDelinquent         True         False   \n",
       "MonthsInRepayment        True         False   \n",
       "\n",
       "                                                                                                     Conditions  \\\n",
       "CreditScore                                                             Scores <300 or >850 are “Not Available”   \n",
       "FirstTimeHomebuyer                                                                            9 = Not Available   \n",
       "MSA                                                                                                        None   \n",
       "MIP                       MIP values > 55% will be disclosed as “Not Available”. 000= No MI; 999= Not Available   \n",
       "Units                                                                                        99 = Not Available   \n",
       "Occupancy                                                                                                  None   \n",
       "OCLTV                                                                                        99 = Not Available   \n",
       "DTI                                             Percentages < 1% or > 65% will be disclosed as “Not Available,”   \n",
       "LTV                 Percentages < 1% or > than 998% will be disclosed as “Not Available,”. 999 = Not Available.   \n",
       "OrigInterestRate                                  If value <0 or >25, then the rate is considered not available   \n",
       "Channel                                                                                       9 = Not Available   \n",
       "PPM                                                                                           9 = Not Available   \n",
       "PropertyType                                                                                               None   \n",
       "PostalCode                                                                                                 None   \n",
       "NumBorrowers                                                                                 99 = Not Available   \n",
       "SellerName                                                                                                 None   \n",
       "ServicerName                                                                                               None   \n",
       "EverDelinquent                                                                                             None   \n",
       "MonthsDelinquent                                                                              9 = Not Available   \n",
       "MonthsInRepayment                                                                                          None   \n",
       "\n",
       "                                                                                                                                                             Column_Description  \n",
       "CreditScore                                                                    The standardized credit score used to evaluate the borrower during the loan origination process.  \n",
       "FirstTimeHomebuyer                                                                   The indicator denoting whether a borrower on the loan qualifies as a first-time homebuyer.  \n",
       "MSA                                                                                                                                                    Mortgage Security Amount  \n",
       "MIP                                                        The percentage of mortgage insurance coverage obtained at origination in effect at the time the security was issued.  \n",
       "Units                                                                 The number of dwelling units in the mortgaged property at the time the loan was originated: 1, 2, 3 or 4.  \n",
       "Occupancy                                                                      The classification describing the property occupancy status at the time the loan was originated.  \n",
       "OCLTV                         The ratio, expressed as a percentage, obtained by dividing the amount of all known outstanding loans at origination by the value of the property.  \n",
       "DTI                 The ratio obtained by dividing the total monthly debt expense by the total monthly income of the borrower at the time the loan was originated or modified.   \n",
       "LTV                                             The ratio, expressed as a percentage, obtained by dividing the amount of the loan at origination by the value of the property.   \n",
       "OrigInterestRate                                                                       The interest rate of the loan as stated on the note at the time the loan was originated.  \n",
       "Channel                                                                                        The origination channel used by the party that delivered the loan to the issuer.  \n",
       "PPM                                                                         The indicator denoting whether the borrower is subject to a penalty for early payment of principal.  \n",
       "PropertyType                                                                                          The classification describing the type of property that secures the loan.  \n",
       "PostalCode                                                                                                                                                                    -  \n",
       "NumBorrowers                                 The number of borrowers who, at the time the loan was originated, are obligated to repay the loan: 1, 2, 3, 4, 5, 6, 7, 8, 9, 10.   \n",
       "SellerName                                                                                                             The name of the entity that sold the loan to the issuer.  \n",
       "ServicerName                                                                                 The name of the entity that services the loan during the current reporting period.  \n",
       "EverDelinquent                                                                                                                                                    Target column  \n",
       "MonthsDelinquent                                                                                     The number of days for which a mortgage loan has been reported delinquent.  \n",
       "MonthsInRepayment                                                                                                                                                             -  "
      ]
     },
     "execution_count": 17,
     "metadata": {},
     "output_type": "execute_result"
    }
   ],
   "source": [
    "\n",
    "def summary_missing_values(df):\n",
    "    output_df = pd.DataFrame(columns=['is_Numeric', 'has_X_values?', 'Conditions', 'Column_Description'])\n",
    "    \n",
    "    output_df.loc['CreditScore']        = [is_numeric_dtype(df['CreditScore']), 'False', \"Scores <300 or >850 are “Not Available”\", \"The standardized credit score used to evaluate the borrower during the loan origination process.\" ]\n",
    "    output_df.loc['FirstTimeHomebuyer'] = [is_numeric_dtype(df['FirstTimeHomebuyer']), 'True', \"9 = Not Available\", \"The indicator denoting whether a borrower on the loan qualifies as a first-time homebuyer.\" ]\n",
    "    output_df.loc['MSA']                = [is_numeric_dtype(df['MSA']), 'True', \"None\", \"Mortgage Security Amount\" ]\n",
    "    output_df.loc['MIP']                = [is_numeric_dtype(df['MIP']), 'False', \"MIP values > 55% will be disclosed as “Not Available”. 000= No MI; 999= Not Available\", \"The percentage of mortgage insurance coverage obtained at origination in effect at the time the security was issued.\" ]\n",
    "    output_df.loc['Units']              = [is_numeric_dtype(df['Units']), 'False', \"99 = Not Available\", \"The number of dwelling units in the mortgaged property at the time the loan was originated: 1, 2, 3 or 4.\" ]\n",
    "    output_df.loc['Occupancy']          = [is_numeric_dtype(df['Occupancy']), 'False', \"None\", \"The classification describing the property occupancy status at the time the loan was originated.\" ]\n",
    "    output_df.loc['OCLTV']              = [is_numeric_dtype(df['OCLTV']), 'False', \"99 = Not Available\", \"The ratio, expressed as a percentage, obtained by dividing the amount of all known outstanding loans at origination by the value of the property.\" ]\n",
    "    output_df.loc['DTI']                = [is_numeric_dtype(df['DTI']), 'False', \"Percentages < 1% or > 65% will be disclosed as “Not Available,”\", \"The ratio obtained by dividing the total monthly debt expense by the total monthly income of the borrower at the time the loan was originated or modified. \" ]\n",
    "    output_df.loc['LTV']                = [is_numeric_dtype(df['LTV']), 'False', \"Percentages < 1% or > than 998% will be disclosed as “Not Available,”. 999 = Not Available.\", \"The ratio, expressed as a percentage, obtained by dividing the amount of the loan at origination by the value of the property. \" ]\n",
    "    output_df.loc['OrigInterestRate']   = [is_numeric_dtype(df['OrigInterestRate']), 'False', \"If value <0 or >25, then the rate is considered not available\", \"The interest rate of the loan as stated on the note at the time the loan was originated.\"]\n",
    "    output_df.loc['Channel']            = [is_numeric_dtype(df['Channel']), 'False', \"9 = Not Available\", \"The origination channel used by the party that delivered the loan to the issuer.\" ]\n",
    "    output_df.loc['PPM']                = [is_numeric_dtype(df['PPM']), 'True', \"9 = Not Available\", \"The indicator denoting whether the borrower is subject to a penalty for early payment of principal.\" ]\n",
    "    output_df.loc['PropertyType']       = [is_numeric_dtype(df['PropertyType']), 'True', \"None\", \"The classification describing the type of property that secures the loan.\" ]\n",
    "    output_df.loc['PostalCode']         = [is_numeric_dtype(df['PostalCode']), 'True', \"None\", \"-\" ]\n",
    "    output_df.loc['NumBorrowers']       = [is_numeric_dtype(df['NumBorrowers']), 'True', \"99 = Not Available\", \"The number of borrowers who, at the time the loan was originated, are obligated to repay the loan: 1, 2, 3, 4, 5, 6, 7, 8, 9, 10. \" ]\n",
    "    output_df.loc['SellerName']         = [is_numeric_dtype(df['SellerName']), 'False', \"None\", \"The name of the entity that sold the loan to the issuer.\" ]\n",
    "    output_df.loc['ServicerName']       = [is_numeric_dtype(df['ServicerName']), 'False', \"None\", \"The name of the entity that services the loan during the current reporting period.\" ]\n",
    "    output_df.loc['EverDelinquent']     = [is_numeric_dtype(df['EverDelinquent']), 'False', \"None\", \"Target column\" ]\n",
    "    output_df.loc['MonthsDelinquent']   = [is_numeric_dtype(df['MonthsDelinquent']), 'False', \"9 = Not Available\", \"The number of days for which a mortgage loan has been reported delinquent.\" ]\n",
    "    output_df.loc['MonthsInRepayment']  = [is_numeric_dtype(df['MonthsInRepayment']), 'False', \"None\", \"-\" ]\n",
    "    #output_df.loc[''] = [is_numeric_dtype(df['']), 'False', \"9 = Not Available\", \"\" ]\n",
    "    \n",
    "    return output_df\n",
    "    \n",
    "pd.set_option('display.max_colwidth', None)\n",
    "summary_missing_values(data)"
   ]
  },
  {
   "cell_type": "code",
   "execution_count": 18,
   "id": "990a6e35",
   "metadata": {},
   "outputs": [],
   "source": [
    "columns_with_X_values = ['FirstTimeHomebuyer', 'MSA', 'PPM', 'PropertyType', 'PostalCode', 'NumBorrowers']\n",
    "def replace_X_values_by_nan(data):\n",
    "    data.loc[data['FirstTimeHomebuyer'] == 'X', 'FirstTimeHomebuyer'] = np.nan\n",
    "    data.loc[data['MSA'] == 'X    ', 'MSA']                           = np.nan\n",
    "    data.loc[data['PPM'] == 'X', 'PPM']                               = np.nan\n",
    "    data.loc[data['PropertyType'] == 'X ' , 'PropertyType']           = np.nan\n",
    "    data.loc[data['PostalCode'] == 'X    ' , 'PostalCode']            = np.nan\n",
    "    data.loc[data['NumBorrowers'] == 'X ' , 'NumBorrowers']           = np.nan\n",
    "    \n",
    "    return data\n",
    "\n",
    "data = replace_X_values_by_nan(data)"
   ]
  },
  {
   "cell_type": "code",
   "execution_count": 19,
   "id": "42ae5e8b",
   "metadata": {},
   "outputs": [
    {
     "name": "stdout",
     "output_type": "stream",
     "text": [
      "FirstTimeHomebuyer : ['N' nan 'Y']\n",
      "\n",
      "----------------------------------------------------------------------------------------------------\n",
      "\n",
      "\n",
      "MSA : ['16974' '19740' '29940' '31084' '35644' nan '36740' '25540' '48620'\n",
      " '12060' '12420' '13140' '13644' '15764' '16700' '16940' '17900' '19124'\n",
      " '20500' '20764' '21340' '22380' '22744' '23060' '23104' '24660' '24860'\n",
      " '25060' '26900' '27060' '27140' '27260' '28420' '29404' '30780' '31340'\n",
      " '33124' '33340' '33460' '34820' '35004' '35084' '35380' '37100' '38060'\n",
      " '38300' '38900' '39300' '39340' '39820' '40060' '40140' '40900' '41180'\n",
      " '41620' '41700' '41740' '41884' '42044' '42220' '42644' '43900' '46060'\n",
      " '46700' '47644' '47894' '49180' '49420' '11340' '12100' '14500' '17820'\n",
      " '17860' '19340' '19804' '28140' '29740' '36084' '36500' '37460' '42060'\n",
      " '47260' '48424' '12580' '14484' '14860' '19380' '26420' '29420' '29620'\n",
      " '36540' '37764' '37860' '37964' '38940' '40380' '45300' '19660' '11300'\n",
      " '11460' '12220' '12940' '13820' '13980' '14740' '15540' '16740' '17140'\n",
      " '17460' '17780' '22220' '23420' '23844' '24340' '24780' '26180' '27620'\n",
      " '31420' '31540' '34980' '35300' '39100' '39580' '39900' '40420' '41940'\n",
      " '41980' '42020' '45940' '47300' '48300' '49340' '34100' '35840' '36980'\n",
      " '39140' '43620' '15804' '15940' '29820' '32820' '38860' '40484' '41060'\n",
      " '44140' '45500' '12540' '10740' '10900' '11540' '12260' '12980' '14260'\n",
      " '16180' '16300' '18140' '21140' '22500' '23580' '25260' '26300' '29460'\n",
      " '31140' '31900' '32780' '32900' '33260' '33540' '33700' '34940' '36420'\n",
      " '37340' '37900' '39740' '41500' '42100' '43340' '44700' '45104' '49020'\n",
      " '10420' '10580' '16860' '17980' '22660' '28020' '31020' '35980' '11700'\n",
      " '17660' '19500' '20020' '36780' '36100' '42680' '45220' '48900' '22420'\n",
      " '33860' '28100' '40660' '26820' '49660' '40580' '14060' '24300' '44600'\n",
      " '15980' '23540' '12700' '36260' '30460' '38540' '26620' '45780' '47380'\n",
      " '24580' '18880' '15500' '25420' '41420' '44060' '19140' '39540' '19780'\n",
      " '40340' '34900' '48864' '15380' '20260' '25860' '29140' '42340' '21780'\n",
      " '34740' '33780' '35660' '26580' '24540' '41100' '29540' '21660' '27500'\n",
      " '43780' '30860' '28940' '46140' '44100' '22180' '45460' '42540' '33660'\n",
      " '49740' '15260' '45060' '13900' '43300' '24140' '31700' '19260' '31180'\n",
      " '32580' '18020' '18700' '12020' '27900' '19460' '47220' '27340' '37380'\n",
      " '11180' '44180' '39460' '26100' '29020' '40980' '47580' '27180' '15180'\n",
      " '20740' '46660' '13740' '13460' '20940' '21300' '43580' '49620' '19180'\n",
      " '27740' '30340' '39380' '48140' '49700' '47940' '43100' '27100' '16620'\n",
      " '27860' '30620' '20100' '41780' '31860' '17020' '34580' '10500' '18580'\n",
      " '34620' '17300' '47020' '44940' '30980' '25180' '38220' '13380' '22540'\n",
      " '38340' '22900' '44220' '42140' '22140' '22020' '13020' '30700' '25500'\n",
      " '14540' '22520' '10180' '40220' '46340' '14020' '45820' '16580' '11260'\n",
      " '28700' '21060' '46220' '20220' '29180' '34060' '39660' '11100' '36140'\n",
      " '29100' '16820' '10780' '30140' '26380' '30300' '21820' '28740' '16020'\n",
      " '48660' '12620' '27780' '46540' '25620' '33740' '11020' '24500' '48540'\n",
      " '29700' '21500' '25020' '24220' '31460' '23460' '37700' '41540' '33140'\n",
      " '41660' '30020' '13780' '28660' '16220' '41900' '41140' '37620' '48700'\n",
      " '44300' '24020' '17420' '31740' '29340' '19060' '11500' '26980' '25980'\n",
      " '36220' '10380' '49500' '21940' '32420']\n",
      "\n",
      "----------------------------------------------------------------------------------------------------\n",
      "\n",
      "\n",
      "PPM : ['N' nan 'Y']\n",
      "\n",
      "----------------------------------------------------------------------------------------------------\n",
      "\n",
      "\n",
      "PropertyType : ['SF' 'PU' 'CO' 'MH' 'CP' 'LH' nan]\n",
      "\n",
      "----------------------------------------------------------------------------------------------------\n",
      "\n",
      "\n",
      "PostalCode : ['60400' '80200' '66000' ... '33200' '84200' '41300']\n",
      "\n",
      "----------------------------------------------------------------------------------------------------\n",
      "\n",
      "\n",
      "NumBorrowers : ['2' '1' nan]\n",
      "\n",
      "----------------------------------------------------------------------------------------------------\n",
      "\n",
      "\n"
     ]
    }
   ],
   "source": [
    "for col in columns_with_X_values:\n",
    "    print('{} : {}\\n'.format(col, data[col].unique()))\n",
    "    print('-'*100)\n",
    "    print('\\n')"
   ]
  },
  {
   "cell_type": "markdown",
   "id": "1f932b15",
   "metadata": {},
   "source": [
    "### Columns with particular Conditions"
   ]
  },
  {
   "cell_type": "markdown",
   "id": "22990379",
   "metadata": {},
   "source": [
    "### - CreditScore  "
   ]
  },
  {
   "cell_type": "code",
   "execution_count": 20,
   "id": "1668521f",
   "metadata": {
    "execution": {
     "iopub.execute_input": "2023-08-14T16:08:26.044467Z",
     "iopub.status.busy": "2023-08-14T16:08:26.043760Z",
     "iopub.status.idle": "2023-08-14T16:08:26.062758Z",
     "shell.execute_reply": "2023-08-14T16:08:26.061558Z",
     "shell.execute_reply.started": "2023-08-14T16:08:26.044434Z"
    }
   },
   "outputs": [
    {
     "data": {
      "text/plain": [
       "0       0\n",
       "1       0\n",
       "2       0\n",
       "3       0\n",
       "4       0\n",
       "       ..\n",
       "1184    0\n",
       "1185    0\n",
       "1186    0\n",
       "1187    0\n",
       "1188    0\n",
       "Name: CreditScore, Length: 1189, dtype: int64"
      ]
     },
     "execution_count": 20,
     "metadata": {},
     "output_type": "execute_result"
    }
   ],
   "source": [
    "# Checking conditions for \"Not Available\" values\n",
    "data[(data['CreditScore'] < 300)]['CreditScore']"
   ]
  },
  {
   "cell_type": "code",
   "execution_count": 21,
   "id": "7942ca76",
   "metadata": {},
   "outputs": [
    {
     "data": {
      "text/plain": [
       "Series([], Name: CreditScore, dtype: int64)"
      ]
     },
     "execution_count": 21,
     "metadata": {},
     "output_type": "execute_result"
    }
   ],
   "source": [
    "data[(data['CreditScore'] > 850) | (data['CreditScore'] == 9999)]['CreditScore']"
   ]
  },
  {
   "cell_type": "markdown",
   "id": "40dfe4bd",
   "metadata": {},
   "source": [
    "There are 1189 values of 'CreditScore' less than 300. \n",
    "So these values should be marqued as “Not Available” or 9999. We'll replace them by np.nan."
   ]
  },
  {
   "cell_type": "markdown",
   "id": "fdbf3849",
   "metadata": {},
   "source": [
    "### - MIP: "
   ]
  },
  {
   "cell_type": "code",
   "execution_count": 22,
   "id": "8908cc75",
   "metadata": {
    "execution": {
     "iopub.execute_input": "2023-08-14T16:08:27.735454Z",
     "iopub.status.busy": "2023-08-14T16:08:27.735040Z",
     "iopub.status.idle": "2023-08-14T16:08:27.752011Z",
     "shell.execute_reply": "2023-08-14T16:08:27.750797Z",
     "shell.execute_reply.started": "2023-08-14T16:08:27.735415Z"
    }
   },
   "outputs": [
    {
     "data": {
      "text/plain": [
       "Series([], Name: MIP, dtype: int64)"
      ]
     },
     "execution_count": 22,
     "metadata": {},
     "output_type": "execute_result"
    }
   ],
   "source": [
    "data[(data['MIP'] > 55) | (data['MIP'] == 999)]['MIP']"
   ]
  },
  {
   "cell_type": "markdown",
   "id": "e98df0eb",
   "metadata": {},
   "source": [
    "### - Occupancy:  "
   ]
  },
  {
   "cell_type": "code",
   "execution_count": 23,
   "id": "1fc1045a",
   "metadata": {
    "execution": {
     "iopub.execute_input": "2023-08-14T16:08:27.900653Z",
     "iopub.status.busy": "2023-08-14T16:08:27.900207Z",
     "iopub.status.idle": "2023-08-14T16:08:27.951292Z",
     "shell.execute_reply": "2023-08-14T16:08:27.950011Z",
     "shell.execute_reply.started": "2023-08-14T16:08:27.900619Z"
    }
   },
   "outputs": [
    {
     "data": {
      "text/plain": [
       "O    276131\n",
       "I      8734\n",
       "S      6586\n",
       "Name: Occupancy, dtype: int64"
      ]
     },
     "execution_count": 23,
     "metadata": {},
     "output_type": "execute_result"
    }
   ],
   "source": [
    "data.Occupancy.value_counts()"
   ]
  },
  {
   "cell_type": "markdown",
   "id": "f982bb84",
   "metadata": {},
   "source": [
    "We have an unknown category in this column that is O. Probaly this column stands for “Not Available”. Let's consider these values as missing and replace them by np.nan."
   ]
  },
  {
   "cell_type": "markdown",
   "id": "fe9b333b",
   "metadata": {},
   "source": [
    "### - DTI: "
   ]
  },
  {
   "cell_type": "code",
   "execution_count": 24,
   "id": "c700125b",
   "metadata": {
    "execution": {
     "iopub.execute_input": "2023-08-14T16:08:28.090930Z",
     "iopub.status.busy": "2023-08-14T16:08:28.090328Z",
     "iopub.status.idle": "2023-08-14T16:08:28.116350Z",
     "shell.execute_reply": "2023-08-14T16:08:28.115111Z",
     "shell.execute_reply.started": "2023-08-14T16:08:28.090898Z"
    }
   },
   "outputs": [
    {
     "data": {
      "text/plain": [
       "140       0\n",
       "167       0\n",
       "176       0\n",
       "179       0\n",
       "186       0\n",
       "         ..\n",
       "291438    0\n",
       "291441    0\n",
       "291442    0\n",
       "291443    0\n",
       "291447    0\n",
       "Name: DTI, Length: 17796, dtype: int64"
      ]
     },
     "execution_count": 24,
     "metadata": {},
     "output_type": "execute_result"
    }
   ],
   "source": [
    "data[(data.DTI < 1) | (data.DTI > 65) | (data.DTI == 999)].DTI"
   ]
  },
  {
   "cell_type": "markdown",
   "id": "79ef8925",
   "metadata": {},
   "source": [
    "### - LTV: "
   ]
  },
  {
   "cell_type": "code",
   "execution_count": 25,
   "id": "6fe857b2",
   "metadata": {
    "execution": {
     "iopub.execute_input": "2023-08-14T16:08:28.187856Z",
     "iopub.status.busy": "2023-08-14T16:08:28.187391Z",
     "iopub.status.idle": "2023-08-14T16:08:28.199222Z",
     "shell.execute_reply": "2023-08-14T16:08:28.198362Z",
     "shell.execute_reply.started": "2023-08-14T16:08:28.187825Z"
    }
   },
   "outputs": [
    {
     "data": {
      "text/plain": [
       "31098     0\n",
       "88463     0\n",
       "233257    0\n",
       "276981    0\n",
       "287773    0\n",
       "Name: LTV, dtype: int64"
      ]
     },
     "execution_count": 25,
     "metadata": {},
     "output_type": "execute_result"
    }
   ],
   "source": [
    "data[data.LTV < 1].LTV"
   ]
  },
  {
   "cell_type": "code",
   "execution_count": 26,
   "id": "24376fcf",
   "metadata": {
    "execution": {
     "iopub.execute_input": "2023-08-14T16:08:28.201760Z",
     "iopub.status.busy": "2023-08-14T16:08:28.200755Z",
     "iopub.status.idle": "2023-08-14T16:08:28.213020Z",
     "shell.execute_reply": "2023-08-14T16:08:28.211780Z",
     "shell.execute_reply.started": "2023-08-14T16:08:28.201727Z"
    }
   },
   "outputs": [
    {
     "data": {
      "text/plain": [
       "Series([], Name: LTV, dtype: int64)"
      ]
     },
     "execution_count": 26,
     "metadata": {},
     "output_type": "execute_result"
    }
   ],
   "source": [
    "data[(data.LTV == 999) | (data.LTV > 998)].LTV"
   ]
  },
  {
   "cell_type": "markdown",
   "id": "365d8f1e",
   "metadata": {},
   "source": [
    "### - OrigInterestRate:    "
   ]
  },
  {
   "cell_type": "code",
   "execution_count": 27,
   "id": "befbfad2",
   "metadata": {
    "execution": {
     "iopub.execute_input": "2023-08-14T16:08:28.252127Z",
     "iopub.status.busy": "2023-08-14T16:08:28.251772Z",
     "iopub.status.idle": "2023-08-14T16:08:28.267845Z",
     "shell.execute_reply": "2023-08-14T16:08:28.266951Z",
     "shell.execute_reply.started": "2023-08-14T16:08:28.252095Z"
    }
   },
   "outputs": [
    {
     "data": {
      "text/plain": [
       "Series([], Name: OrigInterestRate, dtype: float64)"
      ]
     },
     "execution_count": 27,
     "metadata": {},
     "output_type": "execute_result"
    }
   ],
   "source": [
    "data[(data.OrigInterestRate < 0) | (data.OrigInterestRate > 25)].OrigInterestRate"
   ]
  },
  {
   "cell_type": "code",
   "execution_count": 28,
   "id": "15f4d483",
   "metadata": {
    "execution": {
     "iopub.execute_input": "2023-08-14T16:08:26.093065Z",
     "iopub.status.busy": "2023-08-14T16:08:26.092638Z",
     "iopub.status.idle": "2023-08-14T16:08:26.102588Z",
     "shell.execute_reply": "2023-08-14T16:08:26.101463Z",
     "shell.execute_reply.started": "2023-08-14T16:08:26.093026Z"
    }
   },
   "outputs": [],
   "source": [
    "def matching_description_conditions(data):\n",
    "    # replacing all credit score values less than 300 by np.nan\n",
    "    data.loc[data['CreditScore'] < 300, 'CreditScore'] = np.nan\n",
    "    data.loc[data['DTI'] < 1, 'DTI'] = np.nan\n",
    "    data.loc[data['LTV'] < 1, 'LTV'] = np.nan\n",
    "    \n",
    "    # replacing O by np.nan\n",
    "    data.loc[data['Occupancy'] == 'O', 'Occupancy'] = np.nan\n",
    "    \n",
    "    return data\n",
    "\n",
    "data = matching_description_conditions(data)"
   ]
  },
  {
   "cell_type": "markdown",
   "id": "e7c141ed",
   "metadata": {},
   "source": [
    "### Missing values Imputation"
   ]
  },
  {
   "cell_type": "code",
   "execution_count": 29,
   "id": "5c62675a",
   "metadata": {},
   "outputs": [
    {
     "data": {
      "text/plain": [
       "Occupancy                  276131\n",
       "FirstTimeHomebuyer          78015\n",
       "MSA                         39100\n",
       "SellerName                  24994\n",
       "DTI                         17796\n",
       "PPM                          5405\n",
       "CreditScore                  1189\n",
       "NumBorrowers                  339\n",
       "PropertyType                   22\n",
       "PostalCode                      6\n",
       "LTV                             5\n",
       "MonthsDelinquent                0\n",
       "EverDelinquent                  0\n",
       "LoanSeqNum                      0\n",
       "ServicerName                    0\n",
       "MonthsInRepayment               0\n",
       "Parsed_FirstPaymentDate         0\n",
       "OrigLoanTerm                    0\n",
       "LoanPurpose                     0\n",
       "ProductType                     0\n",
       "PropertyState                   0\n",
       "FirstPaymentDate                0\n",
       "Channel                         0\n",
       "OrigInterestRate                0\n",
       "OrigUPB                         0\n",
       "OCLTV                           0\n",
       "Units                           0\n",
       "MIP                             0\n",
       "MaturityDate                    0\n",
       "Parsed_MaturityDate             0\n",
       "dtype: int64"
      ]
     },
     "execution_count": 29,
     "metadata": {},
     "output_type": "execute_result"
    }
   ],
   "source": [
    "# Now check missing values in descending order\n",
    "data.isnull().sum().sort_values(ascending=False)"
   ]
  },
  {
   "cell_type": "code",
   "execution_count": null,
   "id": "8d881f36",
   "metadata": {},
   "outputs": [
    {
     "data": {
      "text/plain": [
       "<AxesSubplot:>"
      ]
     },
     "execution_count": 30,
     "metadata": {},
     "output_type": "execute_result"
    }
   ],
   "source": [
    "# Visualize missing values\n",
    "sns.heatmap(data.isnull(), cbar=False, cmap='viridis')"
   ]
  },
  {
   "cell_type": "code",
   "execution_count": null,
   "id": "004d2a0e",
   "metadata": {},
   "outputs": [],
   "source": [
    "cols_to_impute_with_mode = ['FirstTimeHomebuyer', 'SellerName', 'PPM', 'PropertyType']\n",
    "cols_to_impute_with_mean = ['MSA', 'DTI', 'CreditScore', 'NumBorrowers', 'LTV']\n",
    "\n",
    "for col in cols_to_impute_with_mode:\n",
    "    data[col].fillna(data[col].mode().iloc[0], inplace=True)\n",
    "    \n",
    "for col in cols_to_impute_with_mean:\n",
    "    data[col] = pd.to_numeric(data[col])\n",
    "    data[col].fillna(data[col].mean(), inplace=True)"
   ]
  },
  {
   "cell_type": "code",
   "execution_count": null,
   "id": "8bf78d12",
   "metadata": {},
   "outputs": [],
   "source": [
    "# Now check missing values in descending order\n",
    "data.isnull().sum().sort_values(ascending=False)"
   ]
  },
  {
   "cell_type": "markdown",
   "id": "7075531d",
   "metadata": {},
   "source": [
    "We'll simply drop the \"Occupancy\" column as it has to much missing values."
   ]
  },
  {
   "cell_type": "markdown",
   "id": "22d61868",
   "metadata": {},
   "source": [
    "## 1.3. Unecessary Columns/Rows removal"
   ]
  },
  {
   "cell_type": "markdown",
   "id": "675a2541",
   "metadata": {},
   "source": [
    "### - Units: "
   ]
  },
  {
   "cell_type": "code",
   "execution_count": null,
   "id": "2c3920e4",
   "metadata": {
    "execution": {
     "iopub.execute_input": "2023-08-14T16:08:27.768422Z",
     "iopub.status.busy": "2023-08-14T16:08:27.767337Z",
     "iopub.status.idle": "2023-08-14T16:08:27.780683Z",
     "shell.execute_reply": "2023-08-14T16:08:27.779484Z",
     "shell.execute_reply.started": "2023-08-14T16:08:27.768355Z"
    }
   },
   "outputs": [],
   "source": [
    "data.Units.value_counts()"
   ]
  },
  {
   "cell_type": "markdown",
   "id": "125df7b9",
   "metadata": {},
   "source": [
    "What do these 0 values mean? I think this is an error.\n",
    "We'll simply drop the 0 values as we can't have 0 dwelling unit."
   ]
  },
  {
   "cell_type": "markdown",
   "id": "880994a0",
   "metadata": {},
   "source": [
    "### - ProductType:\n",
    "\n"
   ]
  },
  {
   "cell_type": "code",
   "execution_count": null,
   "id": "a7e1af0e",
   "metadata": {
    "execution": {
     "iopub.execute_input": "2023-08-14T16:08:28.521178Z",
     "iopub.status.busy": "2023-08-14T16:08:28.520776Z",
     "iopub.status.idle": "2023-08-14T16:08:28.582578Z",
     "shell.execute_reply": "2023-08-14T16:08:28.581595Z",
     "shell.execute_reply.started": "2023-08-14T16:08:28.521132Z"
    }
   },
   "outputs": [],
   "source": [
    "data.ProductType.value_counts()"
   ]
  },
  {
   "cell_type": "markdown",
   "id": "2ce4c40e",
   "metadata": {},
   "source": [
    "This column only has 1 categorie so it is not very useful. We'll drop it"
   ]
  },
  {
   "cell_type": "code",
   "execution_count": null,
   "id": "6cd349e4",
   "metadata": {
    "execution": {
     "iopub.execute_input": "2023-08-14T16:08:26.609227Z",
     "iopub.status.busy": "2023-08-14T16:08:26.608902Z",
     "iopub.status.idle": "2023-08-14T16:08:26.677312Z",
     "shell.execute_reply": "2023-08-14T16:08:26.676012Z",
     "shell.execute_reply.started": "2023-08-14T16:08:26.609199Z"
    }
   },
   "outputs": [],
   "source": [
    "# first let's delete the old date columns\n",
    "data.drop('FirstPaymentDate', axis=1, inplace=True)\n",
    "data.drop('MaturityDate', axis=1, inplace=True)"
   ]
  },
  {
   "cell_type": "code",
   "execution_count": null,
   "id": "24b60e2b",
   "metadata": {
    "execution": {
     "iopub.execute_input": "2023-08-14T16:08:27.782465Z",
     "iopub.status.busy": "2023-08-14T16:08:27.782074Z",
     "iopub.status.idle": "2023-08-14T16:08:27.885157Z",
     "shell.execute_reply": "2023-08-14T16:08:27.884016Z",
     "shell.execute_reply.started": "2023-08-14T16:08:27.782433Z"
    }
   },
   "outputs": [],
   "source": [
    "# drop rows where Units values are 0\n",
    "data.drop(data[data['Units'] == 0].index, inplace=True)"
   ]
  },
  {
   "cell_type": "code",
   "execution_count": null,
   "id": "efb5d841",
   "metadata": {
    "execution": {
     "iopub.execute_input": "2023-08-14T16:08:29.565335Z",
     "iopub.status.busy": "2023-08-14T16:08:29.565019Z",
     "iopub.status.idle": "2023-08-14T16:08:29.626069Z",
     "shell.execute_reply": "2023-08-14T16:08:29.624898Z",
     "shell.execute_reply.started": "2023-08-14T16:08:29.565308Z"
    }
   },
   "outputs": [],
   "source": [
    "# drop the useless columns\n",
    "data.drop(['ProductType', 'Occupancy', 'PostalCode', 'LoanSeqNum'\n",
    "           #, 'PropertyState', 'ServicerName', \n",
    "                 ], axis = 1, inplace=True)"
   ]
  },
  {
   "cell_type": "markdown",
   "id": "ff4ba602",
   "metadata": {},
   "source": [
    "## 1.4. Outliers removal"
   ]
  },
  {
   "cell_type": "code",
   "execution_count": null,
   "id": "292d94c4",
   "metadata": {},
   "outputs": [],
   "source": []
  },
  {
   "cell_type": "code",
   "execution_count": null,
   "id": "ca218d35",
   "metadata": {},
   "outputs": [],
   "source": []
  },
  {
   "cell_type": "code",
   "execution_count": null,
   "id": "d9ec494d",
   "metadata": {},
   "outputs": [],
   "source": []
  },
  {
   "cell_type": "markdown",
   "id": "9557bc2c",
   "metadata": {},
   "source": [
    "# 2. Data Encoding"
   ]
  },
  {
   "cell_type": "code",
   "execution_count": null,
   "id": "50bd5673",
   "metadata": {},
   "outputs": [],
   "source": [
    "cols_to_encode_after_EDA = ['PropertyType', 'SellerName']"
   ]
  },
  {
   "cell_type": "code",
   "execution_count": null,
   "id": "f5a79811",
   "metadata": {
    "execution": {
     "iopub.execute_input": "2023-08-14T16:09:03.876794Z",
     "iopub.status.busy": "2023-08-14T16:09:03.876348Z",
     "iopub.status.idle": "2023-08-14T16:09:04.009331Z",
     "shell.execute_reply": "2023-08-14T16:09:04.008388Z",
     "shell.execute_reply.started": "2023-08-14T16:09:03.876760Z"
    }
   },
   "outputs": [],
   "source": [
    "# convert object columns to integers\n",
    "data['MSA']           = data['MSA'].astype(int)\n",
    "data['NumBorrowers']  = data['NumBorrowers'].astype(int)"
   ]
  },
  {
   "cell_type": "markdown",
   "id": "398a0ae8",
   "metadata": {},
   "source": [
    "### - FirstTimeHomebuyer && PPM: "
   ]
  },
  {
   "cell_type": "code",
   "execution_count": null,
   "id": "b068fb7b",
   "metadata": {
    "execution": {
     "iopub.execute_input": "2023-08-14T16:09:04.259974Z",
     "iopub.status.busy": "2023-08-14T16:09:04.259600Z",
     "iopub.status.idle": "2023-08-14T16:09:04.284780Z",
     "shell.execute_reply": "2023-08-14T16:09:04.283543Z",
     "shell.execute_reply.started": "2023-08-14T16:09:04.259946Z"
    }
   },
   "outputs": [],
   "source": [
    "LE_cols = ['FirstTimeHomebuyer', 'PPM']\n",
    "\n",
    "data['FirstTimeHomebuyer'] = data['FirstTimeHomebuyer'].map({'N':0, 'Y':1}).astype('int')\n",
    "data['PPM']                = data['PPM'].map({'N':0, 'Y':1}).astype('int')"
   ]
  },
  {
   "cell_type": "markdown",
   "id": "7b2a325e",
   "metadata": {},
   "source": [
    "### - ServicerName: \n",
    "For 'ServicerName', we'll try group similar servicer names into 3 categories to reduce the number of unique values and potentially capture meaningful patterns: \"Major Banks,\" \"Non-Bank Servicers,\" and \"Other Servicers.\""
   ]
  },
  {
   "cell_type": "code",
   "execution_count": null,
   "id": "05cb43b2",
   "metadata": {},
   "outputs": [],
   "source": [
    "data[['ServicerName']] = data[['ServicerName']].replace(dict.fromkeys(['COUNTRYWIDE',\n",
    "                                                                       'BANKOFAMERICANA',\n",
    "                                                                       'WASHINGTONMUTUALBANK',\n",
    "                                                                       'CHASEMANHATTANMTGECO',\n",
    "                                                                       'ABNAMROMTGEGROUPINC',\n",
    "                                                                       'WELLSFARGOHOMEMORTGA',\n",
    "                                                                       'GMACMTGECORP',\n",
    "                                                                       'CHASEMTGECO',\n",
    "                                                                       'NATLCITYMTGECO',\n",
    "                                                                       'WELLSFARGOBANKNA',\n",
    "                                                                       'JPMORGANCHASEBANKNA',\n",
    "                                                                       'SUNTRUSTMORTGAGEINC',\n",
    "                                                                       'CITIMORTGAGEINC'],     'Major Banks'))\n",
    "\n",
    "data[['ServicerName']] = data[['ServicerName']].replace(dict.fromkeys(['BAMORTGAGELLC',\n",
    "                                                                       'FTMTGESERVICESINC',\n",
    "                                                                       'PRINCIPALRESIDENTIAL',\n",
    "                                                                       'CHASEHOMEFINANCELLC',\n",
    "                                                                       'HOMESIDELENDINGINC'],  'Non-Bank Servicers'))\n",
    "\n",
    "data[['ServicerName']] = data[['ServicerName']].replace(dict.fromkeys(['Other servicers',\n",
    "                                                                       'FIFTHTHIRDBANK'],      'Other Servicers'))"
   ]
  },
  {
   "cell_type": "markdown",
   "id": "3932078c",
   "metadata": {},
   "source": [
    "### - PropertyState: \n",
    "For 'PropertyState' column, we'll group into 5 categories based on geographical regions to retains valuable information while reducing the dimensionality of the column: \"West Coast,\" \"Northeast,\" \"Midwest,\" \"South,\" and \"Other\""
   ]
  },
  {
   "cell_type": "code",
   "execution_count": null,
   "id": "d7f4e741",
   "metadata": {},
   "outputs": [],
   "source": [
    "data.PropertyState.value_counts()"
   ]
  },
  {
   "cell_type": "code",
   "execution_count": null,
   "id": "5d78ff7b",
   "metadata": {},
   "outputs": [],
   "source": [
    "data[['PropertyState']] = data[['PropertyState']].replace(dict.fromkeys(['NY', 'PA', 'NJ', 'MA', 'CT', 'RI'],     \n",
    "                                                                        'Northeast'))\n",
    "data[['PropertyState']] = data[['PropertyState']].replace(dict.fromkeys(['FL', 'TX', 'GA', 'NC', 'VA', 'SC', 'AL', 'KY', 'TN', 'MS', 'LA'],  \n",
    "                                                                        'South'))\n",
    "data[['PropertyState']] = data[['PropertyState']].replace(dict.fromkeys(['CA', 'WA', 'OR'],      \n",
    "                                                                        'West Coast'))\n",
    "data[['PropertyState']] = data[['PropertyState']].replace(dict.fromkeys(['MI', 'IL', 'OH', 'IN', 'MO', 'MN', 'WI', 'IA'], \n",
    "                                                                        'Midwest'))\n",
    "data[['PropertyState']] = data[['PropertyState']].replace(dict.fromkeys(['CO', 'AZ', 'MD', 'UT', 'NV', 'KS', 'ID', 'NM', 'OK', 'NE', 'NH', 'VT', 'AR', 'MT', 'DE', 'ME', 'PR', 'HI', 'WV', 'WY', 'DC', 'SD', 'ND', 'AK', 'GU'], \n",
    "                                                                        'Others'))"
   ]
  },
  {
   "cell_type": "code",
   "execution_count": null,
   "id": "ae251c71",
   "metadata": {},
   "outputs": [],
   "source": [
    "data.PropertyState.value_counts()"
   ]
  },
  {
   "cell_type": "markdown",
   "id": "fa92a5e8",
   "metadata": {},
   "source": [
    "# Data Labeling"
   ]
  },
  {
   "cell_type": "code",
   "execution_count": null,
   "id": "634f9d49",
   "metadata": {},
   "outputs": [],
   "source": [
    "target   = 'EverDelinquent'\n",
    "features = [col for col in data if col != target]"
   ]
  },
  {
   "cell_type": "code",
   "execution_count": null,
   "id": "8df5f02d",
   "metadata": {},
   "outputs": [],
   "source": [
    "print(f\"The target variable is -------------> {target}\\n\")\n",
    "print(f\"The features are       -------------> {features}\")"
   ]
  },
  {
   "cell_type": "markdown",
   "id": "82c567f9",
   "metadata": {},
   "source": [
    "## Preprocessed data"
   ]
  },
  {
   "cell_type": "code",
   "execution_count": null,
   "id": "59d88bfb",
   "metadata": {
    "execution": {
     "iopub.execute_input": "2023-08-14T16:09:11.861389Z",
     "iopub.status.busy": "2023-08-14T16:09:11.860998Z",
     "iopub.status.idle": "2023-08-14T16:09:11.885730Z",
     "shell.execute_reply": "2023-08-14T16:09:11.884466Z",
     "shell.execute_reply.started": "2023-08-14T16:09:11.861344Z"
    }
   },
   "outputs": [],
   "source": [
    "data.head()"
   ]
  },
  {
   "cell_type": "code",
   "execution_count": null,
   "id": "a1e47672",
   "metadata": {},
   "outputs": [],
   "source": [
    "data.SellerName.value_counts()"
   ]
  },
  {
   "cell_type": "code",
   "execution_count": null,
   "id": "584a5076",
   "metadata": {},
   "outputs": [],
   "source": []
  }
 ],
 "metadata": {
  "kernelspec": {
   "display_name": "Python 3 (ipykernel)",
   "language": "python",
   "name": "python3"
  },
  "language_info": {
   "codemirror_mode": {
    "name": "ipython",
    "version": 3
   },
   "file_extension": ".py",
   "mimetype": "text/x-python",
   "name": "python",
   "nbconvert_exporter": "python",
   "pygments_lexer": "ipython3",
   "version": "3.7.1"
  }
 },
 "nbformat": 4,
 "nbformat_minor": 5
}
